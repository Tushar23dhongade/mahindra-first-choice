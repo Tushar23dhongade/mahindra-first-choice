{
 "cells": [
  {
   "cell_type": "code",
   "execution_count": 5,
   "metadata": {},
   "outputs": [],
   "source": [
    "import pandas as pd\n",
    "import numpy as np"
   ]
  },
  {
   "cell_type": "code",
   "execution_count": 6,
   "metadata": {},
   "outputs": [],
   "source": [
    "pd.set_option('display.max_columns', None)"
   ]
  },
  {
   "cell_type": "code",
   "execution_count": 7,
   "metadata": {},
   "outputs": [],
   "source": [
    "import pgeocode\n",
    "nomi = pgeocode.Nominatim('IN')\n",
    "import warnings\n",
    "warnings.simplefilter('ignore')"
   ]
  },
  {
   "cell_type": "code",
   "execution_count": 8,
   "metadata": {},
   "outputs": [],
   "source": [
    "Data_plantmaster = pd.read_excel(\"Plant Master.xlsx\")\n",
    "Data_JTD = pd.read_csv(\"JTD.csv\",low_memory = False)\n",
    "Data_Customer = pd.read_excel(\"Customer_Data.xlsx\")\n",
    "Data_Finalinvoice = pd.read_csv(\"Final_invoice.csv\",low_memory = False)"
   ]
  },
  {
   "cell_type": "code",
   "execution_count": 9,
   "metadata": {},
   "outputs": [
    {
     "data": {
      "text/plain": [
       "(555338, 9)"
      ]
     },
     "execution_count": 9,
     "metadata": {},
     "output_type": "execute_result"
    }
   ],
   "source": [
    "Data_Customer.shape"
   ]
  },
  {
   "cell_type": "code",
   "execution_count": 10,
   "metadata": {},
   "outputs": [
    {
     "data": {
      "text/html": [
       "<div>\n",
       "<style scoped>\n",
       "    .dataframe tbody tr th:only-of-type {\n",
       "        vertical-align: middle;\n",
       "    }\n",
       "\n",
       "    .dataframe tbody tr th {\n",
       "        vertical-align: top;\n",
       "    }\n",
       "\n",
       "    .dataframe thead th {\n",
       "        text-align: right;\n",
       "    }\n",
       "</style>\n",
       "<table border=\"1\" class=\"dataframe\">\n",
       "  <thead>\n",
       "    <tr style=\"text-align: right;\">\n",
       "      <th></th>\n",
       "      <th>Business Partner</th>\n",
       "      <th>Customer No.</th>\n",
       "      <th>Partner Type</th>\n",
       "      <th>Data Origin</th>\n",
       "      <th>Title</th>\n",
       "      <th>Marital Status</th>\n",
       "      <th>Occupation</th>\n",
       "      <th>Date of Birth</th>\n",
       "      <th>Death date</th>\n",
       "    </tr>\n",
       "  </thead>\n",
       "  <tbody>\n",
       "    <tr>\n",
       "      <th>0</th>\n",
       "      <td>31</td>\n",
       "      <td>1</td>\n",
       "      <td>1.0</td>\n",
       "      <td>Z001</td>\n",
       "      <td>NaN</td>\n",
       "      <td>NaN</td>\n",
       "      <td>NaN</td>\n",
       "      <td>NaN</td>\n",
       "      <td>NaT</td>\n",
       "    </tr>\n",
       "    <tr>\n",
       "      <th>1</th>\n",
       "      <td>32</td>\n",
       "      <td>2</td>\n",
       "      <td>1.0</td>\n",
       "      <td>Z005</td>\n",
       "      <td>NaN</td>\n",
       "      <td>NaN</td>\n",
       "      <td>NaN</td>\n",
       "      <td>NaN</td>\n",
       "      <td>NaT</td>\n",
       "    </tr>\n",
       "  </tbody>\n",
       "</table>\n",
       "</div>"
      ],
      "text/plain": [
       "  Business Partner Customer No.  Partner Type Data Origin  Title  \\\n",
       "0               31            1           1.0        Z001    NaN   \n",
       "1               32            2           1.0        Z005    NaN   \n",
       "\n",
       "   Marital Status  Occupation Date of Birth Death date  \n",
       "0             NaN         NaN           NaN        NaT  \n",
       "1             NaN         NaN           NaN        NaT  "
      ]
     },
     "execution_count": 10,
     "metadata": {},
     "output_type": "execute_result"
    }
   ],
   "source": [
    "Data_Customer.head(2)"
   ]
  },
  {
   "cell_type": "code",
   "execution_count": 11,
   "metadata": {},
   "outputs": [],
   "source": [
    "Data_Customer.drop(columns=[\"Date of Birth\",\"Death date\",\"Marital Status\"],inplace=True)"
   ]
  },
  {
   "cell_type": "code",
   "execution_count": 12,
   "metadata": {},
   "outputs": [
    {
     "data": {
      "text/plain": [
       "(555338, 6)"
      ]
     },
     "execution_count": 12,
     "metadata": {},
     "output_type": "execute_result"
    }
   ],
   "source": [
    "Data_Customer.shape"
   ]
  },
  {
   "cell_type": "code",
   "execution_count": 13,
   "metadata": {},
   "outputs": [
    {
     "data": {
      "text/plain": [
       "Index(['Business Partner', 'Customer No.', 'Partner Type', 'Data Origin',\n",
       "       'Title', 'Occupation'],\n",
       "      dtype='object')"
      ]
     },
     "execution_count": 13,
     "metadata": {},
     "output_type": "execute_result"
    }
   ],
   "source": [
    "Data_Customer.columns"
   ]
  },
  {
   "cell_type": "code",
   "execution_count": 14,
   "metadata": {},
   "outputs": [
    {
     "data": {
      "text/plain": [
       "(438, 13)"
      ]
     },
     "execution_count": 14,
     "metadata": {},
     "output_type": "execute_result"
    }
   ],
   "source": [
    "Data_plantmaster.shape"
   ]
  },
  {
   "cell_type": "code",
   "execution_count": 15,
   "metadata": {},
   "outputs": [
    {
     "data": {
      "text/html": [
       "<div>\n",
       "<style scoped>\n",
       "    .dataframe tbody tr th:only-of-type {\n",
       "        vertical-align: middle;\n",
       "    }\n",
       "\n",
       "    .dataframe tbody tr th {\n",
       "        vertical-align: top;\n",
       "    }\n",
       "\n",
       "    .dataframe thead th {\n",
       "        text-align: right;\n",
       "    }\n",
       "</style>\n",
       "<table border=\"1\" class=\"dataframe\">\n",
       "  <thead>\n",
       "    <tr style=\"text-align: right;\">\n",
       "      <th></th>\n",
       "      <th>Plant</th>\n",
       "      <th>Name 1</th>\n",
       "      <th>Valuation Area</th>\n",
       "      <th>Customer no. - plant</th>\n",
       "      <th>Vendor number plant</th>\n",
       "      <th>Factory calendar</th>\n",
       "      <th>Name 2</th>\n",
       "      <th>House number and street</th>\n",
       "      <th>PO Box</th>\n",
       "      <th>Postal Code</th>\n",
       "      <th>City</th>\n",
       "      <th>Sales organization</th>\n",
       "      <th>State</th>\n",
       "    </tr>\n",
       "  </thead>\n",
       "  <tbody>\n",
       "    <tr>\n",
       "      <th>0</th>\n",
       "      <td>BC07</td>\n",
       "      <td>NERKUNDRAM</td>\n",
       "      <td>BC07</td>\n",
       "      <td>PLBC07</td>\n",
       "      <td>PLBC07</td>\n",
       "      <td>IN</td>\n",
       "      <td>NaN</td>\n",
       "      <td>No.117 Poonamallee High Road,</td>\n",
       "      <td>600107.0</td>\n",
       "      <td>600107</td>\n",
       "      <td>Chennai</td>\n",
       "      <td>MFCS</td>\n",
       "      <td>Tamil Nadu</td>\n",
       "    </tr>\n",
       "    <tr>\n",
       "      <th>1</th>\n",
       "      <td>BC30</td>\n",
       "      <td>SAS NAGAR - MOHALI</td>\n",
       "      <td>BC30</td>\n",
       "      <td>PLBC30</td>\n",
       "      <td>PLBC30</td>\n",
       "      <td>IN</td>\n",
       "      <td>NaN</td>\n",
       "      <td>C-118, Phase 07,</td>\n",
       "      <td>160055.0</td>\n",
       "      <td>160055</td>\n",
       "      <td>Mohali</td>\n",
       "      <td>MFCS</td>\n",
       "      <td>Punjab</td>\n",
       "    </tr>\n",
       "    <tr>\n",
       "      <th>2</th>\n",
       "      <td>X001</td>\n",
       "      <td>X001 - AUTO PLANET WHEELS</td>\n",
       "      <td>X001</td>\n",
       "      <td>PLX001</td>\n",
       "      <td>NaN</td>\n",
       "      <td>IN</td>\n",
       "      <td>Thane</td>\n",
       "      <td>Unit No.3, Kothari Compound,</td>\n",
       "      <td>400610.0</td>\n",
       "      <td>400610</td>\n",
       "      <td>Thane</td>\n",
       "      <td>MFCA</td>\n",
       "      <td>Maharashtra</td>\n",
       "    </tr>\n",
       "    <tr>\n",
       "      <th>3</th>\n",
       "      <td>X002</td>\n",
       "      <td>X002 - BHANDARI INDUSTRIES PVT</td>\n",
       "      <td>X002</td>\n",
       "      <td>PLX002</td>\n",
       "      <td>NaN</td>\n",
       "      <td>IN</td>\n",
       "      <td>Ghaziabad</td>\n",
       "      <td>18/1, C Site 4, Sahibabad</td>\n",
       "      <td>201010.0</td>\n",
       "      <td>201010</td>\n",
       "      <td>Ghaziabad</td>\n",
       "      <td>MFCA</td>\n",
       "      <td>Uttar Pradesh</td>\n",
       "    </tr>\n",
       "  </tbody>\n",
       "</table>\n",
       "</div>"
      ],
      "text/plain": [
       "  Plant                          Name 1 Valuation Area Customer no. - plant  \\\n",
       "0  BC07                      NERKUNDRAM           BC07               PLBC07   \n",
       "1  BC30              SAS NAGAR - MOHALI           BC30               PLBC30   \n",
       "2  X001       X001 - AUTO PLANET WHEELS           X001               PLX001   \n",
       "3  X002  X002 - BHANDARI INDUSTRIES PVT           X002               PLX002   \n",
       "\n",
       "  Vendor number plant Factory calendar     Name 2  \\\n",
       "0              PLBC07               IN        NaN   \n",
       "1              PLBC30               IN        NaN   \n",
       "2                 NaN               IN      Thane   \n",
       "3                 NaN               IN  Ghaziabad   \n",
       "\n",
       "         House number and street    PO Box  Postal Code       City  \\\n",
       "0  No.117 Poonamallee High Road,  600107.0       600107    Chennai   \n",
       "1               C-118, Phase 07,  160055.0       160055     Mohali   \n",
       "2   Unit No.3, Kothari Compound,  400610.0       400610      Thane   \n",
       "3      18/1, C Site 4, Sahibabad  201010.0       201010  Ghaziabad   \n",
       "\n",
       "  Sales organization          State  \n",
       "0               MFCS     Tamil Nadu  \n",
       "1               MFCS         Punjab  \n",
       "2               MFCA    Maharashtra  \n",
       "3               MFCA  Uttar Pradesh  "
      ]
     },
     "execution_count": 15,
     "metadata": {},
     "output_type": "execute_result"
    }
   ],
   "source": [
    "Data_plantmaster.head(4)"
   ]
  },
  {
   "cell_type": "code",
   "execution_count": 16,
   "metadata": {},
   "outputs": [],
   "source": [
    "Data_plantmaster.drop(columns=[\"Factory calendar\",\"Customer no. - plant\",\"Valuation Area\",\"Vendor number plant\",\"PO Box\",\"Name 2\",\"Postal Code\"],inplace=True)"
   ]
  },
  {
   "cell_type": "code",
   "execution_count": 17,
   "metadata": {},
   "outputs": [
    {
     "data": {
      "text/plain": [
       "(438, 6)"
      ]
     },
     "execution_count": 17,
     "metadata": {},
     "output_type": "execute_result"
    }
   ],
   "source": [
    "Data_plantmaster.shape"
   ]
  },
  {
   "cell_type": "code",
   "execution_count": 18,
   "metadata": {},
   "outputs": [
    {
     "data": {
      "text/html": [
       "<div>\n",
       "<style scoped>\n",
       "    .dataframe tbody tr th:only-of-type {\n",
       "        vertical-align: middle;\n",
       "    }\n",
       "\n",
       "    .dataframe tbody tr th {\n",
       "        vertical-align: top;\n",
       "    }\n",
       "\n",
       "    .dataframe thead th {\n",
       "        text-align: right;\n",
       "    }\n",
       "</style>\n",
       "<table border=\"1\" class=\"dataframe\">\n",
       "  <thead>\n",
       "    <tr style=\"text-align: right;\">\n",
       "      <th></th>\n",
       "      <th>Plant</th>\n",
       "      <th>Name 1</th>\n",
       "      <th>House number and street</th>\n",
       "      <th>City</th>\n",
       "      <th>Sales organization</th>\n",
       "      <th>State</th>\n",
       "    </tr>\n",
       "  </thead>\n",
       "  <tbody>\n",
       "    <tr>\n",
       "      <th>0</th>\n",
       "      <td>BC07</td>\n",
       "      <td>NERKUNDRAM</td>\n",
       "      <td>No.117 Poonamallee High Road,</td>\n",
       "      <td>Chennai</td>\n",
       "      <td>MFCS</td>\n",
       "      <td>Tamil Nadu</td>\n",
       "    </tr>\n",
       "    <tr>\n",
       "      <th>1</th>\n",
       "      <td>BC30</td>\n",
       "      <td>SAS NAGAR - MOHALI</td>\n",
       "      <td>C-118, Phase 07,</td>\n",
       "      <td>Mohali</td>\n",
       "      <td>MFCS</td>\n",
       "      <td>Punjab</td>\n",
       "    </tr>\n",
       "    <tr>\n",
       "      <th>2</th>\n",
       "      <td>X001</td>\n",
       "      <td>X001 - AUTO PLANET WHEELS</td>\n",
       "      <td>Unit No.3, Kothari Compound,</td>\n",
       "      <td>Thane</td>\n",
       "      <td>MFCA</td>\n",
       "      <td>Maharashtra</td>\n",
       "    </tr>\n",
       "    <tr>\n",
       "      <th>3</th>\n",
       "      <td>X002</td>\n",
       "      <td>X002 - BHANDARI INDUSTRIES PVT</td>\n",
       "      <td>18/1, C Site 4, Sahibabad</td>\n",
       "      <td>Ghaziabad</td>\n",
       "      <td>MFCA</td>\n",
       "      <td>Uttar Pradesh</td>\n",
       "    </tr>\n",
       "    <tr>\n",
       "      <th>4</th>\n",
       "      <td>X003</td>\n",
       "      <td>X003 - Om Sri Satya Sai Automo</td>\n",
       "      <td>#75, Sy.No. 83/2, Panathur Mai</td>\n",
       "      <td>Bengaluru</td>\n",
       "      <td>MFCB</td>\n",
       "      <td>Karnataka</td>\n",
       "    </tr>\n",
       "  </tbody>\n",
       "</table>\n",
       "</div>"
      ],
      "text/plain": [
       "  Plant                          Name 1         House number and street  \\\n",
       "0  BC07                      NERKUNDRAM   No.117 Poonamallee High Road,   \n",
       "1  BC30              SAS NAGAR - MOHALI                C-118, Phase 07,   \n",
       "2  X001       X001 - AUTO PLANET WHEELS    Unit No.3, Kothari Compound,   \n",
       "3  X002  X002 - BHANDARI INDUSTRIES PVT       18/1, C Site 4, Sahibabad   \n",
       "4  X003  X003 - Om Sri Satya Sai Automo  #75, Sy.No. 83/2, Panathur Mai   \n",
       "\n",
       "        City Sales organization          State  \n",
       "0    Chennai               MFCS     Tamil Nadu  \n",
       "1     Mohali               MFCS         Punjab  \n",
       "2      Thane               MFCA    Maharashtra  \n",
       "3  Ghaziabad               MFCA  Uttar Pradesh  \n",
       "4  Bengaluru               MFCB      Karnataka  "
      ]
     },
     "execution_count": 18,
     "metadata": {},
     "output_type": "execute_result"
    }
   ],
   "source": [
    "Data_plantmaster.head()"
   ]
  },
  {
   "cell_type": "code",
   "execution_count": 19,
   "metadata": {},
   "outputs": [
    {
     "data": {
      "text/plain": [
       "MFCD    339\n",
       "MFCC     55\n",
       "MFCB     25\n",
       "MFCA     12\n",
       "MFCS      2\n",
       "Name: Sales organization, dtype: int64"
      ]
     },
     "execution_count": 19,
     "metadata": {},
     "output_type": "execute_result"
    }
   ],
   "source": [
    "Data_plantmaster[\"Sales organization\"].value_counts()"
   ]
  },
  {
   "cell_type": "code",
   "execution_count": 20,
   "metadata": {},
   "outputs": [
    {
     "data": {
      "text/plain": [
       "(5619484, 10)"
      ]
     },
     "execution_count": 20,
     "metadata": {},
     "output_type": "execute_result"
    }
   ],
   "source": [
    "Data_JTD.shape"
   ]
  },
  {
   "cell_type": "code",
   "execution_count": 21,
   "metadata": {},
   "outputs": [
    {
     "data": {
      "text/html": [
       "<div>\n",
       "<style scoped>\n",
       "    .dataframe tbody tr th:only-of-type {\n",
       "        vertical-align: middle;\n",
       "    }\n",
       "\n",
       "    .dataframe tbody tr th {\n",
       "        vertical-align: top;\n",
       "    }\n",
       "\n",
       "    .dataframe thead th {\n",
       "        text-align: right;\n",
       "    }\n",
       "</style>\n",
       "<table border=\"1\" class=\"dataframe\">\n",
       "  <thead>\n",
       "    <tr style=\"text-align: right;\">\n",
       "      <th></th>\n",
       "      <th>Unnamed: 0</th>\n",
       "      <th>DBM Order</th>\n",
       "      <th>Order Item</th>\n",
       "      <th>Material</th>\n",
       "      <th>Labor Value Number</th>\n",
       "      <th>Description</th>\n",
       "      <th>Item Category</th>\n",
       "      <th>Order Quantity</th>\n",
       "      <th>Target quantity UoM</th>\n",
       "      <th>Net value</th>\n",
       "    </tr>\n",
       "  </thead>\n",
       "  <tbody>\n",
       "    <tr>\n",
       "      <th>0</th>\n",
       "      <td>0</td>\n",
       "      <td>22385</td>\n",
       "      <td>180</td>\n",
       "      <td>OSLCC_SRV31</td>\n",
       "      <td>NaN</td>\n",
       "      <td>MACHINING RR.SUSPENSION CHARGE  (MAJOR)</td>\n",
       "      <td>P010</td>\n",
       "      <td>1.2</td>\n",
       "      <td>MIN</td>\n",
       "      <td>1869.87</td>\n",
       "    </tr>\n",
       "    <tr>\n",
       "      <th>1</th>\n",
       "      <td>1</td>\n",
       "      <td>23910</td>\n",
       "      <td>10</td>\n",
       "      <td>1DM279018170117</td>\n",
       "      <td>NaN</td>\n",
       "      <td>ASSY.OIL COOLER (6-PLATE) (VOR</td>\n",
       "      <td>P002</td>\n",
       "      <td>1.0</td>\n",
       "      <td>EA</td>\n",
       "      <td>2151.13</td>\n",
       "    </tr>\n",
       "  </tbody>\n",
       "</table>\n",
       "</div>"
      ],
      "text/plain": [
       "   Unnamed: 0  DBM Order  Order Item         Material Labor Value Number  \\\n",
       "0           0      22385         180      OSLCC_SRV31                NaN   \n",
       "1           1      23910          10  1DM279018170117                NaN   \n",
       "\n",
       "                               Description Item Category  Order Quantity  \\\n",
       "0  MACHINING RR.SUSPENSION CHARGE  (MAJOR)          P010             1.2   \n",
       "1           ASSY.OIL COOLER (6-PLATE) (VOR          P002             1.0   \n",
       "\n",
       "  Target quantity UoM  Net value  \n",
       "0                 MIN    1869.87  \n",
       "1                  EA    2151.13  "
      ]
     },
     "execution_count": 21,
     "metadata": {},
     "output_type": "execute_result"
    }
   ],
   "source": [
    "Data_JTD.head(2)"
   ]
  },
  {
   "cell_type": "code",
   "execution_count": 22,
   "metadata": {},
   "outputs": [
    {
     "data": {
      "text/plain": [
       "array(['MACHINING RR.SUSPENSION CHARGE  (MAJOR)',\n",
       "       'ASSY.OIL COOLER (6-PLATE) (VOR', 'FRONT WHEEL BEARING/ LUBRICATE',\n",
       "       ..., 'ABS SENSOR SCALA', 'SUSPENTION BUSH KIT SCALA',\n",
       "       'JUMPING ROD ASSY SCALA'], dtype=object)"
      ]
     },
     "execution_count": 22,
     "metadata": {},
     "output_type": "execute_result"
    }
   ],
   "source": [
    "Data_JTD[\"Description\"].unique()"
   ]
  },
  {
   "cell_type": "code",
   "execution_count": 23,
   "metadata": {},
   "outputs": [
    {
     "data": {
      "text/plain": [
       "ACCDBP0145    18954\n",
       "MSSWPS0004    14872\n",
       "MSALPS0007    14581\n",
       "MSALWH0013    14190\n",
       "MSSWPS0007    13901\n",
       "              ...  \n",
       "HYGEEL0033        1\n",
       "TMMGWH0003        1\n",
       "MMBPEN0028        1\n",
       "MSETEL0095        1\n",
       "MSGVEL0077        1\n",
       "Name: Labor Value Number, Length: 41176, dtype: int64"
      ]
     },
     "execution_count": 23,
     "metadata": {},
     "output_type": "execute_result"
    }
   ],
   "source": [
    "Data_JTD['Labor Value Number'].value_counts()"
   ]
  },
  {
   "cell_type": "code",
   "execution_count": 24,
   "metadata": {},
   "outputs": [
    {
     "data": {
      "text/plain": [
       "Index(['Unnamed: 0', 'DBM Order', 'Order Item', 'Material',\n",
       "       'Labor Value Number', 'Description', 'Item Category', 'Order Quantity',\n",
       "       'Target quantity UoM', 'Net value'],\n",
       "      dtype='object')"
      ]
     },
     "execution_count": 24,
     "metadata": {},
     "output_type": "execute_result"
    }
   ],
   "source": [
    "Data_JTD.columns"
   ]
  },
  {
   "cell_type": "code",
   "execution_count": 25,
   "metadata": {},
   "outputs": [],
   "source": [
    "Data_JTD.drop(columns=[\"Unnamed: 0\",\"Material\",\"Labor Value Number\",\"Order Item\"],inplace=True)"
   ]
  },
  {
   "cell_type": "code",
   "execution_count": 26,
   "metadata": {},
   "outputs": [
    {
     "data": {
      "text/html": [
       "<div>\n",
       "<style scoped>\n",
       "    .dataframe tbody tr th:only-of-type {\n",
       "        vertical-align: middle;\n",
       "    }\n",
       "\n",
       "    .dataframe tbody tr th {\n",
       "        vertical-align: top;\n",
       "    }\n",
       "\n",
       "    .dataframe thead th {\n",
       "        text-align: right;\n",
       "    }\n",
       "</style>\n",
       "<table border=\"1\" class=\"dataframe\">\n",
       "  <thead>\n",
       "    <tr style=\"text-align: right;\">\n",
       "      <th></th>\n",
       "      <th>DBM Order</th>\n",
       "      <th>Description</th>\n",
       "      <th>Item Category</th>\n",
       "      <th>Order Quantity</th>\n",
       "      <th>Target quantity UoM</th>\n",
       "      <th>Net value</th>\n",
       "    </tr>\n",
       "  </thead>\n",
       "  <tbody>\n",
       "    <tr>\n",
       "      <th>0</th>\n",
       "      <td>22385</td>\n",
       "      <td>MACHINING RR.SUSPENSION CHARGE  (MAJOR)</td>\n",
       "      <td>P010</td>\n",
       "      <td>1.2</td>\n",
       "      <td>MIN</td>\n",
       "      <td>1869.87</td>\n",
       "    </tr>\n",
       "    <tr>\n",
       "      <th>1</th>\n",
       "      <td>23910</td>\n",
       "      <td>ASSY.OIL COOLER (6-PLATE) (VOR</td>\n",
       "      <td>P002</td>\n",
       "      <td>1.0</td>\n",
       "      <td>EA</td>\n",
       "      <td>2151.13</td>\n",
       "    </tr>\n",
       "  </tbody>\n",
       "</table>\n",
       "</div>"
      ],
      "text/plain": [
       "   DBM Order                              Description Item Category  \\\n",
       "0      22385  MACHINING RR.SUSPENSION CHARGE  (MAJOR)          P010   \n",
       "1      23910           ASSY.OIL COOLER (6-PLATE) (VOR          P002   \n",
       "\n",
       "   Order Quantity Target quantity UoM  Net value  \n",
       "0             1.2                 MIN    1869.87  \n",
       "1             1.0                  EA    2151.13  "
      ]
     },
     "execution_count": 26,
     "metadata": {},
     "output_type": "execute_result"
    }
   ],
   "source": [
    "Data_JTD.head(2)"
   ]
  },
  {
   "cell_type": "code",
   "execution_count": 27,
   "metadata": {},
   "outputs": [
    {
     "data": {
      "text/plain": [
       "(5619484, 6)"
      ]
     },
     "execution_count": 27,
     "metadata": {},
     "output_type": "execute_result"
    }
   ],
   "source": [
    "Data_JTD.shape"
   ]
  },
  {
   "cell_type": "code",
   "execution_count": 28,
   "metadata": {},
   "outputs": [
    {
     "data": {
      "text/plain": [
       "(492314, 59)"
      ]
     },
     "execution_count": 28,
     "metadata": {},
     "output_type": "execute_result"
    }
   ],
   "source": [
    "Data_Finalinvoice.shape"
   ]
  },
  {
   "cell_type": "code",
   "execution_count": 29,
   "metadata": {},
   "outputs": [
    {
     "data": {
      "text/html": [
       "<div>\n",
       "<style scoped>\n",
       "    .dataframe tbody tr th:only-of-type {\n",
       "        vertical-align: middle;\n",
       "    }\n",
       "\n",
       "    .dataframe tbody tr th {\n",
       "        vertical-align: top;\n",
       "    }\n",
       "\n",
       "    .dataframe thead th {\n",
       "        text-align: right;\n",
       "    }\n",
       "</style>\n",
       "<table border=\"1\" class=\"dataframe\">\n",
       "  <thead>\n",
       "    <tr style=\"text-align: right;\">\n",
       "      <th></th>\n",
       "      <th>Unnamed: 0</th>\n",
       "      <th>Amt Rcvd From Custom</th>\n",
       "      <th>Amt Rcvd From Ins Co</th>\n",
       "      <th>Area / Locality</th>\n",
       "      <th>CGST(14%)</th>\n",
       "      <th>CGST(2.5%)</th>\n",
       "      <th>CGST(6%)</th>\n",
       "      <th>CGST(9%)</th>\n",
       "      <th>CITY</th>\n",
       "      <th>Cash /Cashless Type</th>\n",
       "      <th>Claim No.</th>\n",
       "      <th>Cust Type</th>\n",
       "      <th>Customer No.</th>\n",
       "      <th>District</th>\n",
       "      <th>Expiry Date</th>\n",
       "      <th>Gate Pass Date</th>\n",
       "      <th>Gate Pass Time</th>\n",
       "      <th>IGST(12%)</th>\n",
       "      <th>IGST(18%)</th>\n",
       "      <th>IGST(28%)</th>\n",
       "      <th>IGST(5%)</th>\n",
       "      <th>Insurance Company</th>\n",
       "      <th>Invoice Date</th>\n",
       "      <th>Invoice No</th>\n",
       "      <th>Invoice Time</th>\n",
       "      <th>Job Card No</th>\n",
       "      <th>JobCard Date</th>\n",
       "      <th>JobCard Time</th>\n",
       "      <th>KMs Reading</th>\n",
       "      <th>Labour Total</th>\n",
       "      <th>Make</th>\n",
       "      <th>Misc Total</th>\n",
       "      <th>Model</th>\n",
       "      <th>ODN No.</th>\n",
       "      <th>OSL Total</th>\n",
       "      <th>Order Type</th>\n",
       "      <th>Outstanding Amt</th>\n",
       "      <th>Parts Total</th>\n",
       "      <th>Pin code</th>\n",
       "      <th>Plant</th>\n",
       "      <th>Plant Name1</th>\n",
       "      <th>Policy no.</th>\n",
       "      <th>Print Status</th>\n",
       "      <th>Recovrbl Exp</th>\n",
       "      <th>Regn No</th>\n",
       "      <th>SGST/UGST(14%)</th>\n",
       "      <th>SGST/UGST(2.5%)</th>\n",
       "      <th>SGST/UGST(6%)</th>\n",
       "      <th>SGST/UGST(9%)</th>\n",
       "      <th>Service Advisor Name</th>\n",
       "      <th>TDS amount</th>\n",
       "      <th>Technician Name</th>\n",
       "      <th>Total Amt Wtd Tax.</th>\n",
       "      <th>Total CGST</th>\n",
       "      <th>Total GST</th>\n",
       "      <th>Total IGST</th>\n",
       "      <th>Total SGST/UGST</th>\n",
       "      <th>Total Value</th>\n",
       "      <th>User ID</th>\n",
       "    </tr>\n",
       "  </thead>\n",
       "  <tbody>\n",
       "    <tr>\n",
       "      <th>0</th>\n",
       "      <td>0</td>\n",
       "      <td>0.0</td>\n",
       "      <td>0.0</td>\n",
       "      <td>MAJIWADA</td>\n",
       "      <td>0.0</td>\n",
       "      <td>0.0</td>\n",
       "      <td>0.0</td>\n",
       "      <td>0.0</td>\n",
       "      <td>Thane</td>\n",
       "      <td>NaN</td>\n",
       "      <td>NaN</td>\n",
       "      <td>Retail</td>\n",
       "      <td>67849</td>\n",
       "      <td>Maharashtra</td>\n",
       "      <td>NaN</td>\n",
       "      <td>NaN</td>\n",
       "      <td>00:00:00</td>\n",
       "      <td>0.0</td>\n",
       "      <td>0.0</td>\n",
       "      <td>0.0</td>\n",
       "      <td>0.0</td>\n",
       "      <td>NaN</td>\n",
       "      <td>2015-01-02</td>\n",
       "      <td>7005200002</td>\n",
       "      <td>11:30:36</td>\n",
       "      <td>168303</td>\n",
       "      <td>2014-12-13</td>\n",
       "      <td>14:29:43</td>\n",
       "      <td>49317</td>\n",
       "      <td>1203.14</td>\n",
       "      <td>GENERAL MOTORS</td>\n",
       "      <td>0.00</td>\n",
       "      <td>SPARK</td>\n",
       "      <td>7.005200e+09</td>\n",
       "      <td>500.06</td>\n",
       "      <td>Paid Service</td>\n",
       "      <td>0.0</td>\n",
       "      <td>2348.75</td>\n",
       "      <td>400601</td>\n",
       "      <td>BC01</td>\n",
       "      <td>THANE</td>\n",
       "      <td>NaN</td>\n",
       "      <td>NO</td>\n",
       "      <td>0.0</td>\n",
       "      <td>KA19MA1291</td>\n",
       "      <td>0.0</td>\n",
       "      <td>0.0</td>\n",
       "      <td>0.0</td>\n",
       "      <td>0.0</td>\n",
       "      <td>NaN</td>\n",
       "      <td>0.0</td>\n",
       "      <td>RUPESH</td>\n",
       "      <td>4051.95</td>\n",
       "      <td>0.0</td>\n",
       "      <td>0.0</td>\n",
       "      <td>0.0</td>\n",
       "      <td>0.0</td>\n",
       "      <td>4051.95</td>\n",
       "      <td>BC01FS1</td>\n",
       "    </tr>\n",
       "    <tr>\n",
       "      <th>1</th>\n",
       "      <td>1</td>\n",
       "      <td>0.0</td>\n",
       "      <td>0.0</td>\n",
       "      <td>THNAE</td>\n",
       "      <td>0.0</td>\n",
       "      <td>0.0</td>\n",
       "      <td>0.0</td>\n",
       "      <td>0.0</td>\n",
       "      <td>THNAE</td>\n",
       "      <td>NaN</td>\n",
       "      <td>NaN</td>\n",
       "      <td>Retail</td>\n",
       "      <td>84419</td>\n",
       "      <td>Maharashtra</td>\n",
       "      <td>NaN</td>\n",
       "      <td>NaN</td>\n",
       "      <td>00:00:00</td>\n",
       "      <td>0.0</td>\n",
       "      <td>0.0</td>\n",
       "      <td>0.0</td>\n",
       "      <td>0.0</td>\n",
       "      <td>NaN</td>\n",
       "      <td>2015-01-03</td>\n",
       "      <td>7005200003</td>\n",
       "      <td>10:07:32</td>\n",
       "      <td>173997</td>\n",
       "      <td>2015-01-02</td>\n",
       "      <td>14:12:18</td>\n",
       "      <td>78584</td>\n",
       "      <td>804.26</td>\n",
       "      <td>TATA MOTORS</td>\n",
       "      <td>197.03</td>\n",
       "      <td>INDICA</td>\n",
       "      <td>7.005200e+09</td>\n",
       "      <td>0.00</td>\n",
       "      <td>SMC Value Package</td>\n",
       "      <td>0.0</td>\n",
       "      <td>0.00</td>\n",
       "      <td>400603</td>\n",
       "      <td>BC01</td>\n",
       "      <td>THANE</td>\n",
       "      <td>NaN</td>\n",
       "      <td>NO</td>\n",
       "      <td>0.0</td>\n",
       "      <td>MH43R3046</td>\n",
       "      <td>0.0</td>\n",
       "      <td>0.0</td>\n",
       "      <td>0.0</td>\n",
       "      <td>0.0</td>\n",
       "      <td>NaN</td>\n",
       "      <td>0.0</td>\n",
       "      <td>PRASHANT</td>\n",
       "      <td>1001.29</td>\n",
       "      <td>0.0</td>\n",
       "      <td>0.0</td>\n",
       "      <td>0.0</td>\n",
       "      <td>0.0</td>\n",
       "      <td>1001.29</td>\n",
       "      <td>BC01SA2</td>\n",
       "    </tr>\n",
       "    <tr>\n",
       "      <th>2</th>\n",
       "      <td>2</td>\n",
       "      <td>0.0</td>\n",
       "      <td>0.0</td>\n",
       "      <td>THANE</td>\n",
       "      <td>0.0</td>\n",
       "      <td>0.0</td>\n",
       "      <td>0.0</td>\n",
       "      <td>0.0</td>\n",
       "      <td>THANE[W]</td>\n",
       "      <td>NaN</td>\n",
       "      <td>NaN</td>\n",
       "      <td>Retail</td>\n",
       "      <td>81055</td>\n",
       "      <td>Maharashtra</td>\n",
       "      <td>NaN</td>\n",
       "      <td>NaN</td>\n",
       "      <td>00:00:00</td>\n",
       "      <td>0.0</td>\n",
       "      <td>0.0</td>\n",
       "      <td>0.0</td>\n",
       "      <td>0.0</td>\n",
       "      <td>NaN</td>\n",
       "      <td>2015-01-03</td>\n",
       "      <td>7005200004</td>\n",
       "      <td>11:12:57</td>\n",
       "      <td>173889</td>\n",
       "      <td>2015-01-02</td>\n",
       "      <td>11:40:44</td>\n",
       "      <td>33985</td>\n",
       "      <td>180.19</td>\n",
       "      <td>MARUTI SUZUKI</td>\n",
       "      <td>0.00</td>\n",
       "      <td>ZEN</td>\n",
       "      <td>7.005200e+09</td>\n",
       "      <td>0.00</td>\n",
       "      <td>Running Repairs</td>\n",
       "      <td>0.0</td>\n",
       "      <td>52.95</td>\n",
       "      <td>400607</td>\n",
       "      <td>BC01</td>\n",
       "      <td>THANE</td>\n",
       "      <td>NaN</td>\n",
       "      <td>NO</td>\n",
       "      <td>0.0</td>\n",
       "      <td>AP09AX0582</td>\n",
       "      <td>0.0</td>\n",
       "      <td>0.0</td>\n",
       "      <td>0.0</td>\n",
       "      <td>0.0</td>\n",
       "      <td>NaN</td>\n",
       "      <td>0.0</td>\n",
       "      <td>IMRAN</td>\n",
       "      <td>233.14</td>\n",
       "      <td>0.0</td>\n",
       "      <td>0.0</td>\n",
       "      <td>0.0</td>\n",
       "      <td>0.0</td>\n",
       "      <td>233.14</td>\n",
       "      <td>BC01SA2</td>\n",
       "    </tr>\n",
       "    <tr>\n",
       "      <th>3</th>\n",
       "      <td>3</td>\n",
       "      <td>0.0</td>\n",
       "      <td>0.0</td>\n",
       "      <td>THNAE</td>\n",
       "      <td>0.0</td>\n",
       "      <td>0.0</td>\n",
       "      <td>0.0</td>\n",
       "      <td>0.0</td>\n",
       "      <td>THNAE</td>\n",
       "      <td>NaN</td>\n",
       "      <td>NaN</td>\n",
       "      <td>Retail</td>\n",
       "      <td>84419</td>\n",
       "      <td>Maharashtra</td>\n",
       "      <td>NaN</td>\n",
       "      <td>NaN</td>\n",
       "      <td>00:00:00</td>\n",
       "      <td>0.0</td>\n",
       "      <td>0.0</td>\n",
       "      <td>0.0</td>\n",
       "      <td>0.0</td>\n",
       "      <td>NaN</td>\n",
       "      <td>2015-01-03</td>\n",
       "      <td>7005200005</td>\n",
       "      <td>11:40:44</td>\n",
       "      <td>174158</td>\n",
       "      <td>2015-01-03</td>\n",
       "      <td>10:12:32</td>\n",
       "      <td>78584</td>\n",
       "      <td>0.00</td>\n",
       "      <td>TATA MOTORS</td>\n",
       "      <td>0.00</td>\n",
       "      <td>INDICA</td>\n",
       "      <td>7.005200e+09</td>\n",
       "      <td>0.00</td>\n",
       "      <td>SMC Redemption</td>\n",
       "      <td>0.0</td>\n",
       "      <td>0.00</td>\n",
       "      <td>400603</td>\n",
       "      <td>BC01</td>\n",
       "      <td>THANE</td>\n",
       "      <td>NaN</td>\n",
       "      <td>NO</td>\n",
       "      <td>0.0</td>\n",
       "      <td>MH43R3046</td>\n",
       "      <td>0.0</td>\n",
       "      <td>0.0</td>\n",
       "      <td>0.0</td>\n",
       "      <td>0.0</td>\n",
       "      <td>NaN</td>\n",
       "      <td>0.0</td>\n",
       "      <td>PRASHANT</td>\n",
       "      <td>0.00</td>\n",
       "      <td>0.0</td>\n",
       "      <td>0.0</td>\n",
       "      <td>0.0</td>\n",
       "      <td>0.0</td>\n",
       "      <td>0.00</td>\n",
       "      <td>BC01SA2</td>\n",
       "    </tr>\n",
       "    <tr>\n",
       "      <th>4</th>\n",
       "      <td>4</td>\n",
       "      <td>0.0</td>\n",
       "      <td>0.0</td>\n",
       "      <td>THANE</td>\n",
       "      <td>0.0</td>\n",
       "      <td>0.0</td>\n",
       "      <td>0.0</td>\n",
       "      <td>0.0</td>\n",
       "      <td>THANE</td>\n",
       "      <td>NaN</td>\n",
       "      <td>NaN</td>\n",
       "      <td>Retail</td>\n",
       "      <td>18980</td>\n",
       "      <td>Maharashtra</td>\n",
       "      <td>NaN</td>\n",
       "      <td>NaN</td>\n",
       "      <td>00:00:00</td>\n",
       "      <td>0.0</td>\n",
       "      <td>0.0</td>\n",
       "      <td>0.0</td>\n",
       "      <td>0.0</td>\n",
       "      <td>NaN</td>\n",
       "      <td>2015-01-03</td>\n",
       "      <td>7005200006</td>\n",
       "      <td>12:07:17</td>\n",
       "      <td>173860</td>\n",
       "      <td>2015-01-02</td>\n",
       "      <td>10:45:42</td>\n",
       "      <td>50057</td>\n",
       "      <td>1202.97</td>\n",
       "      <td>HYUNDAI</td>\n",
       "      <td>100.00</td>\n",
       "      <td>SANTRO XING</td>\n",
       "      <td>7.005200e+09</td>\n",
       "      <td>499.99</td>\n",
       "      <td>Paid Service</td>\n",
       "      <td>0.0</td>\n",
       "      <td>944.16</td>\n",
       "      <td>400603</td>\n",
       "      <td>BC01</td>\n",
       "      <td>THANE</td>\n",
       "      <td>NaN</td>\n",
       "      <td>NO</td>\n",
       "      <td>0.0</td>\n",
       "      <td>MH04CD9768</td>\n",
       "      <td>0.0</td>\n",
       "      <td>0.0</td>\n",
       "      <td>0.0</td>\n",
       "      <td>0.0</td>\n",
       "      <td>NaN</td>\n",
       "      <td>0.0</td>\n",
       "      <td>DAYANAND</td>\n",
       "      <td>2747.12</td>\n",
       "      <td>0.0</td>\n",
       "      <td>0.0</td>\n",
       "      <td>0.0</td>\n",
       "      <td>0.0</td>\n",
       "      <td>2747.12</td>\n",
       "      <td>BC01SA2</td>\n",
       "    </tr>\n",
       "  </tbody>\n",
       "</table>\n",
       "</div>"
      ],
      "text/plain": [
       "   Unnamed: 0  Amt Rcvd From Custom  Amt Rcvd From Ins Co Area / Locality  \\\n",
       "0           0                   0.0                   0.0        MAJIWADA   \n",
       "1           1                   0.0                   0.0           THNAE   \n",
       "2           2                   0.0                   0.0           THANE   \n",
       "3           3                   0.0                   0.0           THNAE   \n",
       "4           4                   0.0                   0.0           THANE   \n",
       "\n",
       "   CGST(14%)  CGST(2.5%)  CGST(6%)  CGST(9%)      CITY Cash /Cashless Type  \\\n",
       "0        0.0         0.0       0.0       0.0     Thane                 NaN   \n",
       "1        0.0         0.0       0.0       0.0     THNAE                 NaN   \n",
       "2        0.0         0.0       0.0       0.0  THANE[W]                 NaN   \n",
       "3        0.0         0.0       0.0       0.0     THNAE                 NaN   \n",
       "4        0.0         0.0       0.0       0.0     THANE                 NaN   \n",
       "\n",
       "  Claim No. Cust Type Customer No.     District Expiry Date Gate Pass Date  \\\n",
       "0       NaN    Retail        67849  Maharashtra         NaN            NaN   \n",
       "1       NaN    Retail        84419  Maharashtra         NaN            NaN   \n",
       "2       NaN    Retail        81055  Maharashtra         NaN            NaN   \n",
       "3       NaN    Retail        84419  Maharashtra         NaN            NaN   \n",
       "4       NaN    Retail        18980  Maharashtra         NaN            NaN   \n",
       "\n",
       "  Gate Pass Time  IGST(12%)  IGST(18%)  IGST(28%)  IGST(5%) Insurance Company  \\\n",
       "0       00:00:00        0.0        0.0        0.0       0.0               NaN   \n",
       "1       00:00:00        0.0        0.0        0.0       0.0               NaN   \n",
       "2       00:00:00        0.0        0.0        0.0       0.0               NaN   \n",
       "3       00:00:00        0.0        0.0        0.0       0.0               NaN   \n",
       "4       00:00:00        0.0        0.0        0.0       0.0               NaN   \n",
       "\n",
       "  Invoice Date  Invoice No Invoice Time  Job Card No JobCard Date  \\\n",
       "0   2015-01-02  7005200002     11:30:36       168303   2014-12-13   \n",
       "1   2015-01-03  7005200003     10:07:32       173997   2015-01-02   \n",
       "2   2015-01-03  7005200004     11:12:57       173889   2015-01-02   \n",
       "3   2015-01-03  7005200005     11:40:44       174158   2015-01-03   \n",
       "4   2015-01-03  7005200006     12:07:17       173860   2015-01-02   \n",
       "\n",
       "  JobCard Time  KMs Reading  Labour Total            Make  Misc Total  \\\n",
       "0     14:29:43        49317       1203.14  GENERAL MOTORS        0.00   \n",
       "1     14:12:18        78584        804.26     TATA MOTORS      197.03   \n",
       "2     11:40:44        33985        180.19   MARUTI SUZUKI        0.00   \n",
       "3     10:12:32        78584          0.00     TATA MOTORS        0.00   \n",
       "4     10:45:42        50057       1202.97         HYUNDAI      100.00   \n",
       "\n",
       "         Model       ODN No.  OSL Total         Order Type  Outstanding Amt  \\\n",
       "0        SPARK  7.005200e+09     500.06       Paid Service              0.0   \n",
       "1       INDICA  7.005200e+09       0.00  SMC Value Package              0.0   \n",
       "2          ZEN  7.005200e+09       0.00    Running Repairs              0.0   \n",
       "3       INDICA  7.005200e+09       0.00     SMC Redemption              0.0   \n",
       "4  SANTRO XING  7.005200e+09     499.99       Paid Service              0.0   \n",
       "\n",
       "   Parts Total  Pin code Plant Plant Name1 Policy no. Print Status  \\\n",
       "0      2348.75    400601  BC01       THANE        NaN           NO   \n",
       "1         0.00    400603  BC01       THANE        NaN           NO   \n",
       "2        52.95    400607  BC01       THANE        NaN           NO   \n",
       "3         0.00    400603  BC01       THANE        NaN           NO   \n",
       "4       944.16    400603  BC01       THANE        NaN           NO   \n",
       "\n",
       "   Recovrbl Exp     Regn No  SGST/UGST(14%)  SGST/UGST(2.5%)  SGST/UGST(6%)  \\\n",
       "0           0.0  KA19MA1291             0.0              0.0            0.0   \n",
       "1           0.0   MH43R3046             0.0              0.0            0.0   \n",
       "2           0.0  AP09AX0582             0.0              0.0            0.0   \n",
       "3           0.0   MH43R3046             0.0              0.0            0.0   \n",
       "4           0.0  MH04CD9768             0.0              0.0            0.0   \n",
       "\n",
       "   SGST/UGST(9%)  Service Advisor Name  TDS amount Technician Name  \\\n",
       "0            0.0                   NaN         0.0          RUPESH   \n",
       "1            0.0                   NaN         0.0        PRASHANT   \n",
       "2            0.0                   NaN         0.0           IMRAN   \n",
       "3            0.0                   NaN         0.0        PRASHANT   \n",
       "4            0.0                   NaN         0.0        DAYANAND   \n",
       "\n",
       "   Total Amt Wtd Tax.  Total CGST  Total GST  Total IGST  Total SGST/UGST  \\\n",
       "0             4051.95         0.0        0.0         0.0              0.0   \n",
       "1             1001.29         0.0        0.0         0.0              0.0   \n",
       "2              233.14         0.0        0.0         0.0              0.0   \n",
       "3                0.00         0.0        0.0         0.0              0.0   \n",
       "4             2747.12         0.0        0.0         0.0              0.0   \n",
       "\n",
       "   Total Value  User ID  \n",
       "0      4051.95  BC01FS1  \n",
       "1      1001.29  BC01SA2  \n",
       "2       233.14  BC01SA2  \n",
       "3         0.00  BC01SA2  \n",
       "4      2747.12  BC01SA2  "
      ]
     },
     "execution_count": 29,
     "metadata": {},
     "output_type": "execute_result"
    }
   ],
   "source": [
    "Data_Finalinvoice.head(5)"
   ]
  },
  {
   "cell_type": "code",
   "execution_count": 30,
   "metadata": {},
   "outputs": [
    {
     "data": {
      "text/plain": [
       "Index(['Unnamed: 0', 'Amt Rcvd From Custom', 'Amt Rcvd From Ins Co',\n",
       "       'Area / Locality', 'CGST(14%)', 'CGST(2.5%)', 'CGST(6%)', 'CGST(9%)',\n",
       "       'CITY', 'Cash /Cashless Type', 'Claim No.', 'Cust Type', 'Customer No.',\n",
       "       'District', 'Expiry Date', 'Gate Pass Date', 'Gate Pass Time',\n",
       "       'IGST(12%)', 'IGST(18%)', 'IGST(28%)', 'IGST(5%)', 'Insurance Company',\n",
       "       'Invoice Date', 'Invoice No', 'Invoice Time', 'Job Card No',\n",
       "       'JobCard Date', 'JobCard Time', 'KMs Reading', 'Labour Total', 'Make',\n",
       "       'Misc Total', 'Model', 'ODN No.', 'OSL Total', 'Order Type',\n",
       "       'Outstanding Amt', 'Parts Total', 'Pin code', 'Plant', 'Plant Name1',\n",
       "       'Policy no.', 'Print Status', 'Recovrbl Exp', 'Regn No',\n",
       "       'SGST/UGST(14%)', 'SGST/UGST(2.5%)', 'SGST/UGST(6%)', 'SGST/UGST(9%)',\n",
       "       'Service Advisor Name', 'TDS amount', 'Technician Name',\n",
       "       'Total Amt Wtd Tax.', 'Total CGST', 'Total GST', 'Total IGST',\n",
       "       'Total SGST/UGST', 'Total Value', 'User ID'],\n",
       "      dtype='object')"
      ]
     },
     "execution_count": 30,
     "metadata": {},
     "output_type": "execute_result"
    }
   ],
   "source": [
    "Data_Finalinvoice.columns"
   ]
  },
  {
   "cell_type": "code",
   "execution_count": 31,
   "metadata": {},
   "outputs": [
    {
     "data": {
      "text/plain": [
       "Unnamed: 0                   0\n",
       "Amt Rcvd From Custom    197286\n",
       "Amt Rcvd From Ins Co    197286\n",
       "Area / Locality          23890\n",
       "CGST(14%)               197286\n",
       "CGST(2.5%)              197286\n",
       "CGST(6%)                197286\n",
       "CGST(9%)                197286\n",
       "CITY                         1\n",
       "Cash /Cashless Type     464894\n",
       "Claim No.               487510\n",
       "Cust Type                    0\n",
       "Customer No.                 0\n",
       "District                     0\n",
       "Expiry Date             470083\n",
       "Gate Pass Date          451399\n",
       "Gate Pass Time               0\n",
       "IGST(12%)               197286\n",
       "IGST(18%)               197286\n",
       "IGST(28%)               197286\n",
       "IGST(5%)                197286\n",
       "Insurance Company       468723\n",
       "Invoice Date                 0\n",
       "Invoice No                   0\n",
       "Invoice Time                 0\n",
       "Job Card No                  0\n",
       "JobCard Date                 0\n",
       "JobCard Time                 0\n",
       "KMs Reading                  0\n",
       "Labour Total                 0\n",
       "Make                         0\n",
       "Misc Total                   0\n",
       "Model                     1525\n",
       "ODN No.                 197286\n",
       "OSL Total                    0\n",
       "Order Type                   0\n",
       "Outstanding Amt         197286\n",
       "Parts Total                  0\n",
       "Pin code                     0\n",
       "Plant                        0\n",
       "Plant Name1                  0\n",
       "Policy no.              475432\n",
       "Print Status                 0\n",
       "Recovrbl Exp                 0\n",
       "Regn No                     16\n",
       "SGST/UGST(14%)          197286\n",
       "SGST/UGST(2.5%)         197286\n",
       "SGST/UGST(6%)           197286\n",
       "SGST/UGST(9%)           197286\n",
       "Service Advisor Name    492314\n",
       "TDS amount              197286\n",
       "Technician Name         236834\n",
       "Total Amt Wtd Tax.           0\n",
       "Total CGST              197286\n",
       "Total GST               197286\n",
       "Total IGST              197286\n",
       "Total SGST/UGST         197286\n",
       "Total Value             197286\n",
       "User ID                      0\n",
       "dtype: int64"
      ]
     },
     "execution_count": 31,
     "metadata": {},
     "output_type": "execute_result"
    }
   ],
   "source": [
    "Data_Finalinvoice.isnull().sum()"
   ]
  },
  {
   "cell_type": "markdown",
   "metadata": {},
   "source": [
    "### Deriving total service time from invoice date time & job card date time "
   ]
  },
  {
   "cell_type": "code",
   "execution_count": 32,
   "metadata": {},
   "outputs": [],
   "source": [
    "Data_Finalinvoice[\"Invoice_DateTime\"]=Data_Finalinvoice[\"Invoice Date\"]+' '+Data_Finalinvoice[\"Invoice Time\"]\n",
    "Data_Finalinvoice[\"JobCard_DateTime\"]=Data_Finalinvoice[\"JobCard Date\"]+' '+Data_Finalinvoice[\"JobCard Time\"]\n",
    "Data_Finalinvoice['JobCard_DateTime'] = pd.to_datetime(Data_Finalinvoice['JobCard_DateTime'],dayfirst=True)\n",
    "Data_Finalinvoice['Invoice_DateTime'] = pd.to_datetime(Data_Finalinvoice['Invoice_DateTime'],dayfirst=True)\n",
    "Data_Finalinvoice[\"Service_Time\"]=Data_Finalinvoice[\"Invoice_DateTime\"]-Data_Finalinvoice[\"JobCard_DateTime\"]"
   ]
  },
  {
   "cell_type": "code",
   "execution_count": 33,
   "metadata": {},
   "outputs": [
    {
     "data": {
      "text/plain": [
       "Index(['Unnamed: 0', 'Amt Rcvd From Custom', 'Amt Rcvd From Ins Co',\n",
       "       'Area / Locality', 'CGST(14%)', 'CGST(2.5%)', 'CGST(6%)', 'CGST(9%)',\n",
       "       'CITY', 'Cash /Cashless Type', 'Claim No.', 'Cust Type', 'Customer No.',\n",
       "       'District', 'Expiry Date', 'Gate Pass Date', 'Gate Pass Time',\n",
       "       'IGST(12%)', 'IGST(18%)', 'IGST(28%)', 'IGST(5%)', 'Insurance Company',\n",
       "       'Invoice Date', 'Invoice No', 'Invoice Time', 'Job Card No',\n",
       "       'JobCard Date', 'JobCard Time', 'KMs Reading', 'Labour Total', 'Make',\n",
       "       'Misc Total', 'Model', 'ODN No.', 'OSL Total', 'Order Type',\n",
       "       'Outstanding Amt', 'Parts Total', 'Pin code', 'Plant', 'Plant Name1',\n",
       "       'Policy no.', 'Print Status', 'Recovrbl Exp', 'Regn No',\n",
       "       'SGST/UGST(14%)', 'SGST/UGST(2.5%)', 'SGST/UGST(6%)', 'SGST/UGST(9%)',\n",
       "       'Service Advisor Name', 'TDS amount', 'Technician Name',\n",
       "       'Total Amt Wtd Tax.', 'Total CGST', 'Total GST', 'Total IGST',\n",
       "       'Total SGST/UGST', 'Total Value', 'User ID', 'Invoice_DateTime',\n",
       "       'JobCard_DateTime', 'Service_Time'],\n",
       "      dtype='object')"
      ]
     },
     "execution_count": 33,
     "metadata": {},
     "output_type": "execute_result"
    }
   ],
   "source": [
    "Data_Finalinvoice.columns"
   ]
  },
  {
   "cell_type": "code",
   "execution_count": 34,
   "metadata": {},
   "outputs": [
    {
     "data": {
      "text/plain": [
       "Unnamed: 0                   0\n",
       "Amt Rcvd From Custom    197286\n",
       "Amt Rcvd From Ins Co    197286\n",
       "Area / Locality          23890\n",
       "CGST(14%)               197286\n",
       "                         ...  \n",
       "Total Value             197286\n",
       "User ID                      0\n",
       "Invoice_DateTime             0\n",
       "JobCard_DateTime             0\n",
       "Service_Time                 0\n",
       "Length: 62, dtype: int64"
      ]
     },
     "execution_count": 34,
     "metadata": {},
     "output_type": "execute_result"
    }
   ],
   "source": [
    "Data_Finalinvoice.isnull().sum()"
   ]
  },
  {
   "cell_type": "code",
   "execution_count": 35,
   "metadata": {},
   "outputs": [],
   "source": [
    "Data_Finalinvoice[\"updated_CITY\"]=nomi.query_postal_code(np.array(Data_Finalinvoice[\"Pin code\"].astype(str))).county_name\n",
    "Data_Finalinvoice[\"updated_District\"]=nomi.query_postal_code(np.array(Data_Finalinvoice[\"Pin code\"].astype(str))).state_name\n",
    "Data_Finalinvoice[\"updated_Location_Area\"]=nomi.query_postal_code(np.array(Data_Finalinvoice[\"Pin code\"].astype(str))).place_name"
   ]
  },
  {
   "cell_type": "code",
   "execution_count": 36,
   "metadata": {},
   "outputs": [],
   "source": [
    "Data_Finalinvoice[\"CITY\"] = Data_Finalinvoice[\"CITY\"].str.lower()\n",
    "Data_Finalinvoice[\"updated_CITY\"] = Data_Finalinvoice[\"updated_CITY\"].str.lower()"
   ]
  },
  {
   "cell_type": "code",
   "execution_count": 37,
   "metadata": {},
   "outputs": [],
   "source": [
    "Data_Finalinvoice[\"District\"] = Data_Finalinvoice[\"District\"].str.lower()\n",
    "Data_Finalinvoice[\"updated_District\"] = Data_Finalinvoice[\"updated_District\"].str.lower()"
   ]
  },
  {
   "cell_type": "code",
   "execution_count": 38,
   "metadata": {},
   "outputs": [
    {
     "data": {
      "text/html": [
       "<div>\n",
       "<style scoped>\n",
       "    .dataframe tbody tr th:only-of-type {\n",
       "        vertical-align: middle;\n",
       "    }\n",
       "\n",
       "    .dataframe tbody tr th {\n",
       "        vertical-align: top;\n",
       "    }\n",
       "\n",
       "    .dataframe thead th {\n",
       "        text-align: right;\n",
       "    }\n",
       "</style>\n",
       "<table border=\"1\" class=\"dataframe\">\n",
       "  <thead>\n",
       "    <tr style=\"text-align: right;\">\n",
       "      <th></th>\n",
       "      <th>Unnamed: 0</th>\n",
       "      <th>Amt Rcvd From Custom</th>\n",
       "      <th>Amt Rcvd From Ins Co</th>\n",
       "      <th>Area / Locality</th>\n",
       "      <th>CGST(14%)</th>\n",
       "      <th>CGST(2.5%)</th>\n",
       "      <th>CGST(6%)</th>\n",
       "      <th>CGST(9%)</th>\n",
       "      <th>CITY</th>\n",
       "      <th>Cash /Cashless Type</th>\n",
       "      <th>Claim No.</th>\n",
       "      <th>Cust Type</th>\n",
       "      <th>Customer No.</th>\n",
       "      <th>District</th>\n",
       "      <th>Expiry Date</th>\n",
       "      <th>Gate Pass Date</th>\n",
       "      <th>Gate Pass Time</th>\n",
       "      <th>IGST(12%)</th>\n",
       "      <th>IGST(18%)</th>\n",
       "      <th>IGST(28%)</th>\n",
       "      <th>IGST(5%)</th>\n",
       "      <th>Insurance Company</th>\n",
       "      <th>Invoice Date</th>\n",
       "      <th>Invoice No</th>\n",
       "      <th>Invoice Time</th>\n",
       "      <th>Job Card No</th>\n",
       "      <th>JobCard Date</th>\n",
       "      <th>JobCard Time</th>\n",
       "      <th>KMs Reading</th>\n",
       "      <th>Labour Total</th>\n",
       "      <th>Make</th>\n",
       "      <th>Misc Total</th>\n",
       "      <th>Model</th>\n",
       "      <th>ODN No.</th>\n",
       "      <th>OSL Total</th>\n",
       "      <th>Order Type</th>\n",
       "      <th>Outstanding Amt</th>\n",
       "      <th>Parts Total</th>\n",
       "      <th>Pin code</th>\n",
       "      <th>Plant</th>\n",
       "      <th>Plant Name1</th>\n",
       "      <th>Policy no.</th>\n",
       "      <th>Print Status</th>\n",
       "      <th>Recovrbl Exp</th>\n",
       "      <th>Regn No</th>\n",
       "      <th>SGST/UGST(14%)</th>\n",
       "      <th>SGST/UGST(2.5%)</th>\n",
       "      <th>SGST/UGST(6%)</th>\n",
       "      <th>SGST/UGST(9%)</th>\n",
       "      <th>Service Advisor Name</th>\n",
       "      <th>TDS amount</th>\n",
       "      <th>Technician Name</th>\n",
       "      <th>Total Amt Wtd Tax.</th>\n",
       "      <th>Total CGST</th>\n",
       "      <th>Total GST</th>\n",
       "      <th>Total IGST</th>\n",
       "      <th>Total SGST/UGST</th>\n",
       "      <th>Total Value</th>\n",
       "      <th>User ID</th>\n",
       "      <th>Invoice_DateTime</th>\n",
       "      <th>JobCard_DateTime</th>\n",
       "      <th>Service_Time</th>\n",
       "      <th>updated_CITY</th>\n",
       "      <th>updated_District</th>\n",
       "      <th>updated_Location_Area</th>\n",
       "    </tr>\n",
       "  </thead>\n",
       "  <tbody>\n",
       "    <tr>\n",
       "      <th>0</th>\n",
       "      <td>0</td>\n",
       "      <td>0.0</td>\n",
       "      <td>0.0</td>\n",
       "      <td>MAJIWADA</td>\n",
       "      <td>0.0</td>\n",
       "      <td>0.0</td>\n",
       "      <td>0.0</td>\n",
       "      <td>0.0</td>\n",
       "      <td>thane</td>\n",
       "      <td>NaN</td>\n",
       "      <td>NaN</td>\n",
       "      <td>Retail</td>\n",
       "      <td>67849</td>\n",
       "      <td>maharashtra</td>\n",
       "      <td>NaN</td>\n",
       "      <td>NaN</td>\n",
       "      <td>00:00:00</td>\n",
       "      <td>0.0</td>\n",
       "      <td>0.0</td>\n",
       "      <td>0.0</td>\n",
       "      <td>0.0</td>\n",
       "      <td>NaN</td>\n",
       "      <td>2015-01-02</td>\n",
       "      <td>7005200002</td>\n",
       "      <td>11:30:36</td>\n",
       "      <td>168303</td>\n",
       "      <td>2014-12-13</td>\n",
       "      <td>14:29:43</td>\n",
       "      <td>49317</td>\n",
       "      <td>1203.14</td>\n",
       "      <td>GENERAL MOTORS</td>\n",
       "      <td>0.00</td>\n",
       "      <td>SPARK</td>\n",
       "      <td>7.005200e+09</td>\n",
       "      <td>500.06</td>\n",
       "      <td>Paid Service</td>\n",
       "      <td>0.0</td>\n",
       "      <td>2348.75</td>\n",
       "      <td>400601</td>\n",
       "      <td>BC01</td>\n",
       "      <td>THANE</td>\n",
       "      <td>NaN</td>\n",
       "      <td>NO</td>\n",
       "      <td>0.0</td>\n",
       "      <td>KA19MA1291</td>\n",
       "      <td>0.0</td>\n",
       "      <td>0.0</td>\n",
       "      <td>0.0</td>\n",
       "      <td>0.0</td>\n",
       "      <td>NaN</td>\n",
       "      <td>0.0</td>\n",
       "      <td>RUPESH</td>\n",
       "      <td>4051.95</td>\n",
       "      <td>0.0</td>\n",
       "      <td>0.0</td>\n",
       "      <td>0.0</td>\n",
       "      <td>0.0</td>\n",
       "      <td>4051.95</td>\n",
       "      <td>BC01FS1</td>\n",
       "      <td>2015-01-02 11:30:36</td>\n",
       "      <td>2014-12-13 14:29:43</td>\n",
       "      <td>19 days 21:00:53</td>\n",
       "      <td>thane</td>\n",
       "      <td>maharashtra</td>\n",
       "      <td>Thane Bazar, Thane H.O, Thane R.S.</td>\n",
       "    </tr>\n",
       "    <tr>\n",
       "      <th>1</th>\n",
       "      <td>1</td>\n",
       "      <td>0.0</td>\n",
       "      <td>0.0</td>\n",
       "      <td>THNAE</td>\n",
       "      <td>0.0</td>\n",
       "      <td>0.0</td>\n",
       "      <td>0.0</td>\n",
       "      <td>0.0</td>\n",
       "      <td>thnae</td>\n",
       "      <td>NaN</td>\n",
       "      <td>NaN</td>\n",
       "      <td>Retail</td>\n",
       "      <td>84419</td>\n",
       "      <td>maharashtra</td>\n",
       "      <td>NaN</td>\n",
       "      <td>NaN</td>\n",
       "      <td>00:00:00</td>\n",
       "      <td>0.0</td>\n",
       "      <td>0.0</td>\n",
       "      <td>0.0</td>\n",
       "      <td>0.0</td>\n",
       "      <td>NaN</td>\n",
       "      <td>2015-01-03</td>\n",
       "      <td>7005200003</td>\n",
       "      <td>10:07:32</td>\n",
       "      <td>173997</td>\n",
       "      <td>2015-01-02</td>\n",
       "      <td>14:12:18</td>\n",
       "      <td>78584</td>\n",
       "      <td>804.26</td>\n",
       "      <td>TATA MOTORS</td>\n",
       "      <td>197.03</td>\n",
       "      <td>INDICA</td>\n",
       "      <td>7.005200e+09</td>\n",
       "      <td>0.00</td>\n",
       "      <td>SMC Value Package</td>\n",
       "      <td>0.0</td>\n",
       "      <td>0.00</td>\n",
       "      <td>400603</td>\n",
       "      <td>BC01</td>\n",
       "      <td>THANE</td>\n",
       "      <td>NaN</td>\n",
       "      <td>NO</td>\n",
       "      <td>0.0</td>\n",
       "      <td>MH43R3046</td>\n",
       "      <td>0.0</td>\n",
       "      <td>0.0</td>\n",
       "      <td>0.0</td>\n",
       "      <td>0.0</td>\n",
       "      <td>NaN</td>\n",
       "      <td>0.0</td>\n",
       "      <td>PRASHANT</td>\n",
       "      <td>1001.29</td>\n",
       "      <td>0.0</td>\n",
       "      <td>0.0</td>\n",
       "      <td>0.0</td>\n",
       "      <td>0.0</td>\n",
       "      <td>1001.29</td>\n",
       "      <td>BC01SA2</td>\n",
       "      <td>2015-01-03 10:07:32</td>\n",
       "      <td>2015-01-02 14:12:18</td>\n",
       "      <td>0 days 19:55:14</td>\n",
       "      <td>thane</td>\n",
       "      <td>maharashtra</td>\n",
       "      <td>Thane East, Kopri Colony</td>\n",
       "    </tr>\n",
       "  </tbody>\n",
       "</table>\n",
       "</div>"
      ],
      "text/plain": [
       "   Unnamed: 0  Amt Rcvd From Custom  Amt Rcvd From Ins Co Area / Locality  \\\n",
       "0           0                   0.0                   0.0        MAJIWADA   \n",
       "1           1                   0.0                   0.0           THNAE   \n",
       "\n",
       "   CGST(14%)  CGST(2.5%)  CGST(6%)  CGST(9%)   CITY Cash /Cashless Type  \\\n",
       "0        0.0         0.0       0.0       0.0  thane                 NaN   \n",
       "1        0.0         0.0       0.0       0.0  thnae                 NaN   \n",
       "\n",
       "  Claim No. Cust Type Customer No.     District Expiry Date Gate Pass Date  \\\n",
       "0       NaN    Retail        67849  maharashtra         NaN            NaN   \n",
       "1       NaN    Retail        84419  maharashtra         NaN            NaN   \n",
       "\n",
       "  Gate Pass Time  IGST(12%)  IGST(18%)  IGST(28%)  IGST(5%) Insurance Company  \\\n",
       "0       00:00:00        0.0        0.0        0.0       0.0               NaN   \n",
       "1       00:00:00        0.0        0.0        0.0       0.0               NaN   \n",
       "\n",
       "  Invoice Date  Invoice No Invoice Time  Job Card No JobCard Date  \\\n",
       "0   2015-01-02  7005200002     11:30:36       168303   2014-12-13   \n",
       "1   2015-01-03  7005200003     10:07:32       173997   2015-01-02   \n",
       "\n",
       "  JobCard Time  KMs Reading  Labour Total            Make  Misc Total   Model  \\\n",
       "0     14:29:43        49317       1203.14  GENERAL MOTORS        0.00   SPARK   \n",
       "1     14:12:18        78584        804.26     TATA MOTORS      197.03  INDICA   \n",
       "\n",
       "        ODN No.  OSL Total         Order Type  Outstanding Amt  Parts Total  \\\n",
       "0  7.005200e+09     500.06       Paid Service              0.0      2348.75   \n",
       "1  7.005200e+09       0.00  SMC Value Package              0.0         0.00   \n",
       "\n",
       "   Pin code Plant Plant Name1 Policy no. Print Status  Recovrbl Exp  \\\n",
       "0    400601  BC01       THANE        NaN           NO           0.0   \n",
       "1    400603  BC01       THANE        NaN           NO           0.0   \n",
       "\n",
       "      Regn No  SGST/UGST(14%)  SGST/UGST(2.5%)  SGST/UGST(6%)  SGST/UGST(9%)  \\\n",
       "0  KA19MA1291             0.0              0.0            0.0            0.0   \n",
       "1   MH43R3046             0.0              0.0            0.0            0.0   \n",
       "\n",
       "   Service Advisor Name  TDS amount Technician Name  Total Amt Wtd Tax.  \\\n",
       "0                   NaN         0.0          RUPESH             4051.95   \n",
       "1                   NaN         0.0        PRASHANT             1001.29   \n",
       "\n",
       "   Total CGST  Total GST  Total IGST  Total SGST/UGST  Total Value  User ID  \\\n",
       "0         0.0        0.0         0.0              0.0      4051.95  BC01FS1   \n",
       "1         0.0        0.0         0.0              0.0      1001.29  BC01SA2   \n",
       "\n",
       "     Invoice_DateTime    JobCard_DateTime     Service_Time updated_CITY  \\\n",
       "0 2015-01-02 11:30:36 2014-12-13 14:29:43 19 days 21:00:53        thane   \n",
       "1 2015-01-03 10:07:32 2015-01-02 14:12:18  0 days 19:55:14        thane   \n",
       "\n",
       "  updated_District               updated_Location_Area  \n",
       "0      maharashtra  Thane Bazar, Thane H.O, Thane R.S.  \n",
       "1      maharashtra            Thane East, Kopri Colony  "
      ]
     },
     "execution_count": 38,
     "metadata": {},
     "output_type": "execute_result"
    }
   ],
   "source": [
    "Data_Finalinvoice.head(2)"
   ]
  },
  {
   "cell_type": "markdown",
   "metadata": {},
   "source": [
    "### nan value impute updated city"
   ]
  },
  {
   "cell_type": "code",
   "execution_count": 39,
   "metadata": {},
   "outputs": [],
   "source": [
    "o = Data_Finalinvoice[Data_Finalinvoice[\"updated_CITY\"].isnull()]"
   ]
  },
  {
   "cell_type": "code",
   "execution_count": 40,
   "metadata": {},
   "outputs": [],
   "source": [
    "l = Data_Finalinvoice[Data_Finalinvoice[\"updated_CITY\"].notnull()]"
   ]
  },
  {
   "cell_type": "code",
   "execution_count": 41,
   "metadata": {},
   "outputs": [],
   "source": [
    "x = list(o[\"CITY\"].value_counts().keys())"
   ]
  },
  {
   "cell_type": "code",
   "execution_count": 42,
   "metadata": {},
   "outputs": [],
   "source": [
    "z = list(l[\"updated_CITY\"].value_counts().keys())"
   ]
  },
  {
   "cell_type": "code",
   "execution_count": 43,
   "metadata": {},
   "outputs": [],
   "source": [
    "def common_mem(a, b):\n",
    "    a_set = set(a)\n",
    "    b_set = set(b)\n",
    "  \n",
    "    if (a_set & b_set):\n",
    "        print(a_set & b_set)\n",
    "    else:\n",
    "        print(\"No common elements\") "
   ]
  },
  {
   "cell_type": "code",
   "execution_count": 44,
   "metadata": {
    "scrolled": true
   },
   "outputs": [
    {
     "name": "stdout",
     "output_type": "stream",
     "text": [
      "{'sikar', 'udaipur', 'bokaro', 'satara', 'hamirpur', 'erode', 'idukki', 'jhajjar', 'gondia', 'washim', 'mysuru', 'kanchipuram', 'surat', 'nellore', 'wayanad', 'cuddalore', 'sitamarhi', 'sonbhadra', 'vidisha', 'ramgarh', 'betul', 'jabalpur', 'kodagu', 'farrukhabad', 'thane', 'guntur', 'lucknow', 'kasargod', 'ambala', 'pali', 'dahod', 'koppal', 'rewari', 'gurdaspur', 'hathras', 'sidhi', 'ariyalur', 'firozpur', 'bareilly', 'nizamabad', 'bidar', 'tiruvarur', 'sundergarh', 'nandurbar', 'neemuch', 'thanjavur', 'korba', 'rampur', 'amritsar', 'kota', 'hingoli', 'medak', 'tuticorin', 'cuttack', 'sangrur', 'solan', 'firozabad', 'mainpuri', 'karnal', 'jind', 'adilabad', 'palakkad', 'mau', 'dholpur', 'ranchi', 'gwalior', 'bharuch', 'jalandhar', 'panchkula', 'ujjain', 'karur', 'dausa', 'mansa', 'prakasam', 'kapurthala', 'pune', 'yamuna nagar', 'sawai madhopur', 'meerut', 'karaikal', 'faridkot', 'theni', 'panna', 'rohtak', 'sangli', 'dehradun', 'barnala', 'ramanathapuram', 'kaithal', 'salem', 'pondicherry', 'lakhisarai', 'bhagalpur', 'bijnor', 'bhilwara', 'nashik', 'jalgaon', 'jamui', 'kamrup', 'jammu', 'krishnagiri', 'madurai', 'samastipur', 'muktsar', 'ratlam', 'kullu', 'jalaun', 'bagalkot', 'latur', 'vijayapura', 'kolkata', 'pudukkottai', 'dewas', 'bhadrak', 'chittorgarh', 'jalpaiguri', 'muzaffarpur', 'umaria', 'jaipur', 'solapur', 'patna', 'beed', 'dharwad', 'dhule', 'hyderabad', 'anand', 'hoshiarpur', 'bhopal', 'una', 'munger', 'gadchiroli', 'etah', 'purnia', 'chittoor', 'gaya', 'sonipat', 'mathura', 'mahesana', 'churu', 'osmanabad', 'allahabad', 'patan', 'faridabad', 'jaunpur', 'ahmedabad', 'jharsuguda', 'nalgonda', 'shimla', 'chitradurga', 'kanyakumari', 'nanded', 'ratnagiri', 'buldhana', 'chandrapur', 'hisar', 'fatehgarh sahib', 'navsari', 'akola', 'ludhiana', 'nagapattinam', 'puri', 'nagpur', 'warangal', 'khammam', 'davangere', 'kalaburagi', 'chikkamagaluru', 'pathanamthitta', 'kurukshetra', 'gurgaon', 'sirsa', 'begusarai', 'rajkot', 'kottayam', 'new delhi', 'mohali', 'krishna', 'dhenkanal', 'chennai', 'thrissur', 'perambalur', 'pauri garhwal', 'bhandara', 'kangra', 'raigarh', 'ghazipur', 'hassan', 'patiala', 'ajmer', 'kannur', 'villupuram', 'fatehabad', 'ropar', 'sheohar', 'jalna', 'tikamgarh', 'aligarh', 'bengaluru', 'indore', 'daman', 'kurnool', 'kolar', 'mandya', 'dharmapuri', 'bulandshahr', 'rajgarh', 'chandigarh', 'alappuzha', 'mandi', 'amravati', 'malappuram', 'dhanbad', 'chhindwara', 'mirzapur', 'namakkal', 'jhabua', 'gorakhpur', 'mumbai', 'agra', 'barmer', 'valsad', 'vellore', 'jodhpur', 'balaghat', 'rupnagar', 'moradabad', 'wardha', 'dindigul', 'haridwar', 'panipat', 'coimbatore', 'moga', 'virudhunagar', 'chandauli', 'jhansi', 'parbhani', 'seoni', 'raichur', 'nainital', 'karauli', 'ernakulam', 'mahendragarh', 'kollam', 'darbhanga', 'bathinda', 'kolhapur', 'vadodara', 'tirunelveli', 'kozhikode', 'raipur', 'aurangabad', 'ganganagar', 'ghaziabad', 'varanasi', 'bhiwani', 'udupi'}\n"
     ]
    }
   ],
   "source": [
    "common_mem(x,z )"
   ]
  },
  {
   "cell_type": "code",
   "execution_count": 45,
   "metadata": {},
   "outputs": [],
   "source": [
    "xz = ['jharsuguda', 'nalgonda', 'ujjain', 'hassan', 'bhilwara', 'rajgarh', 'amravati', 'madurai', 'karur', 'jaipur', 'chittoor', 'villupuram', 'thrissur', 'hingoli', 'hamirpur', 'ajmer', 'patiala', 'varanasi', 'kurnool', 'jhansi', 'vijayapura', 'rupnagar', 'hyderabad', 'jammu', 'ernakulam', 'sheohar', 'nainital', 'kamrup', 'purnia', 'haridwar', 'warangal', 'koppal', 'vellore', 'sangrur', 'umaria', 'jalna', 'sidhi', 'nizamabad', 'una', 'samastipur', 'dindigul', 'kurukshetra', 'sirsa', 'ariyalur', 'vadodara', 'kota', 'churu', 'mohali', 'sangli', 'pondicherry', 'ranchi', 'gaya', 'jalpaiguri', 'kanchipuram', 'perambalur', 'kaithal', 'hoshiarpur', 'udaipur', 'jhajjar', 'prakasam', 'jalaun', 'jamui', 'meerut', 'etah', 'panchkula', 'kullu', 'ahmedabad', 'solan', 'aligarh', 'idukki', 'darbhanga', 'jalgaon', 'kolkata', 'dausa', 'cuddalore', 'bagalkot', 'ambala', 'mathura', 'raigarh', 'dhule', 'jalandhar', 'gadchiroli', 'bhadrak', 'pauri garhwal', 'ghaziabad', 'bidar', 'mysuru', 'nashik', 'mirzapur', 'ghazipur', 'seoni', 'raichur', 'dehradun', 'nagpur', 'mau', 'mumbai', 'coimbatore', 'bhiwani', 'nagapattinam', 'dahod', 'chandrapur', 'dhenkanal', 'tikamgarh', 'hisar', 'gwalior', 'dharwad', 'bathinda', 'panipat', 'nandurbar', 'anand', 'gorakhpur', 'khammam', 'satara', 'valsad', 'muktsar', 'begusarai', 'kozhikode', 'alappuzha', 'new delhi', 'pali', 'dhanbad', 'gurgaon', 'bharuch', 'tuticorin', 'navsari', 'chhindwara', 'chikkamagaluru', 'kolar', 'daman', 'muzaffarpur', 'buldhana', 'fatehabad', 'yamuna nagar', 'bhagalpur', 'davangere', 'malappuram', 'mahendragarh', 'mandi', 'medak', 'kanyakumari', 'wayanad', 'kodagu', 'pathanamthitta', 'mahesana', 'sonipat', 'theni', 'namakkal', 'ludhiana', 'sawai madhopur', 'barnala', 'patna', 'bengaluru', 'jind', 'farrukhabad', 'chennai', 'surat', 'patan', 'amritsar', 'ropar', 'nanded', 'sonbhadra', 'krishna', 'jaunpur', 'thane', 'chandigarh', 'gurdaspur', 'thanjavur', 'moga', 'sikar', 'ratnagiri', 'akola', 'virudhunagar', 'chitradurga', 'hathras', 'vidisha', 'kalaburagi', 'kasargod', 'fatehgarh sahib', 'betul', 'firozabad', 'latur', 'erode', 'adilabad', 'salem', 'rohtak', 'neemuch', 'udupi', 'solapur', 'mandya', 'parbhani', 'bulandshahr', 'bareilly', 'tiruvarur', 'kangra', 'kapurthala', 'krishnagiri', 'jabalpur', 'indore', 'munger', 'balaghat', 'rampur', 'dharmapuri', 'mainpuri', 'pune', 'ramgarh', 'kottayam', 'dholpur', 'cuttack', 'shimla', 'puri', 'bijnor', 'barmer', 'jhabua', 'guntur', 'lucknow', 'karauli', 'faridkot', 'aurangabad', 'sundergarh', 'agra', 'chittorgarh', 'jodhpur', 'ganganagar', 'rewari', 'beed', 'sitamarhi', 'washim', 'tirunelveli', 'gondia', 'mansa', 'faridabad', 'allahabad', 'pudukkottai', 'palakkad', 'osmanabad', 'bokaro', 'chandauli', 'dewas', 'ratlam', 'lakhisarai', 'raipur', 'nellore', 'moradabad', 'kolhapur', 'firozpur', 'karaikal', 'kannur', 'rajkot', 'karnal', 'wardha', 'kollam', 'panna', 'bhandara', 'bhopal', 'ramanathapuram', 'korba']"
   ]
  },
  {
   "cell_type": "code",
   "execution_count": 46,
   "metadata": {},
   "outputs": [],
   "source": [
    "d = []\n",
    "for i in xz:\n",
    "    j = o[o[\"CITY\"] == i]\n",
    "    d.append(i)"
   ]
  },
  {
   "cell_type": "code",
   "execution_count": 47,
   "metadata": {},
   "outputs": [
    {
     "name": "stdout",
     "output_type": "stream",
     "text": [
      "jharsuguda\n",
      "nalgonda\n",
      "ujjain\n",
      "hassan\n",
      "bhilwara\n",
      "rajgarh\n",
      "amravati\n",
      "madurai\n",
      "karur\n",
      "jaipur\n",
      "chittoor\n",
      "villupuram\n",
      "thrissur\n",
      "hingoli\n",
      "hamirpur\n",
      "ajmer\n",
      "patiala\n",
      "varanasi\n",
      "kurnool\n",
      "jhansi\n",
      "vijayapura\n",
      "rupnagar\n",
      "hyderabad\n",
      "jammu\n",
      "ernakulam\n",
      "sheohar\n",
      "nainital\n",
      "kamrup\n",
      "purnia\n",
      "haridwar\n",
      "warangal\n",
      "koppal\n",
      "vellore\n",
      "sangrur\n",
      "umaria\n",
      "jalna\n",
      "sidhi\n",
      "nizamabad\n",
      "una\n",
      "samastipur\n",
      "dindigul\n",
      "kurukshetra\n",
      "sirsa\n",
      "ariyalur\n",
      "vadodara\n",
      "kota\n",
      "churu\n",
      "mohali\n",
      "sangli\n",
      "pondicherry\n",
      "ranchi\n",
      "gaya\n",
      "jalpaiguri\n",
      "kanchipuram\n",
      "perambalur\n",
      "kaithal\n",
      "hoshiarpur\n",
      "udaipur\n",
      "jhajjar\n",
      "prakasam\n",
      "jalaun\n",
      "jamui\n",
      "meerut\n",
      "etah\n",
      "panchkula\n",
      "kullu\n",
      "ahmedabad\n",
      "solan\n",
      "aligarh\n",
      "idukki\n",
      "darbhanga\n",
      "jalgaon\n",
      "kolkata\n",
      "dausa\n",
      "cuddalore\n",
      "bagalkot\n",
      "ambala\n",
      "mathura\n",
      "raigarh\n",
      "dhule\n",
      "jalandhar\n",
      "gadchiroli\n",
      "bhadrak\n",
      "pauri garhwal\n",
      "ghaziabad\n",
      "bidar\n",
      "mysuru\n",
      "nashik\n",
      "mirzapur\n",
      "ghazipur\n",
      "seoni\n",
      "raichur\n",
      "dehradun\n",
      "nagpur\n",
      "mau\n",
      "mumbai\n",
      "coimbatore\n",
      "bhiwani\n",
      "nagapattinam\n",
      "dahod\n",
      "chandrapur\n",
      "dhenkanal\n",
      "tikamgarh\n",
      "hisar\n",
      "gwalior\n",
      "dharwad\n",
      "bathinda\n",
      "panipat\n",
      "nandurbar\n",
      "anand\n",
      "gorakhpur\n",
      "khammam\n",
      "satara\n",
      "valsad\n",
      "muktsar\n",
      "begusarai\n",
      "kozhikode\n",
      "alappuzha\n",
      "new delhi\n",
      "pali\n",
      "dhanbad\n",
      "gurgaon\n",
      "bharuch\n",
      "tuticorin\n",
      "navsari\n",
      "chhindwara\n",
      "chikkamagaluru\n",
      "kolar\n",
      "daman\n",
      "muzaffarpur\n",
      "buldhana\n",
      "fatehabad\n",
      "yamuna nagar\n",
      "bhagalpur\n",
      "davangere\n",
      "malappuram\n",
      "mahendragarh\n",
      "mandi\n",
      "medak\n",
      "kanyakumari\n",
      "wayanad\n",
      "kodagu\n",
      "pathanamthitta\n",
      "mahesana\n",
      "sonipat\n",
      "theni\n",
      "namakkal\n",
      "ludhiana\n",
      "sawai madhopur\n",
      "barnala\n",
      "patna\n",
      "bengaluru\n",
      "jind\n",
      "farrukhabad\n",
      "chennai\n",
      "surat\n",
      "patan\n",
      "amritsar\n",
      "ropar\n",
      "nanded\n",
      "sonbhadra\n",
      "krishna\n",
      "jaunpur\n",
      "thane\n",
      "chandigarh\n",
      "gurdaspur\n",
      "thanjavur\n",
      "moga\n",
      "sikar\n",
      "ratnagiri\n",
      "akola\n",
      "virudhunagar\n",
      "chitradurga\n",
      "hathras\n",
      "vidisha\n",
      "kalaburagi\n",
      "kasargod\n",
      "fatehgarh sahib\n",
      "betul\n",
      "firozabad\n",
      "latur\n",
      "erode\n",
      "adilabad\n",
      "salem\n",
      "rohtak\n",
      "neemuch\n",
      "udupi\n",
      "solapur\n",
      "mandya\n",
      "parbhani\n",
      "bulandshahr\n",
      "bareilly\n",
      "tiruvarur\n",
      "kangra\n",
      "kapurthala\n",
      "krishnagiri\n",
      "jabalpur\n",
      "indore\n",
      "munger\n",
      "balaghat\n",
      "rampur\n",
      "dharmapuri\n",
      "mainpuri\n",
      "pune\n",
      "ramgarh\n",
      "kottayam\n",
      "dholpur\n",
      "cuttack\n",
      "shimla\n",
      "puri\n",
      "bijnor\n",
      "barmer\n",
      "jhabua\n",
      "guntur\n",
      "lucknow\n",
      "karauli\n",
      "faridkot\n",
      "aurangabad\n",
      "sundergarh\n",
      "agra\n",
      "chittorgarh\n",
      "jodhpur\n",
      "ganganagar\n",
      "rewari\n",
      "beed\n",
      "sitamarhi\n",
      "washim\n",
      "tirunelveli\n",
      "gondia\n",
      "mansa\n",
      "faridabad\n",
      "allahabad\n",
      "pudukkottai\n",
      "palakkad\n",
      "osmanabad\n",
      "bokaro\n",
      "chandauli\n",
      "dewas\n",
      "ratlam\n",
      "lakhisarai\n",
      "raipur\n",
      "nellore\n",
      "moradabad\n",
      "kolhapur\n",
      "firozpur\n",
      "karaikal\n",
      "kannur\n",
      "rajkot\n",
      "karnal\n",
      "wardha\n",
      "kollam\n",
      "panna\n",
      "bhandara\n",
      "bhopal\n",
      "ramanathapuram\n",
      "korba\n"
     ]
    }
   ],
   "source": [
    "for i in d:\n",
    "    a = o[o.CITY==i].index\n",
    "    print(i)\n",
    "    for j in a:\n",
    "        o.updated_CITY.loc[j] = i"
   ]
  },
  {
   "cell_type": "code",
   "execution_count": 48,
   "metadata": {},
   "outputs": [
    {
     "data": {
      "text/plain": [
       "Index(['Unnamed: 0', 'Amt Rcvd From Custom', 'Amt Rcvd From Ins Co',\n",
       "       'Area / Locality', 'CGST(14%)', 'CGST(2.5%)', 'CGST(6%)', 'CGST(9%)',\n",
       "       'CITY', 'Cash /Cashless Type', 'Claim No.', 'Cust Type', 'Customer No.',\n",
       "       'District', 'Expiry Date', 'Gate Pass Date', 'Gate Pass Time',\n",
       "       'IGST(12%)', 'IGST(18%)', 'IGST(28%)', 'IGST(5%)', 'Insurance Company',\n",
       "       'Invoice Date', 'Invoice No', 'Invoice Time', 'Job Card No',\n",
       "       'JobCard Date', 'JobCard Time', 'KMs Reading', 'Labour Total', 'Make',\n",
       "       'Misc Total', 'Model', 'ODN No.', 'OSL Total', 'Order Type',\n",
       "       'Outstanding Amt', 'Parts Total', 'Pin code', 'Plant', 'Plant Name1',\n",
       "       'Policy no.', 'Print Status', 'Recovrbl Exp', 'Regn No',\n",
       "       'SGST/UGST(14%)', 'SGST/UGST(2.5%)', 'SGST/UGST(6%)', 'SGST/UGST(9%)',\n",
       "       'Service Advisor Name', 'TDS amount', 'Technician Name',\n",
       "       'Total Amt Wtd Tax.', 'Total CGST', 'Total GST', 'Total IGST',\n",
       "       'Total SGST/UGST', 'Total Value', 'User ID', 'Invoice_DateTime',\n",
       "       'JobCard_DateTime', 'Service_Time', 'updated_CITY', 'updated_District',\n",
       "       'updated_Location_Area'],\n",
       "      dtype='object')"
      ]
     },
     "execution_count": 48,
     "metadata": {},
     "output_type": "execute_result"
    }
   ],
   "source": [
    "Data_Finalinvoice.columns"
   ]
  },
  {
   "cell_type": "markdown",
   "metadata": {},
   "source": [
    "### impute nan value for updated district"
   ]
  },
  {
   "cell_type": "code",
   "execution_count": 49,
   "metadata": {},
   "outputs": [],
   "source": [
    "g = list(o[\"District\"].value_counts().keys())"
   ]
  },
  {
   "cell_type": "code",
   "execution_count": 50,
   "metadata": {},
   "outputs": [],
   "source": [
    "h = list(l[\"updated_District\"].value_counts().keys())"
   ]
  },
  {
   "cell_type": "code",
   "execution_count": 51,
   "metadata": {},
   "outputs": [],
   "source": [
    "def common_mem(a, b):\n",
    "    a_set = set(a)\n",
    "    b_set = set(b)\n",
    "  \n",
    "    if (a_set & b_set):\n",
    "        print(a_set & b_set)\n",
    "    else:\n",
    "        print(\"No common elements\") "
   ]
  },
  {
   "cell_type": "code",
   "execution_count": 52,
   "metadata": {},
   "outputs": [
    {
     "name": "stdout",
     "output_type": "stream",
     "text": [
      "{'rajasthan', 'telangana', 'delhi', 'andhra pradesh', 'odisha', 'bihar', 'chandigarh', 'west bengal', 'gujarat', 'haryana', 'karnataka', 'arunachal pradesh', 'kerala', 'madhya pradesh', 'tamil nadu', 'goa', 'maharashtra', 'punjab', 'uttar pradesh', 'assam', 'jharkhand', 'uttarakhand', 'himachal pradesh', 'lakshadweep'}\n"
     ]
    }
   ],
   "source": [
    "common_mem(g,h)"
   ]
  },
  {
   "cell_type": "code",
   "execution_count": 53,
   "metadata": {},
   "outputs": [],
   "source": [
    "gh = ['rajasthan', 'maharashtra', 'tamil nadu', 'madhya pradesh', 'assam', 'kerala', 'west bengal', 'odisha', 'gujarat', 'arunachal pradesh', 'chandigarh', 'karnataka', 'jharkhand', 'bihar', 'uttarakhand', 'punjab', 'delhi', 'andhra pradesh', 'telangana', 'uttar pradesh', 'goa', 'himachal pradesh', 'haryana', 'lakshadweep']"
   ]
  },
  {
   "cell_type": "code",
   "execution_count": 54,
   "metadata": {},
   "outputs": [],
   "source": [
    "s = []\n",
    "for i in gh:\n",
    "    j = o[o[\"District\"] == i]\n",
    "    s.append(i)"
   ]
  },
  {
   "cell_type": "code",
   "execution_count": 55,
   "metadata": {},
   "outputs": [
    {
     "name": "stdout",
     "output_type": "stream",
     "text": [
      "rajasthan\n",
      "maharashtra\n",
      "tamil nadu\n",
      "madhya pradesh\n",
      "assam\n",
      "kerala\n",
      "west bengal\n",
      "odisha\n",
      "gujarat\n",
      "arunachal pradesh\n",
      "chandigarh\n",
      "karnataka\n",
      "jharkhand\n",
      "bihar\n",
      "uttarakhand\n",
      "punjab\n",
      "delhi\n",
      "andhra pradesh\n",
      "telangana\n",
      "uttar pradesh\n",
      "goa\n",
      "himachal pradesh\n",
      "haryana\n",
      "lakshadweep\n"
     ]
    }
   ],
   "source": [
    "for i in s:\n",
    "    a = o[o.District==i].index\n",
    "    print(i)\n",
    "    for j in a:\n",
    "        o.updated_District.loc[j] = i"
   ]
  },
  {
   "cell_type": "code",
   "execution_count": 56,
   "metadata": {},
   "outputs": [
    {
     "data": {
      "text/plain": [
       "(47246, 65)"
      ]
     },
     "execution_count": 56,
     "metadata": {},
     "output_type": "execute_result"
    }
   ],
   "source": [
    "o.shape"
   ]
  },
  {
   "cell_type": "code",
   "execution_count": 57,
   "metadata": {},
   "outputs": [
    {
     "data": {
      "text/plain": [
       "Unnamed: 0                   0\n",
       "Amt Rcvd From Custom     15610\n",
       "Amt Rcvd From Ins Co     15610\n",
       "Area / Locality           5941\n",
       "CGST(14%)                15610\n",
       "                         ...  \n",
       "JobCard_DateTime             0\n",
       "Service_Time                 0\n",
       "updated_CITY             20287\n",
       "updated_District           171\n",
       "updated_Location_Area    47246\n",
       "Length: 65, dtype: int64"
      ]
     },
     "execution_count": 57,
     "metadata": {},
     "output_type": "execute_result"
    }
   ],
   "source": [
    "o.isnull().sum()"
   ]
  },
  {
   "cell_type": "code",
   "execution_count": 58,
   "metadata": {},
   "outputs": [],
   "source": [
    "Data_Finalinvoice.drop(columns=[\"Unnamed: 0\",\"Amt Rcvd From Custom\",\"Amt Rcvd From Ins Co\",\"CGST(14%)\",\"CGST(2.5%)\",\"CGST(6%)\",\"CGST(9%)\",\"Cash /Cashless Type\",\"Claim No.\",\"IGST(12%)\",\"IGST(18%)\",\"IGST(28%)\",\"IGST(5%)\",\"Expiry Date\",\"Gate Pass Date\",\"Gate Pass Time\",\"SGST/UGST(14%)\",\"SGST/UGST(2.5%)\",\"SGST/UGST(6%)\",\"SGST/UGST(9%)\",\"Policy no.\",\"Invoice Time\",\"Invoice No\",\"ODN No.\",\"Outstanding Amt\",\"Regn No\",\"Service Advisor Name\",\"TDS amount\",\"Total IGST\",\"Total GST\",\"Total CGST\",\"Total SGST/UGST\",\"Area / Locality\",\"CITY\",\"District\",\"updated_Location_Area\"],inplace=True)"
   ]
  },
  {
   "cell_type": "code",
   "execution_count": 59,
   "metadata": {},
   "outputs": [],
   "source": [
    "o.drop(columns=[\"Unnamed: 0\",\"Amt Rcvd From Custom\",\"Amt Rcvd From Ins Co\",\"CGST(14%)\",\"CGST(2.5%)\",\"CGST(6%)\",\"CGST(9%)\",\"Cash /Cashless Type\",\"Claim No.\",\"IGST(12%)\",\"IGST(18%)\",\"IGST(28%)\",\"IGST(5%)\",\"Expiry Date\",\"Gate Pass Date\",\"Gate Pass Time\",\"SGST/UGST(14%)\",\"SGST/UGST(2.5%)\",\"SGST/UGST(6%)\",\"SGST/UGST(9%)\",\"Policy no.\",\"Invoice Time\",\"Invoice No\",\"ODN No.\",\"Outstanding Amt\",\"Regn No\",\"Service Advisor Name\",\"TDS amount\",\"Total IGST\",\"Total GST\",\"Total CGST\",\"Total SGST/UGST\",\"Area / Locality\",\"CITY\",\"District\",\"updated_Location_Area\"],inplace=True)"
   ]
  },
  {
   "cell_type": "code",
   "execution_count": 60,
   "metadata": {},
   "outputs": [],
   "source": [
    "o['Model'] = o['Model'].fillna(o['Model'].mode()[0])"
   ]
  },
  {
   "cell_type": "code",
   "execution_count": 61,
   "metadata": {},
   "outputs": [],
   "source": [
    "o[\"Total Value\"].fillna((o[\"Total Value\"].median()), inplace=True)"
   ]
  },
  {
   "cell_type": "code",
   "execution_count": 62,
   "metadata": {},
   "outputs": [],
   "source": [
    "o['Technician Name'] = o['Technician Name'].fillna(o['Technician Name'].mode()[0])"
   ]
  },
  {
   "cell_type": "code",
   "execution_count": 63,
   "metadata": {},
   "outputs": [
    {
     "data": {
      "text/plain": [
       "Cust Type             47246\n",
       "Customer No.          47246\n",
       "Insurance Company      2274\n",
       "Invoice Date          47246\n",
       "Job Card No           47246\n",
       "JobCard Date          47246\n",
       "JobCard Time          47246\n",
       "KMs Reading           47246\n",
       "Labour Total          47246\n",
       "Make                  47246\n",
       "Misc Total            47246\n",
       "Model                 47246\n",
       "OSL Total             47246\n",
       "Order Type            47246\n",
       "Parts Total           47246\n",
       "Pin code              47246\n",
       "Plant                 47246\n",
       "Plant Name1           47246\n",
       "Print Status          47246\n",
       "Recovrbl Exp          47246\n",
       "Technician Name       47246\n",
       "Total Amt Wtd Tax.    47246\n",
       "Total Value           47246\n",
       "User ID               47246\n",
       "Invoice_DateTime      47246\n",
       "JobCard_DateTime      47246\n",
       "Service_Time          47246\n",
       "updated_CITY          26959\n",
       "updated_District      47075\n",
       "dtype: int64"
      ]
     },
     "execution_count": 63,
     "metadata": {},
     "output_type": "execute_result"
    }
   ],
   "source": [
    "o.notnull().sum()"
   ]
  },
  {
   "cell_type": "code",
   "execution_count": 64,
   "metadata": {},
   "outputs": [
    {
     "data": {
      "text/plain": [
       "Cust Type                 0\n",
       "Customer No.              0\n",
       "Insurance Company     44972\n",
       "Invoice Date              0\n",
       "Job Card No               0\n",
       "JobCard Date              0\n",
       "JobCard Time              0\n",
       "KMs Reading               0\n",
       "Labour Total              0\n",
       "Make                      0\n",
       "Misc Total                0\n",
       "Model                     0\n",
       "OSL Total                 0\n",
       "Order Type                0\n",
       "Parts Total               0\n",
       "Pin code                  0\n",
       "Plant                     0\n",
       "Plant Name1               0\n",
       "Print Status              0\n",
       "Recovrbl Exp              0\n",
       "Technician Name           0\n",
       "Total Amt Wtd Tax.        0\n",
       "Total Value               0\n",
       "User ID                   0\n",
       "Invoice_DateTime          0\n",
       "JobCard_DateTime          0\n",
       "Service_Time              0\n",
       "updated_CITY          20287\n",
       "updated_District        171\n",
       "dtype: int64"
      ]
     },
     "execution_count": 64,
     "metadata": {},
     "output_type": "execute_result"
    }
   ],
   "source": [
    "o.isnull().sum()"
   ]
  },
  {
   "cell_type": "code",
   "execution_count": 65,
   "metadata": {},
   "outputs": [
    {
     "data": {
      "text/plain": [
       "Unnamed: 0               445068\n",
       "Amt Rcvd From Custom     263392\n",
       "Amt Rcvd From Ins Co     263392\n",
       "Area / Locality          427119\n",
       "CGST(14%)                263392\n",
       "                          ...  \n",
       "JobCard_DateTime         445068\n",
       "Service_Time             445068\n",
       "updated_CITY             445068\n",
       "updated_District         445068\n",
       "updated_Location_Area    445068\n",
       "Length: 65, dtype: int64"
      ]
     },
     "execution_count": 65,
     "metadata": {},
     "output_type": "execute_result"
    }
   ],
   "source": [
    "l.notnull().sum()"
   ]
  },
  {
   "cell_type": "code",
   "execution_count": 66,
   "metadata": {},
   "outputs": [],
   "source": [
    "l.drop(columns=[\"Unnamed: 0\",\"Amt Rcvd From Custom\",\"Amt Rcvd From Ins Co\",\"CGST(14%)\",\"CGST(2.5%)\",\"CGST(6%)\",\"CGST(9%)\",\"Cash /Cashless Type\",\"Claim No.\",\"IGST(12%)\",\"IGST(18%)\",\"IGST(28%)\",\"IGST(5%)\",\"Expiry Date\",\"Gate Pass Date\",\"Gate Pass Time\",\"SGST/UGST(14%)\",\"SGST/UGST(2.5%)\",\"SGST/UGST(6%)\",\"SGST/UGST(9%)\",\"Policy no.\",\"Invoice Time\",\"Invoice No\",\"ODN No.\",\"Outstanding Amt\",\"Regn No\",\"Service Advisor Name\",\"TDS amount\",\"Total IGST\",\"Total GST\",\"Total CGST\",\"Total SGST/UGST\",\"Area / Locality\",\"CITY\",\"District\",\"updated_Location_Area\"],inplace=True)"
   ]
  },
  {
   "cell_type": "code",
   "execution_count": 67,
   "metadata": {},
   "outputs": [],
   "source": [
    "l['Model'] = l['Model'].fillna(l['Model'].mode()[0])"
   ]
  },
  {
   "cell_type": "code",
   "execution_count": 68,
   "metadata": {},
   "outputs": [
    {
     "data": {
      "text/plain": [
       "Cust Type                  0\n",
       "Customer No.               0\n",
       "Insurance Company     423751\n",
       "Invoice Date               0\n",
       "Job Card No                0\n",
       "JobCard Date               0\n",
       "JobCard Time               0\n",
       "KMs Reading                0\n",
       "Labour Total               0\n",
       "Make                       0\n",
       "Misc Total                 0\n",
       "Model                      0\n",
       "OSL Total                  0\n",
       "Order Type                 0\n",
       "Parts Total                0\n",
       "Pin code                   0\n",
       "Plant                      0\n",
       "Plant Name1                0\n",
       "Print Status               0\n",
       "Recovrbl Exp               0\n",
       "Technician Name       216479\n",
       "Total Amt Wtd Tax.         0\n",
       "Total Value           181676\n",
       "User ID                    0\n",
       "Invoice_DateTime           0\n",
       "JobCard_DateTime           0\n",
       "Service_Time               0\n",
       "updated_CITY               0\n",
       "updated_District           0\n",
       "dtype: int64"
      ]
     },
     "execution_count": 68,
     "metadata": {},
     "output_type": "execute_result"
    }
   ],
   "source": [
    "l.isnull().sum()"
   ]
  },
  {
   "cell_type": "markdown",
   "metadata": {},
   "source": [
    "### Cleaned o dataframe"
   ]
  },
  {
   "cell_type": "code",
   "execution_count": 69,
   "metadata": {},
   "outputs": [
    {
     "data": {
      "text/plain": [
       "(47246, 29)"
      ]
     },
     "execution_count": 69,
     "metadata": {},
     "output_type": "execute_result"
    }
   ],
   "source": [
    "o.shape"
   ]
  },
  {
   "cell_type": "code",
   "execution_count": 70,
   "metadata": {},
   "outputs": [
    {
     "data": {
      "text/plain": [
       "(445068, 29)"
      ]
     },
     "execution_count": 70,
     "metadata": {},
     "output_type": "execute_result"
    }
   ],
   "source": [
    "l.shape"
   ]
  },
  {
   "cell_type": "code",
   "execution_count": 71,
   "metadata": {},
   "outputs": [],
   "source": [
    "frames = [l,o]"
   ]
  },
  {
   "cell_type": "code",
   "execution_count": 72,
   "metadata": {},
   "outputs": [],
   "source": [
    "semi_cleaned_data =  pd.concat(frames)"
   ]
  },
  {
   "cell_type": "code",
   "execution_count": 73,
   "metadata": {},
   "outputs": [],
   "source": [
    "semi_cleaned_data.to_csv('semi_cleaned_Finalinvoice.csv')"
   ]
  },
  {
   "cell_type": "code",
   "execution_count": 74,
   "metadata": {},
   "outputs": [
    {
     "data": {
      "text/plain": [
       "Cust Type                  0\n",
       "Customer No.               0\n",
       "Insurance Company     468723\n",
       "Invoice Date               0\n",
       "Job Card No                0\n",
       "JobCard Date               0\n",
       "JobCard Time               0\n",
       "KMs Reading                0\n",
       "Labour Total               0\n",
       "Make                       0\n",
       "Misc Total                 0\n",
       "Model                      0\n",
       "OSL Total                  0\n",
       "Order Type                 0\n",
       "Parts Total                0\n",
       "Pin code                   0\n",
       "Plant                      0\n",
       "Plant Name1                0\n",
       "Print Status               0\n",
       "Recovrbl Exp               0\n",
       "Technician Name       216479\n",
       "Total Amt Wtd Tax.         0\n",
       "Total Value           181676\n",
       "User ID                    0\n",
       "Invoice_DateTime           0\n",
       "JobCard_DateTime           0\n",
       "Service_Time               0\n",
       "updated_CITY           20287\n",
       "updated_District         171\n",
       "dtype: int64"
      ]
     },
     "execution_count": 74,
     "metadata": {},
     "output_type": "execute_result"
    }
   ],
   "source": [
    "semi_cleaned_data.isnull().sum()"
   ]
  },
  {
   "cell_type": "code",
   "execution_count": 75,
   "metadata": {},
   "outputs": [],
   "source": [
    "Semi_cleaned_data = pd.read_csv(\"semi_cleaned_Finalinvoice.csv\")"
   ]
  },
  {
   "cell_type": "code",
   "execution_count": 76,
   "metadata": {},
   "outputs": [],
   "source": [
    "copy_fi = Semi_cleaned_data.copy()"
   ]
  },
  {
   "cell_type": "code",
   "execution_count": 77,
   "metadata": {},
   "outputs": [
    {
     "data": {
      "text/html": [
       "<div>\n",
       "<style scoped>\n",
       "    .dataframe tbody tr th:only-of-type {\n",
       "        vertical-align: middle;\n",
       "    }\n",
       "\n",
       "    .dataframe tbody tr th {\n",
       "        vertical-align: top;\n",
       "    }\n",
       "\n",
       "    .dataframe thead th {\n",
       "        text-align: right;\n",
       "    }\n",
       "</style>\n",
       "<table border=\"1\" class=\"dataframe\">\n",
       "  <thead>\n",
       "    <tr style=\"text-align: right;\">\n",
       "      <th></th>\n",
       "      <th>Unnamed: 0</th>\n",
       "      <th>Cust Type</th>\n",
       "      <th>Customer No.</th>\n",
       "      <th>Insurance Company</th>\n",
       "      <th>Invoice Date</th>\n",
       "      <th>Job Card No</th>\n",
       "      <th>JobCard Date</th>\n",
       "      <th>JobCard Time</th>\n",
       "      <th>KMs Reading</th>\n",
       "      <th>Labour Total</th>\n",
       "      <th>Make</th>\n",
       "      <th>Misc Total</th>\n",
       "      <th>Model</th>\n",
       "      <th>OSL Total</th>\n",
       "      <th>Order Type</th>\n",
       "      <th>Parts Total</th>\n",
       "      <th>Pin code</th>\n",
       "      <th>Plant</th>\n",
       "      <th>Plant Name1</th>\n",
       "      <th>Print Status</th>\n",
       "      <th>Recovrbl Exp</th>\n",
       "      <th>Technician Name</th>\n",
       "      <th>Total Amt Wtd Tax.</th>\n",
       "      <th>Total Value</th>\n",
       "      <th>User ID</th>\n",
       "      <th>Invoice_DateTime</th>\n",
       "      <th>JobCard_DateTime</th>\n",
       "      <th>Service_Time</th>\n",
       "      <th>updated_CITY</th>\n",
       "      <th>updated_District</th>\n",
       "    </tr>\n",
       "  </thead>\n",
       "  <tbody>\n",
       "    <tr>\n",
       "      <th>0</th>\n",
       "      <td>0</td>\n",
       "      <td>Retail</td>\n",
       "      <td>67849</td>\n",
       "      <td>NaN</td>\n",
       "      <td>2015-01-02</td>\n",
       "      <td>168303</td>\n",
       "      <td>2014-12-13</td>\n",
       "      <td>14:29:43</td>\n",
       "      <td>49317</td>\n",
       "      <td>1203.14</td>\n",
       "      <td>GENERAL MOTORS</td>\n",
       "      <td>0.00</td>\n",
       "      <td>SPARK</td>\n",
       "      <td>500.06</td>\n",
       "      <td>Paid Service</td>\n",
       "      <td>2348.75</td>\n",
       "      <td>400601</td>\n",
       "      <td>BC01</td>\n",
       "      <td>THANE</td>\n",
       "      <td>NO</td>\n",
       "      <td>0.0</td>\n",
       "      <td>RUPESH</td>\n",
       "      <td>4051.95</td>\n",
       "      <td>4051.95</td>\n",
       "      <td>BC01FS1</td>\n",
       "      <td>2015-01-02 11:30:36</td>\n",
       "      <td>2014-12-13 14:29:43</td>\n",
       "      <td>19 days 21:00:53</td>\n",
       "      <td>thane</td>\n",
       "      <td>maharashtra</td>\n",
       "    </tr>\n",
       "    <tr>\n",
       "      <th>1</th>\n",
       "      <td>1</td>\n",
       "      <td>Retail</td>\n",
       "      <td>84419</td>\n",
       "      <td>NaN</td>\n",
       "      <td>2015-01-03</td>\n",
       "      <td>173997</td>\n",
       "      <td>2015-01-02</td>\n",
       "      <td>14:12:18</td>\n",
       "      <td>78584</td>\n",
       "      <td>804.26</td>\n",
       "      <td>TATA MOTORS</td>\n",
       "      <td>197.03</td>\n",
       "      <td>INDICA</td>\n",
       "      <td>0.00</td>\n",
       "      <td>SMC Value Package</td>\n",
       "      <td>0.00</td>\n",
       "      <td>400603</td>\n",
       "      <td>BC01</td>\n",
       "      <td>THANE</td>\n",
       "      <td>NO</td>\n",
       "      <td>0.0</td>\n",
       "      <td>PRASHANT</td>\n",
       "      <td>1001.29</td>\n",
       "      <td>1001.29</td>\n",
       "      <td>BC01SA2</td>\n",
       "      <td>2015-01-03 10:07:32</td>\n",
       "      <td>2015-01-02 14:12:18</td>\n",
       "      <td>0 days 19:55:14</td>\n",
       "      <td>thane</td>\n",
       "      <td>maharashtra</td>\n",
       "    </tr>\n",
       "    <tr>\n",
       "      <th>2</th>\n",
       "      <td>2</td>\n",
       "      <td>Retail</td>\n",
       "      <td>81055</td>\n",
       "      <td>NaN</td>\n",
       "      <td>2015-01-03</td>\n",
       "      <td>173889</td>\n",
       "      <td>2015-01-02</td>\n",
       "      <td>11:40:44</td>\n",
       "      <td>33985</td>\n",
       "      <td>180.19</td>\n",
       "      <td>MARUTI SUZUKI</td>\n",
       "      <td>0.00</td>\n",
       "      <td>ZEN</td>\n",
       "      <td>0.00</td>\n",
       "      <td>Running Repairs</td>\n",
       "      <td>52.95</td>\n",
       "      <td>400607</td>\n",
       "      <td>BC01</td>\n",
       "      <td>THANE</td>\n",
       "      <td>NO</td>\n",
       "      <td>0.0</td>\n",
       "      <td>IMRAN</td>\n",
       "      <td>233.14</td>\n",
       "      <td>233.14</td>\n",
       "      <td>BC01SA2</td>\n",
       "      <td>2015-01-03 11:12:57</td>\n",
       "      <td>2015-01-02 11:40:44</td>\n",
       "      <td>0 days 23:32:13</td>\n",
       "      <td>thane</td>\n",
       "      <td>maharashtra</td>\n",
       "    </tr>\n",
       "    <tr>\n",
       "      <th>3</th>\n",
       "      <td>3</td>\n",
       "      <td>Retail</td>\n",
       "      <td>84419</td>\n",
       "      <td>NaN</td>\n",
       "      <td>2015-01-03</td>\n",
       "      <td>174158</td>\n",
       "      <td>2015-01-03</td>\n",
       "      <td>10:12:32</td>\n",
       "      <td>78584</td>\n",
       "      <td>0.00</td>\n",
       "      <td>TATA MOTORS</td>\n",
       "      <td>0.00</td>\n",
       "      <td>INDICA</td>\n",
       "      <td>0.00</td>\n",
       "      <td>SMC Redemption</td>\n",
       "      <td>0.00</td>\n",
       "      <td>400603</td>\n",
       "      <td>BC01</td>\n",
       "      <td>THANE</td>\n",
       "      <td>NO</td>\n",
       "      <td>0.0</td>\n",
       "      <td>PRASHANT</td>\n",
       "      <td>0.00</td>\n",
       "      <td>0.00</td>\n",
       "      <td>BC01SA2</td>\n",
       "      <td>2015-01-03 11:40:44</td>\n",
       "      <td>2015-01-03 10:12:32</td>\n",
       "      <td>0 days 01:28:12</td>\n",
       "      <td>thane</td>\n",
       "      <td>maharashtra</td>\n",
       "    </tr>\n",
       "    <tr>\n",
       "      <th>4</th>\n",
       "      <td>4</td>\n",
       "      <td>Retail</td>\n",
       "      <td>18980</td>\n",
       "      <td>NaN</td>\n",
       "      <td>2015-01-03</td>\n",
       "      <td>173860</td>\n",
       "      <td>2015-01-02</td>\n",
       "      <td>10:45:42</td>\n",
       "      <td>50057</td>\n",
       "      <td>1202.97</td>\n",
       "      <td>HYUNDAI</td>\n",
       "      <td>100.00</td>\n",
       "      <td>SANTRO XING</td>\n",
       "      <td>499.99</td>\n",
       "      <td>Paid Service</td>\n",
       "      <td>944.16</td>\n",
       "      <td>400603</td>\n",
       "      <td>BC01</td>\n",
       "      <td>THANE</td>\n",
       "      <td>NO</td>\n",
       "      <td>0.0</td>\n",
       "      <td>DAYANAND</td>\n",
       "      <td>2747.12</td>\n",
       "      <td>2747.12</td>\n",
       "      <td>BC01SA2</td>\n",
       "      <td>2015-01-03 12:07:17</td>\n",
       "      <td>2015-01-02 10:45:42</td>\n",
       "      <td>1 days 01:21:35</td>\n",
       "      <td>thane</td>\n",
       "      <td>maharashtra</td>\n",
       "    </tr>\n",
       "  </tbody>\n",
       "</table>\n",
       "</div>"
      ],
      "text/plain": [
       "   Unnamed: 0 Cust Type Customer No. Insurance Company Invoice Date  \\\n",
       "0           0    Retail        67849               NaN   2015-01-02   \n",
       "1           1    Retail        84419               NaN   2015-01-03   \n",
       "2           2    Retail        81055               NaN   2015-01-03   \n",
       "3           3    Retail        84419               NaN   2015-01-03   \n",
       "4           4    Retail        18980               NaN   2015-01-03   \n",
       "\n",
       "   Job Card No JobCard Date JobCard Time  KMs Reading  Labour Total  \\\n",
       "0       168303   2014-12-13     14:29:43        49317       1203.14   \n",
       "1       173997   2015-01-02     14:12:18        78584        804.26   \n",
       "2       173889   2015-01-02     11:40:44        33985        180.19   \n",
       "3       174158   2015-01-03     10:12:32        78584          0.00   \n",
       "4       173860   2015-01-02     10:45:42        50057       1202.97   \n",
       "\n",
       "             Make  Misc Total        Model  OSL Total         Order Type  \\\n",
       "0  GENERAL MOTORS        0.00        SPARK     500.06       Paid Service   \n",
       "1     TATA MOTORS      197.03       INDICA       0.00  SMC Value Package   \n",
       "2   MARUTI SUZUKI        0.00          ZEN       0.00    Running Repairs   \n",
       "3     TATA MOTORS        0.00       INDICA       0.00     SMC Redemption   \n",
       "4         HYUNDAI      100.00  SANTRO XING     499.99       Paid Service   \n",
       "\n",
       "   Parts Total  Pin code Plant Plant Name1 Print Status  Recovrbl Exp  \\\n",
       "0      2348.75    400601  BC01       THANE           NO           0.0   \n",
       "1         0.00    400603  BC01       THANE           NO           0.0   \n",
       "2        52.95    400607  BC01       THANE           NO           0.0   \n",
       "3         0.00    400603  BC01       THANE           NO           0.0   \n",
       "4       944.16    400603  BC01       THANE           NO           0.0   \n",
       "\n",
       "  Technician Name  Total Amt Wtd Tax.  Total Value  User ID  \\\n",
       "0          RUPESH             4051.95      4051.95  BC01FS1   \n",
       "1        PRASHANT             1001.29      1001.29  BC01SA2   \n",
       "2           IMRAN              233.14       233.14  BC01SA2   \n",
       "3        PRASHANT                0.00         0.00  BC01SA2   \n",
       "4        DAYANAND             2747.12      2747.12  BC01SA2   \n",
       "\n",
       "      Invoice_DateTime     JobCard_DateTime      Service_Time updated_CITY  \\\n",
       "0  2015-01-02 11:30:36  2014-12-13 14:29:43  19 days 21:00:53        thane   \n",
       "1  2015-01-03 10:07:32  2015-01-02 14:12:18   0 days 19:55:14        thane   \n",
       "2  2015-01-03 11:12:57  2015-01-02 11:40:44   0 days 23:32:13        thane   \n",
       "3  2015-01-03 11:40:44  2015-01-03 10:12:32   0 days 01:28:12        thane   \n",
       "4  2015-01-03 12:07:17  2015-01-02 10:45:42   1 days 01:21:35        thane   \n",
       "\n",
       "  updated_District  \n",
       "0      maharashtra  \n",
       "1      maharashtra  \n",
       "2      maharashtra  \n",
       "3      maharashtra  \n",
       "4      maharashtra  "
      ]
     },
     "execution_count": 77,
     "metadata": {},
     "output_type": "execute_result"
    }
   ],
   "source": [
    "copy_fi.head(5)"
   ]
  },
  {
   "cell_type": "code",
   "execution_count": 78,
   "metadata": {},
   "outputs": [
    {
     "data": {
      "text/plain": [
       "Index(['Unnamed: 0', 'Cust Type', 'Customer No.', 'Insurance Company',\n",
       "       'Invoice Date', 'Job Card No', 'JobCard Date', 'JobCard Time',\n",
       "       'KMs Reading', 'Labour Total', 'Make', 'Misc Total', 'Model',\n",
       "       'OSL Total', 'Order Type', 'Parts Total', 'Pin code', 'Plant',\n",
       "       'Plant Name1', 'Print Status', 'Recovrbl Exp', 'Technician Name',\n",
       "       'Total Amt Wtd Tax.', 'Total Value', 'User ID', 'Invoice_DateTime',\n",
       "       'JobCard_DateTime', 'Service_Time', 'updated_CITY', 'updated_District'],\n",
       "      dtype='object')"
      ]
     },
     "execution_count": 78,
     "metadata": {},
     "output_type": "execute_result"
    }
   ],
   "source": [
    "copy_fi.columns"
   ]
  },
  {
   "cell_type": "code",
   "execution_count": 79,
   "metadata": {},
   "outputs": [
    {
     "data": {
      "text/plain": [
       "Running Repairs      269455\n",
       "Paid Service         135004\n",
       "Accidental            44159\n",
       "SMC Redemption        15738\n",
       "Mechanical            15100\n",
       "SMC Value Package      9781\n",
       "Repeat Order           3043\n",
       "Workshop Damage          17\n",
       "WBW Order                17\n",
       "Name: Order Type, dtype: int64"
      ]
     },
     "execution_count": 79,
     "metadata": {},
     "output_type": "execute_result"
    }
   ],
   "source": [
    "copy_fi[\"Order Type\"].value_counts()"
   ]
  },
  {
   "cell_type": "code",
   "execution_count": 80,
   "metadata": {},
   "outputs": [
    {
     "data": {
      "text/plain": [
       "(492314, 30)"
      ]
     },
     "execution_count": 80,
     "metadata": {},
     "output_type": "execute_result"
    }
   ],
   "source": [
    "copy_fi.shape"
   ]
  },
  {
   "cell_type": "markdown",
   "metadata": {},
   "source": [
    "### Dropping rows where order type is the paid service and total value is still 0."
   ]
  },
  {
   "cell_type": "code",
   "execution_count": 81,
   "metadata": {},
   "outputs": [],
   "source": [
    "temp1 = copy_fi[(copy_fi[\"Order Type\"] == \"Paid Service\") & (copy_fi[\"Total Value\"] == 0) & (copy_fi[\"Insurance Company\"].isnull())].index"
   ]
  },
  {
   "cell_type": "code",
   "execution_count": 82,
   "metadata": {},
   "outputs": [
    {
     "data": {
      "text/plain": [
       "Int64Index([    25,    550,    635,    684,    725,    758,    814,    913,\n",
       "              1040,   1119,\n",
       "            ...\n",
       "            474294, 474304, 474313, 474329, 474337, 474367, 474398, 474414,\n",
       "            475937, 476467],\n",
       "           dtype='int64', length=1938)"
      ]
     },
     "execution_count": 82,
     "metadata": {},
     "output_type": "execute_result"
    }
   ],
   "source": [
    "temp1"
   ]
  },
  {
   "cell_type": "code",
   "execution_count": 83,
   "metadata": {},
   "outputs": [],
   "source": [
    "copy_fi.drop(temp1 , inplace=True)"
   ]
  },
  {
   "cell_type": "code",
   "execution_count": 84,
   "metadata": {},
   "outputs": [
    {
     "data": {
      "text/plain": [
       "(490376, 30)"
      ]
     },
     "execution_count": 84,
     "metadata": {},
     "output_type": "execute_result"
    }
   ],
   "source": [
    "copy_fi.shape"
   ]
  },
  {
   "cell_type": "markdown",
   "metadata": {},
   "source": [
    "### Dropping rows where order type is Accidental , also where insurance is not been taken also total value is 0"
   ]
  },
  {
   "cell_type": "code",
   "execution_count": 85,
   "metadata": {},
   "outputs": [],
   "source": [
    "temp2 = copy_fi[(copy_fi[\"Order Type\"] == \"Accidental\") & (copy_fi[\"Total Value\"] == 0) & (copy_fi[\"Insurance Company\"].isnull())].index"
   ]
  },
  {
   "cell_type": "code",
   "execution_count": 86,
   "metadata": {},
   "outputs": [],
   "source": [
    "copy_fi.drop(temp2 , inplace=True)"
   ]
  },
  {
   "cell_type": "code",
   "execution_count": 87,
   "metadata": {},
   "outputs": [
    {
     "data": {
      "text/plain": [
       "(490123, 30)"
      ]
     },
     "execution_count": 87,
     "metadata": {},
     "output_type": "execute_result"
    }
   ],
   "source": [
    "copy_fi.shape"
   ]
  },
  {
   "cell_type": "code",
   "execution_count": 88,
   "metadata": {},
   "outputs": [
    {
     "data": {
      "text/plain": [
       "Order Type\n",
       "Accidental            29017\n",
       "Mechanical             1266\n",
       "Paid Service          83098\n",
       "Repeat Order           2819\n",
       "Running Repairs      169436\n",
       "SMC Redemption        13847\n",
       "SMC Value Package      8943\n",
       "WBW Order                 4\n",
       "Workshop Damage          17\n",
       "Name: Total Value, dtype: int64"
      ]
     },
     "execution_count": 88,
     "metadata": {},
     "output_type": "execute_result"
    }
   ],
   "source": [
    "copy_fi.groupby([\"Order Type\"])[\"Total Value\"].count()"
   ]
  },
  {
   "cell_type": "markdown",
   "metadata": {},
   "source": [
    "### Dropping rows where order type is Repeat Order , also where insurance is not been taken and where total value is still 0"
   ]
  },
  {
   "cell_type": "code",
   "execution_count": 89,
   "metadata": {},
   "outputs": [],
   "source": [
    "temp3 = copy_fi[(copy_fi[\"Order Type\"] == \"Repeat Order\") & (copy_fi[\"Total Value\"] == 0) & (copy_fi[\"Insurance Company\"].isnull())].index"
   ]
  },
  {
   "cell_type": "code",
   "execution_count": 90,
   "metadata": {},
   "outputs": [],
   "source": [
    "copy_fi.drop(temp3,inplace=True)"
   ]
  },
  {
   "cell_type": "markdown",
   "metadata": {},
   "source": [
    "### Replacing 0 from total value where order type is SMC Redemption with the median where total value is non zero"
   ]
  },
  {
   "cell_type": "code",
   "execution_count": 91,
   "metadata": {},
   "outputs": [],
   "source": [
    "copy_fi.loc[(copy_fi[\"Order Type\"] == \"SMC Redemption\") & (copy_fi[\"Total Value\"] == 0) & (copy_fi[\"Insurance Company\"].isnull()),\"Total Value\"]= 1644.7"
   ]
  },
  {
   "cell_type": "markdown",
   "metadata": {},
   "source": [
    "### Replacing 0 from total value where order type is Running Repairs with the median where total value is non zero"
   ]
  },
  {
   "cell_type": "code",
   "execution_count": 92,
   "metadata": {},
   "outputs": [],
   "source": [
    "copy_fi.loc[(copy_fi[\"Order Type\"] == \"Running Repairs\") & (copy_fi[\"Total Value\"] == 0) & (copy_fi[\"Insurance Company\"].isnull()),\"Total Value\"]= 1644.7"
   ]
  },
  {
   "cell_type": "code",
   "execution_count": 93,
   "metadata": {},
   "outputs": [
    {
     "data": {
      "text/plain": [
       "Running Repairs      269455\n",
       "Paid Service         133066\n",
       "Accidental            43906\n",
       "SMC Redemption        15738\n",
       "Mechanical            15100\n",
       "SMC Value Package      9781\n",
       "Repeat Order            247\n",
       "Workshop Damage          17\n",
       "WBW Order                17\n",
       "Name: Order Type, dtype: int64"
      ]
     },
     "execution_count": 93,
     "metadata": {},
     "output_type": "execute_result"
    }
   ],
   "source": [
    "copy_fi[\"Order Type\"].value_counts()"
   ]
  },
  {
   "cell_type": "code",
   "execution_count": 94,
   "metadata": {},
   "outputs": [
    {
     "data": {
      "text/html": [
       "<div>\n",
       "<style scoped>\n",
       "    .dataframe tbody tr th:only-of-type {\n",
       "        vertical-align: middle;\n",
       "    }\n",
       "\n",
       "    .dataframe tbody tr th {\n",
       "        vertical-align: top;\n",
       "    }\n",
       "\n",
       "    .dataframe thead th {\n",
       "        text-align: right;\n",
       "    }\n",
       "</style>\n",
       "<table border=\"1\" class=\"dataframe\">\n",
       "  <thead>\n",
       "    <tr style=\"text-align: right;\">\n",
       "      <th></th>\n",
       "      <th>Unnamed: 0</th>\n",
       "      <th>Cust Type</th>\n",
       "      <th>Customer No.</th>\n",
       "      <th>Insurance Company</th>\n",
       "      <th>Invoice Date</th>\n",
       "      <th>Job Card No</th>\n",
       "      <th>JobCard Date</th>\n",
       "      <th>JobCard Time</th>\n",
       "      <th>KMs Reading</th>\n",
       "      <th>Labour Total</th>\n",
       "      <th>Make</th>\n",
       "      <th>Misc Total</th>\n",
       "      <th>Model</th>\n",
       "      <th>OSL Total</th>\n",
       "      <th>Order Type</th>\n",
       "      <th>Parts Total</th>\n",
       "      <th>Pin code</th>\n",
       "      <th>Plant</th>\n",
       "      <th>Plant Name1</th>\n",
       "      <th>Print Status</th>\n",
       "      <th>Recovrbl Exp</th>\n",
       "      <th>Technician Name</th>\n",
       "      <th>Total Amt Wtd Tax.</th>\n",
       "      <th>Total Value</th>\n",
       "      <th>User ID</th>\n",
       "      <th>Invoice_DateTime</th>\n",
       "      <th>JobCard_DateTime</th>\n",
       "      <th>Service_Time</th>\n",
       "      <th>updated_CITY</th>\n",
       "      <th>updated_District</th>\n",
       "    </tr>\n",
       "  </thead>\n",
       "  <tbody>\n",
       "    <tr>\n",
       "      <th>0</th>\n",
       "      <td>0</td>\n",
       "      <td>Retail</td>\n",
       "      <td>67849</td>\n",
       "      <td>NaN</td>\n",
       "      <td>2015-01-02</td>\n",
       "      <td>168303</td>\n",
       "      <td>2014-12-13</td>\n",
       "      <td>14:29:43</td>\n",
       "      <td>49317</td>\n",
       "      <td>1203.14</td>\n",
       "      <td>GENERAL MOTORS</td>\n",
       "      <td>0.00</td>\n",
       "      <td>SPARK</td>\n",
       "      <td>500.06</td>\n",
       "      <td>Paid Service</td>\n",
       "      <td>2348.75</td>\n",
       "      <td>400601</td>\n",
       "      <td>BC01</td>\n",
       "      <td>THANE</td>\n",
       "      <td>NO</td>\n",
       "      <td>0.0</td>\n",
       "      <td>RUPESH</td>\n",
       "      <td>4051.95</td>\n",
       "      <td>4051.95</td>\n",
       "      <td>BC01FS1</td>\n",
       "      <td>2015-01-02 11:30:36</td>\n",
       "      <td>2014-12-13 14:29:43</td>\n",
       "      <td>19 days 21:00:53</td>\n",
       "      <td>thane</td>\n",
       "      <td>maharashtra</td>\n",
       "    </tr>\n",
       "    <tr>\n",
       "      <th>1</th>\n",
       "      <td>1</td>\n",
       "      <td>Retail</td>\n",
       "      <td>84419</td>\n",
       "      <td>NaN</td>\n",
       "      <td>2015-01-03</td>\n",
       "      <td>173997</td>\n",
       "      <td>2015-01-02</td>\n",
       "      <td>14:12:18</td>\n",
       "      <td>78584</td>\n",
       "      <td>804.26</td>\n",
       "      <td>TATA MOTORS</td>\n",
       "      <td>197.03</td>\n",
       "      <td>INDICA</td>\n",
       "      <td>0.00</td>\n",
       "      <td>SMC Value Package</td>\n",
       "      <td>0.00</td>\n",
       "      <td>400603</td>\n",
       "      <td>BC01</td>\n",
       "      <td>THANE</td>\n",
       "      <td>NO</td>\n",
       "      <td>0.0</td>\n",
       "      <td>PRASHANT</td>\n",
       "      <td>1001.29</td>\n",
       "      <td>1001.29</td>\n",
       "      <td>BC01SA2</td>\n",
       "      <td>2015-01-03 10:07:32</td>\n",
       "      <td>2015-01-02 14:12:18</td>\n",
       "      <td>0 days 19:55:14</td>\n",
       "      <td>thane</td>\n",
       "      <td>maharashtra</td>\n",
       "    </tr>\n",
       "  </tbody>\n",
       "</table>\n",
       "</div>"
      ],
      "text/plain": [
       "   Unnamed: 0 Cust Type Customer No. Insurance Company Invoice Date  \\\n",
       "0           0    Retail        67849               NaN   2015-01-02   \n",
       "1           1    Retail        84419               NaN   2015-01-03   \n",
       "\n",
       "   Job Card No JobCard Date JobCard Time  KMs Reading  Labour Total  \\\n",
       "0       168303   2014-12-13     14:29:43        49317       1203.14   \n",
       "1       173997   2015-01-02     14:12:18        78584        804.26   \n",
       "\n",
       "             Make  Misc Total   Model  OSL Total         Order Type  \\\n",
       "0  GENERAL MOTORS        0.00   SPARK     500.06       Paid Service   \n",
       "1     TATA MOTORS      197.03  INDICA       0.00  SMC Value Package   \n",
       "\n",
       "   Parts Total  Pin code Plant Plant Name1 Print Status  Recovrbl Exp  \\\n",
       "0      2348.75    400601  BC01       THANE           NO           0.0   \n",
       "1         0.00    400603  BC01       THANE           NO           0.0   \n",
       "\n",
       "  Technician Name  Total Amt Wtd Tax.  Total Value  User ID  \\\n",
       "0          RUPESH             4051.95      4051.95  BC01FS1   \n",
       "1        PRASHANT             1001.29      1001.29  BC01SA2   \n",
       "\n",
       "      Invoice_DateTime     JobCard_DateTime      Service_Time updated_CITY  \\\n",
       "0  2015-01-02 11:30:36  2014-12-13 14:29:43  19 days 21:00:53        thane   \n",
       "1  2015-01-03 10:07:32  2015-01-02 14:12:18   0 days 19:55:14        thane   \n",
       "\n",
       "  updated_District  \n",
       "0      maharashtra  \n",
       "1      maharashtra  "
      ]
     },
     "execution_count": 94,
     "metadata": {},
     "output_type": "execute_result"
    }
   ],
   "source": [
    "copy_fi.head(2)"
   ]
  },
  {
   "cell_type": "code",
   "execution_count": 95,
   "metadata": {},
   "outputs": [
    {
     "data": {
      "text/plain": [
       "Unnamed: 0                 0\n",
       "Cust Type                  0\n",
       "Customer No.               0\n",
       "Insurance Company     463736\n",
       "Invoice Date               0\n",
       "Job Card No                0\n",
       "JobCard Date               0\n",
       "JobCard Time               0\n",
       "KMs Reading                0\n",
       "Labour Total               0\n",
       "Make                       0\n",
       "Misc Total                 0\n",
       "Model                      0\n",
       "OSL Total                  0\n",
       "Order Type                 0\n",
       "Parts Total                0\n",
       "Pin code                   0\n",
       "Plant                      0\n",
       "Plant Name1                0\n",
       "Print Status               0\n",
       "Recovrbl Exp               0\n",
       "Technician Name       215802\n",
       "Total Amt Wtd Tax.         0\n",
       "Total Value           181676\n",
       "User ID                    0\n",
       "Invoice_DateTime           0\n",
       "JobCard_DateTime           0\n",
       "Service_Time               0\n",
       "updated_CITY           20071\n",
       "updated_District         170\n",
       "dtype: int64"
      ]
     },
     "execution_count": 95,
     "metadata": {},
     "output_type": "execute_result"
    }
   ],
   "source": [
    "copy_fi.isnull().sum()"
   ]
  },
  {
   "cell_type": "markdown",
   "metadata": {},
   "source": [
    "### Dropping rows where Total Amt Wtd Tax is negative"
   ]
  },
  {
   "cell_type": "code",
   "execution_count": 96,
   "metadata": {},
   "outputs": [],
   "source": [
    "negative_values = copy_fi[(copy_fi[\"Total Amt Wtd Tax.\"] < 0)].index"
   ]
  },
  {
   "cell_type": "code",
   "execution_count": 97,
   "metadata": {},
   "outputs": [],
   "source": [
    "copy_fi.drop(negative_values , inplace=True)"
   ]
  },
  {
   "cell_type": "code",
   "execution_count": 98,
   "metadata": {},
   "outputs": [
    {
     "data": {
      "text/plain": [
       "(487319, 30)"
      ]
     },
     "execution_count": 98,
     "metadata": {},
     "output_type": "execute_result"
    }
   ],
   "source": [
    "copy_fi.shape"
   ]
  },
  {
   "cell_type": "markdown",
   "metadata": {},
   "source": [
    "### 0 value imputation for Total Amt Wtd Tax"
   ]
  },
  {
   "cell_type": "markdown",
   "metadata": {},
   "source": [
    "### Dropping rows where order type is the paid service and Total Amt Wtd Tax is still 0."
   ]
  },
  {
   "cell_type": "code",
   "execution_count": 99,
   "metadata": {},
   "outputs": [
    {
     "data": {
      "text/plain": [
       "(487319, 30)"
      ]
     },
     "execution_count": 99,
     "metadata": {},
     "output_type": "execute_result"
    }
   ],
   "source": [
    "copy_fi.shape"
   ]
  },
  {
   "cell_type": "code",
   "execution_count": 100,
   "metadata": {},
   "outputs": [],
   "source": [
    "temp4 = copy_fi[(copy_fi[\"Order Type\"] == \"Paid Service\") & (copy_fi[\"Total Amt Wtd Tax.\"] == 0) & (copy_fi[\"Insurance Company\"].isnull())].index"
   ]
  },
  {
   "cell_type": "code",
   "execution_count": 101,
   "metadata": {},
   "outputs": [],
   "source": [
    "copy_fi.drop(temp4 , inplace=True)"
   ]
  },
  {
   "cell_type": "code",
   "execution_count": 102,
   "metadata": {},
   "outputs": [
    {
     "data": {
      "text/plain": [
       "(485484, 30)"
      ]
     },
     "execution_count": 102,
     "metadata": {},
     "output_type": "execute_result"
    }
   ],
   "source": [
    "copy_fi.shape"
   ]
  },
  {
   "cell_type": "markdown",
   "metadata": {},
   "source": [
    "### Dropping rows where order type is Accidental , also where insurance is not been taken also Total Amt Wtd Tax is 0"
   ]
  },
  {
   "cell_type": "code",
   "execution_count": 103,
   "metadata": {},
   "outputs": [],
   "source": [
    "temp5 = copy_fi[(copy_fi[\"Order Type\"] == \"Accidental\") & (copy_fi[\"Total Amt Wtd Tax.\"] == 0) & (copy_fi[\"Insurance Company\"].isnull())].index"
   ]
  },
  {
   "cell_type": "code",
   "execution_count": 104,
   "metadata": {},
   "outputs": [],
   "source": [
    "copy_fi.drop(temp5 , inplace=True)"
   ]
  },
  {
   "cell_type": "code",
   "execution_count": 105,
   "metadata": {},
   "outputs": [
    {
     "data": {
      "text/plain": [
       "(485262, 30)"
      ]
     },
     "execution_count": 105,
     "metadata": {},
     "output_type": "execute_result"
    }
   ],
   "source": [
    "copy_fi.shape"
   ]
  },
  {
   "cell_type": "markdown",
   "metadata": {},
   "source": [
    "### Dropping rows where order type is Repeat Order , also where insurance is not been taken and where Total Amt Wtd Tax is still 0"
   ]
  },
  {
   "cell_type": "code",
   "execution_count": 106,
   "metadata": {},
   "outputs": [],
   "source": [
    "temp6 = copy_fi[(copy_fi[\"Order Type\"] == \"Repeat Order\") & (copy_fi[\"Total Amt Wtd Tax.\"] == 0) & (copy_fi[\"Insurance Company\"].isnull())].index"
   ]
  },
  {
   "cell_type": "code",
   "execution_count": 107,
   "metadata": {},
   "outputs": [],
   "source": [
    "copy_fi.drop(temp6,inplace=True)"
   ]
  },
  {
   "cell_type": "markdown",
   "metadata": {},
   "source": [
    "### Replacing 0 from Total Amt Wtd Tax where order type is SMC Redemption with the median where Total Amt Wtd Tax is non zero"
   ]
  },
  {
   "cell_type": "code",
   "execution_count": 108,
   "metadata": {},
   "outputs": [
    {
     "data": {
      "text/plain": [
       "(485044, 30)"
      ]
     },
     "execution_count": 108,
     "metadata": {},
     "output_type": "execute_result"
    }
   ],
   "source": [
    "copy_fi.shape"
   ]
  },
  {
   "cell_type": "code",
   "execution_count": 109,
   "metadata": {},
   "outputs": [],
   "source": [
    "copy_fi.loc[(copy_fi[\"Order Type\"] == \"SMC Redemption\") & (copy_fi[\"Total Amt Wtd Tax.\"] == 0) & (copy_fi[\"Insurance Company\"].isnull()),\"Total Amt Wtd Tax.\"]= 1674.22433"
   ]
  },
  {
   "cell_type": "markdown",
   "metadata": {},
   "source": [
    "### Replacing 0 from Total Amt Wtd Tax where order type is Running Repairs with the mean where Total Amt Wtd Tax is non zero"
   ]
  },
  {
   "cell_type": "code",
   "execution_count": 110,
   "metadata": {},
   "outputs": [],
   "source": [
    "copy_fi.loc[(copy_fi[\"Order Type\"] == \"Running Repairs\") & (copy_fi[\"Total Amt Wtd Tax.\"] == 0) & (copy_fi[\"Insurance Company\"].isnull()),\"Total Amt Wtd Tax.\"]= 2835.56"
   ]
  },
  {
   "cell_type": "code",
   "execution_count": 111,
   "metadata": {},
   "outputs": [
    {
     "data": {
      "text/plain": [
       "(485044, 30)"
      ]
     },
     "execution_count": 111,
     "metadata": {},
     "output_type": "execute_result"
    }
   ],
   "source": [
    "copy_fi.shape"
   ]
  },
  {
   "cell_type": "markdown",
   "metadata": {},
   "source": [
    "### Replacing 0 from Total Amt Wtd Tax where order type is Mechanical with the mean where Total Amt Wtd Tax is non zero"
   ]
  },
  {
   "cell_type": "code",
   "execution_count": 112,
   "metadata": {},
   "outputs": [],
   "source": [
    "d = copy_fi.loc[(copy_fi[\"Total Amt Wtd Tax.\"] != 0) & (copy_fi[\"Insurance Company\"].isnull()) & (copy_fi[\"Order Type\"] == \"Mechanical\")]"
   ]
  },
  {
   "cell_type": "code",
   "execution_count": 113,
   "metadata": {},
   "outputs": [
    {
     "data": {
      "text/plain": [
       "3461.956168433827"
      ]
     },
     "execution_count": 113,
     "metadata": {},
     "output_type": "execute_result"
    }
   ],
   "source": [
    "d[\"Total Amt Wtd Tax.\"].mean()"
   ]
  },
  {
   "cell_type": "code",
   "execution_count": 114,
   "metadata": {},
   "outputs": [
    {
     "data": {
      "text/plain": [
       "1367.2"
      ]
     },
     "execution_count": 114,
     "metadata": {},
     "output_type": "execute_result"
    }
   ],
   "source": [
    "d[\"Total Amt Wtd Tax.\"].median()"
   ]
  },
  {
   "cell_type": "code",
   "execution_count": 115,
   "metadata": {},
   "outputs": [
    {
     "data": {
      "text/plain": [
       "0.01"
      ]
     },
     "execution_count": 115,
     "metadata": {},
     "output_type": "execute_result"
    }
   ],
   "source": [
    "d[\"Total Amt Wtd Tax.\"].min()"
   ]
  },
  {
   "cell_type": "code",
   "execution_count": 116,
   "metadata": {},
   "outputs": [
    {
     "data": {
      "text/plain": [
       "232668.17"
      ]
     },
     "execution_count": 116,
     "metadata": {},
     "output_type": "execute_result"
    }
   ],
   "source": [
    "d[\"Total Amt Wtd Tax.\"].max()"
   ]
  },
  {
   "cell_type": "code",
   "execution_count": 117,
   "metadata": {},
   "outputs": [],
   "source": [
    "copy_fi.loc[(copy_fi[\"Order Type\"] == \"Mechanical\") & (copy_fi[\"Total Amt Wtd Tax.\"] == 0) & (copy_fi[\"Insurance Company\"].isnull()),\"Total Amt Wtd Tax.\"]= 3461.95"
   ]
  },
  {
   "cell_type": "code",
   "execution_count": 118,
   "metadata": {},
   "outputs": [
    {
     "data": {
      "text/plain": [
       "Unnamed: 0                 0\n",
       "Cust Type                  0\n",
       "Customer No.               0\n",
       "Insurance Company     461453\n",
       "Invoice Date               0\n",
       "Job Card No                0\n",
       "JobCard Date               0\n",
       "JobCard Time               0\n",
       "KMs Reading                0\n",
       "Labour Total               0\n",
       "Make                       0\n",
       "Misc Total                 0\n",
       "Model                      0\n",
       "OSL Total                  0\n",
       "Order Type                 0\n",
       "Parts Total                0\n",
       "Pin code                   0\n",
       "Plant                      0\n",
       "Plant Name1                0\n",
       "Print Status               0\n",
       "Recovrbl Exp               0\n",
       "Technician Name       213651\n",
       "Total Amt Wtd Tax.         0\n",
       "Total Value           179525\n",
       "User ID                    0\n",
       "Invoice_DateTime           0\n",
       "JobCard_DateTime           0\n",
       "Service_Time               0\n",
       "updated_CITY           20005\n",
       "updated_District         170\n",
       "dtype: int64"
      ]
     },
     "execution_count": 118,
     "metadata": {},
     "output_type": "execute_result"
    }
   ],
   "source": [
    "copy_fi.isnull().sum()"
   ]
  },
  {
   "cell_type": "markdown",
   "metadata": {},
   "source": [
    "### Imputing nan values of updated district."
   ]
  },
  {
   "cell_type": "code",
   "execution_count": 119,
   "metadata": {},
   "outputs": [],
   "source": [
    "copy_fi.loc[(copy_fi[\"Plant Name1\"] == \"VAPI\") & (copy_fi[\"updated_District\"].isnull()),\"updated_District\"]= \"gujarat\""
   ]
  },
  {
   "cell_type": "code",
   "execution_count": 120,
   "metadata": {},
   "outputs": [
    {
     "data": {
      "text/html": [
       "<div>\n",
       "<style scoped>\n",
       "    .dataframe tbody tr th:only-of-type {\n",
       "        vertical-align: middle;\n",
       "    }\n",
       "\n",
       "    .dataframe tbody tr th {\n",
       "        vertical-align: top;\n",
       "    }\n",
       "\n",
       "    .dataframe thead th {\n",
       "        text-align: right;\n",
       "    }\n",
       "</style>\n",
       "<table border=\"1\" class=\"dataframe\">\n",
       "  <thead>\n",
       "    <tr style=\"text-align: right;\">\n",
       "      <th></th>\n",
       "      <th>Unnamed: 0</th>\n",
       "      <th>Cust Type</th>\n",
       "      <th>Customer No.</th>\n",
       "      <th>Insurance Company</th>\n",
       "      <th>Invoice Date</th>\n",
       "      <th>Job Card No</th>\n",
       "      <th>JobCard Date</th>\n",
       "      <th>JobCard Time</th>\n",
       "      <th>KMs Reading</th>\n",
       "      <th>Labour Total</th>\n",
       "      <th>Make</th>\n",
       "      <th>Misc Total</th>\n",
       "      <th>Model</th>\n",
       "      <th>OSL Total</th>\n",
       "      <th>Order Type</th>\n",
       "      <th>Parts Total</th>\n",
       "      <th>Pin code</th>\n",
       "      <th>Plant</th>\n",
       "      <th>Plant Name1</th>\n",
       "      <th>Print Status</th>\n",
       "      <th>Recovrbl Exp</th>\n",
       "      <th>Technician Name</th>\n",
       "      <th>Total Amt Wtd Tax.</th>\n",
       "      <th>Total Value</th>\n",
       "      <th>User ID</th>\n",
       "      <th>Invoice_DateTime</th>\n",
       "      <th>JobCard_DateTime</th>\n",
       "      <th>Service_Time</th>\n",
       "      <th>updated_CITY</th>\n",
       "      <th>updated_District</th>\n",
       "    </tr>\n",
       "  </thead>\n",
       "  <tbody>\n",
       "    <tr>\n",
       "      <th>0</th>\n",
       "      <td>0</td>\n",
       "      <td>Retail</td>\n",
       "      <td>67849</td>\n",
       "      <td>NaN</td>\n",
       "      <td>2015-01-02</td>\n",
       "      <td>168303</td>\n",
       "      <td>2014-12-13</td>\n",
       "      <td>14:29:43</td>\n",
       "      <td>49317</td>\n",
       "      <td>1203.14</td>\n",
       "      <td>GENERAL MOTORS</td>\n",
       "      <td>0.00</td>\n",
       "      <td>SPARK</td>\n",
       "      <td>500.06</td>\n",
       "      <td>Paid Service</td>\n",
       "      <td>2348.75</td>\n",
       "      <td>400601</td>\n",
       "      <td>BC01</td>\n",
       "      <td>THANE</td>\n",
       "      <td>NO</td>\n",
       "      <td>0.0</td>\n",
       "      <td>RUPESH</td>\n",
       "      <td>4051.95000</td>\n",
       "      <td>4051.95</td>\n",
       "      <td>BC01FS1</td>\n",
       "      <td>2015-01-02 11:30:36</td>\n",
       "      <td>2014-12-13 14:29:43</td>\n",
       "      <td>19 days 21:00:53</td>\n",
       "      <td>thane</td>\n",
       "      <td>maharashtra</td>\n",
       "    </tr>\n",
       "    <tr>\n",
       "      <th>1</th>\n",
       "      <td>1</td>\n",
       "      <td>Retail</td>\n",
       "      <td>84419</td>\n",
       "      <td>NaN</td>\n",
       "      <td>2015-01-03</td>\n",
       "      <td>173997</td>\n",
       "      <td>2015-01-02</td>\n",
       "      <td>14:12:18</td>\n",
       "      <td>78584</td>\n",
       "      <td>804.26</td>\n",
       "      <td>TATA MOTORS</td>\n",
       "      <td>197.03</td>\n",
       "      <td>INDICA</td>\n",
       "      <td>0.00</td>\n",
       "      <td>SMC Value Package</td>\n",
       "      <td>0.00</td>\n",
       "      <td>400603</td>\n",
       "      <td>BC01</td>\n",
       "      <td>THANE</td>\n",
       "      <td>NO</td>\n",
       "      <td>0.0</td>\n",
       "      <td>PRASHANT</td>\n",
       "      <td>1001.29000</td>\n",
       "      <td>1001.29</td>\n",
       "      <td>BC01SA2</td>\n",
       "      <td>2015-01-03 10:07:32</td>\n",
       "      <td>2015-01-02 14:12:18</td>\n",
       "      <td>0 days 19:55:14</td>\n",
       "      <td>thane</td>\n",
       "      <td>maharashtra</td>\n",
       "    </tr>\n",
       "    <tr>\n",
       "      <th>2</th>\n",
       "      <td>2</td>\n",
       "      <td>Retail</td>\n",
       "      <td>81055</td>\n",
       "      <td>NaN</td>\n",
       "      <td>2015-01-03</td>\n",
       "      <td>173889</td>\n",
       "      <td>2015-01-02</td>\n",
       "      <td>11:40:44</td>\n",
       "      <td>33985</td>\n",
       "      <td>180.19</td>\n",
       "      <td>MARUTI SUZUKI</td>\n",
       "      <td>0.00</td>\n",
       "      <td>ZEN</td>\n",
       "      <td>0.00</td>\n",
       "      <td>Running Repairs</td>\n",
       "      <td>52.95</td>\n",
       "      <td>400607</td>\n",
       "      <td>BC01</td>\n",
       "      <td>THANE</td>\n",
       "      <td>NO</td>\n",
       "      <td>0.0</td>\n",
       "      <td>IMRAN</td>\n",
       "      <td>233.14000</td>\n",
       "      <td>233.14</td>\n",
       "      <td>BC01SA2</td>\n",
       "      <td>2015-01-03 11:12:57</td>\n",
       "      <td>2015-01-02 11:40:44</td>\n",
       "      <td>0 days 23:32:13</td>\n",
       "      <td>thane</td>\n",
       "      <td>maharashtra</td>\n",
       "    </tr>\n",
       "    <tr>\n",
       "      <th>3</th>\n",
       "      <td>3</td>\n",
       "      <td>Retail</td>\n",
       "      <td>84419</td>\n",
       "      <td>NaN</td>\n",
       "      <td>2015-01-03</td>\n",
       "      <td>174158</td>\n",
       "      <td>2015-01-03</td>\n",
       "      <td>10:12:32</td>\n",
       "      <td>78584</td>\n",
       "      <td>0.00</td>\n",
       "      <td>TATA MOTORS</td>\n",
       "      <td>0.00</td>\n",
       "      <td>INDICA</td>\n",
       "      <td>0.00</td>\n",
       "      <td>SMC Redemption</td>\n",
       "      <td>0.00</td>\n",
       "      <td>400603</td>\n",
       "      <td>BC01</td>\n",
       "      <td>THANE</td>\n",
       "      <td>NO</td>\n",
       "      <td>0.0</td>\n",
       "      <td>PRASHANT</td>\n",
       "      <td>1674.22433</td>\n",
       "      <td>1644.70</td>\n",
       "      <td>BC01SA2</td>\n",
       "      <td>2015-01-03 11:40:44</td>\n",
       "      <td>2015-01-03 10:12:32</td>\n",
       "      <td>0 days 01:28:12</td>\n",
       "      <td>thane</td>\n",
       "      <td>maharashtra</td>\n",
       "    </tr>\n",
       "    <tr>\n",
       "      <th>4</th>\n",
       "      <td>4</td>\n",
       "      <td>Retail</td>\n",
       "      <td>18980</td>\n",
       "      <td>NaN</td>\n",
       "      <td>2015-01-03</td>\n",
       "      <td>173860</td>\n",
       "      <td>2015-01-02</td>\n",
       "      <td>10:45:42</td>\n",
       "      <td>50057</td>\n",
       "      <td>1202.97</td>\n",
       "      <td>HYUNDAI</td>\n",
       "      <td>100.00</td>\n",
       "      <td>SANTRO XING</td>\n",
       "      <td>499.99</td>\n",
       "      <td>Paid Service</td>\n",
       "      <td>944.16</td>\n",
       "      <td>400603</td>\n",
       "      <td>BC01</td>\n",
       "      <td>THANE</td>\n",
       "      <td>NO</td>\n",
       "      <td>0.0</td>\n",
       "      <td>DAYANAND</td>\n",
       "      <td>2747.12000</td>\n",
       "      <td>2747.12</td>\n",
       "      <td>BC01SA2</td>\n",
       "      <td>2015-01-03 12:07:17</td>\n",
       "      <td>2015-01-02 10:45:42</td>\n",
       "      <td>1 days 01:21:35</td>\n",
       "      <td>thane</td>\n",
       "      <td>maharashtra</td>\n",
       "    </tr>\n",
       "  </tbody>\n",
       "</table>\n",
       "</div>"
      ],
      "text/plain": [
       "   Unnamed: 0 Cust Type Customer No. Insurance Company Invoice Date  \\\n",
       "0           0    Retail        67849               NaN   2015-01-02   \n",
       "1           1    Retail        84419               NaN   2015-01-03   \n",
       "2           2    Retail        81055               NaN   2015-01-03   \n",
       "3           3    Retail        84419               NaN   2015-01-03   \n",
       "4           4    Retail        18980               NaN   2015-01-03   \n",
       "\n",
       "   Job Card No JobCard Date JobCard Time  KMs Reading  Labour Total  \\\n",
       "0       168303   2014-12-13     14:29:43        49317       1203.14   \n",
       "1       173997   2015-01-02     14:12:18        78584        804.26   \n",
       "2       173889   2015-01-02     11:40:44        33985        180.19   \n",
       "3       174158   2015-01-03     10:12:32        78584          0.00   \n",
       "4       173860   2015-01-02     10:45:42        50057       1202.97   \n",
       "\n",
       "             Make  Misc Total        Model  OSL Total         Order Type  \\\n",
       "0  GENERAL MOTORS        0.00        SPARK     500.06       Paid Service   \n",
       "1     TATA MOTORS      197.03       INDICA       0.00  SMC Value Package   \n",
       "2   MARUTI SUZUKI        0.00          ZEN       0.00    Running Repairs   \n",
       "3     TATA MOTORS        0.00       INDICA       0.00     SMC Redemption   \n",
       "4         HYUNDAI      100.00  SANTRO XING     499.99       Paid Service   \n",
       "\n",
       "   Parts Total  Pin code Plant Plant Name1 Print Status  Recovrbl Exp  \\\n",
       "0      2348.75    400601  BC01       THANE           NO           0.0   \n",
       "1         0.00    400603  BC01       THANE           NO           0.0   \n",
       "2        52.95    400607  BC01       THANE           NO           0.0   \n",
       "3         0.00    400603  BC01       THANE           NO           0.0   \n",
       "4       944.16    400603  BC01       THANE           NO           0.0   \n",
       "\n",
       "  Technician Name  Total Amt Wtd Tax.  Total Value  User ID  \\\n",
       "0          RUPESH          4051.95000      4051.95  BC01FS1   \n",
       "1        PRASHANT          1001.29000      1001.29  BC01SA2   \n",
       "2           IMRAN           233.14000       233.14  BC01SA2   \n",
       "3        PRASHANT          1674.22433      1644.70  BC01SA2   \n",
       "4        DAYANAND          2747.12000      2747.12  BC01SA2   \n",
       "\n",
       "      Invoice_DateTime     JobCard_DateTime      Service_Time updated_CITY  \\\n",
       "0  2015-01-02 11:30:36  2014-12-13 14:29:43  19 days 21:00:53        thane   \n",
       "1  2015-01-03 10:07:32  2015-01-02 14:12:18   0 days 19:55:14        thane   \n",
       "2  2015-01-03 11:12:57  2015-01-02 11:40:44   0 days 23:32:13        thane   \n",
       "3  2015-01-03 11:40:44  2015-01-03 10:12:32   0 days 01:28:12        thane   \n",
       "4  2015-01-03 12:07:17  2015-01-02 10:45:42   1 days 01:21:35        thane   \n",
       "\n",
       "  updated_District  \n",
       "0      maharashtra  \n",
       "1      maharashtra  \n",
       "2      maharashtra  \n",
       "3      maharashtra  \n",
       "4      maharashtra  "
      ]
     },
     "execution_count": 120,
     "metadata": {},
     "output_type": "execute_result"
    }
   ],
   "source": [
    "copy_fi.head()"
   ]
  },
  {
   "cell_type": "code",
   "execution_count": 121,
   "metadata": {},
   "outputs": [],
   "source": [
    "copy_fi.loc[(copy_fi[\"Plant Name1\"] == \"X008- AAKASH AUTO (Puducherry)\") & (copy_fi[\"updated_District\"].isnull()),\"updated_District\"]= \"pondicherry\""
   ]
  },
  {
   "cell_type": "code",
   "execution_count": 122,
   "metadata": {},
   "outputs": [
    {
     "data": {
      "text/plain": [
       "Unnamed: 0                 0\n",
       "Cust Type                  0\n",
       "Customer No.               0\n",
       "Insurance Company     461453\n",
       "Invoice Date               0\n",
       "Job Card No                0\n",
       "JobCard Date               0\n",
       "JobCard Time               0\n",
       "KMs Reading                0\n",
       "Labour Total               0\n",
       "Make                       0\n",
       "Misc Total                 0\n",
       "Model                      0\n",
       "OSL Total                  0\n",
       "Order Type                 0\n",
       "Parts Total                0\n",
       "Pin code                   0\n",
       "Plant                      0\n",
       "Plant Name1                0\n",
       "Print Status               0\n",
       "Recovrbl Exp               0\n",
       "Technician Name       213651\n",
       "Total Amt Wtd Tax.         0\n",
       "Total Value           179525\n",
       "User ID                    0\n",
       "Invoice_DateTime           0\n",
       "JobCard_DateTime           0\n",
       "Service_Time               0\n",
       "updated_CITY           20005\n",
       "updated_District          76\n",
       "dtype: int64"
      ]
     },
     "execution_count": 122,
     "metadata": {},
     "output_type": "execute_result"
    }
   ],
   "source": [
    "copy_fi.isnull().sum()"
   ]
  },
  {
   "cell_type": "code",
   "execution_count": 123,
   "metadata": {},
   "outputs": [],
   "source": [
    "temp7 = copy_fi.loc[(copy_fi[\"updated_District\"].isnull())].index"
   ]
  },
  {
   "cell_type": "code",
   "execution_count": 124,
   "metadata": {},
   "outputs": [],
   "source": [
    "copy_fi.drop(temp7 , inplace=True)"
   ]
  },
  {
   "cell_type": "markdown",
   "metadata": {},
   "source": [
    "### impute nan values of updated city column"
   ]
  },
  {
   "cell_type": "code",
   "execution_count": 125,
   "metadata": {},
   "outputs": [],
   "source": [
    "copy_fi.loc[(copy_fi[\"Plant Name1\"] == \"YESHWANTPUR - BANGALORE\") & (copy_fi[\"updated_CITY\"].isnull()),\"updated_CITY\"]= \"bengaluru\"\n",
    "copy_fi.loc[(copy_fi[\"Plant Name1\"] == \"NAGPUR\") & (copy_fi[\"updated_CITY\"].isnull()),\"updated_CITY\"]= \"nagpur\"\n",
    "copy_fi.loc[(copy_fi[\"Plant Name1\"] == \"NASHIK\") & (copy_fi[\"updated_CITY\"].isnull()),\"updated_CITY\"]= \"nashik\"\n",
    "copy_fi.loc[(copy_fi[\"Plant Name1\"] == \"HADAPSAR - PUNE\") & (copy_fi[\"updated_CITY\"].isnull()),\"updated_CITY\"]= \"pune\"\n",
    "copy_fi.loc[(copy_fi[\"Plant Name1\"] == \"X062 - S N S MOTORS MYSORE\") & (copy_fi[\"updated_CITY\"].isnull()),\"updated_CITY\"]= \"mysuru\"\n",
    "copy_fi.loc[(copy_fi[\"Plant Name1\"] == \"SAS NAGAR - MOHALI\") & (copy_fi[\"updated_CITY\"].isnull()),\"updated_CITY\"]= \"mohali\"\n",
    "copy_fi.loc[(copy_fi[\"Plant Name1\"] == \"GREATER NOIDA\") & (copy_fi[\"updated_CITY\"].isnull()),\"updated_CITY\"]= \"gautam buddha nagar\"\n",
    "copy_fi.loc[(copy_fi[\"Plant Name1\"] == \"PANCHKULLA\") & (copy_fi[\"updated_CITY\"].isnull()),\"updated_CITY\"]= \"panchkula\"\n",
    "copy_fi.loc[(copy_fi[\"Plant Name1\"] == \"NERUL - NAVI MUMBAI\") & (copy_fi[\"updated_CITY\"].isnull()),\"updated_CITY\"]= \"nerul - navi mumbai\"\n",
    "copy_fi.loc[(copy_fi[\"Plant Name1\"] == \"VAPI\") & (copy_fi[\"updated_CITY\"].isnull()),\"updated_CITY\"]= \"valsad\"\n",
    "copy_fi.loc[(copy_fi[\"Plant Name1\"] == \"SURAT UDHANA\") & (copy_fi[\"updated_CITY\"].isnull()),\"updated_CITY\"]= \"surat\"\n",
    "copy_fi.loc[(copy_fi[\"Plant Name1\"] == \"FARIDABAD 1\") & (copy_fi[\"updated_CITY\"].isnull()),\"updated_CITY\"]= \"faridabad\"\n",
    "copy_fi.loc[(copy_fi[\"Plant Name1\"] == \"NELLORE\") & (copy_fi[\"updated_CITY\"].isnull()),\"updated_CITY\"]= \"nellore\"\n",
    "copy_fi.loc[(copy_fi[\"Plant Name1\"] == \"MOHAN NAGAR - GAZIABAD\") & (copy_fi[\"updated_CITY\"].isnull()),\"updated_CITY\"]= \"ghaziabad\"\n",
    "copy_fi.loc[(copy_fi[\"Plant Name1\"] == \"X017 - HEM KIRAN DIESELS\") & (copy_fi[\"updated_CITY\"].isnull()),\"updated_CITY\"]= \"kolhapur\"\n",
    "copy_fi.loc[(copy_fi[\"Plant Name1\"] == \"X110 - KALYAN SERVICES\") & (copy_fi[\"updated_CITY\"].isnull()),\"updated_CITY\"]= \"coimbatore\"\n",
    "copy_fi.loc[(copy_fi[\"Plant Name1\"] == \"X034 - SOHAMM MOTORS\") & (copy_fi[\"updated_CITY\"].isnull()),\"updated_CITY\"]= \"aurangabad\"\n",
    "copy_fi.loc[(copy_fi[\"Plant Name1\"] == \"X012 - SR CAR CARE\") & (copy_fi[\"updated_CITY\"].isnull()),\"updated_CITY\"]= \"cuddalore\"\n",
    "copy_fi.loc[(copy_fi[\"Plant Name1\"] == \"X023 - ROYAL KRR AUTOS\") & (copy_fi[\"updated_CITY\"].isnull()),\"updated_CITY\"]= \"coimbatore\"\n",
    "copy_fi.loc[(copy_fi[\"Plant Name1\"] == \"X036 - X-PRESS MOTORS\") & (copy_fi[\"updated_CITY\"].isnull()),\"updated_CITY\"]= \"madurai\"\n",
    "copy_fi.loc[(copy_fi[\"Plant Name1\"] == \"THANE\") & (copy_fi[\"updated_CITY\"].isnull()),\"updated_CITY\"]= \"thane\"\n",
    "copy_fi.loc[(copy_fi[\"Plant Name1\"] == \"BELLANDUR - BANGALORE\") & (copy_fi[\"updated_CITY\"].isnull()),\"updated_CITY\"]= \"bengaluru\"\n",
    "copy_fi.loc[(copy_fi[\"Plant Name1\"] == \"COIMBATORE\") & (copy_fi[\"updated_CITY\"].isnull()),\"updated_CITY\"]= \"coimbatore\"\n",
    "copy_fi.loc[(copy_fi[\"Plant Name1\"] == \"X010 - LVM MOTORS\") & (copy_fi[\"updated_CITY\"].isnull()),\"updated_CITY\"]= \"vellore\""
   ]
  },
  {
   "cell_type": "code",
   "execution_count": 126,
   "metadata": {},
   "outputs": [],
   "source": [
    "temp8 = copy_fi[(copy_fi[\"updated_CITY\"].isnull())].index"
   ]
  },
  {
   "cell_type": "code",
   "execution_count": 127,
   "metadata": {},
   "outputs": [],
   "source": [
    "copy_fi.drop(temp8 , inplace=True)"
   ]
  },
  {
   "cell_type": "code",
   "execution_count": 128,
   "metadata": {},
   "outputs": [
    {
     "data": {
      "text/html": [
       "<div>\n",
       "<style scoped>\n",
       "    .dataframe tbody tr th:only-of-type {\n",
       "        vertical-align: middle;\n",
       "    }\n",
       "\n",
       "    .dataframe tbody tr th {\n",
       "        vertical-align: top;\n",
       "    }\n",
       "\n",
       "    .dataframe thead th {\n",
       "        text-align: right;\n",
       "    }\n",
       "</style>\n",
       "<table border=\"1\" class=\"dataframe\">\n",
       "  <thead>\n",
       "    <tr style=\"text-align: right;\">\n",
       "      <th></th>\n",
       "      <th>Unnamed: 0</th>\n",
       "      <th>Cust Type</th>\n",
       "      <th>Customer No.</th>\n",
       "      <th>Insurance Company</th>\n",
       "      <th>Invoice Date</th>\n",
       "      <th>Job Card No</th>\n",
       "      <th>JobCard Date</th>\n",
       "      <th>JobCard Time</th>\n",
       "      <th>KMs Reading</th>\n",
       "      <th>Labour Total</th>\n",
       "      <th>Make</th>\n",
       "      <th>Misc Total</th>\n",
       "      <th>Model</th>\n",
       "      <th>OSL Total</th>\n",
       "      <th>Order Type</th>\n",
       "      <th>Parts Total</th>\n",
       "      <th>Pin code</th>\n",
       "      <th>Plant</th>\n",
       "      <th>Plant Name1</th>\n",
       "      <th>Print Status</th>\n",
       "      <th>Recovrbl Exp</th>\n",
       "      <th>Technician Name</th>\n",
       "      <th>Total Amt Wtd Tax.</th>\n",
       "      <th>Total Value</th>\n",
       "      <th>User ID</th>\n",
       "      <th>Invoice_DateTime</th>\n",
       "      <th>JobCard_DateTime</th>\n",
       "      <th>Service_Time</th>\n",
       "      <th>updated_CITY</th>\n",
       "      <th>updated_District</th>\n",
       "    </tr>\n",
       "  </thead>\n",
       "  <tbody>\n",
       "    <tr>\n",
       "      <th>0</th>\n",
       "      <td>0</td>\n",
       "      <td>Retail</td>\n",
       "      <td>67849</td>\n",
       "      <td>NaN</td>\n",
       "      <td>2015-01-02</td>\n",
       "      <td>168303</td>\n",
       "      <td>2014-12-13</td>\n",
       "      <td>14:29:43</td>\n",
       "      <td>49317</td>\n",
       "      <td>1203.14</td>\n",
       "      <td>GENERAL MOTORS</td>\n",
       "      <td>0.00</td>\n",
       "      <td>SPARK</td>\n",
       "      <td>500.06</td>\n",
       "      <td>Paid Service</td>\n",
       "      <td>2348.75</td>\n",
       "      <td>400601</td>\n",
       "      <td>BC01</td>\n",
       "      <td>THANE</td>\n",
       "      <td>NO</td>\n",
       "      <td>0.0</td>\n",
       "      <td>RUPESH</td>\n",
       "      <td>4051.95000</td>\n",
       "      <td>4051.95</td>\n",
       "      <td>BC01FS1</td>\n",
       "      <td>2015-01-02 11:30:36</td>\n",
       "      <td>2014-12-13 14:29:43</td>\n",
       "      <td>19 days 21:00:53</td>\n",
       "      <td>thane</td>\n",
       "      <td>maharashtra</td>\n",
       "    </tr>\n",
       "    <tr>\n",
       "      <th>1</th>\n",
       "      <td>1</td>\n",
       "      <td>Retail</td>\n",
       "      <td>84419</td>\n",
       "      <td>NaN</td>\n",
       "      <td>2015-01-03</td>\n",
       "      <td>173997</td>\n",
       "      <td>2015-01-02</td>\n",
       "      <td>14:12:18</td>\n",
       "      <td>78584</td>\n",
       "      <td>804.26</td>\n",
       "      <td>TATA MOTORS</td>\n",
       "      <td>197.03</td>\n",
       "      <td>INDICA</td>\n",
       "      <td>0.00</td>\n",
       "      <td>SMC Value Package</td>\n",
       "      <td>0.00</td>\n",
       "      <td>400603</td>\n",
       "      <td>BC01</td>\n",
       "      <td>THANE</td>\n",
       "      <td>NO</td>\n",
       "      <td>0.0</td>\n",
       "      <td>PRASHANT</td>\n",
       "      <td>1001.29000</td>\n",
       "      <td>1001.29</td>\n",
       "      <td>BC01SA2</td>\n",
       "      <td>2015-01-03 10:07:32</td>\n",
       "      <td>2015-01-02 14:12:18</td>\n",
       "      <td>0 days 19:55:14</td>\n",
       "      <td>thane</td>\n",
       "      <td>maharashtra</td>\n",
       "    </tr>\n",
       "    <tr>\n",
       "      <th>2</th>\n",
       "      <td>2</td>\n",
       "      <td>Retail</td>\n",
       "      <td>81055</td>\n",
       "      <td>NaN</td>\n",
       "      <td>2015-01-03</td>\n",
       "      <td>173889</td>\n",
       "      <td>2015-01-02</td>\n",
       "      <td>11:40:44</td>\n",
       "      <td>33985</td>\n",
       "      <td>180.19</td>\n",
       "      <td>MARUTI SUZUKI</td>\n",
       "      <td>0.00</td>\n",
       "      <td>ZEN</td>\n",
       "      <td>0.00</td>\n",
       "      <td>Running Repairs</td>\n",
       "      <td>52.95</td>\n",
       "      <td>400607</td>\n",
       "      <td>BC01</td>\n",
       "      <td>THANE</td>\n",
       "      <td>NO</td>\n",
       "      <td>0.0</td>\n",
       "      <td>IMRAN</td>\n",
       "      <td>233.14000</td>\n",
       "      <td>233.14</td>\n",
       "      <td>BC01SA2</td>\n",
       "      <td>2015-01-03 11:12:57</td>\n",
       "      <td>2015-01-02 11:40:44</td>\n",
       "      <td>0 days 23:32:13</td>\n",
       "      <td>thane</td>\n",
       "      <td>maharashtra</td>\n",
       "    </tr>\n",
       "    <tr>\n",
       "      <th>3</th>\n",
       "      <td>3</td>\n",
       "      <td>Retail</td>\n",
       "      <td>84419</td>\n",
       "      <td>NaN</td>\n",
       "      <td>2015-01-03</td>\n",
       "      <td>174158</td>\n",
       "      <td>2015-01-03</td>\n",
       "      <td>10:12:32</td>\n",
       "      <td>78584</td>\n",
       "      <td>0.00</td>\n",
       "      <td>TATA MOTORS</td>\n",
       "      <td>0.00</td>\n",
       "      <td>INDICA</td>\n",
       "      <td>0.00</td>\n",
       "      <td>SMC Redemption</td>\n",
       "      <td>0.00</td>\n",
       "      <td>400603</td>\n",
       "      <td>BC01</td>\n",
       "      <td>THANE</td>\n",
       "      <td>NO</td>\n",
       "      <td>0.0</td>\n",
       "      <td>PRASHANT</td>\n",
       "      <td>1674.22433</td>\n",
       "      <td>1644.70</td>\n",
       "      <td>BC01SA2</td>\n",
       "      <td>2015-01-03 11:40:44</td>\n",
       "      <td>2015-01-03 10:12:32</td>\n",
       "      <td>0 days 01:28:12</td>\n",
       "      <td>thane</td>\n",
       "      <td>maharashtra</td>\n",
       "    </tr>\n",
       "    <tr>\n",
       "      <th>4</th>\n",
       "      <td>4</td>\n",
       "      <td>Retail</td>\n",
       "      <td>18980</td>\n",
       "      <td>NaN</td>\n",
       "      <td>2015-01-03</td>\n",
       "      <td>173860</td>\n",
       "      <td>2015-01-02</td>\n",
       "      <td>10:45:42</td>\n",
       "      <td>50057</td>\n",
       "      <td>1202.97</td>\n",
       "      <td>HYUNDAI</td>\n",
       "      <td>100.00</td>\n",
       "      <td>SANTRO XING</td>\n",
       "      <td>499.99</td>\n",
       "      <td>Paid Service</td>\n",
       "      <td>944.16</td>\n",
       "      <td>400603</td>\n",
       "      <td>BC01</td>\n",
       "      <td>THANE</td>\n",
       "      <td>NO</td>\n",
       "      <td>0.0</td>\n",
       "      <td>DAYANAND</td>\n",
       "      <td>2747.12000</td>\n",
       "      <td>2747.12</td>\n",
       "      <td>BC01SA2</td>\n",
       "      <td>2015-01-03 12:07:17</td>\n",
       "      <td>2015-01-02 10:45:42</td>\n",
       "      <td>1 days 01:21:35</td>\n",
       "      <td>thane</td>\n",
       "      <td>maharashtra</td>\n",
       "    </tr>\n",
       "  </tbody>\n",
       "</table>\n",
       "</div>"
      ],
      "text/plain": [
       "   Unnamed: 0 Cust Type Customer No. Insurance Company Invoice Date  \\\n",
       "0           0    Retail        67849               NaN   2015-01-02   \n",
       "1           1    Retail        84419               NaN   2015-01-03   \n",
       "2           2    Retail        81055               NaN   2015-01-03   \n",
       "3           3    Retail        84419               NaN   2015-01-03   \n",
       "4           4    Retail        18980               NaN   2015-01-03   \n",
       "\n",
       "   Job Card No JobCard Date JobCard Time  KMs Reading  Labour Total  \\\n",
       "0       168303   2014-12-13     14:29:43        49317       1203.14   \n",
       "1       173997   2015-01-02     14:12:18        78584        804.26   \n",
       "2       173889   2015-01-02     11:40:44        33985        180.19   \n",
       "3       174158   2015-01-03     10:12:32        78584          0.00   \n",
       "4       173860   2015-01-02     10:45:42        50057       1202.97   \n",
       "\n",
       "             Make  Misc Total        Model  OSL Total         Order Type  \\\n",
       "0  GENERAL MOTORS        0.00        SPARK     500.06       Paid Service   \n",
       "1     TATA MOTORS      197.03       INDICA       0.00  SMC Value Package   \n",
       "2   MARUTI SUZUKI        0.00          ZEN       0.00    Running Repairs   \n",
       "3     TATA MOTORS        0.00       INDICA       0.00     SMC Redemption   \n",
       "4         HYUNDAI      100.00  SANTRO XING     499.99       Paid Service   \n",
       "\n",
       "   Parts Total  Pin code Plant Plant Name1 Print Status  Recovrbl Exp  \\\n",
       "0      2348.75    400601  BC01       THANE           NO           0.0   \n",
       "1         0.00    400603  BC01       THANE           NO           0.0   \n",
       "2        52.95    400607  BC01       THANE           NO           0.0   \n",
       "3         0.00    400603  BC01       THANE           NO           0.0   \n",
       "4       944.16    400603  BC01       THANE           NO           0.0   \n",
       "\n",
       "  Technician Name  Total Amt Wtd Tax.  Total Value  User ID  \\\n",
       "0          RUPESH          4051.95000      4051.95  BC01FS1   \n",
       "1        PRASHANT          1001.29000      1001.29  BC01SA2   \n",
       "2           IMRAN           233.14000       233.14  BC01SA2   \n",
       "3        PRASHANT          1674.22433      1644.70  BC01SA2   \n",
       "4        DAYANAND          2747.12000      2747.12  BC01SA2   \n",
       "\n",
       "      Invoice_DateTime     JobCard_DateTime      Service_Time updated_CITY  \\\n",
       "0  2015-01-02 11:30:36  2014-12-13 14:29:43  19 days 21:00:53        thane   \n",
       "1  2015-01-03 10:07:32  2015-01-02 14:12:18   0 days 19:55:14        thane   \n",
       "2  2015-01-03 11:12:57  2015-01-02 11:40:44   0 days 23:32:13        thane   \n",
       "3  2015-01-03 11:40:44  2015-01-03 10:12:32   0 days 01:28:12        thane   \n",
       "4  2015-01-03 12:07:17  2015-01-02 10:45:42   1 days 01:21:35        thane   \n",
       "\n",
       "  updated_District  \n",
       "0      maharashtra  \n",
       "1      maharashtra  \n",
       "2      maharashtra  \n",
       "3      maharashtra  \n",
       "4      maharashtra  "
      ]
     },
     "execution_count": 128,
     "metadata": {},
     "output_type": "execute_result"
    }
   ],
   "source": [
    "copy_fi.head()"
   ]
  },
  {
   "cell_type": "code",
   "execution_count": 129,
   "metadata": {},
   "outputs": [],
   "source": [
    "copy_fi.drop(columns=[\"Unnamed: 0\"],inplace=True)"
   ]
  },
  {
   "cell_type": "code",
   "execution_count": 130,
   "metadata": {},
   "outputs": [],
   "source": [
    "copy_fi[\"year\"] = pd.DatetimeIndex(copy_fi[\"JobCard_DateTime\"]).year"
   ]
  },
  {
   "cell_type": "code",
   "execution_count": 131,
   "metadata": {},
   "outputs": [],
   "source": [
    "copy_fi[\"month\"] = pd.DatetimeIndex(copy_fi[\"JobCard_DateTime\"]).month"
   ]
  },
  {
   "cell_type": "code",
   "execution_count": 132,
   "metadata": {},
   "outputs": [],
   "source": [
    "copy_fi.rename(columns={\"updated_District\": \"State\", \"updated_CITY\": \"City\",\"year\":\"Year\",\"month\":\"Month\"},inplace=True)"
   ]
  },
  {
   "cell_type": "code",
   "execution_count": 133,
   "metadata": {},
   "outputs": [
    {
     "data": {
      "text/html": [
       "<div>\n",
       "<style scoped>\n",
       "    .dataframe tbody tr th:only-of-type {\n",
       "        vertical-align: middle;\n",
       "    }\n",
       "\n",
       "    .dataframe tbody tr th {\n",
       "        vertical-align: top;\n",
       "    }\n",
       "\n",
       "    .dataframe thead th {\n",
       "        text-align: right;\n",
       "    }\n",
       "</style>\n",
       "<table border=\"1\" class=\"dataframe\">\n",
       "  <thead>\n",
       "    <tr style=\"text-align: right;\">\n",
       "      <th></th>\n",
       "      <th>Cust Type</th>\n",
       "      <th>Customer No.</th>\n",
       "      <th>Insurance Company</th>\n",
       "      <th>Invoice Date</th>\n",
       "      <th>Job Card No</th>\n",
       "      <th>JobCard Date</th>\n",
       "      <th>JobCard Time</th>\n",
       "      <th>KMs Reading</th>\n",
       "      <th>Labour Total</th>\n",
       "      <th>Make</th>\n",
       "      <th>Misc Total</th>\n",
       "      <th>Model</th>\n",
       "      <th>OSL Total</th>\n",
       "      <th>Order Type</th>\n",
       "      <th>Parts Total</th>\n",
       "      <th>Pin code</th>\n",
       "      <th>Plant</th>\n",
       "      <th>Plant Name1</th>\n",
       "      <th>Print Status</th>\n",
       "      <th>Recovrbl Exp</th>\n",
       "      <th>Technician Name</th>\n",
       "      <th>Total Amt Wtd Tax.</th>\n",
       "      <th>Total Value</th>\n",
       "      <th>User ID</th>\n",
       "      <th>Invoice_DateTime</th>\n",
       "      <th>JobCard_DateTime</th>\n",
       "      <th>Service_Time</th>\n",
       "      <th>City</th>\n",
       "      <th>State</th>\n",
       "      <th>Year</th>\n",
       "      <th>Month</th>\n",
       "    </tr>\n",
       "  </thead>\n",
       "  <tbody>\n",
       "    <tr>\n",
       "      <th>0</th>\n",
       "      <td>Retail</td>\n",
       "      <td>67849</td>\n",
       "      <td>NaN</td>\n",
       "      <td>2015-01-02</td>\n",
       "      <td>168303</td>\n",
       "      <td>2014-12-13</td>\n",
       "      <td>14:29:43</td>\n",
       "      <td>49317</td>\n",
       "      <td>1203.14</td>\n",
       "      <td>GENERAL MOTORS</td>\n",
       "      <td>0.00</td>\n",
       "      <td>SPARK</td>\n",
       "      <td>500.06</td>\n",
       "      <td>Paid Service</td>\n",
       "      <td>2348.75</td>\n",
       "      <td>400601</td>\n",
       "      <td>BC01</td>\n",
       "      <td>THANE</td>\n",
       "      <td>NO</td>\n",
       "      <td>0.0</td>\n",
       "      <td>RUPESH</td>\n",
       "      <td>4051.95</td>\n",
       "      <td>4051.95</td>\n",
       "      <td>BC01FS1</td>\n",
       "      <td>2015-01-02 11:30:36</td>\n",
       "      <td>2014-12-13 14:29:43</td>\n",
       "      <td>19 days 21:00:53</td>\n",
       "      <td>thane</td>\n",
       "      <td>maharashtra</td>\n",
       "      <td>2014</td>\n",
       "      <td>12</td>\n",
       "    </tr>\n",
       "    <tr>\n",
       "      <th>1</th>\n",
       "      <td>Retail</td>\n",
       "      <td>84419</td>\n",
       "      <td>NaN</td>\n",
       "      <td>2015-01-03</td>\n",
       "      <td>173997</td>\n",
       "      <td>2015-01-02</td>\n",
       "      <td>14:12:18</td>\n",
       "      <td>78584</td>\n",
       "      <td>804.26</td>\n",
       "      <td>TATA MOTORS</td>\n",
       "      <td>197.03</td>\n",
       "      <td>INDICA</td>\n",
       "      <td>0.00</td>\n",
       "      <td>SMC Value Package</td>\n",
       "      <td>0.00</td>\n",
       "      <td>400603</td>\n",
       "      <td>BC01</td>\n",
       "      <td>THANE</td>\n",
       "      <td>NO</td>\n",
       "      <td>0.0</td>\n",
       "      <td>PRASHANT</td>\n",
       "      <td>1001.29</td>\n",
       "      <td>1001.29</td>\n",
       "      <td>BC01SA2</td>\n",
       "      <td>2015-01-03 10:07:32</td>\n",
       "      <td>2015-01-02 14:12:18</td>\n",
       "      <td>0 days 19:55:14</td>\n",
       "      <td>thane</td>\n",
       "      <td>maharashtra</td>\n",
       "      <td>2015</td>\n",
       "      <td>1</td>\n",
       "    </tr>\n",
       "  </tbody>\n",
       "</table>\n",
       "</div>"
      ],
      "text/plain": [
       "  Cust Type Customer No. Insurance Company Invoice Date  Job Card No  \\\n",
       "0    Retail        67849               NaN   2015-01-02       168303   \n",
       "1    Retail        84419               NaN   2015-01-03       173997   \n",
       "\n",
       "  JobCard Date JobCard Time  KMs Reading  Labour Total            Make  \\\n",
       "0   2014-12-13     14:29:43        49317       1203.14  GENERAL MOTORS   \n",
       "1   2015-01-02     14:12:18        78584        804.26     TATA MOTORS   \n",
       "\n",
       "   Misc Total   Model  OSL Total         Order Type  Parts Total  Pin code  \\\n",
       "0        0.00   SPARK     500.06       Paid Service      2348.75    400601   \n",
       "1      197.03  INDICA       0.00  SMC Value Package         0.00    400603   \n",
       "\n",
       "  Plant Plant Name1 Print Status  Recovrbl Exp Technician Name  \\\n",
       "0  BC01       THANE           NO           0.0          RUPESH   \n",
       "1  BC01       THANE           NO           0.0        PRASHANT   \n",
       "\n",
       "   Total Amt Wtd Tax.  Total Value  User ID     Invoice_DateTime  \\\n",
       "0             4051.95      4051.95  BC01FS1  2015-01-02 11:30:36   \n",
       "1             1001.29      1001.29  BC01SA2  2015-01-03 10:07:32   \n",
       "\n",
       "      JobCard_DateTime      Service_Time   City        State  Year  Month  \n",
       "0  2014-12-13 14:29:43  19 days 21:00:53  thane  maharashtra  2014     12  \n",
       "1  2015-01-02 14:12:18   0 days 19:55:14  thane  maharashtra  2015      1  "
      ]
     },
     "execution_count": 133,
     "metadata": {},
     "output_type": "execute_result"
    }
   ],
   "source": [
    "copy_fi.head(2)"
   ]
  },
  {
   "cell_type": "code",
   "execution_count": 134,
   "metadata": {},
   "outputs": [
    {
     "data": {
      "text/plain": [
       "(477925, 31)"
      ]
     },
     "execution_count": 134,
     "metadata": {},
     "output_type": "execute_result"
    }
   ],
   "source": [
    "copy_fi.shape"
   ]
  },
  {
   "cell_type": "code",
   "execution_count": 135,
   "metadata": {},
   "outputs": [
    {
     "data": {
      "text/plain": [
       "Index(['Business Partner', 'Customer No.', 'Partner Type', 'Data Origin',\n",
       "       'Title', 'Occupation'],\n",
       "      dtype='object')"
      ]
     },
     "execution_count": 135,
     "metadata": {},
     "output_type": "execute_result"
    }
   ],
   "source": [
    "Data_Customer.columns"
   ]
  },
  {
   "cell_type": "code",
   "execution_count": 136,
   "metadata": {},
   "outputs": [
    {
     "data": {
      "text/plain": [
       "Cust Type                  0\n",
       "Customer No.               0\n",
       "Insurance Company     454854\n",
       "Invoice Date               0\n",
       "Job Card No                0\n",
       "JobCard Date               0\n",
       "JobCard Time               0\n",
       "KMs Reading                0\n",
       "Labour Total               0\n",
       "Make                       0\n",
       "Misc Total                 0\n",
       "Model                      0\n",
       "OSL Total                  0\n",
       "Order Type                 0\n",
       "Parts Total                0\n",
       "Pin code                   0\n",
       "Plant                      0\n",
       "Plant Name1                0\n",
       "Print Status               0\n",
       "Recovrbl Exp               0\n",
       "Technician Name       213651\n",
       "Total Amt Wtd Tax.         0\n",
       "Total Value           179525\n",
       "User ID                    0\n",
       "Invoice_DateTime           0\n",
       "JobCard_DateTime           0\n",
       "Service_Time               0\n",
       "City                       0\n",
       "State                      0\n",
       "Year                       0\n",
       "Month                      0\n",
       "dtype: int64"
      ]
     },
     "execution_count": 136,
     "metadata": {},
     "output_type": "execute_result"
    }
   ],
   "source": [
    "copy_fi.isnull().sum()"
   ]
  },
  {
   "cell_type": "code",
   "execution_count": 137,
   "metadata": {},
   "outputs": [],
   "source": [
    "copy_fi.to_csv('cleaned_finalinvoice.csv')"
   ]
  },
  {
   "cell_type": "code",
   "execution_count": null,
   "metadata": {},
   "outputs": [],
   "source": []
  },
  {
   "cell_type": "code",
   "execution_count": null,
   "metadata": {},
   "outputs": [],
   "source": []
  },
  {
   "cell_type": "code",
   "execution_count": null,
   "metadata": {},
   "outputs": [],
   "source": []
  }
 ],
 "metadata": {
  "kernelspec": {
   "display_name": "Python 3",
   "language": "python",
   "name": "python3"
  },
  "language_info": {
   "codemirror_mode": {
    "name": "ipython",
    "version": 3
   },
   "file_extension": ".py",
   "mimetype": "text/x-python",
   "name": "python",
   "nbconvert_exporter": "python",
   "pygments_lexer": "ipython3",
   "version": "3.7.6"
  }
 },
 "nbformat": 4,
 "nbformat_minor": 2
}
