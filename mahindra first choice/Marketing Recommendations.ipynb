{
 "cells": [
  {
   "cell_type": "code",
   "execution_count": 1,
   "metadata": {},
   "outputs": [],
   "source": [
    "import pandas as pd\n",
    "import matplotlib.pyplot as plt\n",
    "import seaborn as sns"
   ]
  },
  {
   "cell_type": "code",
   "execution_count": 3,
   "metadata": {},
   "outputs": [
    {
     "name": "stderr",
     "output_type": "stream",
     "text": [
      "C:\\Users\\HaiderAli\\Anaconda3\\lib\\site-packages\\IPython\\core\\interactiveshell.py:3146: DtypeWarning: Columns (21,39) have mixed types.Specify dtype option on import or set low_memory=False.\n",
      "  interactivity=interactivity, compiler=compiler, result=result)\n"
     ]
    },
    {
     "data": {
      "text/html": [
       "<div>\n",
       "<style scoped>\n",
       "    .dataframe tbody tr th:only-of-type {\n",
       "        vertical-align: middle;\n",
       "    }\n",
       "\n",
       "    .dataframe tbody tr th {\n",
       "        vertical-align: top;\n",
       "    }\n",
       "\n",
       "    .dataframe thead th {\n",
       "        text-align: right;\n",
       "    }\n",
       "</style>\n",
       "<table border=\"1\" class=\"dataframe\">\n",
       "  <thead>\n",
       "    <tr style=\"text-align: right;\">\n",
       "      <th></th>\n",
       "      <th>Unnamed: 0</th>\n",
       "      <th>Cust Type</th>\n",
       "      <th>Customer No.</th>\n",
       "      <th>Insurance Company</th>\n",
       "      <th>Invoice Date</th>\n",
       "      <th>Job Card No</th>\n",
       "      <th>JobCard Date</th>\n",
       "      <th>JobCard Time</th>\n",
       "      <th>KMs Reading</th>\n",
       "      <th>Labour Total</th>\n",
       "      <th>...</th>\n",
       "      <th>Year</th>\n",
       "      <th>Month</th>\n",
       "      <th>Business Partner</th>\n",
       "      <th>Partner Type</th>\n",
       "      <th>Data Origin</th>\n",
       "      <th>Title</th>\n",
       "      <th>Marital Status</th>\n",
       "      <th>Occupation</th>\n",
       "      <th>Date of Birth</th>\n",
       "      <th>Death date</th>\n",
       "    </tr>\n",
       "  </thead>\n",
       "  <tbody>\n",
       "    <tr>\n",
       "      <th>0</th>\n",
       "      <td>0</td>\n",
       "      <td>Retail</td>\n",
       "      <td>67849</td>\n",
       "      <td>NaN</td>\n",
       "      <td>2015-01-02</td>\n",
       "      <td>168303</td>\n",
       "      <td>2014-12-13</td>\n",
       "      <td>14:29:43</td>\n",
       "      <td>49317</td>\n",
       "      <td>1203.14</td>\n",
       "      <td>...</td>\n",
       "      <td>2014</td>\n",
       "      <td>12</td>\n",
       "      <td>71941</td>\n",
       "      <td>1.0</td>\n",
       "      <td>Reference - Used car dealer</td>\n",
       "      <td>2.0</td>\n",
       "      <td>NaN</td>\n",
       "      <td>NaN</td>\n",
       "      <td>NaN</td>\n",
       "      <td>NaN</td>\n",
       "    </tr>\n",
       "    <tr>\n",
       "      <th>1</th>\n",
       "      <td>1</td>\n",
       "      <td>Retail</td>\n",
       "      <td>67849</td>\n",
       "      <td>NaN</td>\n",
       "      <td>2014-08-14</td>\n",
       "      <td>136482</td>\n",
       "      <td>2014-08-08</td>\n",
       "      <td>15:26:53</td>\n",
       "      <td>45575</td>\n",
       "      <td>989.98</td>\n",
       "      <td>...</td>\n",
       "      <td>2014</td>\n",
       "      <td>8</td>\n",
       "      <td>71941</td>\n",
       "      <td>1.0</td>\n",
       "      <td>Reference - Used car dealer</td>\n",
       "      <td>2.0</td>\n",
       "      <td>NaN</td>\n",
       "      <td>NaN</td>\n",
       "      <td>NaN</td>\n",
       "      <td>NaN</td>\n",
       "    </tr>\n",
       "    <tr>\n",
       "      <th>2</th>\n",
       "      <td>2</td>\n",
       "      <td>Retail</td>\n",
       "      <td>67849</td>\n",
       "      <td>NaN</td>\n",
       "      <td>2014-08-16</td>\n",
       "      <td>135895</td>\n",
       "      <td>2014-08-06</td>\n",
       "      <td>12:49:48</td>\n",
       "      <td>45575</td>\n",
       "      <td>6473.05</td>\n",
       "      <td>...</td>\n",
       "      <td>2014</td>\n",
       "      <td>8</td>\n",
       "      <td>71941</td>\n",
       "      <td>1.0</td>\n",
       "      <td>Reference - Used car dealer</td>\n",
       "      <td>2.0</td>\n",
       "      <td>NaN</td>\n",
       "      <td>NaN</td>\n",
       "      <td>NaN</td>\n",
       "      <td>NaN</td>\n",
       "    </tr>\n",
       "    <tr>\n",
       "      <th>3</th>\n",
       "      <td>3</td>\n",
       "      <td>Retail</td>\n",
       "      <td>67849</td>\n",
       "      <td>NaN</td>\n",
       "      <td>2014-10-09</td>\n",
       "      <td>150383</td>\n",
       "      <td>2014-10-06</td>\n",
       "      <td>11:40:52</td>\n",
       "      <td>47556</td>\n",
       "      <td>0.00</td>\n",
       "      <td>...</td>\n",
       "      <td>2014</td>\n",
       "      <td>10</td>\n",
       "      <td>71941</td>\n",
       "      <td>1.0</td>\n",
       "      <td>Reference - Used car dealer</td>\n",
       "      <td>2.0</td>\n",
       "      <td>NaN</td>\n",
       "      <td>NaN</td>\n",
       "      <td>NaN</td>\n",
       "      <td>NaN</td>\n",
       "    </tr>\n",
       "    <tr>\n",
       "      <th>4</th>\n",
       "      <td>4</td>\n",
       "      <td>Retail</td>\n",
       "      <td>67849</td>\n",
       "      <td>NaN</td>\n",
       "      <td>2014-12-31</td>\n",
       "      <td>168210</td>\n",
       "      <td>2014-12-13</td>\n",
       "      <td>12:14:37</td>\n",
       "      <td>49317</td>\n",
       "      <td>1760.02</td>\n",
       "      <td>...</td>\n",
       "      <td>2014</td>\n",
       "      <td>12</td>\n",
       "      <td>71941</td>\n",
       "      <td>1.0</td>\n",
       "      <td>Reference - Used car dealer</td>\n",
       "      <td>2.0</td>\n",
       "      <td>NaN</td>\n",
       "      <td>NaN</td>\n",
       "      <td>NaN</td>\n",
       "      <td>NaN</td>\n",
       "    </tr>\n",
       "  </tbody>\n",
       "</table>\n",
       "<p>5 rows × 40 columns</p>\n",
       "</div>"
      ],
      "text/plain": [
       "   Unnamed: 0 Cust Type Customer No. Insurance Company Invoice Date  \\\n",
       "0           0    Retail        67849               NaN   2015-01-02   \n",
       "1           1    Retail        67849               NaN   2014-08-14   \n",
       "2           2    Retail        67849               NaN   2014-08-16   \n",
       "3           3    Retail        67849               NaN   2014-10-09   \n",
       "4           4    Retail        67849               NaN   2014-12-31   \n",
       "\n",
       "   Job Card No JobCard Date JobCard Time  KMs Reading  Labour Total  ...  \\\n",
       "0       168303   2014-12-13     14:29:43        49317       1203.14  ...   \n",
       "1       136482   2014-08-08     15:26:53        45575        989.98  ...   \n",
       "2       135895   2014-08-06     12:49:48        45575       6473.05  ...   \n",
       "3       150383   2014-10-06     11:40:52        47556          0.00  ...   \n",
       "4       168210   2014-12-13     12:14:37        49317       1760.02  ...   \n",
       "\n",
       "   Year  Month Business Partner  Partner Type                  Data Origin  \\\n",
       "0  2014     12            71941           1.0  Reference - Used car dealer   \n",
       "1  2014      8            71941           1.0  Reference - Used car dealer   \n",
       "2  2014      8            71941           1.0  Reference - Used car dealer   \n",
       "3  2014     10            71941           1.0  Reference - Used car dealer   \n",
       "4  2014     12            71941           1.0  Reference - Used car dealer   \n",
       "\n",
       "   Title  Marital Status Occupation Date of Birth Death date  \n",
       "0    2.0             NaN        NaN           NaN        NaN  \n",
       "1    2.0             NaN        NaN           NaN        NaN  \n",
       "2    2.0             NaN        NaN           NaN        NaN  \n",
       "3    2.0             NaN        NaN           NaN        NaN  \n",
       "4    2.0             NaN        NaN           NaN        NaN  \n",
       "\n",
       "[5 rows x 40 columns]"
      ]
     },
     "execution_count": 3,
     "metadata": {},
     "output_type": "execute_result"
    }
   ],
   "source": [
    "df=pd.read_csv('merged_final_customer.csv')\n",
    "df.head()"
   ]
  },
  {
   "cell_type": "code",
   "execution_count": 3,
   "metadata": {},
   "outputs": [],
   "source": [
    "df = df.rename(columns={'Total Amt Wtd Tax.': 'Total_Amt_Wtd_Tax'})"
   ]
  },
  {
   "cell_type": "code",
   "execution_count": 4,
   "metadata": {},
   "outputs": [
    {
     "data": {
      "text/plain": [
       "Index(['Unnamed: 0', 'Cust Type', 'Customer No.', 'Insurance Company',\n",
       "       'Invoice Date', 'Job Card No', 'JobCard Date', 'JobCard Time',\n",
       "       'KMs Reading', 'Labour Total', 'Make', 'Misc Total', 'Model',\n",
       "       'OSL Total', 'Order Type', 'Parts Total', 'Pin code', 'Plant',\n",
       "       'Plant Name1', 'Print Status', 'Recovrbl Exp', 'Technician Name',\n",
       "       'Total_Amt_Wtd_Tax', 'Total Value', 'User ID', 'Invoice_DateTime',\n",
       "       'JobCard_DateTime', 'Service_Time', 'City', 'State', 'Year', 'Month',\n",
       "       'Partner Type', 'Data Origin', 'Title'],\n",
       "      dtype='object')"
      ]
     },
     "execution_count": 4,
     "metadata": {},
     "output_type": "execute_result"
    }
   ],
   "source": [
    "df.columns"
   ]
  },
  {
   "cell_type": "raw",
   "metadata": {},
   "source": [
    "2. Marketing Recommendations.\n",
    "Approach:\n",
    "-Which marketing source is responsible in bringing which type of customer?\n",
    "-Which marketing source brings the most business?\n",
    "-What is the average income per source?\n",
    "-Which source has the most reach?"
   ]
  },
  {
   "cell_type": "markdown",
   "metadata": {},
   "source": [
    "# -Which marketing source is responsible in bringing which type of customer?"
   ]
  },
  {
   "cell_type": "raw",
   "metadata": {},
   "source": [
    "Origin\tDescription\n",
    "Z001\tCamp - Outdoor\n",
    "Z002\tCamp - Workshop\n",
    "Z003\tEmailers\n",
    "Z004\tFleet\n",
    "Z005\tReference - Customer\n",
    "Z006\tReference - Employee\n",
    "Z007\tReference - Used car dealer\n",
    "Z008\tJust Dial/Other helpline\n",
    "Z009\tSnapdeal/Other websites\n",
    "Z010\tCompany website\n",
    "Z011\tFloat activity\n",
    "Z012\tPetrol pump activity\n",
    "Z013\tHoardings/Outdoor Advertisements\n",
    "Z014\tInsurance Company\n",
    "Z015\tTelevision AD\n",
    "Z016\tNewspaper AD\n",
    "Z017\tNewspaper leaflet\n",
    "Z018\tOutdoor Sales Activity\n",
    "Z019\tSpotted the outlet\n",
    "Z020\tMahindra Sister concern Employee\n",
    "Z021\tOther outdoor activity\n",
    "Z022\tRadio\n"
   ]
  },
  {
   "cell_type": "code",
   "execution_count": 5,
   "metadata": {},
   "outputs": [
    {
     "data": {
      "text/plain": [
       "Index(['Z005', 'Z006', 'Z001', 'Z002', 'Z021', 'Z019', 'Z004', 'Z018', 'Z008',\n",
       "       'Z013'],\n",
       "      dtype='object')"
      ]
     },
     "execution_count": 5,
     "metadata": {},
     "output_type": "execute_result"
    }
   ],
   "source": [
    "df['Data Origin'].value_counts()[:10].keys()"
   ]
  },
  {
   "cell_type": "code",
   "execution_count": 6,
   "metadata": {},
   "outputs": [
    {
     "data": {
      "text/plain": [
       "Z005    78181\n",
       "Z006    65916\n",
       "Z001    58301\n",
       "Z002    29881\n",
       "Z021    21243\n",
       "Z019    18683\n",
       "Z004    17910\n",
       "Z018    13473\n",
       "Z008    12451\n",
       "Z013     8522\n",
       "Name: Data Origin, dtype: int64"
      ]
     },
     "execution_count": 6,
     "metadata": {},
     "output_type": "execute_result"
    }
   ],
   "source": [
    "df['Data Origin'].value_counts()[:10]"
   ]
  },
  {
   "cell_type": "code",
   "execution_count": 7,
   "metadata": {},
   "outputs": [],
   "source": [
    "# df['Data Origin'] = df['Data Origin'].replace(['Z005', 'Z006', 'Z001', 'Z002', 'Z021', 'Z019', 'Z004', 'Z018', 'Z008',\n",
    "#        'Z013'],['Reference Customer','Reference Employee','Camp Outdoor','Camp - Workshop','Other outdoor activity','Spotted the outlet','Fleet','Outdoor Sales Activity','Just Dial/Other helpline','Hoardings/Outdoor Advertisements'\n",
    "#             ])"
   ]
  },
  {
   "cell_type": "code",
   "execution_count": 8,
   "metadata": {},
   "outputs": [
    {
     "name": "stderr",
     "output_type": "stream",
     "text": [
      "/home/tushar/.local/lib/python3.8/site-packages/seaborn/_decorators.py:36: FutureWarning: Pass the following variables as keyword args: x, y. From version 0.12, the only valid positional argument will be `data`, and passing other arguments without an explicit keyword will result in an error or misinterpretation.\n",
      "  warnings.warn(\n"
     ]
    },
    {
     "data": {
      "image/png": "[encoded data removed]",
      "text/plain": [
       "<Figure size 720x360 with 1 Axes>"
      ]
     },
     "metadata": {
      "needs_background": "light"
     },
     "output_type": "display_data"
    }
   ],
   "source": [
    "\n",
    "data_origin_counts  = df['Data Origin'].value_counts()\n",
    "plt.figure(figsize=(10,5))\n",
    "sns.barplot(data_origin_counts.index[:10], data_origin_counts.values[:10], alpha=0.8,saturation=50)\n",
    "plt.title('COUNT PLOT FOR TOP 5 Data origin')\n",
    "plt.ylabel(' COUNTS', fontsize=12)\n",
    "plt.xlabel('Data Origin', fontsize=12)\n",
    "plt.show()"
   ]
  },
  {
   "cell_type": "markdown",
   "metadata": {},
   "source": [
    "#  top 10  'Data Origin'           top 5     'Order Type'"
   ]
  },
  {
   "cell_type": "code",
   "execution_count": 9,
   "metadata": {},
   "outputs": [
    {
     "data": {
      "text/plain": [
       "array(['Z001', 'Z005', 'Z018', 'Z021', 'Z006', 'Z008', 'Z002', 'Z013',\n",
       "       'Z004', 'Z019'], dtype=object)"
      ]
     },
     "execution_count": 9,
     "metadata": {},
     "output_type": "execute_result"
    }
   ],
   "source": [
    "df1=df[df['Data Origin'].isin(['Z005','Z006','Z001','Z002','Z021','Z019','Z004','Z018','Z008','Z013'])]\n",
    "df1=df1.loc[df1['Order Type'].isin(['Paid Service', 'Running Repairs',\n",
    "       'SMC Redemption', 'Accidental',\n",
    "       'Mechanical'])]\n",
    "df1['Data Origin'].unique()"
   ]
  },
  {
   "cell_type": "code",
   "execution_count": 10,
   "metadata": {},
   "outputs": [
    {
     "data": {
      "text/plain": [
       "array(['SMC Redemption', 'Running Repairs', 'Paid Service', 'Accidental',\n",
       "       'Mechanical'], dtype=object)"
      ]
     },
     "execution_count": 10,
     "metadata": {},
     "output_type": "execute_result"
    }
   ],
   "source": [
    "df1['Order Type'].unique()"
   ]
  },
  {
   "cell_type": "code",
   "execution_count": 11,
   "metadata": {
    "scrolled": true
   },
   "outputs": [
    {
     "data": {
      "text/html": [
       "<div>\n",
       "<style scoped>\n",
       "    .dataframe tbody tr th:only-of-type {\n",
       "        vertical-align: middle;\n",
       "    }\n",
       "\n",
       "    .dataframe tbody tr th {\n",
       "        vertical-align: top;\n",
       "    }\n",
       "\n",
       "    .dataframe thead th {\n",
       "        text-align: right;\n",
       "    }\n",
       "</style>\n",
       "<table border=\"1\" class=\"dataframe\">\n",
       "  <thead>\n",
       "    <tr style=\"text-align: right;\">\n",
       "      <th>Order Type</th>\n",
       "      <th>Accidental</th>\n",
       "      <th>Mechanical</th>\n",
       "      <th>Paid Service</th>\n",
       "      <th>Running Repairs</th>\n",
       "      <th>SMC Redemption</th>\n",
       "    </tr>\n",
       "    <tr>\n",
       "      <th>Data Origin</th>\n",
       "      <th></th>\n",
       "      <th></th>\n",
       "      <th></th>\n",
       "      <th></th>\n",
       "      <th></th>\n",
       "    </tr>\n",
       "  </thead>\n",
       "  <tbody>\n",
       "    <tr>\n",
       "      <th>Z001</th>\n",
       "      <td>4259</td>\n",
       "      <td>958</td>\n",
       "      <td>15405</td>\n",
       "      <td>32046</td>\n",
       "      <td>3516</td>\n",
       "    </tr>\n",
       "    <tr>\n",
       "      <th>Z002</th>\n",
       "      <td>1525</td>\n",
       "      <td>802</td>\n",
       "      <td>7903</td>\n",
       "      <td>16762</td>\n",
       "      <td>1834</td>\n",
       "    </tr>\n",
       "    <tr>\n",
       "      <th>Z004</th>\n",
       "      <td>1433</td>\n",
       "      <td>574</td>\n",
       "      <td>4299</td>\n",
       "      <td>10891</td>\n",
       "      <td>438</td>\n",
       "    </tr>\n",
       "    <tr>\n",
       "      <th>Z005</th>\n",
       "      <td>7069</td>\n",
       "      <td>3081</td>\n",
       "      <td>23346</td>\n",
       "      <td>41233</td>\n",
       "      <td>2097</td>\n",
       "    </tr>\n",
       "    <tr>\n",
       "      <th>Z006</th>\n",
       "      <td>7280</td>\n",
       "      <td>2270</td>\n",
       "      <td>17573</td>\n",
       "      <td>37278</td>\n",
       "      <td>901</td>\n",
       "    </tr>\n",
       "    <tr>\n",
       "      <th>Z008</th>\n",
       "      <td>1062</td>\n",
       "      <td>133</td>\n",
       "      <td>3672</td>\n",
       "      <td>6818</td>\n",
       "      <td>472</td>\n",
       "    </tr>\n",
       "    <tr>\n",
       "      <th>Z013</th>\n",
       "      <td>584</td>\n",
       "      <td>219</td>\n",
       "      <td>2601</td>\n",
       "      <td>4744</td>\n",
       "      <td>232</td>\n",
       "    </tr>\n",
       "    <tr>\n",
       "      <th>Z018</th>\n",
       "      <td>705</td>\n",
       "      <td>409</td>\n",
       "      <td>3224</td>\n",
       "      <td>8368</td>\n",
       "      <td>453</td>\n",
       "    </tr>\n",
       "    <tr>\n",
       "      <th>Z019</th>\n",
       "      <td>2181</td>\n",
       "      <td>724</td>\n",
       "      <td>4243</td>\n",
       "      <td>11094</td>\n",
       "      <td>258</td>\n",
       "    </tr>\n",
       "    <tr>\n",
       "      <th>Z021</th>\n",
       "      <td>1501</td>\n",
       "      <td>854</td>\n",
       "      <td>5041</td>\n",
       "      <td>13047</td>\n",
       "      <td>483</td>\n",
       "    </tr>\n",
       "  </tbody>\n",
       "</table>\n",
       "</div>"
      ],
      "text/plain": [
       "Order Type   Accidental  Mechanical  Paid Service  Running Repairs  \\\n",
       "Data Origin                                                          \n",
       "Z001               4259         958         15405            32046   \n",
       "Z002               1525         802          7903            16762   \n",
       "Z004               1433         574          4299            10891   \n",
       "Z005               7069        3081         23346            41233   \n",
       "Z006               7280        2270         17573            37278   \n",
       "Z008               1062         133          3672             6818   \n",
       "Z013                584         219          2601             4744   \n",
       "Z018                705         409          3224             8368   \n",
       "Z019               2181         724          4243            11094   \n",
       "Z021               1501         854          5041            13047   \n",
       "\n",
       "Order Type   SMC Redemption  \n",
       "Data Origin                  \n",
       "Z001                   3516  \n",
       "Z002                   1834  \n",
       "Z004                    438  \n",
       "Z005                   2097  \n",
       "Z006                    901  \n",
       "Z008                    472  \n",
       "Z013                    232  \n",
       "Z018                    453  \n",
       "Z019                    258  \n",
       "Z021                    483  "
      ]
     },
     "execution_count": 11,
     "metadata": {},
     "output_type": "execute_result"
    }
   ],
   "source": [
    "df1.groupby(['Data Origin','Order Type']).size().unstack()"
   ]
  },
  {
   "cell_type": "code",
   "execution_count": 12,
   "metadata": {},
   "outputs": [
    {
     "data": {
      "image/png": "[encoded data removed]",
      "text/plain": [
       "<Figure size 1440x360 with 1 Axes>"
      ]
     },
     "metadata": {},
     "output_type": "display_data"
    }
   ],
   "source": [
    "sns.set(style=\"darkgrid\")\n",
    "fig, ax = plt.subplots(figsize=(20, 5))\n",
    "sns.countplot(x=\"Data Origin\", data=df1, hue='Order Type')\n",
    "plt.xlim(-1, 15)\n",
    "plt.legend(loc='upper right')\n",
    "plt.xticks(rotation='vertical')\n",
    "plt.show()"
   ]
  },
  {
   "cell_type": "raw",
   "metadata": {},
   "source": [
    "Paid Service                Z005           Reference - Customer\n",
    "Running Repairs             Z005\n",
    "SMC Redemption              Z001           Camp - Outdoor\n",
    "Accidental                  Z006           Reference - Employee\n",
    "Mechanical                  Z005"
   ]
  },
  {
   "cell_type": "markdown",
   "metadata": {},
   "source": [
    "# top 10 Data origin title"
   ]
  },
  {
   "cell_type": "code",
   "execution_count": 13,
   "metadata": {},
   "outputs": [
    {
     "data": {
      "text/plain": [
       "array(['Z001', 'Z005', 'Z018', 'Z021', 'Z006', 'Z008', 'Z002', 'Z013',\n",
       "       'Z004', 'Z019'], dtype=object)"
      ]
     },
     "execution_count": 13,
     "metadata": {},
     "output_type": "execute_result"
    }
   ],
   "source": [
    "df2=df[df['Data Origin'].isin(['Z005','Z006','Z001','Z002','Z021','Z019','Z004','Z018','Z008','Z013'])]\n",
    "\n",
    "df2['Data Origin'].unique()"
   ]
  },
  {
   "cell_type": "code",
   "execution_count": 14,
   "metadata": {},
   "outputs": [
    {
     "data": {
      "text/html": [
       "<div>\n",
       "<style scoped>\n",
       "    .dataframe tbody tr th:only-of-type {\n",
       "        vertical-align: middle;\n",
       "    }\n",
       "\n",
       "    .dataframe tbody tr th {\n",
       "        vertical-align: top;\n",
       "    }\n",
       "\n",
       "    .dataframe thead th {\n",
       "        text-align: right;\n",
       "    }\n",
       "</style>\n",
       "<table border=\"1\" class=\"dataframe\">\n",
       "  <thead>\n",
       "    <tr style=\"text-align: right;\">\n",
       "      <th>Title</th>\n",
       "      <th>1.0</th>\n",
       "      <th>2.0</th>\n",
       "    </tr>\n",
       "    <tr>\n",
       "      <th>Data Origin</th>\n",
       "      <th></th>\n",
       "      <th></th>\n",
       "    </tr>\n",
       "  </thead>\n",
       "  <tbody>\n",
       "    <tr>\n",
       "      <th>Z001</th>\n",
       "      <td>2626</td>\n",
       "      <td>55675</td>\n",
       "    </tr>\n",
       "    <tr>\n",
       "      <th>Z002</th>\n",
       "      <td>1293</td>\n",
       "      <td>28588</td>\n",
       "    </tr>\n",
       "    <tr>\n",
       "      <th>Z004</th>\n",
       "      <td>857</td>\n",
       "      <td>17053</td>\n",
       "    </tr>\n",
       "    <tr>\n",
       "      <th>Z005</th>\n",
       "      <td>3886</td>\n",
       "      <td>74295</td>\n",
       "    </tr>\n",
       "    <tr>\n",
       "      <th>Z006</th>\n",
       "      <td>3734</td>\n",
       "      <td>62182</td>\n",
       "    </tr>\n",
       "    <tr>\n",
       "      <th>Z008</th>\n",
       "      <td>311</td>\n",
       "      <td>12140</td>\n",
       "    </tr>\n",
       "    <tr>\n",
       "      <th>Z013</th>\n",
       "      <td>316</td>\n",
       "      <td>8206</td>\n",
       "    </tr>\n",
       "    <tr>\n",
       "      <th>Z018</th>\n",
       "      <td>459</td>\n",
       "      <td>13014</td>\n",
       "    </tr>\n",
       "    <tr>\n",
       "      <th>Z019</th>\n",
       "      <td>641</td>\n",
       "      <td>18042</td>\n",
       "    </tr>\n",
       "    <tr>\n",
       "      <th>Z021</th>\n",
       "      <td>669</td>\n",
       "      <td>20574</td>\n",
       "    </tr>\n",
       "  </tbody>\n",
       "</table>\n",
       "</div>"
      ],
      "text/plain": [
       "Title         1.0    2.0\n",
       "Data Origin             \n",
       "Z001         2626  55675\n",
       "Z002         1293  28588\n",
       "Z004          857  17053\n",
       "Z005         3886  74295\n",
       "Z006         3734  62182\n",
       "Z008          311  12140\n",
       "Z013          316   8206\n",
       "Z018          459  13014\n",
       "Z019          641  18042\n",
       "Z021          669  20574"
      ]
     },
     "execution_count": 14,
     "metadata": {},
     "output_type": "execute_result"
    }
   ],
   "source": [
    "df2.groupby(['Data Origin','Title']).size().unstack()"
   ]
  },
  {
   "cell_type": "code",
   "execution_count": 4,
   "metadata": {},
   "outputs": [
    {
     "ename": "NameError",
     "evalue": "name 'df2' is not defined",
     "output_type": "error",
     "traceback": [
      "\u001b[1;31m---------------------------------------------------------------------------\u001b[0m",
      "\u001b[1;31mNameError\u001b[0m                                 Traceback (most recent call last)",
      "\u001b[1;32m<ipython-input-4-89f49b1a508e>\u001b[0m in \u001b[0;36m<module>\u001b[1;34m\u001b[0m\n\u001b[0;32m      1\u001b[0m \u001b[0msns\u001b[0m\u001b[1;33m.\u001b[0m\u001b[0mset\u001b[0m\u001b[1;33m(\u001b[0m\u001b[0mstyle\u001b[0m\u001b[1;33m=\u001b[0m\u001b[1;34m\"darkgrid\"\u001b[0m\u001b[1;33m)\u001b[0m\u001b[1;33m\u001b[0m\u001b[1;33m\u001b[0m\u001b[0m\n\u001b[0;32m      2\u001b[0m \u001b[0mfig\u001b[0m\u001b[1;33m,\u001b[0m \u001b[0max\u001b[0m \u001b[1;33m=\u001b[0m \u001b[0mplt\u001b[0m\u001b[1;33m.\u001b[0m\u001b[0msubplots\u001b[0m\u001b[1;33m(\u001b[0m\u001b[0mfigsize\u001b[0m\u001b[1;33m=\u001b[0m\u001b[1;33m(\u001b[0m\u001b[1;36m20\u001b[0m\u001b[1;33m,\u001b[0m \u001b[1;36m15\u001b[0m\u001b[1;33m)\u001b[0m\u001b[1;33m)\u001b[0m\u001b[1;33m\u001b[0m\u001b[1;33m\u001b[0m\u001b[0m\n\u001b[1;32m----> 3\u001b[1;33m \u001b[0msns\u001b[0m\u001b[1;33m.\u001b[0m\u001b[0mcountplot\u001b[0m\u001b[1;33m(\u001b[0m\u001b[0mx\u001b[0m\u001b[1;33m=\u001b[0m\u001b[1;34m\"Data Origin\"\u001b[0m\u001b[1;33m,\u001b[0m \u001b[0mdata\u001b[0m\u001b[1;33m=\u001b[0m\u001b[0mdf2\u001b[0m\u001b[1;33m,\u001b[0m \u001b[0mhue\u001b[0m\u001b[1;33m=\u001b[0m\u001b[1;34m'Title'\u001b[0m\u001b[1;33m)\u001b[0m\u001b[1;33m\u001b[0m\u001b[1;33m\u001b[0m\u001b[0m\n\u001b[0m\u001b[0;32m      4\u001b[0m \u001b[0mplt\u001b[0m\u001b[1;33m.\u001b[0m\u001b[0mxlim\u001b[0m\u001b[1;33m(\u001b[0m\u001b[1;33m-\u001b[0m\u001b[1;36m1\u001b[0m\u001b[1;33m,\u001b[0m \u001b[1;36m15\u001b[0m\u001b[1;33m)\u001b[0m\u001b[1;33m\u001b[0m\u001b[1;33m\u001b[0m\u001b[0m\n\u001b[0;32m      5\u001b[0m \u001b[0mplt\u001b[0m\u001b[1;33m.\u001b[0m\u001b[0mlegend\u001b[0m\u001b[1;33m(\u001b[0m\u001b[0mloc\u001b[0m\u001b[1;33m=\u001b[0m\u001b[1;34m'upper right'\u001b[0m\u001b[1;33m)\u001b[0m\u001b[1;33m\u001b[0m\u001b[1;33m\u001b[0m\u001b[0m\n",
      "\u001b[1;31mNameError\u001b[0m: name 'df2' is not defined"
     ]
    },
    {
     "data": {
      "image/png": "[encoded data removed]",
      "text/plain": [
       "<Figure size 1440x1080 with 1 Axes>"
      ]
     },
     "metadata": {},
     "output_type": "display_data"
    }
   ],
   "source": [
    "sns.set(style=\"darkgrid\")\n",
    "fig, ax = plt.subplots(figsize=(20, 15))\n",
    "sns.countplot(x=\"Data Origin\", data=df2, hue='Title')\n",
    "plt.xlim(-1, 15)\n",
    "plt.legend(loc='upper right')\n",
    "plt.xticks(rotation='vertical')\n",
    "plt.show()"
   ]
  },
  {
   "cell_type": "code",
   "execution_count": null,
   "metadata": {},
   "outputs": [],
   "source": []
  },
  {
   "cell_type": "code",
   "execution_count": null,
   "metadata": {},
   "outputs": [],
   "source": []
  },
  {
   "cell_type": "markdown",
   "metadata": {},
   "source": [
    "# -Which marketing source brings the most business?"
   ]
  },
  {
   "cell_type": "code",
   "execution_count": 16,
   "metadata": {},
   "outputs": [
    {
     "data": {
      "text/plain": [
       "array(['Z001', 'Z005', 'Z018', 'Z021', 'Z006', 'Z008', 'Z002', 'Z013',\n",
       "       'Z004', 'Z019'], dtype=object)"
      ]
     },
     "execution_count": 16,
     "metadata": {},
     "output_type": "execute_result"
    }
   ],
   "source": [
    "df3=df[df['Data Origin'].isin(['Z005','Z006','Z001','Z002','Z021','Z019','Z004','Z018','Z008','Z013'])]\n",
    "\n",
    "df3['Data Origin'].unique()"
   ]
  },
  {
   "cell_type": "code",
   "execution_count": 17,
   "metadata": {},
   "outputs": [
    {
     "data": {
      "text/plain": [
       "array(['SMC Value Package', 'SMC Redemption', 'Running Repairs',\n",
       "       'Paid Service', 'Accidental', 'Mechanical', 'WBW Order',\n",
       "       'Workshop Damage', 'Repeat Order'], dtype=object)"
      ]
     },
     "execution_count": 17,
     "metadata": {},
     "output_type": "execute_result"
    }
   ],
   "source": [
    "df3['Order Type'].unique()"
   ]
  },
  {
   "cell_type": "code",
   "execution_count": 18,
   "metadata": {},
   "outputs": [
    {
     "data": {
      "text/html": [
       "<div>\n",
       "<style scoped>\n",
       "    .dataframe tbody tr th:only-of-type {\n",
       "        vertical-align: middle;\n",
       "    }\n",
       "\n",
       "    .dataframe tbody tr th {\n",
       "        vertical-align: top;\n",
       "    }\n",
       "\n",
       "    .dataframe thead th {\n",
       "        text-align: right;\n",
       "    }\n",
       "</style>\n",
       "<table border=\"1\" class=\"dataframe\">\n",
       "  <thead>\n",
       "    <tr style=\"text-align: right;\">\n",
       "      <th>Data Origin</th>\n",
       "      <th>Z001</th>\n",
       "      <th>Z002</th>\n",
       "      <th>Z004</th>\n",
       "      <th>Z005</th>\n",
       "      <th>Z006</th>\n",
       "      <th>Z008</th>\n",
       "      <th>Z013</th>\n",
       "      <th>Z018</th>\n",
       "      <th>Z019</th>\n",
       "      <th>Z021</th>\n",
       "    </tr>\n",
       "    <tr>\n",
       "      <th>Year</th>\n",
       "      <th></th>\n",
       "      <th></th>\n",
       "      <th></th>\n",
       "      <th></th>\n",
       "      <th></th>\n",
       "      <th></th>\n",
       "      <th></th>\n",
       "      <th></th>\n",
       "      <th></th>\n",
       "      <th></th>\n",
       "    </tr>\n",
       "  </thead>\n",
       "  <tbody>\n",
       "    <tr>\n",
       "      <th>2012</th>\n",
       "      <td>1.032371e+07</td>\n",
       "      <td>1.104203e+06</td>\n",
       "      <td>4.810681e+05</td>\n",
       "      <td>7.383441e+06</td>\n",
       "      <td>3.374641e+06</td>\n",
       "      <td>2.047383e+06</td>\n",
       "      <td>2.754308e+06</td>\n",
       "      <td>1.161358e+06</td>\n",
       "      <td>9.658539e+05</td>\n",
       "      <td>7.444610e+05</td>\n",
       "    </tr>\n",
       "    <tr>\n",
       "      <th>2013</th>\n",
       "      <td>4.240897e+07</td>\n",
       "      <td>7.909862e+06</td>\n",
       "      <td>2.581230e+06</td>\n",
       "      <td>2.336089e+07</td>\n",
       "      <td>1.419809e+07</td>\n",
       "      <td>1.582670e+07</td>\n",
       "      <td>9.486596e+06</td>\n",
       "      <td>6.693084e+06</td>\n",
       "      <td>3.503849e+06</td>\n",
       "      <td>1.494356e+07</td>\n",
       "    </tr>\n",
       "    <tr>\n",
       "      <th>2014</th>\n",
       "      <td>7.322617e+07</td>\n",
       "      <td>3.004569e+07</td>\n",
       "      <td>9.529924e+06</td>\n",
       "      <td>5.171319e+07</td>\n",
       "      <td>3.527246e+07</td>\n",
       "      <td>1.949266e+07</td>\n",
       "      <td>5.198521e+06</td>\n",
       "      <td>1.436083e+07</td>\n",
       "      <td>1.373267e+07</td>\n",
       "      <td>1.792153e+07</td>\n",
       "    </tr>\n",
       "    <tr>\n",
       "      <th>2015</th>\n",
       "      <td>6.892480e+07</td>\n",
       "      <td>2.746701e+07</td>\n",
       "      <td>1.991793e+07</td>\n",
       "      <td>9.347662e+07</td>\n",
       "      <td>9.697788e+07</td>\n",
       "      <td>1.506647e+07</td>\n",
       "      <td>7.069746e+06</td>\n",
       "      <td>1.271248e+07</td>\n",
       "      <td>2.939467e+07</td>\n",
       "      <td>2.297050e+07</td>\n",
       "    </tr>\n",
       "    <tr>\n",
       "      <th>2016</th>\n",
       "      <td>6.252590e+07</td>\n",
       "      <td>4.121028e+07</td>\n",
       "      <td>4.362120e+07</td>\n",
       "      <td>1.925476e+08</td>\n",
       "      <td>1.738936e+08</td>\n",
       "      <td>8.036328e+06</td>\n",
       "      <td>1.200465e+07</td>\n",
       "      <td>1.536108e+07</td>\n",
       "      <td>4.491300e+07</td>\n",
       "      <td>3.061908e+07</td>\n",
       "    </tr>\n",
       "  </tbody>\n",
       "</table>\n",
       "</div>"
      ],
      "text/plain": [
       "Data Origin          Z001          Z002          Z004          Z005  \\\n",
       "Year                                                                  \n",
       "2012         1.032371e+07  1.104203e+06  4.810681e+05  7.383441e+06   \n",
       "2013         4.240897e+07  7.909862e+06  2.581230e+06  2.336089e+07   \n",
       "2014         7.322617e+07  3.004569e+07  9.529924e+06  5.171319e+07   \n",
       "2015         6.892480e+07  2.746701e+07  1.991793e+07  9.347662e+07   \n",
       "2016         6.252590e+07  4.121028e+07  4.362120e+07  1.925476e+08   \n",
       "\n",
       "Data Origin          Z006          Z008          Z013          Z018  \\\n",
       "Year                                                                  \n",
       "2012         3.374641e+06  2.047383e+06  2.754308e+06  1.161358e+06   \n",
       "2013         1.419809e+07  1.582670e+07  9.486596e+06  6.693084e+06   \n",
       "2014         3.527246e+07  1.949266e+07  5.198521e+06  1.436083e+07   \n",
       "2015         9.697788e+07  1.506647e+07  7.069746e+06  1.271248e+07   \n",
       "2016         1.738936e+08  8.036328e+06  1.200465e+07  1.536108e+07   \n",
       "\n",
       "Data Origin          Z019          Z021  \n",
       "Year                                     \n",
       "2012         9.658539e+05  7.444610e+05  \n",
       "2013         3.503849e+06  1.494356e+07  \n",
       "2014         1.373267e+07  1.792153e+07  \n",
       "2015         2.939467e+07  2.297050e+07  \n",
       "2016         4.491300e+07  3.061908e+07  "
      ]
     },
     "execution_count": 18,
     "metadata": {},
     "output_type": "execute_result"
    }
   ],
   "source": [
    "df4=df3.groupby(['Year',\"Data Origin\"]).Total_Amt_Wtd_Tax.sum().unstack()\n",
    "df4"
   ]
  },
  {
   "cell_type": "code",
   "execution_count": 19,
   "metadata": {},
   "outputs": [
    {
     "data": {
      "text/plain": [
       "<AxesSubplot:xlabel='Month'>"
      ]
     },
     "execution_count": 19,
     "metadata": {},
     "output_type": "execute_result"
    },
    {
     "data": {
      "image/png": "[encoded data removed]",
      "text/plain": [
       "<Figure size 1080x504 with 1 Axes>"
      ]
     },
     "metadata": {},
     "output_type": "display_data"
    }
   ],
   "source": [
    "import matplotlib.pyplot as plt\n",
    "import seaborn as sns\n",
    "fig, ax = plt.subplots(figsize=(15,7))\n",
    "\n",
    "df1.groupby(['Month',\"Data Origin\"]).Total_Amt_Wtd_Tax.sum().unstack().plot(ax=ax)"
   ]
  },
  {
   "cell_type": "markdown",
   "metadata": {},
   "source": [
    "# -What is the average income per source?"
   ]
  },
  {
   "cell_type": "code",
   "execution_count": 21,
   "metadata": {},
   "outputs": [
    {
     "data": {
      "text/plain": [
       "array(['Z007', 'Z001', 'Z005', 'Z018', 'Z021', 'Z014', 'Z006', 'Z009',\n",
       "       'Z008', 'Z010', 'Z017', 'Z016', 'Z002', 'Z013', 'Z011', 'Z012',\n",
       "       'Z004', 'Z020', 'Z019', 'Z003', 'Z015', 'Z022'], dtype=object)"
      ]
     },
     "execution_count": 21,
     "metadata": {},
     "output_type": "execute_result"
    }
   ],
   "source": [
    "df['Data Origin'].unique()"
   ]
  },
  {
   "cell_type": "code",
   "execution_count": 26,
   "metadata": {},
   "outputs": [
    {
     "data": {
      "text/plain": [
       "Data Origin\n",
       "Z001     4415.182467\n",
       "Z002     3605.536524\n",
       "Z003     3645.619079\n",
       "Z004     4250.773323\n",
       "Z005     4713.188443\n",
       "Z006     4911.047771\n",
       "Z007     6246.911214\n",
       "Z008     4856.601290\n",
       "Z009     3841.768324\n",
       "Z010     3981.143633\n",
       "Z011     3654.761049\n",
       "Z012     2497.773528\n",
       "Z013     4284.654381\n",
       "Z014    17203.861185\n",
       "Z015     4097.415268\n",
       "Z016     3812.519035\n",
       "Z017     3601.926503\n",
       "Z018     3732.563417\n",
       "Z019     4951.562602\n",
       "Z020     4362.708321\n",
       "Z021     4104.840684\n",
       "Z022     3045.694740\n",
       "Name: Total_Amt_Wtd_Tax, dtype: float64"
      ]
     },
     "execution_count": 26,
     "metadata": {},
     "output_type": "execute_result"
    }
   ],
   "source": [
    "df.groupby('Data Origin').Total_Amt_Wtd_Tax.mean()"
   ]
  },
  {
   "cell_type": "code",
   "execution_count": 31,
   "metadata": {},
   "outputs": [
    {
     "name": "stderr",
     "output_type": "stream",
     "text": [
      "/home/tushar/.local/lib/python3.8/site-packages/seaborn/_decorators.py:36: FutureWarning: Pass the following variables as keyword args: x, y. From version 0.12, the only valid positional argument will be `data`, and passing other arguments without an explicit keyword will result in an error or misinterpretation.\n",
      "  warnings.warn(\n"
     ]
    },
    {
     "data": {
      "image/png": "[encoded data removed]",
      "text/plain": [
       "<Figure size 720x360 with 1 Axes>"
      ]
     },
     "metadata": {},
     "output_type": "display_data"
    }
   ],
   "source": [
    "b=df.groupby('Data Origin').Total_Amt_Wtd_Tax.mean().sort_values( ascending=False)\n",
    "plt.figure(figsize=(10,5))\n",
    "sns.barplot(b.index, b.values, alpha=0.8,saturation=50)\n",
    "plt.title('Order type wise Labore cost distribution')\n",
    "plt.ylabel('Total amt', fontsize=12)\n",
    "plt.xlabel('Data Origin', fontsize=12)\n",
    "plt.xticks(rotation=45)\n",
    "plt.show()"
   ]
  },
  {
   "cell_type": "code",
   "execution_count": 33,
   "metadata": {},
   "outputs": [
    {
     "name": "stderr",
     "output_type": "stream",
     "text": [
      "/home/tushar/.local/lib/python3.8/site-packages/seaborn/_decorators.py:36: FutureWarning: Pass the following variables as keyword args: x, y. From version 0.12, the only valid positional argument will be `data`, and passing other arguments without an explicit keyword will result in an error or misinterpretation.\n",
      "  warnings.warn(\n"
     ]
    },
    {
     "data": {
      "image/png": "[encoded data removed]",
      "text/plain": [
       "<Figure size 720x360 with 1 Axes>"
      ]
     },
     "metadata": {},
     "output_type": "display_data"
    }
   ],
   "source": [
    "\n",
    "data_origin_counts  = df['Data Origin'].value_counts()\n",
    "plt.figure(figsize=(10,5))\n",
    "sns.barplot(data_origin_counts.index[:], data_origin_counts.values[:], alpha=0.8,saturation=50)\n",
    "plt.title('COUNT PLOT FOR TOP 5 Data origin')\n",
    "plt.ylabel(' COUNTS', fontsize=12)\n",
    "plt.xlabel('Data Origin', fontsize=12)\n",
    "plt.xticks(rotation=45)\n",
    "plt.show()"
   ]
  },
  {
   "cell_type": "code",
   "execution_count": null,
   "metadata": {},
   "outputs": [],
   "source": []
  },
  {
   "cell_type": "code",
   "execution_count": null,
   "metadata": {},
   "outputs": [],
   "source": []
  },
  {
   "cell_type": "code",
   "execution_count": null,
   "metadata": {},
   "outputs": [],
   "source": []
  },
  {
   "cell_type": "code",
   "execution_count": null,
   "metadata": {},
   "outputs": [],
   "source": []
  },
  {
   "cell_type": "code",
   "execution_count": null,
   "metadata": {},
   "outputs": [],
   "source": []
  },
  {
   "cell_type": "code",
   "execution_count": null,
   "metadata": {},
   "outputs": [],
   "source": []
  },
  {
   "cell_type": "code",
   "execution_count": null,
   "metadata": {},
   "outputs": [],
   "source": []
  },
  {
   "cell_type": "code",
   "execution_count": null,
   "metadata": {},
   "outputs": [],
   "source": []
  },
  {
   "cell_type": "code",
   "execution_count": null,
   "metadata": {},
   "outputs": [],
   "source": []
  },
  {
   "cell_type": "code",
   "execution_count": null,
   "metadata": {},
   "outputs": [],
   "source": []
  },
  {
   "cell_type": "code",
   "execution_count": null,
   "metadata": {},
   "outputs": [],
   "source": []
  }
 ],
 "metadata": {
  "kernelspec": {
   "display_name": "Python 3",
   "language": "python",
   "name": "python3"
  },
  "language_info": {
   "codemirror_mode": {
    "name": "ipython",
    "version": 3
   },
   "file_extension": ".py",
   "mimetype": "text/x-python",
   "name": "python",
   "nbconvert_exporter": "python",
   "pygments_lexer": "ipython3",
   "version": "3.7.6"
  }
 },
 "nbformat": 4,
 "nbformat_minor": 4
}
