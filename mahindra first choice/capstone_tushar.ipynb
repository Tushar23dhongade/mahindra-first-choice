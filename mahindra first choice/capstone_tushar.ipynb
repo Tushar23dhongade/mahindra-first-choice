{
 "cells": [
  {
   "cell_type": "code",
   "execution_count": 1,
   "metadata": {},
   "outputs": [],
   "source": [
    "import pandas as pd\n",
    "import numpy as np\n",
    "import xlrd\n",
    "import matplotlib.pyplot as plt\n",
    "import seaborn as sns"
   ]
  },
  {
   "cell_type": "markdown",
   "metadata": {},
   "source": [
    "# Plant_ Master"
   ]
  },
  {
   "cell_type": "code",
   "execution_count": 4,
   "metadata": {},
   "outputs": [],
   "source": [
    "plant_data = pd.read_excel('Plant Master.xlsx')"
   ]
  },
  {
   "cell_type": "code",
   "execution_count": 5,
   "metadata": {},
   "outputs": [
    {
     "data": {
      "text/html": [
       "<div>\n",
       "<style scoped>\n",
       "    .dataframe tbody tr th:only-of-type {\n",
       "        vertical-align: middle;\n",
       "    }\n",
       "\n",
       "    .dataframe tbody tr th {\n",
       "        vertical-align: top;\n",
       "    }\n",
       "\n",
       "    .dataframe thead th {\n",
       "        text-align: right;\n",
       "    }\n",
       "</style>\n",
       "<table border=\"1\" class=\"dataframe\">\n",
       "  <thead>\n",
       "    <tr style=\"text-align: right;\">\n",
       "      <th></th>\n",
       "      <th>Plant</th>\n",
       "      <th>Name 1</th>\n",
       "      <th>Valuation Area</th>\n",
       "      <th>Customer no. - plant</th>\n",
       "      <th>Vendor number plant</th>\n",
       "      <th>Factory calendar</th>\n",
       "      <th>Name 2</th>\n",
       "      <th>House number and street</th>\n",
       "      <th>PO Box</th>\n",
       "      <th>Postal Code</th>\n",
       "      <th>City</th>\n",
       "      <th>Sales organization</th>\n",
       "      <th>State</th>\n",
       "    </tr>\n",
       "  </thead>\n",
       "  <tbody>\n",
       "    <tr>\n",
       "      <th>0</th>\n",
       "      <td>BC07</td>\n",
       "      <td>NERKUNDRAM</td>\n",
       "      <td>BC07</td>\n",
       "      <td>PLBC07</td>\n",
       "      <td>PLBC07</td>\n",
       "      <td>IN</td>\n",
       "      <td>NaN</td>\n",
       "      <td>No.117 Poonamallee High Road,</td>\n",
       "      <td>600107.0</td>\n",
       "      <td>600107</td>\n",
       "      <td>Chennai</td>\n",
       "      <td>MFCS</td>\n",
       "      <td>Tamil Nadu</td>\n",
       "    </tr>\n",
       "    <tr>\n",
       "      <th>1</th>\n",
       "      <td>BC30</td>\n",
       "      <td>SAS NAGAR - MOHALI</td>\n",
       "      <td>BC30</td>\n",
       "      <td>PLBC30</td>\n",
       "      <td>PLBC30</td>\n",
       "      <td>IN</td>\n",
       "      <td>NaN</td>\n",
       "      <td>C-118, Phase 07,</td>\n",
       "      <td>160055.0</td>\n",
       "      <td>160055</td>\n",
       "      <td>Mohali</td>\n",
       "      <td>MFCS</td>\n",
       "      <td>Punjab</td>\n",
       "    </tr>\n",
       "    <tr>\n",
       "      <th>2</th>\n",
       "      <td>X001</td>\n",
       "      <td>X001 - AUTO PLANET WHEELS</td>\n",
       "      <td>X001</td>\n",
       "      <td>PLX001</td>\n",
       "      <td>NaN</td>\n",
       "      <td>IN</td>\n",
       "      <td>Thane</td>\n",
       "      <td>Unit No.3, Kothari Compound,</td>\n",
       "      <td>400610.0</td>\n",
       "      <td>400610</td>\n",
       "      <td>Thane</td>\n",
       "      <td>MFCA</td>\n",
       "      <td>Maharashtra</td>\n",
       "    </tr>\n",
       "    <tr>\n",
       "      <th>3</th>\n",
       "      <td>X002</td>\n",
       "      <td>X002 - BHANDARI INDUSTRIES PVT</td>\n",
       "      <td>X002</td>\n",
       "      <td>PLX002</td>\n",
       "      <td>NaN</td>\n",
       "      <td>IN</td>\n",
       "      <td>Ghaziabad</td>\n",
       "      <td>18/1, C Site 4, Sahibabad</td>\n",
       "      <td>201010.0</td>\n",
       "      <td>201010</td>\n",
       "      <td>Ghaziabad</td>\n",
       "      <td>MFCA</td>\n",
       "      <td>Uttar Pradesh</td>\n",
       "    </tr>\n",
       "    <tr>\n",
       "      <th>4</th>\n",
       "      <td>X003</td>\n",
       "      <td>X003 - Om Sri Satya Sai Automo</td>\n",
       "      <td>X003</td>\n",
       "      <td>PLX003</td>\n",
       "      <td>NaN</td>\n",
       "      <td>IN</td>\n",
       "      <td>Bengaluru</td>\n",
       "      <td>#75, Sy.No. 83/2, Panathur Mai</td>\n",
       "      <td>560087.0</td>\n",
       "      <td>560087</td>\n",
       "      <td>Bengaluru</td>\n",
       "      <td>MFCB</td>\n",
       "      <td>Karnataka</td>\n",
       "    </tr>\n",
       "  </tbody>\n",
       "</table>\n",
       "</div>"
      ],
      "text/plain": [
       "  Plant                          Name 1 Valuation Area Customer no. - plant  \\\n",
       "0  BC07                      NERKUNDRAM           BC07               PLBC07   \n",
       "1  BC30              SAS NAGAR - MOHALI           BC30               PLBC30   \n",
       "2  X001       X001 - AUTO PLANET WHEELS           X001               PLX001   \n",
       "3  X002  X002 - BHANDARI INDUSTRIES PVT           X002               PLX002   \n",
       "4  X003  X003 - Om Sri Satya Sai Automo           X003               PLX003   \n",
       "\n",
       "  Vendor number plant Factory calendar     Name 2  \\\n",
       "0              PLBC07               IN        NaN   \n",
       "1              PLBC30               IN        NaN   \n",
       "2                 NaN               IN      Thane   \n",
       "3                 NaN               IN  Ghaziabad   \n",
       "4                 NaN               IN  Bengaluru   \n",
       "\n",
       "          House number and street    PO Box  Postal Code       City  \\\n",
       "0   No.117 Poonamallee High Road,  600107.0       600107    Chennai   \n",
       "1                C-118, Phase 07,  160055.0       160055     Mohali   \n",
       "2    Unit No.3, Kothari Compound,  400610.0       400610      Thane   \n",
       "3       18/1, C Site 4, Sahibabad  201010.0       201010  Ghaziabad   \n",
       "4  #75, Sy.No. 83/2, Panathur Mai  560087.0       560087  Bengaluru   \n",
       "\n",
       "  Sales organization          State  \n",
       "0               MFCS     Tamil Nadu  \n",
       "1               MFCS         Punjab  \n",
       "2               MFCA    Maharashtra  \n",
       "3               MFCA  Uttar Pradesh  \n",
       "4               MFCB      Karnataka  "
      ]
     },
     "execution_count": 5,
     "metadata": {},
     "output_type": "execute_result"
    }
   ],
   "source": [
    "plant_data.head()"
   ]
  },
  {
   "cell_type": "code",
   "execution_count": 6,
   "metadata": {},
   "outputs": [
    {
     "data": {
      "text/plain": [
       "(438, 13)"
      ]
     },
     "execution_count": 6,
     "metadata": {},
     "output_type": "execute_result"
    }
   ],
   "source": [
    "plant_data.shape"
   ]
  },
  {
   "cell_type": "code",
   "execution_count": 7,
   "metadata": {},
   "outputs": [
    {
     "data": {
      "text/plain": [
       "Plant                        0\n",
       "Name 1                       0\n",
       "Valuation Area               0\n",
       "Customer no. - plant         0\n",
       "Vendor number plant        436\n",
       "Factory calendar             0\n",
       "Name 2                       2\n",
       "House number and street      2\n",
       "PO Box                       1\n",
       "Postal Code                  0\n",
       "City                         0\n",
       "Sales organization           5\n",
       "State                        0\n",
       "dtype: int64"
      ]
     },
     "execution_count": 7,
     "metadata": {},
     "output_type": "execute_result"
    }
   ],
   "source": [
    "plant_data.isnull().sum()"
   ]
  },
  {
   "cell_type": "code",
   "execution_count": 8,
   "metadata": {
    "scrolled": true
   },
   "outputs": [
    {
     "data": {
      "text/html": [
       "<div>\n",
       "<style scoped>\n",
       "    .dataframe tbody tr th:only-of-type {\n",
       "        vertical-align: middle;\n",
       "    }\n",
       "\n",
       "    .dataframe tbody tr th {\n",
       "        vertical-align: top;\n",
       "    }\n",
       "\n",
       "    .dataframe thead th {\n",
       "        text-align: right;\n",
       "    }\n",
       "</style>\n",
       "<table border=\"1\" class=\"dataframe\">\n",
       "  <thead>\n",
       "    <tr style=\"text-align: right;\">\n",
       "      <th></th>\n",
       "      <th>Plant</th>\n",
       "      <th>Name 1</th>\n",
       "      <th>Postal Code</th>\n",
       "      <th>City</th>\n",
       "      <th>State</th>\n",
       "    </tr>\n",
       "  </thead>\n",
       "  <tbody>\n",
       "    <tr>\n",
       "      <th>0</th>\n",
       "      <td>BC07</td>\n",
       "      <td>NERKUNDRAM</td>\n",
       "      <td>600107</td>\n",
       "      <td>Chennai</td>\n",
       "      <td>Tamil Nadu</td>\n",
       "    </tr>\n",
       "    <tr>\n",
       "      <th>1</th>\n",
       "      <td>BC30</td>\n",
       "      <td>SAS NAGAR - MOHALI</td>\n",
       "      <td>160055</td>\n",
       "      <td>Mohali</td>\n",
       "      <td>Punjab</td>\n",
       "    </tr>\n",
       "    <tr>\n",
       "      <th>2</th>\n",
       "      <td>X001</td>\n",
       "      <td>X001 - AUTO PLANET WHEELS</td>\n",
       "      <td>400610</td>\n",
       "      <td>Thane</td>\n",
       "      <td>Maharashtra</td>\n",
       "    </tr>\n",
       "    <tr>\n",
       "      <th>3</th>\n",
       "      <td>X002</td>\n",
       "      <td>X002 - BHANDARI INDUSTRIES PVT</td>\n",
       "      <td>201010</td>\n",
       "      <td>Ghaziabad</td>\n",
       "      <td>Uttar Pradesh</td>\n",
       "    </tr>\n",
       "    <tr>\n",
       "      <th>4</th>\n",
       "      <td>X003</td>\n",
       "      <td>X003 - Om Sri Satya Sai Automo</td>\n",
       "      <td>560087</td>\n",
       "      <td>Bengaluru</td>\n",
       "      <td>Karnataka</td>\n",
       "    </tr>\n",
       "  </tbody>\n",
       "</table>\n",
       "</div>"
      ],
      "text/plain": [
       "  Plant                          Name 1  Postal Code       City          State\n",
       "0  BC07                      NERKUNDRAM       600107    Chennai     Tamil Nadu\n",
       "1  BC30              SAS NAGAR - MOHALI       160055     Mohali         Punjab\n",
       "2  X001       X001 - AUTO PLANET WHEELS       400610      Thane    Maharashtra\n",
       "3  X002  X002 - BHANDARI INDUSTRIES PVT       201010  Ghaziabad  Uttar Pradesh\n",
       "4  X003  X003 - Om Sri Satya Sai Automo       560087  Bengaluru      Karnataka"
      ]
     },
     "execution_count": 8,
     "metadata": {},
     "output_type": "execute_result"
    }
   ],
   "source": [
    "plant=plant_data.drop(columns=['Vendor number plant', 'Valuation Area', 'Factory calendar', 'Name 2', 'House number and street', 'PO Box', 'Sales organization', 'Customer no. - plant'])\n",
    "plant.head()"
   ]
  },
  {
   "cell_type": "markdown",
   "metadata": {},
   "source": [
    "# Customer Data"
   ]
  },
  {
   "cell_type": "code",
   "execution_count": 9,
   "metadata": {},
   "outputs": [],
   "source": [
    "customer_data = pd.read_excel('./Customer_Data.xlsx', )"
   ]
  },
  {
   "cell_type": "code",
   "execution_count": 10,
   "metadata": {},
   "outputs": [
    {
     "data": {
      "text/html": [
       "<div>\n",
       "<style scoped>\n",
       "    .dataframe tbody tr th:only-of-type {\n",
       "        vertical-align: middle;\n",
       "    }\n",
       "\n",
       "    .dataframe tbody tr th {\n",
       "        vertical-align: top;\n",
       "    }\n",
       "\n",
       "    .dataframe thead th {\n",
       "        text-align: right;\n",
       "    }\n",
       "</style>\n",
       "<table border=\"1\" class=\"dataframe\">\n",
       "  <thead>\n",
       "    <tr style=\"text-align: right;\">\n",
       "      <th></th>\n",
       "      <th>Business Partner</th>\n",
       "      <th>Customer No.</th>\n",
       "      <th>Partner Type</th>\n",
       "      <th>Data Origin</th>\n",
       "      <th>Title</th>\n",
       "      <th>Marital Status</th>\n",
       "      <th>Occupation</th>\n",
       "      <th>Date of Birth</th>\n",
       "      <th>Death date</th>\n",
       "    </tr>\n",
       "  </thead>\n",
       "  <tbody>\n",
       "    <tr>\n",
       "      <th>0</th>\n",
       "      <td>31</td>\n",
       "      <td>1</td>\n",
       "      <td>1.0</td>\n",
       "      <td>Z001</td>\n",
       "      <td>NaN</td>\n",
       "      <td>NaN</td>\n",
       "      <td>NaN</td>\n",
       "      <td>NaN</td>\n",
       "      <td>NaT</td>\n",
       "    </tr>\n",
       "    <tr>\n",
       "      <th>1</th>\n",
       "      <td>32</td>\n",
       "      <td>2</td>\n",
       "      <td>1.0</td>\n",
       "      <td>Z005</td>\n",
       "      <td>NaN</td>\n",
       "      <td>NaN</td>\n",
       "      <td>NaN</td>\n",
       "      <td>NaN</td>\n",
       "      <td>NaT</td>\n",
       "    </tr>\n",
       "    <tr>\n",
       "      <th>2</th>\n",
       "      <td>34</td>\n",
       "      <td>4</td>\n",
       "      <td>1.0</td>\n",
       "      <td>Z005</td>\n",
       "      <td>NaN</td>\n",
       "      <td>2.0</td>\n",
       "      <td>NaN</td>\n",
       "      <td>NaN</td>\n",
       "      <td>NaT</td>\n",
       "    </tr>\n",
       "    <tr>\n",
       "      <th>3</th>\n",
       "      <td>35</td>\n",
       "      <td>5</td>\n",
       "      <td>1.0</td>\n",
       "      <td>Z005</td>\n",
       "      <td>NaN</td>\n",
       "      <td>NaN</td>\n",
       "      <td>NaN</td>\n",
       "      <td>NaN</td>\n",
       "      <td>NaT</td>\n",
       "    </tr>\n",
       "    <tr>\n",
       "      <th>4</th>\n",
       "      <td>42</td>\n",
       "      <td>7</td>\n",
       "      <td>1.0</td>\n",
       "      <td>Z008</td>\n",
       "      <td>NaN</td>\n",
       "      <td>NaN</td>\n",
       "      <td>NaN</td>\n",
       "      <td>NaN</td>\n",
       "      <td>NaT</td>\n",
       "    </tr>\n",
       "  </tbody>\n",
       "</table>\n",
       "</div>"
      ],
      "text/plain": [
       "  Business Partner Customer No.  Partner Type Data Origin  Title  \\\n",
       "0               31            1           1.0        Z001    NaN   \n",
       "1               32            2           1.0        Z005    NaN   \n",
       "2               34            4           1.0        Z005    NaN   \n",
       "3               35            5           1.0        Z005    NaN   \n",
       "4               42            7           1.0        Z008    NaN   \n",
       "\n",
       "   Marital Status  Occupation Date of Birth Death date  \n",
       "0             NaN         NaN           NaN        NaT  \n",
       "1             NaN         NaN           NaN        NaT  \n",
       "2             2.0         NaN           NaN        NaT  \n",
       "3             NaN         NaN           NaN        NaT  \n",
       "4             NaN         NaN           NaN        NaT  "
      ]
     },
     "execution_count": 10,
     "metadata": {},
     "output_type": "execute_result"
    }
   ],
   "source": [
    "customer_data.head()"
   ]
  },
  {
   "cell_type": "code",
   "execution_count": 11,
   "metadata": {},
   "outputs": [
    {
     "data": {
      "text/plain": [
       "(555338, 9)"
      ]
     },
     "execution_count": 11,
     "metadata": {},
     "output_type": "execute_result"
    }
   ],
   "source": [
    "customer_data.shape"
   ]
  },
  {
   "cell_type": "code",
   "execution_count": 12,
   "metadata": {},
   "outputs": [
    {
     "data": {
      "text/plain": [
       "Business Partner         0\n",
       "Customer No.             0\n",
       "Partner Type            78\n",
       "Data Origin            136\n",
       "Title                46307\n",
       "Marital Status      539301\n",
       "Occupation          540780\n",
       "Date of Birth       541894\n",
       "Death date          554675\n",
       "dtype: int64"
      ]
     },
     "execution_count": 12,
     "metadata": {},
     "output_type": "execute_result"
    }
   ],
   "source": [
    "customer_data.isnull().sum()"
   ]
  },
  {
   "cell_type": "code",
   "execution_count": 13,
   "metadata": {},
   "outputs": [
    {
     "data": {
      "text/html": [
       "<div>\n",
       "<style scoped>\n",
       "    .dataframe tbody tr th:only-of-type {\n",
       "        vertical-align: middle;\n",
       "    }\n",
       "\n",
       "    .dataframe tbody tr th {\n",
       "        vertical-align: top;\n",
       "    }\n",
       "\n",
       "    .dataframe thead th {\n",
       "        text-align: right;\n",
       "    }\n",
       "</style>\n",
       "<table border=\"1\" class=\"dataframe\">\n",
       "  <thead>\n",
       "    <tr style=\"text-align: right;\">\n",
       "      <th></th>\n",
       "      <th>Customer No.</th>\n",
       "      <th>Partner Type</th>\n",
       "      <th>Data Origin</th>\n",
       "      <th>Title</th>\n",
       "    </tr>\n",
       "  </thead>\n",
       "  <tbody>\n",
       "    <tr>\n",
       "      <th>0</th>\n",
       "      <td>1</td>\n",
       "      <td>1.0</td>\n",
       "      <td>Z001</td>\n",
       "      <td>NaN</td>\n",
       "    </tr>\n",
       "    <tr>\n",
       "      <th>1</th>\n",
       "      <td>2</td>\n",
       "      <td>1.0</td>\n",
       "      <td>Z005</td>\n",
       "      <td>NaN</td>\n",
       "    </tr>\n",
       "    <tr>\n",
       "      <th>2</th>\n",
       "      <td>4</td>\n",
       "      <td>1.0</td>\n",
       "      <td>Z005</td>\n",
       "      <td>NaN</td>\n",
       "    </tr>\n",
       "    <tr>\n",
       "      <th>3</th>\n",
       "      <td>5</td>\n",
       "      <td>1.0</td>\n",
       "      <td>Z005</td>\n",
       "      <td>NaN</td>\n",
       "    </tr>\n",
       "    <tr>\n",
       "      <th>4</th>\n",
       "      <td>7</td>\n",
       "      <td>1.0</td>\n",
       "      <td>Z008</td>\n",
       "      <td>NaN</td>\n",
       "    </tr>\n",
       "  </tbody>\n",
       "</table>\n",
       "</div>"
      ],
      "text/plain": [
       "  Customer No.  Partner Type Data Origin  Title\n",
       "0            1           1.0        Z001    NaN\n",
       "1            2           1.0        Z005    NaN\n",
       "2            4           1.0        Z005    NaN\n",
       "3            5           1.0        Z005    NaN\n",
       "4            7           1.0        Z008    NaN"
      ]
     },
     "execution_count": 13,
     "metadata": {},
     "output_type": "execute_result"
    }
   ],
   "source": [
    "customer=customer_data.drop(columns = ['Marital Status', 'Occupation', 'Date of Birth', 'Death date', 'Business Partner'])\n",
    "customer.head()"
   ]
  },
  {
   "cell_type": "code",
   "execution_count": 14,
   "metadata": {},
   "outputs": [],
   "source": [
    "value = customer_data['Partner Type'].mode()\n",
    "customer['Partner Type'] = customer_data['Partner Type'].fillna(value[0])"
   ]
  },
  {
   "cell_type": "code",
   "execution_count": 15,
   "metadata": {},
   "outputs": [
    {
     "data": {
      "text/plain": [
       "1.0"
      ]
     },
     "execution_count": 15,
     "metadata": {},
     "output_type": "execute_result"
    }
   ],
   "source": [
    "value[0]"
   ]
  },
  {
   "cell_type": "code",
   "execution_count": 16,
   "metadata": {},
   "outputs": [],
   "source": [
    "customer['Data Origin'] = customer_data['Data Origin'].fillna(customer_data['Data Origin'].mode()[0])"
   ]
  },
  {
   "cell_type": "code",
   "execution_count": 17,
   "metadata": {},
   "outputs": [],
   "source": [
    "customer['Title'] = customer_data['Title'].fillna(customer_data['Title'].mode()[0])"
   ]
  },
  {
   "cell_type": "code",
   "execution_count": 18,
   "metadata": {},
   "outputs": [
    {
     "data": {
      "text/plain": [
       "Customer No.    0\n",
       "Partner Type    0\n",
       "Data Origin     0\n",
       "Title           0\n",
       "dtype: int64"
      ]
     },
     "execution_count": 18,
     "metadata": {},
     "output_type": "execute_result"
    }
   ],
   "source": [
    "customer.isnull().sum()"
   ]
  },
  {
   "cell_type": "code",
   "execution_count": 19,
   "metadata": {},
   "outputs": [
    {
     "data": {
      "text/plain": [
       "2.0    530239\n",
       "1.0     25099\n",
       "Name: Title, dtype: int64"
      ]
     },
     "execution_count": 19,
     "metadata": {},
     "output_type": "execute_result"
    }
   ],
   "source": [
    "customer['Title'].value_counts()"
   ]
  },
  {
   "cell_type": "code",
   "execution_count": 35,
   "metadata": {},
   "outputs": [
    {
     "data": {
      "text/plain": [
       "<AxesSubplot:>"
      ]
     },
     "execution_count": 35,
     "metadata": {},
     "output_type": "execute_result"
    },
    {
     "data": {
      "image/png": "[encoded data removed]",
      "text/plain": [
       "<Figure size 432x288 with 1 Axes>"
      ]
     },
     "metadata": {
      "needs_background": "light"
     },
     "output_type": "display_data"
    }
   ],
   "source": [
    "customer['Title'].value_counts().plot(kind='bar')"
   ]
  },
  {
   "cell_type": "code",
   "execution_count": 36,
   "metadata": {},
   "outputs": [
    {
     "data": {
      "text/plain": [
       "Z005    149997\n",
       "Z006    121660\n",
       "Z001     63237\n",
       "Z002     38326\n",
       "Z004     36801\n",
       "Z019     29780\n",
       "Z021     28828\n",
       "Z018     15382\n",
       "Z013     13967\n",
       "Z008     12122\n",
       "Z016      8118\n",
       "Z011      8023\n",
       "Z010      6260\n",
       "Z017      5685\n",
       "Z003      5082\n",
       "Z014      4014\n",
       "Z012      3840\n",
       "Z007      2069\n",
       "Z015       745\n",
       "Z009       735\n",
       "Z020       590\n",
       "Z022        77\n",
       "Name: Data Origin, dtype: int64"
      ]
     },
     "execution_count": 36,
     "metadata": {},
     "output_type": "execute_result"
    }
   ],
   "source": [
    "customer['Data Origin'].value_counts()"
   ]
  },
  {
   "cell_type": "code",
   "execution_count": 37,
   "metadata": {},
   "outputs": [],
   "source": [
    "import seaborn as sns\n",
    "import matplotlib.pyplot as plt"
   ]
  },
  {
   "cell_type": "code",
   "execution_count": 38,
   "metadata": {},
   "outputs": [
    {
     "name": "stderr",
     "output_type": "stream",
     "text": [
      "/home/tushar/.local/lib/python3.8/site-packages/seaborn/_decorators.py:36: FutureWarning: Pass the following variables as keyword args: x, y. From version 0.12, the only valid positional argument will be `data`, and passing other arguments without an explicit keyword will result in an error or misinterpretation.\n",
      "  warnings.warn(\n"
     ]
    },
    {
     "data": {
      "image/png": "[encoded data removed]",
      "text/plain": [
       "<Figure size 720x360 with 1 Axes>"
      ]
     },
     "metadata": {
      "needs_background": "light"
     },
     "output_type": "display_data"
    }
   ],
   "source": [
    "data_origin_count  = customer['Data Origin'].value_counts()\n",
    "plt.figure(figsize=(10,5))\n",
    "sns.barplot(data_origin_count.index, data_origin_count.values, alpha=0.8)\n",
    "plt.title('COUNT PLOT FOR CUSTOMER ORIGINATION CHANNEL')\n",
    "plt.ylabel('CUSTOMER ORIGINATION CHANNEL', fontsize=12)\n",
    "plt.xlabel('COUNT OF CUSTOMER ORIGINATION CHANNEL', fontsize=12)\n",
    "plt.show()"
   ]
  },
  {
   "cell_type": "markdown",
   "metadata": {},
   "source": [
    "# Invoice Data\n"
   ]
  },
  {
   "cell_type": "code",
   "execution_count": 39,
   "metadata": {},
   "outputs": [
    {
     "name": "stderr",
     "output_type": "stream",
     "text": [
      "/usr/local/lib/python3.8/dist-packages/IPython/core/interactiveshell.py:3146: DtypeWarning: Columns (9,10,14,15,21,41,51) have mixed types.Specify dtype option on import or set low_memory=False.\n",
      "  has_raised = await self.run_ast_nodes(code_ast.body, cell_name,\n"
     ]
    }
   ],
   "source": [
    "final_invoice=pd.read_csv('Final_invoice.csv')"
   ]
  },
  {
   "cell_type": "code",
   "execution_count": 40,
   "metadata": {},
   "outputs": [
    {
     "data": {
      "text/html": [
       "<div>\n",
       "<style scoped>\n",
       "    .dataframe tbody tr th:only-of-type {\n",
       "        vertical-align: middle;\n",
       "    }\n",
       "\n",
       "    .dataframe tbody tr th {\n",
       "        vertical-align: top;\n",
       "    }\n",
       "\n",
       "    .dataframe thead th {\n",
       "        text-align: right;\n",
       "    }\n",
       "</style>\n",
       "<table border=\"1\" class=\"dataframe\">\n",
       "  <thead>\n",
       "    <tr style=\"text-align: right;\">\n",
       "      <th></th>\n",
       "      <th>Unnamed: 0</th>\n",
       "      <th>Amt Rcvd From Custom</th>\n",
       "      <th>Amt Rcvd From Ins Co</th>\n",
       "      <th>Area / Locality</th>\n",
       "      <th>CGST(14%)</th>\n",
       "      <th>CGST(2.5%)</th>\n",
       "      <th>CGST(6%)</th>\n",
       "      <th>CGST(9%)</th>\n",
       "      <th>CITY</th>\n",
       "      <th>Cash /Cashless Type</th>\n",
       "      <th>...</th>\n",
       "      <th>Service Advisor Name</th>\n",
       "      <th>TDS amount</th>\n",
       "      <th>Technician Name</th>\n",
       "      <th>Total Amt Wtd Tax.</th>\n",
       "      <th>Total CGST</th>\n",
       "      <th>Total GST</th>\n",
       "      <th>Total IGST</th>\n",
       "      <th>Total SGST/UGST</th>\n",
       "      <th>Total Value</th>\n",
       "      <th>User ID</th>\n",
       "    </tr>\n",
       "  </thead>\n",
       "  <tbody>\n",
       "    <tr>\n",
       "      <th>0</th>\n",
       "      <td>0</td>\n",
       "      <td>0.0</td>\n",
       "      <td>0.0</td>\n",
       "      <td>MAJIWADA</td>\n",
       "      <td>0.0</td>\n",
       "      <td>0.0</td>\n",
       "      <td>0.0</td>\n",
       "      <td>0.0</td>\n",
       "      <td>Thane</td>\n",
       "      <td>NaN</td>\n",
       "      <td>...</td>\n",
       "      <td>NaN</td>\n",
       "      <td>0.0</td>\n",
       "      <td>RUPESH</td>\n",
       "      <td>4051.95</td>\n",
       "      <td>0.0</td>\n",
       "      <td>0.0</td>\n",
       "      <td>0.0</td>\n",
       "      <td>0.0</td>\n",
       "      <td>4051.95</td>\n",
       "      <td>BC01FS1</td>\n",
       "    </tr>\n",
       "    <tr>\n",
       "      <th>1</th>\n",
       "      <td>1</td>\n",
       "      <td>0.0</td>\n",
       "      <td>0.0</td>\n",
       "      <td>THNAE</td>\n",
       "      <td>0.0</td>\n",
       "      <td>0.0</td>\n",
       "      <td>0.0</td>\n",
       "      <td>0.0</td>\n",
       "      <td>THNAE</td>\n",
       "      <td>NaN</td>\n",
       "      <td>...</td>\n",
       "      <td>NaN</td>\n",
       "      <td>0.0</td>\n",
       "      <td>PRASHANT</td>\n",
       "      <td>1001.29</td>\n",
       "      <td>0.0</td>\n",
       "      <td>0.0</td>\n",
       "      <td>0.0</td>\n",
       "      <td>0.0</td>\n",
       "      <td>1001.29</td>\n",
       "      <td>BC01SA2</td>\n",
       "    </tr>\n",
       "    <tr>\n",
       "      <th>2</th>\n",
       "      <td>2</td>\n",
       "      <td>0.0</td>\n",
       "      <td>0.0</td>\n",
       "      <td>THANE</td>\n",
       "      <td>0.0</td>\n",
       "      <td>0.0</td>\n",
       "      <td>0.0</td>\n",
       "      <td>0.0</td>\n",
       "      <td>THANE[W]</td>\n",
       "      <td>NaN</td>\n",
       "      <td>...</td>\n",
       "      <td>NaN</td>\n",
       "      <td>0.0</td>\n",
       "      <td>IMRAN</td>\n",
       "      <td>233.14</td>\n",
       "      <td>0.0</td>\n",
       "      <td>0.0</td>\n",
       "      <td>0.0</td>\n",
       "      <td>0.0</td>\n",
       "      <td>233.14</td>\n",
       "      <td>BC01SA2</td>\n",
       "    </tr>\n",
       "    <tr>\n",
       "      <th>3</th>\n",
       "      <td>3</td>\n",
       "      <td>0.0</td>\n",
       "      <td>0.0</td>\n",
       "      <td>THNAE</td>\n",
       "      <td>0.0</td>\n",
       "      <td>0.0</td>\n",
       "      <td>0.0</td>\n",
       "      <td>0.0</td>\n",
       "      <td>THNAE</td>\n",
       "      <td>NaN</td>\n",
       "      <td>...</td>\n",
       "      <td>NaN</td>\n",
       "      <td>0.0</td>\n",
       "      <td>PRASHANT</td>\n",
       "      <td>0.00</td>\n",
       "      <td>0.0</td>\n",
       "      <td>0.0</td>\n",
       "      <td>0.0</td>\n",
       "      <td>0.0</td>\n",
       "      <td>0.00</td>\n",
       "      <td>BC01SA2</td>\n",
       "    </tr>\n",
       "    <tr>\n",
       "      <th>4</th>\n",
       "      <td>4</td>\n",
       "      <td>0.0</td>\n",
       "      <td>0.0</td>\n",
       "      <td>THANE</td>\n",
       "      <td>0.0</td>\n",
       "      <td>0.0</td>\n",
       "      <td>0.0</td>\n",
       "      <td>0.0</td>\n",
       "      <td>THANE</td>\n",
       "      <td>NaN</td>\n",
       "      <td>...</td>\n",
       "      <td>NaN</td>\n",
       "      <td>0.0</td>\n",
       "      <td>DAYANAND</td>\n",
       "      <td>2747.12</td>\n",
       "      <td>0.0</td>\n",
       "      <td>0.0</td>\n",
       "      <td>0.0</td>\n",
       "      <td>0.0</td>\n",
       "      <td>2747.12</td>\n",
       "      <td>BC01SA2</td>\n",
       "    </tr>\n",
       "  </tbody>\n",
       "</table>\n",
       "<p>5 rows × 59 columns</p>\n",
       "</div>"
      ],
      "text/plain": [
       "   Unnamed: 0  Amt Rcvd From Custom  Amt Rcvd From Ins Co Area / Locality  \\\n",
       "0           0                   0.0                   0.0        MAJIWADA   \n",
       "1           1                   0.0                   0.0           THNAE   \n",
       "2           2                   0.0                   0.0           THANE   \n",
       "3           3                   0.0                   0.0           THNAE   \n",
       "4           4                   0.0                   0.0           THANE   \n",
       "\n",
       "   CGST(14%)  CGST(2.5%)  CGST(6%)  CGST(9%)      CITY Cash /Cashless Type  \\\n",
       "0        0.0         0.0       0.0       0.0     Thane                 NaN   \n",
       "1        0.0         0.0       0.0       0.0     THNAE                 NaN   \n",
       "2        0.0         0.0       0.0       0.0  THANE[W]                 NaN   \n",
       "3        0.0         0.0       0.0       0.0     THNAE                 NaN   \n",
       "4        0.0         0.0       0.0       0.0     THANE                 NaN   \n",
       "\n",
       "   ... Service Advisor Name TDS amount Technician Name Total Amt Wtd Tax.  \\\n",
       "0  ...                  NaN        0.0          RUPESH            4051.95   \n",
       "1  ...                  NaN        0.0        PRASHANT            1001.29   \n",
       "2  ...                  NaN        0.0           IMRAN             233.14   \n",
       "3  ...                  NaN        0.0        PRASHANT               0.00   \n",
       "4  ...                  NaN        0.0        DAYANAND            2747.12   \n",
       "\n",
       "  Total CGST Total GST Total IGST  Total SGST/UGST  Total Value  User ID  \n",
       "0        0.0       0.0        0.0              0.0      4051.95  BC01FS1  \n",
       "1        0.0       0.0        0.0              0.0      1001.29  BC01SA2  \n",
       "2        0.0       0.0        0.0              0.0       233.14  BC01SA2  \n",
       "3        0.0       0.0        0.0              0.0         0.00  BC01SA2  \n",
       "4        0.0       0.0        0.0              0.0      2747.12  BC01SA2  \n",
       "\n",
       "[5 rows x 59 columns]"
      ]
     },
     "execution_count": 40,
     "metadata": {},
     "output_type": "execute_result"
    }
   ],
   "source": [
    "final_invoice.head()"
   ]
  },
  {
   "cell_type": "code",
   "execution_count": 41,
   "metadata": {},
   "outputs": [
    {
     "data": {
      "text/plain": [
       "(492314, 59)"
      ]
     },
     "execution_count": 41,
     "metadata": {},
     "output_type": "execute_result"
    }
   ],
   "source": [
    "final_invoice.shape"
   ]
  },
  {
   "cell_type": "code",
   "execution_count": 42,
   "metadata": {},
   "outputs": [],
   "source": [
    "final_invoice.drop(['Amt Rcvd From Custom',\"Invoice No\",'Claim No.',\"Cash /Cashless Type\",'Gate Pass Time',\n",
    "               'CGST(2.5%)','CGST(2.5%)','CGST(6%)',\"CGST(14%)\",\"SGST/UGST(14%)\",\"SGST/UGST(2.5%)\",\n",
    "               \"SGST/UGST(6%)\",\"SGST/UGST(9%)\",'CGST(9%)',\"IGST(12%)\",\"IGST(18%)\",\"IGST(28%)\",\"IGST(5%)\",\n",
    "               \"Expiry Date\",\"Gate Pass Date\",\"Total CGST\",\"Total GST\",\"Total IGST\",\"Total SGST/UGST\",\"Unnamed: 0\",\n",
    "              'Policy no.','ODN No.',\"Outstanding Amt\",'Regn No','Service Advisor Name'],axis=1,inplace=True)"
   ]
  },
  {
   "cell_type": "code",
   "execution_count": 43,
   "metadata": {},
   "outputs": [
    {
     "data": {
      "text/plain": [
       "(492314, 30)"
      ]
     },
     "execution_count": 43,
     "metadata": {},
     "output_type": "execute_result"
    }
   ],
   "source": [
    "final_invoice.shape"
   ]
  },
  {
   "cell_type": "code",
   "execution_count": 44,
   "metadata": {},
   "outputs": [
    {
     "data": {
      "text/plain": [
       "Amt Rcvd From Ins Co    197286\n",
       "Area / Locality          23890\n",
       "CITY                         1\n",
       "Cust Type                    0\n",
       "Customer No.                 0\n",
       "District                     0\n",
       "Insurance Company       468723\n",
       "Invoice Date                 0\n",
       "Invoice Time                 0\n",
       "Job Card No                  0\n",
       "JobCard Date                 0\n",
       "JobCard Time                 0\n",
       "KMs Reading                  0\n",
       "Labour Total                 0\n",
       "Make                         0\n",
       "Misc Total                   0\n",
       "Model                     1525\n",
       "OSL Total                    0\n",
       "Order Type                   0\n",
       "Parts Total                  0\n",
       "Pin code                     0\n",
       "Plant                        0\n",
       "Plant Name1                  0\n",
       "Print Status                 0\n",
       "Recovrbl Exp                 0\n",
       "TDS amount              197286\n",
       "Technician Name         236834\n",
       "Total Amt Wtd Tax.           0\n",
       "Total Value             197286\n",
       "User ID                      0\n",
       "dtype: int64"
      ]
     },
     "execution_count": 44,
     "metadata": {},
     "output_type": "execute_result"
    }
   ],
   "source": [
    "final_invoice.isnull().sum()"
   ]
  },
  {
   "cell_type": "markdown",
   "metadata": {},
   "source": [
    "\n",
    "# JTD"
   ]
  },
  {
   "cell_type": "code",
   "execution_count": 45,
   "metadata": {},
   "outputs": [
    {
     "data": {
      "text/html": [
       "<div>\n",
       "<style scoped>\n",
       "    .dataframe tbody tr th:only-of-type {\n",
       "        vertical-align: middle;\n",
       "    }\n",
       "\n",
       "    .dataframe tbody tr th {\n",
       "        vertical-align: top;\n",
       "    }\n",
       "\n",
       "    .dataframe thead th {\n",
       "        text-align: right;\n",
       "    }\n",
       "</style>\n",
       "<table border=\"1\" class=\"dataframe\">\n",
       "  <thead>\n",
       "    <tr style=\"text-align: right;\">\n",
       "      <th></th>\n",
       "      <th>Unnamed: 0</th>\n",
       "      <th>DBM Order</th>\n",
       "      <th>Order Item</th>\n",
       "      <th>Material</th>\n",
       "      <th>Labor Value Number</th>\n",
       "      <th>Description</th>\n",
       "      <th>Item Category</th>\n",
       "      <th>Order Quantity</th>\n",
       "      <th>Target quantity UoM</th>\n",
       "      <th>Net value</th>\n",
       "    </tr>\n",
       "  </thead>\n",
       "  <tbody>\n",
       "    <tr>\n",
       "      <th>0</th>\n",
       "      <td>0</td>\n",
       "      <td>22385</td>\n",
       "      <td>180</td>\n",
       "      <td>OSLCC_SRV31</td>\n",
       "      <td>NaN</td>\n",
       "      <td>MACHINING RR.SUSPENSION CHARGE  (MAJOR)</td>\n",
       "      <td>P010</td>\n",
       "      <td>1.2</td>\n",
       "      <td>MIN</td>\n",
       "      <td>1869.87</td>\n",
       "    </tr>\n",
       "    <tr>\n",
       "      <th>1</th>\n",
       "      <td>1</td>\n",
       "      <td>23910</td>\n",
       "      <td>10</td>\n",
       "      <td>1DM279018170117</td>\n",
       "      <td>NaN</td>\n",
       "      <td>ASSY.OIL COOLER (6-PLATE) (VOR</td>\n",
       "      <td>P002</td>\n",
       "      <td>1.0</td>\n",
       "      <td>EA</td>\n",
       "      <td>2151.13</td>\n",
       "    </tr>\n",
       "    <tr>\n",
       "      <th>2</th>\n",
       "      <td>2</td>\n",
       "      <td>23910</td>\n",
       "      <td>40</td>\n",
       "      <td>1IS150203BE01</td>\n",
       "      <td>NaN</td>\n",
       "      <td>FRONT WHEEL BEARING/ LUBRICATE</td>\n",
       "      <td>P002</td>\n",
       "      <td>1.0</td>\n",
       "      <td>EA</td>\n",
       "      <td>2552.92</td>\n",
       "    </tr>\n",
       "    <tr>\n",
       "      <th>3</th>\n",
       "      <td>3</td>\n",
       "      <td>23910</td>\n",
       "      <td>60</td>\n",
       "      <td>1DM279001990173</td>\n",
       "      <td>NaN</td>\n",
       "      <td>ASSY.CYL.HEAD W /O INJ.(NA W /O</td>\n",
       "      <td>P002</td>\n",
       "      <td>1.0</td>\n",
       "      <td>EA</td>\n",
       "      <td>20360.14</td>\n",
       "    </tr>\n",
       "    <tr>\n",
       "      <th>4</th>\n",
       "      <td>4</td>\n",
       "      <td>23910</td>\n",
       "      <td>70</td>\n",
       "      <td>1DM88552790S001SA</td>\n",
       "      <td>NaN</td>\n",
       "      <td>Engine Overhaul Kit -Indica Di</td>\n",
       "      <td>P002</td>\n",
       "      <td>1.0</td>\n",
       "      <td>EA</td>\n",
       "      <td>10691.63</td>\n",
       "    </tr>\n",
       "  </tbody>\n",
       "</table>\n",
       "</div>"
      ],
      "text/plain": [
       "   Unnamed: 0  DBM Order  Order Item           Material Labor Value Number  \\\n",
       "0           0      22385         180        OSLCC_SRV31                NaN   \n",
       "1           1      23910          10    1DM279018170117                NaN   \n",
       "2           2      23910          40      1IS150203BE01                NaN   \n",
       "3           3      23910          60    1DM279001990173                NaN   \n",
       "4           4      23910          70  1DM88552790S001SA                NaN   \n",
       "\n",
       "                               Description Item Category  Order Quantity  \\\n",
       "0  MACHINING RR.SUSPENSION CHARGE  (MAJOR)          P010             1.2   \n",
       "1           ASSY.OIL COOLER (6-PLATE) (VOR          P002             1.0   \n",
       "2           FRONT WHEEL BEARING/ LUBRICATE          P002             1.0   \n",
       "3          ASSY.CYL.HEAD W /O INJ.(NA W /O          P002             1.0   \n",
       "4           Engine Overhaul Kit -Indica Di          P002             1.0   \n",
       "\n",
       "  Target quantity UoM  Net value  \n",
       "0                 MIN    1869.87  \n",
       "1                  EA    2151.13  \n",
       "2                  EA    2552.92  \n",
       "3                  EA   20360.14  \n",
       "4                  EA   10691.63  "
      ]
     },
     "execution_count": 45,
     "metadata": {},
     "output_type": "execute_result"
    }
   ],
   "source": [
    "jtd=pd.read_csv('JTD.csv')\n",
    "jtd.head()"
   ]
  },
  {
   "cell_type": "code",
   "execution_count": 46,
   "metadata": {},
   "outputs": [
    {
     "data": {
      "text/plain": [
       "(5619484, 10)"
      ]
     },
     "execution_count": 46,
     "metadata": {},
     "output_type": "execute_result"
    }
   ],
   "source": [
    "jtd.shape"
   ]
  },
  {
   "cell_type": "code",
   "execution_count": 47,
   "metadata": {},
   "outputs": [
    {
     "data": {
      "text/plain": [
       "Unnamed: 0                   0\n",
       "DBM Order                    0\n",
       "Order Item                   0\n",
       "Material                 51629\n",
       "Labor Value Number     3774033\n",
       "Description              51629\n",
       "Item Category                0\n",
       "Order Quantity               0\n",
       "Target quantity UoM      51629\n",
       "Net value                    0\n",
       "dtype: int64"
      ]
     },
     "execution_count": 47,
     "metadata": {},
     "output_type": "execute_result"
    }
   ],
   "source": [
    "jtd.isnull().sum()"
   ]
  },
  {
   "cell_type": "code",
   "execution_count": 48,
   "metadata": {},
   "outputs": [
    {
     "data": {
      "text/plain": [
       "58559"
      ]
     },
     "execution_count": 48,
     "metadata": {},
     "output_type": "execute_result"
    }
   ],
   "source": [
    "len(jtd['Description'].unique())"
   ]
  },
  {
   "cell_type": "code",
   "execution_count": 49,
   "metadata": {
    "scrolled": true
   },
   "outputs": [
    {
     "data": {
      "text/plain": [
       "MISC_OTHER CHARGES                270563\n",
       "Paid Service-Minor                201857\n",
       "WASHING                           199068\n",
       "Wheel Alignment                   191211\n",
       "OIL FILTER                        154387\n",
       "URANIA SUPREMO CI 4 15W 40        122218\n",
       "MFC PROLEUM CI4/SL 15W40           92091\n",
       "AIR FILTER                         80211\n",
       "Wheel Balancing (5 Wheels)         79970\n",
       "MISC LABOR 0.5 HOURS               62982\n",
       "General Check up                   62459\n",
       "Paid Service-Major                 60369\n",
       "WINDSHIELD LIQUID WASHER           55352\n",
       "MISC LABOR 0.25 HOURS              50143\n",
       "DISTILLED WATER                    46919\n",
       "Interior & Upholstery Cleaning     44864\n",
       "REPLACE BRAKE PAD (BOTH SIDE)      38552\n",
       "PAINTING CHARGES                   34187\n",
       "MISC LABOR 1 HOUR                  33993\n",
       "BALANCE WEIGHT 15GRAM              31791\n",
       "Name: Description, dtype: int64"
      ]
     },
     "execution_count": 49,
     "metadata": {},
     "output_type": "execute_result"
    }
   ],
   "source": [
    "jtd['Description'].value_counts(ascending= False)[:20]"
   ]
  },
  {
   "cell_type": "markdown",
   "metadata": {},
   "source": [
    "# analysis"
   ]
  },
  {
   "cell_type": "code",
   "execution_count": 50,
   "metadata": {},
   "outputs": [],
   "source": [
    "invoice_customer = pd.merge(final_invoice, customer)"
   ]
  },
  {
   "cell_type": "code",
   "execution_count": 51,
   "metadata": {},
   "outputs": [
    {
     "data": {
      "text/plain": [
       "(19727, 33)"
      ]
     },
     "execution_count": 51,
     "metadata": {},
     "output_type": "execute_result"
    }
   ],
   "source": [
    "invoice_customer.shape"
   ]
  },
  {
   "cell_type": "code",
   "execution_count": 52,
   "metadata": {},
   "outputs": [
    {
     "name": "stdout",
     "output_type": "stream",
     "text": [
      "253484\n",
      "(492314, 30)\n"
     ]
    }
   ],
   "source": [
    "print(len(final_invoice['Customer No.'].unique()))\n",
    "print(final_invoice.shape)"
   ]
  },
  {
   "cell_type": "code",
   "execution_count": 53,
   "metadata": {},
   "outputs": [
    {
     "name": "stdout",
     "output_type": "stream",
     "text": [
      "555338\n",
      "(555338, 4)\n"
     ]
    }
   ],
   "source": [
    "print(len(customer['Customer No.'].unique()))\n",
    "print(customer.shape)"
   ]
  },
  {
   "cell_type": "code",
   "execution_count": 54,
   "metadata": {},
   "outputs": [
    {
     "data": {
      "text/plain": [
       "(492314, 33)"
      ]
     },
     "execution_count": 54,
     "metadata": {},
     "output_type": "execute_result"
    }
   ],
   "source": [
    "invoice_customer_1 = pd.merge(final_invoice, customer,how='left', on='Customer No.')\n",
    "invoice_customer_1.shape"
   ]
  },
  {
   "cell_type": "code",
   "execution_count": 55,
   "metadata": {},
   "outputs": [
    {
     "data": {
      "text/plain": [
       "(571416, 33)"
      ]
     },
     "execution_count": 55,
     "metadata": {},
     "output_type": "execute_result"
    }
   ],
   "source": [
    "invoice_customer_2 = pd.merge(final_invoice, customer,how='right', on='Customer No.')\n",
    "invoice_customer_2.shape"
   ]
  },
  {
   "cell_type": "code",
   "execution_count": 56,
   "metadata": {},
   "outputs": [
    {
     "data": {
      "text/plain": [
       "555338"
      ]
     },
     "execution_count": 56,
     "metadata": {},
     "output_type": "execute_result"
    }
   ],
   "source": [
    "len(invoice_customer_2['Customer No.'].unique())"
   ]
  },
  {
   "cell_type": "code",
   "execution_count": 57,
   "metadata": {},
   "outputs": [],
   "source": [
    "# df_customer = pd.DataFrame({\n",
    "#     'id': [1, 2, 3, 4],\n",
    "#     'name': ['Tom', 'Jenny', 'James', 'Dan'],\n",
    "# })\n",
    "# df_info = pd.DataFrame({\n",
    "#     'id': [2, 3, 4, 5,4,8],\n",
    "#     'age': [31, 20, 40,80,50, 70],\n",
    "#     'sex': ['F', 'M', 'M','M','F', 'F']\n",
    "# })\n",
    "# pd.merge(df_customer, df_info,on='id',how=\"left\")"
   ]
  },
  {
   "cell_type": "code",
   "execution_count": 58,
   "metadata": {},
   "outputs": [],
   "source": [
    "# df_customer = pd.DataFrame({\n",
    "#     'id': [1,2,3,4],\n",
    "#     'name': ['Tom', 'Jenny', 'James', 'Dan'],\n",
    "# })\n",
    "# df_order_2 = pd.DataFrame({\n",
    "#     'id': [2, 2, 4, 4,5],\n",
    "#     'product': ['A', 'B' ,'A', 'C','d'],\n",
    "#     'quantity': [31, 21, 20,40,20],\n",
    "    \n",
    "# })"
   ]
  },
  {
   "cell_type": "code",
   "execution_count": 59,
   "metadata": {},
   "outputs": [],
   "source": [
    "# pd.merge(df_customer, df_order_2, how='left', on='id')"
   ]
  },
  {
   "cell_type": "code",
   "execution_count": 60,
   "metadata": {},
   "outputs": [],
   "source": [
    "# pd.merge(df_customer, df_order_2, how='right', on='id')"
   ]
  },
  {
   "cell_type": "code",
   "execution_count": 61,
   "metadata": {},
   "outputs": [],
   "source": [
    "final_invoice.head()\n",
    "final_invoice.rename(columns={'Total Amt Wtd Tax.':'Total_Amt_Wtd_Tax'},inplace=True)"
   ]
  },
  {
   "cell_type": "code",
   "execution_count": 62,
   "metadata": {},
   "outputs": [
    {
     "data": {
      "text/plain": [
       "(492314, 30)"
      ]
     },
     "execution_count": 62,
     "metadata": {},
     "output_type": "execute_result"
    }
   ],
   "source": [
    "final_invoice.shape"
   ]
  },
  {
   "cell_type": "code",
   "execution_count": 63,
   "metadata": {},
   "outputs": [
    {
     "data": {
      "text/plain": [
       "Index(['Amt Rcvd From Ins Co', 'Area / Locality', 'CITY', 'Cust Type',\n",
       "       'Customer No.', 'District', 'Insurance Company', 'Invoice Date',\n",
       "       'Invoice Time', 'Job Card No', 'JobCard Date', 'JobCard Time',\n",
       "       'KMs Reading', 'Labour Total', 'Make', 'Misc Total', 'Model',\n",
       "       'OSL Total', 'Order Type', 'Parts Total', 'Pin code', 'Plant',\n",
       "       'Plant Name1', 'Print Status', 'Recovrbl Exp', 'TDS amount',\n",
       "       'Technician Name', 'Total_Amt_Wtd_Tax', 'Total Value', 'User ID'],\n",
       "      dtype='object')"
      ]
     },
     "execution_count": 63,
     "metadata": {},
     "output_type": "execute_result"
    }
   ],
   "source": [
    "final_invoice.columns"
   ]
  },
  {
   "cell_type": "code",
   "execution_count": 64,
   "metadata": {},
   "outputs": [
    {
     "data": {
      "text/plain": [
       "Amt Rcvd From Ins Co    197286\n",
       "Area / Locality          23890\n",
       "CITY                         1\n",
       "Cust Type                    0\n",
       "Customer No.                 0\n",
       "District                     0\n",
       "Insurance Company       468723\n",
       "Invoice Date                 0\n",
       "Invoice Time                 0\n",
       "Job Card No                  0\n",
       "JobCard Date                 0\n",
       "JobCard Time                 0\n",
       "KMs Reading                  0\n",
       "Labour Total                 0\n",
       "Make                         0\n",
       "Misc Total                   0\n",
       "Model                     1525\n",
       "OSL Total                    0\n",
       "Order Type                   0\n",
       "Parts Total                  0\n",
       "Pin code                     0\n",
       "Plant                        0\n",
       "Plant Name1                  0\n",
       "Print Status                 0\n",
       "Recovrbl Exp                 0\n",
       "TDS amount              197286\n",
       "Technician Name         236834\n",
       "Total_Amt_Wtd_Tax            0\n",
       "Total Value             197286\n",
       "User ID                      0\n",
       "dtype: int64"
      ]
     },
     "execution_count": 64,
     "metadata": {},
     "output_type": "execute_result"
    }
   ],
   "source": [
    "final_invoice.isnull().sum()"
   ]
  },
  {
   "cell_type": "code",
   "execution_count": 65,
   "metadata": {},
   "outputs": [
    {
     "data": {
      "text/html": [
       "<div>\n",
       "<style scoped>\n",
       "    .dataframe tbody tr th:only-of-type {\n",
       "        vertical-align: middle;\n",
       "    }\n",
       "\n",
       "    .dataframe tbody tr th {\n",
       "        vertical-align: top;\n",
       "    }\n",
       "\n",
       "    .dataframe thead th {\n",
       "        text-align: right;\n",
       "    }\n",
       "</style>\n",
       "<table border=\"1\" class=\"dataframe\">\n",
       "  <thead>\n",
       "    <tr style=\"text-align: right;\">\n",
       "      <th></th>\n",
       "      <th>CITY</th>\n",
       "      <th>Cust Type</th>\n",
       "      <th>Customer No.</th>\n",
       "      <th>District</th>\n",
       "      <th>Insurance Company</th>\n",
       "      <th>Invoice Date</th>\n",
       "      <th>Job Card No</th>\n",
       "      <th>JobCard Date</th>\n",
       "      <th>JobCard Time</th>\n",
       "      <th>KMs Reading</th>\n",
       "      <th>...</th>\n",
       "      <th>Misc Total</th>\n",
       "      <th>Model</th>\n",
       "      <th>OSL Total</th>\n",
       "      <th>Order Type</th>\n",
       "      <th>Parts Total</th>\n",
       "      <th>Pin code</th>\n",
       "      <th>Plant</th>\n",
       "      <th>Plant Name1</th>\n",
       "      <th>Print Status</th>\n",
       "      <th>Recovrbl Exp</th>\n",
       "    </tr>\n",
       "  </thead>\n",
       "  <tbody>\n",
       "    <tr>\n",
       "      <th>0</th>\n",
       "      <td>Thane</td>\n",
       "      <td>Retail</td>\n",
       "      <td>67849</td>\n",
       "      <td>Maharashtra</td>\n",
       "      <td>NaN</td>\n",
       "      <td>2015-01-02</td>\n",
       "      <td>168303</td>\n",
       "      <td>2014-12-13</td>\n",
       "      <td>14:29:43</td>\n",
       "      <td>49317</td>\n",
       "      <td>...</td>\n",
       "      <td>0.00</td>\n",
       "      <td>SPARK</td>\n",
       "      <td>500.06</td>\n",
       "      <td>Paid Service</td>\n",
       "      <td>2348.75</td>\n",
       "      <td>400601</td>\n",
       "      <td>BC01</td>\n",
       "      <td>THANE</td>\n",
       "      <td>NO</td>\n",
       "      <td>0.0</td>\n",
       "    </tr>\n",
       "    <tr>\n",
       "      <th>1</th>\n",
       "      <td>THNAE</td>\n",
       "      <td>Retail</td>\n",
       "      <td>84419</td>\n",
       "      <td>Maharashtra</td>\n",
       "      <td>NaN</td>\n",
       "      <td>2015-01-03</td>\n",
       "      <td>173997</td>\n",
       "      <td>2015-01-02</td>\n",
       "      <td>14:12:18</td>\n",
       "      <td>78584</td>\n",
       "      <td>...</td>\n",
       "      <td>197.03</td>\n",
       "      <td>INDICA</td>\n",
       "      <td>0.00</td>\n",
       "      <td>SMC Value Package</td>\n",
       "      <td>0.00</td>\n",
       "      <td>400603</td>\n",
       "      <td>BC01</td>\n",
       "      <td>THANE</td>\n",
       "      <td>NO</td>\n",
       "      <td>0.0</td>\n",
       "    </tr>\n",
       "    <tr>\n",
       "      <th>2</th>\n",
       "      <td>THANE[W]</td>\n",
       "      <td>Retail</td>\n",
       "      <td>81055</td>\n",
       "      <td>Maharashtra</td>\n",
       "      <td>NaN</td>\n",
       "      <td>2015-01-03</td>\n",
       "      <td>173889</td>\n",
       "      <td>2015-01-02</td>\n",
       "      <td>11:40:44</td>\n",
       "      <td>33985</td>\n",
       "      <td>...</td>\n",
       "      <td>0.00</td>\n",
       "      <td>ZEN</td>\n",
       "      <td>0.00</td>\n",
       "      <td>Running Repairs</td>\n",
       "      <td>52.95</td>\n",
       "      <td>400607</td>\n",
       "      <td>BC01</td>\n",
       "      <td>THANE</td>\n",
       "      <td>NO</td>\n",
       "      <td>0.0</td>\n",
       "    </tr>\n",
       "    <tr>\n",
       "      <th>3</th>\n",
       "      <td>THNAE</td>\n",
       "      <td>Retail</td>\n",
       "      <td>84419</td>\n",
       "      <td>Maharashtra</td>\n",
       "      <td>NaN</td>\n",
       "      <td>2015-01-03</td>\n",
       "      <td>174158</td>\n",
       "      <td>2015-01-03</td>\n",
       "      <td>10:12:32</td>\n",
       "      <td>78584</td>\n",
       "      <td>...</td>\n",
       "      <td>0.00</td>\n",
       "      <td>INDICA</td>\n",
       "      <td>0.00</td>\n",
       "      <td>SMC Redemption</td>\n",
       "      <td>0.00</td>\n",
       "      <td>400603</td>\n",
       "      <td>BC01</td>\n",
       "      <td>THANE</td>\n",
       "      <td>NO</td>\n",
       "      <td>0.0</td>\n",
       "    </tr>\n",
       "    <tr>\n",
       "      <th>4</th>\n",
       "      <td>THANE</td>\n",
       "      <td>Retail</td>\n",
       "      <td>18980</td>\n",
       "      <td>Maharashtra</td>\n",
       "      <td>NaN</td>\n",
       "      <td>2015-01-03</td>\n",
       "      <td>173860</td>\n",
       "      <td>2015-01-02</td>\n",
       "      <td>10:45:42</td>\n",
       "      <td>50057</td>\n",
       "      <td>...</td>\n",
       "      <td>100.00</td>\n",
       "      <td>SANTRO XING</td>\n",
       "      <td>499.99</td>\n",
       "      <td>Paid Service</td>\n",
       "      <td>944.16</td>\n",
       "      <td>400603</td>\n",
       "      <td>BC01</td>\n",
       "      <td>THANE</td>\n",
       "      <td>NO</td>\n",
       "      <td>0.0</td>\n",
       "    </tr>\n",
       "  </tbody>\n",
       "</table>\n",
       "<p>5 rows × 22 columns</p>\n",
       "</div>"
      ],
      "text/plain": [
       "       CITY Cust Type Customer No.     District Insurance Company  \\\n",
       "0     Thane    Retail        67849  Maharashtra               NaN   \n",
       "1     THNAE    Retail        84419  Maharashtra               NaN   \n",
       "2  THANE[W]    Retail        81055  Maharashtra               NaN   \n",
       "3     THNAE    Retail        84419  Maharashtra               NaN   \n",
       "4     THANE    Retail        18980  Maharashtra               NaN   \n",
       "\n",
       "  Invoice Date  Job Card No JobCard Date JobCard Time  KMs Reading  ...  \\\n",
       "0   2015-01-02       168303   2014-12-13     14:29:43        49317  ...   \n",
       "1   2015-01-03       173997   2015-01-02     14:12:18        78584  ...   \n",
       "2   2015-01-03       173889   2015-01-02     11:40:44        33985  ...   \n",
       "3   2015-01-03       174158   2015-01-03     10:12:32        78584  ...   \n",
       "4   2015-01-03       173860   2015-01-02     10:45:42        50057  ...   \n",
       "\n",
       "   Misc Total        Model  OSL Total         Order Type  Parts Total  \\\n",
       "0        0.00        SPARK     500.06       Paid Service      2348.75   \n",
       "1      197.03       INDICA       0.00  SMC Value Package         0.00   \n",
       "2        0.00          ZEN       0.00    Running Repairs        52.95   \n",
       "3        0.00       INDICA       0.00     SMC Redemption         0.00   \n",
       "4      100.00  SANTRO XING     499.99       Paid Service       944.16   \n",
       "\n",
       "  Pin code  Plant  Plant Name1 Print Status Recovrbl Exp  \n",
       "0   400601   BC01        THANE           NO          0.0  \n",
       "1   400603   BC01        THANE           NO          0.0  \n",
       "2   400607   BC01        THANE           NO          0.0  \n",
       "3   400603   BC01        THANE           NO          0.0  \n",
       "4   400603   BC01        THANE           NO          0.0  \n",
       "\n",
       "[5 rows x 22 columns]"
      ]
     },
     "execution_count": 65,
     "metadata": {},
     "output_type": "execute_result"
    }
   ],
   "source": [
    "final_invoice[['CITY', 'Cust Type',\n",
    "       'Customer No.', 'District', 'Insurance Company', 'Invoice Date',\n",
    "       'Job Card No', 'JobCard Date', 'JobCard Time', 'KMs Reading',\n",
    "       'Labour Total', 'Make', 'Misc Total', 'Model', 'OSL Total',\n",
    "       'Order Type', 'Parts Total', 'Pin code', 'Plant', 'Plant Name1',\n",
    "       'Print Status', 'Recovrbl Exp',]].head()"
   ]
  },
  {
   "cell_type": "code",
   "execution_count": 66,
   "metadata": {},
   "outputs": [
    {
     "data": {
      "text/plain": [
       "Running Repairs      269455\n",
       "Paid Service         135004\n",
       "Accidental            44159\n",
       "SMC Redemption        15738\n",
       "Mechanical            15100\n",
       "SMC Value Package      9781\n",
       "Repeat Order           3043\n",
       "Workshop Damage          17\n",
       "WBW Order                17\n",
       "Name: Order Type, dtype: int64"
      ]
     },
     "execution_count": 66,
     "metadata": {},
     "output_type": "execute_result"
    }
   ],
   "source": [
    "final_invoice['Order Type'].value_counts()"
   ]
  },
  {
   "cell_type": "code",
   "execution_count": 67,
   "metadata": {},
   "outputs": [
    {
     "name": "stderr",
     "output_type": "stream",
     "text": [
      "/home/tushar/.local/lib/python3.8/site-packages/seaborn/_decorators.py:36: FutureWarning: Pass the following variables as keyword args: x, y. From version 0.12, the only valid positional argument will be `data`, and passing other arguments without an explicit keyword will result in an error or misinterpretation.\n",
      "  warnings.warn(\n"
     ]
    },
    {
     "data": {
      "image/png": "[encoded data removed]",
      "text/plain": [
       "<Figure size 720x360 with 1 Axes>"
      ]
     },
     "metadata": {
      "needs_background": "light"
     },
     "output_type": "display_data"
    }
   ],
   "source": [
    "oredr_type_counts  = final_invoice['Order Type'].value_counts()\n",
    "plt.figure(figsize=(10,5))\n",
    "sns.barplot(oredr_type_counts.index[:5], oredr_type_counts.values[:5], alpha=0.8,saturation=50)\n",
    "plt.title('COUNT PLOT FOR TOP 5 ORDER TYPES')\n",
    "plt.ylabel(' COUNTS', fontsize=12)\n",
    "plt.xlabel('ORDER TYPE', fontsize=12)\n",
    "plt.show()"
   ]
  },
  {
   "cell_type": "code",
   "execution_count": 121,
   "metadata": {},
   "outputs": [
    {
     "data": {
      "text/plain": [
       "['CHENNAI',\n",
       " 'COIMBATORE',\n",
       " 'NEYVELI',\n",
       " 'CBE',\n",
       " 'GUINDY',\n",
       " 'Chennai',\n",
       " 'THANJAVUR',\n",
       " 'chennai',\n",
       " 'MADURAI',\n",
       " 'TIRUPUR',\n",
       " 'chidambaram',\n",
       " 'AMBUR',\n",
       " 'TUTICORIN',\n",
       " 'trichy',\n",
       " 'PALANI',\n",
       " 'DHARMAPURI',\n",
       " 'THIRUVARUR',\n",
       " 'RANIPET',\n",
       " 'Salem',\n",
       " 'POLLACHI',\n",
       " 'tirunelveli',\n",
       " 'ERODE',\n",
       " 'NAGERCOIL',\n",
       " 'madurai',\n",
       " 'NAMAKKAL',\n",
       " 'THIRUVALLUR',\n",
       " 'SALEM',\n",
       " 'CHIDAMBARAM',\n",
       " 'dindigul',\n",
       " 'TIRUNELVELI',\n",
       " 'villupuram',\n",
       " 'coimbatore',\n",
       " 'Dindigul',\n",
       " 'salem',\n",
       " '.',\n",
       " 'tuticorin',\n",
       " 'Dharmapuri',\n",
       " 'ranipet',\n",
       " 'Villupuram',\n",
       " 'Thanjavur',\n",
       " 'Karur',\n",
       " 'chengalpet',\n",
       " 'CHENGALPATTU',\n",
       " 'Tirupur',\n",
       " 'RAMANATHAPURAM',\n",
       " 'C.P.T',\n",
       " 'thanjavur',\n",
       " 'VANIYAMBADI',\n",
       " 'karur',\n",
       " 'VELLORE',\n",
       " 'neyveli',\n",
       " 'PANRUTI',\n",
       " 'Chidambaram',\n",
       " 'KANCHIPURAM',\n",
       " 'CHEENAI',\n",
       " 'chennai.',\n",
       " 'NAGAPATTINAM',\n",
       " 'tirupur',\n",
       " 'CUDDALORE',\n",
       " 'UDUMALPET',\n",
       " 'THIRUMANGALAM',\n",
       " 'M.CITY',\n",
       " 'KARUR',\n",
       " 'PUDUKKOTTAI',\n",
       " 'TRICHY',\n",
       " 'hosur',\n",
       " 'Ambur',\n",
       " 'dharmapuri',\n",
       " 'Trichy',\n",
       " 'POLLACHI.',\n",
       " 'VILLUPURAM',\n",
       " 'NERKUNDRAM',\n",
       " 'VIRUTHUNAGAR',\n",
       " 'NEYVELI-TS',\n",
       " 'thirumangalam',\n",
       " 'AMBATTUR',\n",
       " 'SIVAGANGAI',\n",
       " 'thiruvallur',\n",
       " 'cuddalore',\n",
       " 'T.NAGAR',\n",
       " 'VADALUR',\n",
       " 'PANTRUTI',\n",
       " 'cbe',\n",
       " 'KODAMBAKKAM',\n",
       " 'karumandapam trichy',\n",
       " ',',\n",
       " 'MADURAVOYAL',\n",
       " 'HOSUR',\n",
       " 'VELACHERY',\n",
       " 'PUDUKOTTAI',\n",
       " 'OOTY',\n",
       " 'TAMILNADU',\n",
       " 'ADMINISTRATIVE BUILDING,NO:1,G FLOO',\n",
       " 'KALPAKKAM',\n",
       " 'Coimbatore',\n",
       " 'CHENNAI.',\n",
       " 'KANYAKUMARI',\n",
       " 'Namakkal',\n",
       " 'Udumalpet',\n",
       " 'Padiyanallur',\n",
       " 'Nagercoil',\n",
       " 'EKKADUTHANGAL',\n",
       " 'K.PUTHUR',\n",
       " 'thirumangalam, madurai,',\n",
       " 'ARUMBAKKAM',\n",
       " 'BANGALORE',\n",
       " 'WEST MAMBALAM',\n",
       " 'VIRUDHUNAGAR',\n",
       " 'DINDIGUL',\n",
       " 'PORUR',\n",
       " 'TANJORE',\n",
       " 'c.p.t',\n",
       " 'ASHOK NAGAR',\n",
       " 'THIRUVANMIYUR',\n",
       " 'KAPPALUR',\n",
       " 'KANCHEEPURAM',\n",
       " 'K.K DIST',\n",
       " 'vellore',\n",
       " 'AVADI',\n",
       " 'GUDIYATHAM',\n",
       " 'thiruvarur',\n",
       " 'virudhunagar',\n",
       " 'chengalpattu',\n",
       " 'redhills',\n",
       " 'KILPAUK',\n",
       " 'sivakasi',\n",
       " 'NANNILAM',\n",
       " 'Neyveli',\n",
       " 'sirkali',\n",
       " 'VADAPALANI',\n",
       " 'ADAMBAKKAM',\n",
       " 'MUGAPPAIR',\n",
       " 'ANNA NAGAR',\n",
       " 'cdm',\n",
       " 'kumbakonam',\n",
       " 'THIRUTHURAIPOONDI',\n",
       " 'NEYVELI.TS',\n",
       " 'CHOOLAIMEDU',\n",
       " 'THIRUVERKADU',\n",
       " 'THENI',\n",
       " 'ponneri',\n",
       " 'PONNERI',\n",
       " 'VANAGARAM',\n",
       " 'NOLAMBUR',\n",
       " 'MUGAPAIR',\n",
       " 'ANNANAGAR',\n",
       " 'CHENGALPET',\n",
       " 'SIVAKASI',\n",
       " 'KOYAMBEDU',\n",
       " 'Chalisgaon',\n",
       " 'PANRUTTI',\n",
       " 'Ranipet',\n",
       " 'thirunelveli',\n",
       " 'KOLATHUR',\n",
       " 'CHENNAIQ',\n",
       " 'CHENAI',\n",
       " 'DINDUGAL',\n",
       " 'KRISHNAGIRI',\n",
       " 'sipcot',\n",
       " 'RAMAPURAM',\n",
       " 'palayamkottai',\n",
       " 'MADURAVOIL',\n",
       " 'ARCOT',\n",
       " 'WALAJAPET',\n",
       " 'RAMNAD',\n",
       " 'SIPCOT',\n",
       " 'CHETPET',\n",
       " 'sivagangai',\n",
       " 'ariyalur',\n",
       " 'MANAMADURAI',\n",
       " 'RADHAPURAM',\n",
       " 'ambur',\n",
       " 'MELUR',\n",
       " 'namakkal',\n",
       " 'CHROMPET',\n",
       " 'THIRUVANNAMALAI',\n",
       " 'sirkazhi',\n",
       " 'Pollachi',\n",
       " 'SIRUSERI',\n",
       " 'SAIDAPET',\n",
       " 'bhuvanagiri',\n",
       " 'COIMBOTORE',\n",
       " 'K.K.NAGAR',\n",
       " 'tirumangalam',\n",
       " 'TIRUVALLUR',\n",
       " 'viruthunagar',\n",
       " 'ARIYALUR',\n",
       " 'SALIGRAMAM',\n",
       " 'AVINASHI',\n",
       " 'MANAVALAKURICHY',\n",
       " 'ADYAR',\n",
       " 'VIRUDHACHALAM',\n",
       " 'Chengalpattu',\n",
       " 'karumandapam',\n",
       " 'KUMBAKONAM',\n",
       " 'THOVALAI',\n",
       " 'Thirukoilur',\n",
       " 'NANGANALLUR',\n",
       " 'METTUPALAYAM',\n",
       " 'THIRUPUR',\n",
       " 'CHENNAI,',\n",
       " 'kanchipuram',\n",
       " 'PUDUCHERRY',\n",
       " 'Rasipuram(T.K)',\n",
       " 'PERAIYUR',\n",
       " 'EKKATTUTHANGAL',\n",
       " 'MUGAPAIR EAST',\n",
       " 'TOWNSHIP',\n",
       " 'Ulundurpet',\n",
       " 'EGMORE',\n",
       " 'VILLIVAKKAM',\n",
       " 'PONDICHERRY',\n",
       " 'REDHILLS',\n",
       " 'SATTUR',\n",
       " 'VIRUGAMBAKKAM',\n",
       " 'madurai, madurai,',\n",
       " 'kalpakkam',\n",
       " 'thirunagar',\n",
       " 'VALASARAVAKKAM',\n",
       " 'PERNAMBUT',\n",
       " 'panruti',\n",
       " 'TIRUNELVELLI',\n",
       " 'TIRUMANGALAM',\n",
       " 'Attur',\n",
       " 'COIMPATORE',\n",
       " 'NUNGAMBAKKAM',\n",
       " 'TIRUPATTUR',\n",
       " 'theni',\n",
       " 'kollidam',\n",
       " 'PALAYAMKOTTAI',\n",
       " 'CHIDAMPARAM',\n",
       " 'M.M.NAGAR',\n",
       " 'POONAMALLEE',\n",
       " 'ambai',\n",
       " 'TAMBARAM',\n",
       " 'PERNAMPET',\n",
       " 'COIMABTORE',\n",
       " 'PALLADAM',\n",
       " 'Madurai',\n",
       " 'JAFFERKHANPET',\n",
       " 'THANDALAM',\n",
       " 'MADIPAKKAM',\n",
       " 'KERALA',\n",
       " 'VIRUDACHALAM',\n",
       " 'MADURAI,',\n",
       " 'CHENGAL PATTU',\n",
       " 'MANAVALAKURICHI',\n",
       " 'tenkasi',\n",
       " 'Redhills',\n",
       " 'THIRUNAGAR',\n",
       " 'CHITLAPAKKAM',\n",
       " 'KALKULAM',\n",
       " 'TAMIL NADU',\n",
       " 'COONOOR',\n",
       " 'ALANDUR',\n",
       " 'UTHIRAMERUR',\n",
       " 'VELLOR',\n",
       " 'rajapalayam',\n",
       " 'JEYAM KONDAM',\n",
       " 'VIRUDHUNAGAR TK,',\n",
       " 'PADI',\n",
       " 'PERAMBUR',\n",
       " 'GUDIYATTAM',\n",
       " 'CIOMBATORE',\n",
       " 'CHNNAI',\n",
       " 'PARRYS',\n",
       " 'KODAIKANAL',\n",
       " 'kattumannar kovil',\n",
       " 'THUCKLAY',\n",
       " 'VALPARAI',\n",
       " 'S.P.KOIL',\n",
       " 'ARUMBAKKAM,',\n",
       " 'MYLAPORE',\n",
       " 'RADHAPURAM (TK)',\n",
       " 'manapparai',\n",
       " 'BEHIND TO PENTHAGOSE CHURCH',\n",
       " 'MUGAPPAIR,',\n",
       " 'kappalur',\n",
       " 'kittu recsidency ,no 100 , salem',\n",
       " 'BANGLORE',\n",
       " 'MANGALAM ROAD',\n",
       " 'VANIYABADI',\n",
       " 'ALAPAKKAM',\n",
       " 'Sirkali',\n",
       " 'palani',\n",
       " 'VADALOOR',\n",
       " 'dindugal',\n",
       " 'MANAVALA NAGAR',\n",
       " 'palayankottai',\n",
       " 'CHANNAI',\n",
       " 'DHAMAPURI',\n",
       " 'GUDUVANCHERY',\n",
       " 'GUDUVANCHERI',\n",
       " 'BHUVANAGIRI',\n",
       " 'Panruti',\n",
       " 'MARTHANDAM',\n",
       " 'THANAJVUR',\n",
       " 'virudhunagar, virudhunagar,',\n",
       " 'RAJAPALAYAM',\n",
       " 'WALAJA',\n",
       " 'AYANAVARAM',\n",
       " 'GOBI',\n",
       " 'ROYAPETTAH',\n",
       " 'TEYNAMPET',\n",
       " 'katpadi',\n",
       " 'ROYAPURAM',\n",
       " 'VILUPURAM',\n",
       " 'AMINJIKARAI',\n",
       " 'MADURAVAYUL',\n",
       " 'NANDANAM',\n",
       " 'walajapet',\n",
       " 'RAMNADU',\n",
       " 'tvl',\n",
       " 'Thanjavur,',\n",
       " 'KARAMADAI',\n",
       " 'madurai,',\n",
       " 'KK NAGAR',\n",
       " 'thirvullar',\n",
       " 'vadalur',\n",
       " 'PARAMAKUDI',\n",
       " 'vilupuram',\n",
       " 'second floor,contonment,trichy',\n",
       " 'Kattupakkam, Ch',\n",
       " 'AYYAVOO COLONY',\n",
       " 'perambalur',\n",
       " 'karaikudi',\n",
       " 'kattumannarkovil',\n",
       " 'THIRUNINDRAVUR',\n",
       " 'KILVELUR',\n",
       " 'tirunelvelli',\n",
       " 'CHEENNAI',\n",
       " 'NANDAMBAKKAM',\n",
       " 'P.N ROAD',\n",
       " 'KOVILPATTI',\n",
       " 'THIRUVALLUR DIST',\n",
       " 'ARUPPUKOTTAI',\n",
       " 'NAMAKAL',\n",
       " 'PALLIKARANAI',\n",
       " 'SAIBABA COLONY',\n",
       " 'THIRUNAGAR, MADURAI,',\n",
       " 'CHINMAYA NAGAR',\n",
       " 'TAMILNLADU',\n",
       " 'uthiramerur',\n",
       " 'PUDUR',\n",
       " 'MM NAGAR',\n",
       " 'SELAM',\n",
       " 'CHINMAYA NGR',\n",
       " 'chengalpet,',\n",
       " 'THOOTHUKUDI',\n",
       " 'keerapalayam',\n",
       " 'aruppukottai',\n",
       " 'kilpak',\n",
       " 'Tiruvannamalai',\n",
       " 'PEELAMEDU',\n",
       " 'tuiticorin',\n",
       " 'NOLAMBURE',\n",
       " 'UTHUKOTTAI',\n",
       " 'NEYYOOR',\n",
       " 'SETHIYATHOPPU',\n",
       " 'TRIPUR',\n",
       " 'RASIPURAM',\n",
       " 'chidambarm',\n",
       " 'thirunagar, madurai,',\n",
       " 'pudukkottai',\n",
       " 'GANAPATHY',\n",
       " 'URAPAKKAM',\n",
       " 'COIMABATORE',\n",
       " 'CHINNATHIRUPATHI',\n",
       " 'DINDUKAL',\n",
       " 'ramanathapuram',\n",
       " 'THALAVAIPATTI PO SITHANUR',\n",
       " 'HARUR',\n",
       " 'SIRKALI',\n",
       " 'CHENNAI`',\n",
       " 'ulundurpet',\n",
       " 'kanyakumari',\n",
       " 'SHOLINGANALLUR',\n",
       " 'CDM',\n",
       " 'k.kovil',\n",
       " 'THIEUVALLUR',\n",
       " 'LITTLE MOUNT',\n",
       " 'Erode',\n",
       " 'alangulam',\n",
       " 'VADAVALLI',\n",
       " 'KURUNJIPADI',\n",
       " 'MEDAVAKKAM',\n",
       " 'Avadi',\n",
       " 'PALLAVARAM',\n",
       " 'NAGAI',\n",
       " 'KARUNGAL',\n",
       " 'COLACHEL',\n",
       " 'SHENOY NAGAR',\n",
       " 'SRIPERAMPATHUR TALUK',\n",
       " 'k puthur',\n",
       " 'ANNA NGR WEST EXTN',\n",
       " 'KORATTUR',\n",
       " 'Ambur.',\n",
       " 'AGASTHEESWARAM TK',\n",
       " 'ODDANCHATHIRAM',\n",
       " 'SIDE, TIRUPUR',\n",
       " 'KANCHIPURAM,',\n",
       " 'SOWCARPET',\n",
       " 'MAYAVARAM',\n",
       " 'SRIPERUMANTHUR',\n",
       " 'POLLACHI,',\n",
       " 'NEW BUS STAND',\n",
       " 'K.PUDUR',\n",
       " 'padiyanallur',\n",
       " 'NEAR KRR MILLS',\n",
       " 'TIRUVERKADU',\n",
       " 'VEPERY',\n",
       " 'PUTHUKOTTAI',\n",
       " 'kattumannarkoil',\n",
       " 'CHENNNAI',\n",
       " 'MAHINDRA WORLD CITY',\n",
       " 'KANCHEPURAM',\n",
       " 'tamilnadu',\n",
       " 'Thiruvarur',\n",
       " 'CHENNI',\n",
       " 'SELLUR',\n",
       " 'GUMMIDIPOONDI',\n",
       " 'town',\n",
       " 'TIRUNELVEWLI',\n",
       " 'JOLARPETTAI',\n",
       " 'MANNARGUDI',\n",
       " 'ramnadu',\n",
       " 'chidamparam',\n",
       " 'padinallur',\n",
       " 'PADAPPAI',\n",
       " 'srikalai',\n",
       " 'K.KOVIL',\n",
       " 'MGR NAGAR',\n",
       " 'THE NILGIRIS',\n",
       " 'ULLAGARAM',\n",
       " 'annamalai nagar',\n",
       " 'perumalpuram',\n",
       " 'RAMANPUTHOOR',\n",
       " 'mayiladuthurai',\n",
       " 'KATTUMANNAR KOVIL',\n",
       " 'KANGAYAM',\n",
       " 'NEYVELI TS',\n",
       " 'srirangam',\n",
       " 'TNANDALAM',\n",
       " 'chidamabaram',\n",
       " 'Cuddalore',\n",
       " 'VADIPATTI',\n",
       " 'NAGERCOIL.',\n",
       " 'KARAIKUDI',\n",
       " 'VALLIOOR',\n",
       " 'MAIN ROAD',\n",
       " 'KADALADI (TK), RAMANATHAPURAM (DT)',\n",
       " 'TIRUTTANI',\n",
       " 'viralimalai',\n",
       " 'HOSSUR',\n",
       " 'ANNAMALAI NAGAR',\n",
       " 'WEST MUGAPAIR',\n",
       " '7TH MAIN ROAD ,ANNANAGAR',\n",
       " 'thiruvallur.',\n",
       " 'nanguneri',\n",
       " 'USILAMPATTI',\n",
       " 'CHENNai',\n",
       " 'AMBATHUR',\n",
       " 'parangipettai',\n",
       " 'tirunelvli',\n",
       " 'trivandrum',\n",
       " 'VELLORE DISTRICT',\n",
       " 'PONNIYAMMANMEDU',\n",
       " 'WORAIYUR',\n",
       " 'narayanapuram',\n",
       " 'SINGAMPUNARI',\n",
       " 'GOLDEN GEORGE NAGAR',\n",
       " 'AMBUR.',\n",
       " 'KOVUNDAMPALAYAM',\n",
       " 'erode',\n",
       " 'kancheepuram',\n",
       " 'TINDIVANAM',\n",
       " 'MATTUTHAVANI',\n",
       " 'KAVUNDAMPALAYAM',\n",
       " 'COMBATORE',\n",
       " 'MINNUR       AMBUR',\n",
       " 'aruppukkottai',\n",
       " 'ALWARPET',\n",
       " 'POONDI',\n",
       " 'ALAKHIPANOYAVRAM',\n",
       " 'SOUTH MAIN STR',\n",
       " 'villlupuram',\n",
       " 'THUCKALAY',\n",
       " 'KOOTHANALLUR',\n",
       " 'PUNE',\n",
       " 'GUDYATHAM',\n",
       " 'MANAPAKKAM',\n",
       " 'MUGAPPAIR EAST',\n",
       " '1ST MAIN ROAD,MADURAVOIL',\n",
       " 'PONDICHERI',\n",
       " 'SHREE PARK BUILDING,',\n",
       " 'BENGALURU',\n",
       " 'C+HENNAI',\n",
       " 'THIRUVANAMALAI',\n",
       " 'gumidipundi',\n",
       " 'SAKTHI NAGAR',\n",
       " 'WEST TAMBARAM',\n",
       " 'K.PUDHUR',\n",
       " 'PURASAIVAKKAM',\n",
       " 'THINDIVANAM',\n",
       " 'NOIDA',\n",
       " 'thirukovilur',\n",
       " 'CHROMEPET',\n",
       " 'THIRUNELVELI',\n",
       " 'KANCHIPURAM DIST,',\n",
       " 'ALANTHUR',\n",
       " 'Kanchipuram',\n",
       " 'HYDERABAD',\n",
       " 'CMBT',\n",
       " 'PAP[ANASAM',\n",
       " 'THIRUVALLAM',\n",
       " 'CNENNAI',\n",
       " 'SALAM',\n",
       " 'K.K.NAGAR,CHENNAI',\n",
       " 'HARBOR EXPRESS ROAD',\n",
       " 'pondicherry',\n",
       " 'THANAKANKULAM',\n",
       " 'VANAKKAN KADU (PO) , KURUMBAKUDI (T',\n",
       " 'madakulam, maduai,',\n",
       " 'ANNA NAGAR, MADURAI,',\n",
       " 'THUCKALY',\n",
       " 'palanganatham, madurai,',\n",
       " 'ANNA NGR',\n",
       " 'Ambattur',\n",
       " 'MADHURANTHAKAM',\n",
       " 'MADURAVOIL,',\n",
       " 'MUTHIAHPURAM',\n",
       " 'west extn',\n",
       " 'ANNA NAGAR, MADURAI DT,',\n",
       " 'kattumanarkovil',\n",
       " 'pudukottai',\n",
       " 'coimatore',\n",
       " 'KUMARAN NGR,',\n",
       " 'faridabad',\n",
       " 'PALLIKONDA',\n",
       " 'VILARAN CODE',\n",
       " '6TH CROSS ST',\n",
       " 'KARUVAMPALAYAM',\n",
       " 'NILAANGARAI',\n",
       " 'melbhuvanagiri',\n",
       " 'KUMARAN ROAD',\n",
       " 'COIMBATOR',\n",
       " 'tutiucorin',\n",
       " 'NEW COLONY,NERKUNDRAM',\n",
       " 'Dhramapuri',\n",
       " 'KOVILLAMBAKKAM, KANCHIPURAM',\n",
       " 'tiruchendur',\n",
       " 'PAMMAL',\n",
       " 'UDUMALPET.',\n",
       " 'B.MUTLUR',\n",
       " 'INDHIRANAGAR',\n",
       " 'EAST TAMBARAM',\n",
       " 'MUPAR STREET',\n",
       " 'PADIKUPPAM ROAD',\n",
       " 'SIVANGANGI',\n",
       " 'MADATHUKULAM',\n",
       " 'VALLAM',\n",
       " 'KURINJIPADI',\n",
       " 'nagamalai pudukkottai, madurai,',\n",
       " 'NANGANALLURE,CHENNAI',\n",
       " 'THUDIYALUR',\n",
       " 'thiruchendur',\n",
       " 'PADAPAI',\n",
       " 'PALAVANTHANGAL',\n",
       " 'NGL',\n",
       " 'KATPADI',\n",
       " 'kodaikanal',\n",
       " 'THNJAVUR',\n",
       " 'KANYAKUMARI-DIST',\n",
       " 'NAGAPATINAM',\n",
       " 'ALOOR',\n",
       " 'NUNGAMBAKKAM,',\n",
       " 'KADALADI TK,',\n",
       " 'MOBIRAPATTY,(P)',\n",
       " 'Pudukottai',\n",
       " 'LABOUR OFFICE NEAR',\n",
       " 'DHARMAPURI,',\n",
       " 'CBHENNAI',\n",
       " 'viruthachalam',\n",
       " 'BROADWAY',\n",
       " 'ANNANAGAR EAST',\n",
       " 'VELACHERRY',\n",
       " 'KUNDRAKUDI, SIVAGANGAI DT,',\n",
       " 'coimbature',\n",
       " 'PUDUKOTTAI MAIN ROAD',\n",
       " 'SRIVILLIPUTHUR',\n",
       " 'kovilpatti',\n",
       " 'm.city',\n",
       " 'karamandapam,trichy',\n",
       " 'Vellore',\n",
       " 'kaniyakumari',\n",
       " 'CADDALORE',\n",
       " 'MADAMPAKKAM',\n",
       " 'salem.8',\n",
       " 'puthur',\n",
       " 'thiruparankundram',\n",
       " 'THIRUMANGALAM, MADURAI DT,',\n",
       " 'SRIPERUMBUDAR',\n",
       " 'walaja',\n",
       " 'BANGALOR',\n",
       " 'CHENNIA',\n",
       " 'RAJAJI PURAM, THIRUVALLUR',\n",
       " 'PERUVILAI',\n",
       " 'VELLORE DT',\n",
       " 'TIRUTHANI',\n",
       " 'CUDDALOR',\n",
       " 'paramakudi',\n",
       " 'T NGR',\n",
       " 'MANGADU',\n",
       " 'NESAPAKKAM',\n",
       " 'KUPPUSWAMY NAIDU COMPLEX',\n",
       " 'virudhachalam',\n",
       " 'POONAMALLE,CHENNAI',\n",
       " 'CASABLONCA APARTMENT',\n",
       " 'THIRUMANGALAM TK,',\n",
       " 'VANIMBADI',\n",
       " 'CHENNAN',\n",
       " 'KELLYS',\n",
       " 'THADARAMBAKKAM',\n",
       " 'CHEIYAR TALUK',\n",
       " 'VANIYAMBADI(DIST)',\n",
       " 'aruppukottai, virudhunagar,',\n",
       " 'NANGUNERI',\n",
       " 'V-GRAONAGAR C-SECTOR',\n",
       " 'SINGAPERUMALKOIL',\n",
       " 'Ariyalur',\n",
       " 'CHENGELPET',\n",
       " 'sethiyathoppu',\n",
       " 'ARIVADI',\n",
       " 'thirupur',\n",
       " 'PONNERI TK',\n",
       " 'CHIDHAMBARAM',\n",
       " 'oddanchatram',\n",
       " 'PAPANASAM',\n",
       " 'T',\n",
       " 'THIRUCHENDUR',\n",
       " 'vaniyambadi',\n",
       " 'A.M.SA.RAYAPETTAH',\n",
       " 'KALAPATTI',\n",
       " 'sivakangai',\n",
       " 'VANAYAMBADI',\n",
       " 'KARAIKAL',\n",
       " 'MUGAPAIR WEST.',\n",
       " 'thirukoilur',\n",
       " 'IRUNKATTUKOTAI',\n",
       " 'TUTUCORIN',\n",
       " 'k.k road',\n",
       " 'NAMMAKKAL',\n",
       " 'DHINDUKAL',\n",
       " 'DEVAKOTTAI',\n",
       " 'nagap[attinam',\n",
       " 'M.CITY OPPOSITE',\n",
       " 'RAJAKAL(POST) MAILPATTY  (VIA)',\n",
       " 'CADDLORE',\n",
       " 'PARANGIPETTAI',\n",
       " 'THIRUVARUIR',\n",
       " 'thiruppur',\n",
       " 'COIMBTORE',\n",
       " 'TIRUVANNAMALAI',\n",
       " 'darmapuri',\n",
       " 'salam',\n",
       " 'VEDHARANYAM',\n",
       " 'THIRUMALAI VBASAL',\n",
       " 'chinnamanur',\n",
       " 'tisayanvillai',\n",
       " 'DR.MOORTHY NAGAR',\n",
       " 'THIRUKOILUR',\n",
       " 'south gate',\n",
       " 'EAST GATE',\n",
       " 'Agastheeswaram',\n",
       " 'thrivallur',\n",
       " 'TIRUCHENDUR',\n",
       " 'PATTOKOTTAI',\n",
       " 'ASARIPALLAM',\n",
       " 'PALLADAMROAD',\n",
       " 'KANCEEPURAM',\n",
       " 'TIRUVALLUR DIST',\n",
       " 'yercaud',\n",
       " 'DHARMPURI',\n",
       " 'DHRMAPURI',\n",
       " 'Thindivanam',\n",
       " 'MURUGAMPALAYAM',\n",
       " 'walajpet',\n",
       " 's.p.koil',\n",
       " 'noida',\n",
       " 'vannankovil trichy',\n",
       " 'SATHANKULAM',\n",
       " 'PARAMAGUDI',\n",
       " 'Turicorin',\n",
       " 'NAGAPPATTINAM',\n",
       " 'nagapattinam',\n",
       " 'PURAM',\n",
       " 'M.V.KUPPAM POST',\n",
       " 'NEYVELU',\n",
       " 'THIRUVALUR',\n",
       " 'CADDALOR',\n",
       " '5 th st, tnj',\n",
       " 'KOLATHUR, 9791096589',\n",
       " 'AMBATTUR O.T',\n",
       " 'bangalore',\n",
       " 'karur d.t',\n",
       " 'bhuvangiri',\n",
       " 'Rasipuram',\n",
       " 'R.A.PURAM',\n",
       " 'NEYVELI T.S',\n",
       " 'INDRA NAGAR',\n",
       " 'VADASERY',\n",
       " 'ADHAMBAKKAM',\n",
       " 'puliangudi',\n",
       " 'THIRUMANGALAM, MADURAI,',\n",
       " 'MEHTA NGR',\n",
       " 'tiruchirapalli',\n",
       " 'THIRUVALLUVAR',\n",
       " 'koil patti',\n",
       " 'UTHANDI',\n",
       " 'vallioor',\n",
       " 'kattumaranar kovil st,',\n",
       " 'VILAR ROAD',\n",
       " 'salamedu',\n",
       " 'pudhur',\n",
       " 'COLLEGE,KUNDRATHURE ROAD',\n",
       " 'PALAI ROAD',\n",
       " 'srirangam,trichy',\n",
       " 'MANALUR',\n",
       " 'PATTUKOTTAI',\n",
       " 'PALAYANKOTTAI',\n",
       " 'CHOOLAI',\n",
       " 'ktc nagar',\n",
       " 'Thiruvannamalai',\n",
       " 'THIRUVANMAIYUR',\n",
       " 'THIRUVALAM',\n",
       " 'KOTTIVAKKAM',\n",
       " 'MUGALIVAKKAM',\n",
       " 'PASUMALAI',\n",
       " 'CHEYYAR',\n",
       " 'thirunagar, madurai',\n",
       " 'THIRUMULLAIVOYAL',\n",
       " 'trichy d.t',\n",
       " 'crawford trichy',\n",
       " 'VILAVANCODE',\n",
       " 'kandamanadi',\n",
       " 'PALYAMKOTTAI',\n",
       " 'THIRUVAYURPADI',\n",
       " 'KURINJI NAGAR, LAWSPET',\n",
       " 'vayalur',\n",
       " 'thirunagar,',\n",
       " 'KOMATHIPURAM',\n",
       " 'EKKATUTHANGAL',\n",
       " 'AYYAMPATTAI',\n",
       " '88/4,RAMS FLATS,2ND MAIN ROAD',\n",
       " 'GUDATHAM',\n",
       " 'COURT COMPLEX',\n",
       " 'G.B,MOUNT POONAMALLEE ROAD,MANAPAKK',\n",
       " 'panturti',\n",
       " 'KATTUMANNAR KOIL',\n",
       " '2ND AVE ANNA NGR',\n",
       " 'TIRUNELVLEI',\n",
       " 'KUNNATHUR',\n",
       " 'tirunagar',\n",
       " 'RS PURAM',\n",
       " 'NADUTHERI',\n",
       " 'THIRUMALAI LANE',\n",
       " 'TKC ST, NEW PERANGALATHURE',\n",
       " 'AYYAPANTHANGAL',\n",
       " 'KASPA-B',\n",
       " 'PUTHUR',\n",
       " 'PUZHAL',\n",
       " 'NANMANGALAM',\n",
       " 'COURT ROAD',\n",
       " 'madurau',\n",
       " 'GOKULAM ST,SRINIVASA NAGAR',\n",
       " 'KAMUTHI',\n",
       " 'villupuram.',\n",
       " 'PALLADAM, TIRUPUR',\n",
       " 'NAMAKKAL DT',\n",
       " '1ST STREET',\n",
       " 'WEST BENGAL',\n",
       " 'GANDHIPURAM',\n",
       " 'chidhambaram',\n",
       " 'THIRUMULLAIVAIL',\n",
       " 'sALEM',\n",
       " 'S.S COLONY',\n",
       " 'tamil nadu',\n",
       " 'Pandiyanallur',\n",
       " 'SARAVANAMPATTI',\n",
       " 'KANIYAKUMARI',\n",
       " 'MUGAPPAIR WEST',\n",
       " 'PADALAM',\n",
       " 'R.S PURAM',\n",
       " 'MATHURAI',\n",
       " 'JAYA KUMAR STREET',\n",
       " 'PANTHUVAKTTAI',\n",
       " 'crowford',\n",
       " 'thirukazhukundram taluk',\n",
       " 'RAMANATHA PURAM',\n",
       " 'OLD WASHERMEN PET',\n",
       " 'ARANI',\n",
       " 'Tiruchengodu South',\n",
       " 'odaipatti, thirumangalam, madurai,',\n",
       " 'NEYVELI -TS',\n",
       " 'MADAMBAKKAM',\n",
       " 'KINATHUKADAVU',\n",
       " 'kolathur',\n",
       " 'ellari',\n",
       " 'neyveli,panruti',\n",
       " 'CHNAAI',\n",
       " 'KONGU MAIN ROAD',\n",
       " 'KOVILAMBAKKAM',\n",
       " 'prembar',\n",
       " 'PALACODE',\n",
       " 'MADURANTHAKAM',\n",
       " 'NELLORE',\n",
       " 'chenai',\n",
       " 'thirunelveli,',\n",
       " 'KANGAYAM ROAD',\n",
       " 'PERUMBAKKAM MAIN ROAD,',\n",
       " 'NEELANKARAI',\n",
       " 'THIRUVANA MALAI',\n",
       " 'chermahadevi',\n",
       " 'GUINDY, CHENNAI',\n",
       " 'NO:370,EB OFFICE ROAD',\n",
       " 'MANDAVELI',\n",
       " 'COIMBTAORE',\n",
       " 'villupuram dt',\n",
       " 'near old palpannai, trichy',\n",
       " 'thirumangalm',\n",
       " 'TIRUMULLAIVOYAL',\n",
       " 'pudhukkottai',\n",
       " 'arumbakkam',\n",
       " 'SAWYER PURAM',\n",
       " 'KATTUMANNARKOIL',\n",
       " 'THANJAVUR,',\n",
       " 'Thirumangalam',\n",
       " 'COIBATORE',\n",
       " 'AMINJAKARAI',\n",
       " 'MUTHUPATTI',\n",
       " 'chennai-67',\n",
       " 'PARAVAI',\n",
       " 'THANI',\n",
       " 'ANNASALAI',\n",
       " 'VELLOUR',\n",
       " 'RAYAPETTAH',\n",
       " 'VADAKUTHU',\n",
       " 'nashik',\n",
       " 'KOTTAYAN(PO)',\n",
       " 'MANDAVELIPAKKAM',\n",
       " 'COPIMBATORE',\n",
       " 'VILLAPURAM, MADURAI,',\n",
       " 'kariyapatti, virudhunagar,',\n",
       " 'mellur',\n",
       " 'thiruvadani',\n",
       " 'MADHAKOTTAI',\n",
       " 'SAIDAPETCHENNAI',\n",
       " 'Pondy',\n",
       " 'U I COLONY,KODAMBAKKAM',\n",
       " 'MANAVALANAGAR',\n",
       " 'VIRUDUNAGAR',\n",
       " 'NEAR VISHNAVA CLG',\n",
       " 'township',\n",
       " 'sankarankoil',\n",
       " 'COIMATORE',\n",
       " 'NAGAR KOIL',\n",
       " 'THOVALAI TK',\n",
       " 'ramnad',\n",
       " 'POLICHALUR',\n",
       " 'CHENNAi',\n",
       " 'VEERAPURAM,CHENGALPATTU.',\n",
       " 'CENTER,VILLIAM VILLAGE,SRIPERAMBUTH',\n",
       " 'cantonment',\n",
       " 'OLD WASHERMENPET',\n",
       " '600092',\n",
       " 'MANNURPET',\n",
       " 'THIRUVIDAICHERI',\n",
       " 'THIRUVALLUR DISTRICT',\n",
       " 'TNANJAVUR',\n",
       " 'ANAIYUR',\n",
       " 'VILLUPURAM (DIST)',\n",
       " 'NAGARKOIL',\n",
       " 'NAMMALWARPET, AYANAVARAM',\n",
       " 'kulithalai',\n",
       " 'BOOTHAGIRI',\n",
       " 'CHENGALPUT',\n",
       " 'VIRUTHACHALAM',\n",
       " 'ALLANGADU',\n",
       " 'MC ROAD LAKSHMI SEEVAL OPP',\n",
       " 'Thiruparankumdram',\n",
       " 'KAKKALUR',\n",
       " 'SIVANGANGAI',\n",
       " 'POLLACH.',\n",
       " 'AMMAPETTAI',\n",
       " 'UDAGAMANDALAM',\n",
       " 'VELACHERRI',\n",
       " 'TRUPUR',\n",
       " 'SOMANUR, TIRUPUR',\n",
       " 'OLD ALAMATHI,CHENNAI',\n",
       " 'SINDU NAGAR,AVADI',\n",
       " 'VELLUR',\n",
       " 'natham',\n",
       " 'MAYILADUTHURAI',\n",
       " 'PARVATHIPURAM',\n",
       " 'chdambaram',\n",
       " 'PAVITHRAMANIKKAM',\n",
       " 'T. KALLUPATTI, MADURAI DT,',\n",
       " 'NAGAPATTINUM',\n",
       " 'BOOTHAPANDI',\n",
       " 'VANAIYAMBADI',\n",
       " 'palayamkottai, thirunelveli,',\n",
       " 'radhapuram',\n",
       " 'palayakotai',\n",
       " 'MG SWAMY KALYANA MANDAPAM,VANAGARAM',\n",
       " 'NEYVE.I',\n",
       " 'gumpidipundi bazzar',\n",
       " 'PALAIYAMKOTTAI',\n",
       " 'krishnagiri',\n",
       " 'kurichi',\n",
       " 'kamuthi,  ramanathapuram,',\n",
       " 'ALANGULAM',\n",
       " 'HIGH SCHOOL',\n",
       " 'virruthachalam',\n",
       " 'MEENAMBALPURAM',\n",
       " 'thirumangalam,madurai,',\n",
       " 'chidmbaram',\n",
       " 'MADURAVOIL MARKET',\n",
       " 'anna nagar',\n",
       " 'ARALVAIMOZHI',\n",
       " 'UDUMALPET,',\n",
       " 'MKN ROAD,ALANDUR',\n",
       " 'INDUSTRIAL ESTATE,GUINDY',\n",
       " 'madhuranthakam',\n",
       " 'VINAYAGAPURAM',\n",
       " 'MAMBALAM',\n",
       " 'TONDIARPET',\n",
       " 'MUDICHURE ROAD',\n",
       " 'GANDHI NAGAR',\n",
       " 'MODERN CITY,NEAR HINDU COLLEAGE',\n",
       " 'SEMBAKKAM',\n",
       " 'ANNA NAGAR CHENNAI',\n",
       " 'cheenai',\n",
       " 'KOYAMBRDU',\n",
       " 'THIRUTHANGAL',\n",
       " 'aandalpuram,  madurai,',\n",
       " 'ARCOT ROAD, SALIGRAMAM. NR SHAMILA',\n",
       " 'NO:29,1ST SEA WARD ROAD,VALMIGI NGR',\n",
       " 'CHITTLAPAKKAM',\n",
       " 'PALAYMAKOTTAI',\n",
       " 'GILL NAGAR,CHOOLAIMEDU',\n",
       " 'ASTHANAPURAM, CHENNAI,',\n",
       " 'sidco industrial estate',\n",
       " 'mariyappa nagar',\n",
       " 'CHINNA NOLAMBUR',\n",
       " 'MILLER PURAM',\n",
       " 'PERAMBALUR DIST',\n",
       " 'COIMBOTRE',\n",
       " 'ARUMBAKKAM,CHENNAI',\n",
       " 'ADAMBAKKAM,',\n",
       " 'VANAMBADI',\n",
       " 'SRINIVASA NAGAR',\n",
       " 'KACHIPURAM',\n",
       " 'VRIDHACHALAM',\n",
       " 'NEAR IYAPPAN KOVIL',\n",
       " 'PERAMBURE',\n",
       " 'VAPPAMPATTU',\n",
       " 'chidambram',\n",
       " 'CHHENNAI',\n",
       " 'THULUTHUR',\n",
       " 'POONTHOTTAM',\n",
       " 'COUIMBATORE',\n",
       " 'sathankulam',\n",
       " 'RSPURAM',\n",
       " 'USILAMPATTI,',\n",
       " 'KEEZHKULAM',\n",
       " 'NEYVELI.T.S',\n",
       " 'METUKUPPAM ROAD',\n",
       " 'CHOOLAI POST,CHOOLAI',\n",
       " 'KOTTARAM',\n",
       " 'NEYVELI-T.S',\n",
       " 'CHENNAI MAIN ROAD',\n",
       " 'THIRUVALLUR NAGAR',\n",
       " 'THAMBARAM',\n",
       " 'pollachi',\n",
       " 'srimusanam',\n",
       " 'Thuthiput',\n",
       " '1ST CROSS ST.,SABARI NAGAR',\n",
       " 'CHENGALPATTU.',\n",
       " 'M.C.ROAD',\n",
       " 'AMBIKA NAGAR,NERKUNDRAM',\n",
       " 'srivilliputhur',\n",
       " 'VEDARANYAM',\n",
       " 'MADURI',\n",
       " 'ASHOK NAGER',\n",
       " 'SELAIYUR',\n",
       " 'TIRPUR',\n",
       " 'marthandam',\n",
       " '248,KILPAUK GARDAN ROAD',\n",
       " 'MEELAVITTAN ROAD',\n",
       " 'iyer bangalaw, madurai,',\n",
       " ...]"
      ]
     },
     "execution_count": 121,
     "metadata": {},
     "output_type": "execute_result"
    }
   ],
   "source": [
    "df=final_invoice[final_invoice['District']=='Tamil Nadu']\n",
    "list(df['CITY'].value_counts().keys())"
   ]
  },
  {
   "cell_type": "code",
   "execution_count": 68,
   "metadata": {},
   "outputs": [
    {
     "data": {
      "text/plain": [
       "Maharashtra       128119\n",
       "Tamil Nadu        116309\n",
       "Karnataka          44135\n",
       "Andhra Pradesh     40604\n",
       "Uttar Pradesh      31534\n",
       "Name: District, dtype: int64"
      ]
     },
     "execution_count": 68,
     "metadata": {},
     "output_type": "execute_result"
    }
   ],
   "source": [
    "district_counts=final_invoice['District'].value_counts()[:5]\n",
    "district_counts"
   ]
  },
  {
   "cell_type": "code",
   "execution_count": 69,
   "metadata": {
    "scrolled": true
   },
   "outputs": [
    {
     "name": "stderr",
     "output_type": "stream",
     "text": [
      "/home/tushar/.local/lib/python3.8/site-packages/seaborn/_decorators.py:36: FutureWarning: Pass the following variables as keyword args: x, y. From version 0.12, the only valid positional argument will be `data`, and passing other arguments without an explicit keyword will result in an error or misinterpretation.\n",
      "  warnings.warn(\n"
     ]
    },
    {
     "data": {
      "image/png": "[encoded data removed]",
      "text/plain": [
       "<Figure size 720x360 with 1 Axes>"
      ]
     },
     "metadata": {
      "needs_background": "light"
     },
     "output_type": "display_data"
    }
   ],
   "source": [
    "district_counts  = final_invoice['District'].value_counts()\n",
    "plt.figure(figsize=(10,5))\n",
    "sns.barplot(district_counts.index[:5], district_counts.values[:5], alpha=0.8)\n",
    "plt.title('COUNT PLOT FOR TOP 5 DISTRICT')\n",
    "plt.ylabel('CUSTOMER COUNTS', fontsize=12)\n",
    "plt.xlabel('DISTRICT NAME', fontsize=12)\n",
    "plt.show()"
   ]
  },
  {
   "cell_type": "code",
   "execution_count": 70,
   "metadata": {},
   "outputs": [
    {
     "data": {
      "text/plain": [
       "Lakshadweep    7\n",
       "Sikkim         6\n",
       "Tripura        5\n",
       "Manipur        3\n",
       "Mizoram        2\n",
       "Name: District, dtype: int64"
      ]
     },
     "execution_count": 70,
     "metadata": {},
     "output_type": "execute_result"
    }
   ],
   "source": [
    "final_invoice['District'].value_counts()[-5:]"
   ]
  },
  {
   "cell_type": "code",
   "execution_count": 71,
   "metadata": {},
   "outputs": [
    {
     "name": "stderr",
     "output_type": "stream",
     "text": [
      "/home/tushar/.local/lib/python3.8/site-packages/seaborn/_decorators.py:36: FutureWarning: Pass the following variables as keyword args: x, y. From version 0.12, the only valid positional argument will be `data`, and passing other arguments without an explicit keyword will result in an error or misinterpretation.\n",
      "  warnings.warn(\n"
     ]
    },
    {
     "data": {
      "image/png": "[encoded data removed]",
      "text/plain": [
       "<Figure size 720x360 with 1 Axes>"
      ]
     },
     "metadata": {
      "needs_background": "light"
     },
     "output_type": "display_data"
    }
   ],
   "source": [
    "district_counts  = final_invoice['District'].value_counts()\n",
    "plt.figure(figsize=(10,5))\n",
    "sns.barplot(district_counts.index[-5:], district_counts.values[-5:], alpha=0.8)\n",
    "plt.title('COUNT PLOT FOR BOTTOM 5 DISTRICT')\n",
    "plt.ylabel('CUSTOMER COUNTS', fontsize=12)\n",
    "plt.xlabel('DISTRICT NAME', fontsize=12)\n",
    "plt.show()"
   ]
  },
  {
   "cell_type": "code",
   "execution_count": 72,
   "metadata": {},
   "outputs": [
    {
     "data": {
      "text/plain": [
       "District          Order Type     \n",
       "Chandigarh        WBW Order          1\n",
       "Gujarat           Workshop Damage    3\n",
       "Haryana           WBW Order          1\n",
       "                  Workshop Damage    1\n",
       "Himachal Pradesh  WBW Order          2\n",
       "Kerala            Workshop Damage    1\n",
       "Madhya Pradesh    WBW Order          1\n",
       "Maharashtra       WBW Order          1\n",
       "                  Workshop Damage    8\n",
       "Punjab            WBW Order          5\n",
       "Rajasthan         WBW Order          3\n",
       "Tamil Nadu        Workshop Damage    3\n",
       "Telangana         Workshop Damage    1\n",
       "Uttar Pradesh     WBW Order          1\n",
       "Uttarakhand       WBW Order          2\n",
       "dtype: int64"
      ]
     },
     "execution_count": 72,
     "metadata": {},
     "output_type": "execute_result"
    }
   ],
   "source": [
    "df=final_invoice.loc[final_invoice['Order Type'].isin(['WBW Order','Workshop Damage'])]\n",
    "# df=final_invoice[final_invoice['Order Type']=='WBW Order','Workshop Damage']\n",
    "df.groupby(['District','Order Type']).size()\n"
   ]
  },
  {
   "cell_type": "code",
   "execution_count": 73,
   "metadata": {},
   "outputs": [
    {
     "data": {
      "text/plain": [
       "District        Order Type       \n",
       "Andhra Pradesh  Accidental            4372\n",
       "                Mechanical             830\n",
       "                Paid Service         10112\n",
       "                Repeat Order           102\n",
       "                Running Repairs      23302\n",
       "                SMC Redemption        1147\n",
       "                SMC Value Package      739\n",
       "Karnataka       Accidental            3792\n",
       "                Mechanical            2037\n",
       "                Paid Service         10601\n",
       "                Repeat Order           246\n",
       "                Running Repairs      26419\n",
       "                SMC Redemption         555\n",
       "                SMC Value Package      485\n",
       "Maharashtra     Accidental            9874\n",
       "                Mechanical            3182\n",
       "                Paid Service         43842\n",
       "                Repeat Order          1049\n",
       "                Running Repairs      60811\n",
       "                SMC Redemption        5812\n",
       "                SMC Value Package     3540\n",
       "                WBW Order                1\n",
       "                Workshop Damage          8\n",
       "Tamil Nadu      Accidental           11530\n",
       "                Mechanical            3996\n",
       "                Paid Service         28607\n",
       "                Repeat Order           125\n",
       "                Running Repairs      69584\n",
       "                SMC Redemption        1392\n",
       "                SMC Value Package     1072\n",
       "                Workshop Damage          3\n",
       "Uttar Pradesh   Accidental            2101\n",
       "                Mechanical             254\n",
       "                Paid Service          7723\n",
       "                Repeat Order           529\n",
       "                Running Repairs      16657\n",
       "                SMC Redemption        2719\n",
       "                SMC Value Package     1550\n",
       "                WBW Order                1\n",
       "dtype: int64"
      ]
     },
     "execution_count": 73,
     "metadata": {},
     "output_type": "execute_result"
    }
   ],
   "source": [
    "df=final_invoice.loc[final_invoice.District.isin(['Maharashtra','Tamil Nadu','Karnataka','Andhra Pradesh','Uttar Pradesh'])]\n",
    "df.groupby(['District','Order Type']).size()"
   ]
  },
  {
   "cell_type": "code",
   "execution_count": 74,
   "metadata": {
    "scrolled": false
   },
   "outputs": [
    {
     "data": {
      "text/plain": [
       "Running Repairs      269455\n",
       "Paid Service         135004\n",
       "Accidental            44159\n",
       "SMC Redemption        15738\n",
       "Mechanical            15100\n",
       "SMC Value Package      9781\n",
       "Repeat Order           3043\n",
       "Workshop Damage          17\n",
       "WBW Order                17\n",
       "Name: Order Type, dtype: int64"
      ]
     },
     "execution_count": 74,
     "metadata": {},
     "output_type": "execute_result"
    }
   ],
   "source": [
    "final_invoice['Order Type'].value_counts()"
   ]
  },
  {
   "cell_type": "code",
   "execution_count": 75,
   "metadata": {},
   "outputs": [
    {
     "data": {
      "text/plain": [
       "District        Order Type     \n",
       "Andhra Pradesh  Accidental          4372\n",
       "                Mechanical           830\n",
       "                Paid Service       10112\n",
       "                Running Repairs    23302\n",
       "                SMC Redemption      1147\n",
       "Karnataka       Accidental          3792\n",
       "                Mechanical          2037\n",
       "                Paid Service       10601\n",
       "                Running Repairs    26419\n",
       "                SMC Redemption       555\n",
       "Maharashtra     Accidental          9874\n",
       "                Mechanical          3182\n",
       "                Paid Service       43842\n",
       "                Running Repairs    60811\n",
       "                SMC Redemption      5812\n",
       "Tamil Nadu      Accidental         11530\n",
       "                Mechanical          3996\n",
       "                Paid Service       28607\n",
       "                Running Repairs    69584\n",
       "                SMC Redemption      1392\n",
       "Uttar Pradesh   Accidental          2101\n",
       "                Mechanical           254\n",
       "                Paid Service        7723\n",
       "                Running Repairs    16657\n",
       "                SMC Redemption      2719\n",
       "dtype: int64"
      ]
     },
     "execution_count": 75,
     "metadata": {},
     "output_type": "execute_result"
    }
   ],
   "source": [
    "df=final_invoice.loc[final_invoice.District.isin(['Maharashtra','Tamil Nadu','Karnataka','Andhra Pradesh','Uttar Pradesh'])]\n",
    "df=df.loc[df['Order Type'].isin(['Paid Service', 'Running Repairs',\n",
    "       'SMC Redemption', 'Accidental',\n",
    "       'Mechanical'])]\n",
    "df.groupby(['District','Order Type']).size()\n",
    "# df['Order Type'].value_counts()\n",
    "# df['District'].value_counts()"
   ]
  },
  {
   "cell_type": "code",
   "execution_count": 76,
   "metadata": {},
   "outputs": [
    {
     "data": {
      "image/png": "[encoded data removed]",
      "text/plain": [
       "<Figure size 1440x360 with 1 Axes>"
      ]
     },
     "metadata": {},
     "output_type": "display_data"
    }
   ],
   "source": [
    "sns.set(style=\"darkgrid\")\n",
    "fig, ax = plt.subplots(figsize=(20, 5))\n",
    "sns.countplot(x=\"District\", data=df, hue='Order Type')\n",
    "plt.xlim(-1, 15)\n",
    "plt.legend(loc='upper right')\n",
    "plt.xticks(rotation='vertical')\n",
    "plt.show()"
   ]
  },
  {
   "cell_type": "code",
   "execution_count": 77,
   "metadata": {},
   "outputs": [
    {
     "data": {
      "text/plain": [
       "<seaborn.axisgrid.FacetGrid at 0x7f47cab16e20>"
      ]
     },
     "execution_count": 77,
     "metadata": {},
     "output_type": "execute_result"
    },
    {
     "data": {
      "image/png": "[encoded data removed]",
      "text/plain": [
       "<Figure size 1214.1x360 with 1 Axes>"
      ]
     },
     "metadata": {},
     "output_type": "display_data"
    }
   ],
   "source": [
    "sns.displot(df, x=\"District\", hue=\"Order Type\",multiple=\"dodge\",aspect=3)"
   ]
  },
  {
   "cell_type": "code",
   "execution_count": 78,
   "metadata": {
    "scrolled": true
   },
   "outputs": [
    {
     "data": {
      "text/html": [
       "<div>\n",
       "<style scoped>\n",
       "    .dataframe tbody tr th:only-of-type {\n",
       "        vertical-align: middle;\n",
       "    }\n",
       "\n",
       "    .dataframe tbody tr th {\n",
       "        vertical-align: top;\n",
       "    }\n",
       "\n",
       "    .dataframe thead th {\n",
       "        text-align: right;\n",
       "    }\n",
       "</style>\n",
       "<table border=\"1\" class=\"dataframe\">\n",
       "  <thead>\n",
       "    <tr style=\"text-align: right;\">\n",
       "      <th>Order Type</th>\n",
       "      <th>Accidental</th>\n",
       "      <th>Mechanical</th>\n",
       "      <th>Paid Service</th>\n",
       "      <th>Running Repairs</th>\n",
       "      <th>SMC Redemption</th>\n",
       "    </tr>\n",
       "    <tr>\n",
       "      <th>District</th>\n",
       "      <th></th>\n",
       "      <th></th>\n",
       "      <th></th>\n",
       "      <th></th>\n",
       "      <th></th>\n",
       "    </tr>\n",
       "  </thead>\n",
       "  <tbody>\n",
       "    <tr>\n",
       "      <th>Andhra Pradesh</th>\n",
       "      <td>4372</td>\n",
       "      <td>830</td>\n",
       "      <td>10112</td>\n",
       "      <td>23302</td>\n",
       "      <td>1147</td>\n",
       "    </tr>\n",
       "    <tr>\n",
       "      <th>Karnataka</th>\n",
       "      <td>3792</td>\n",
       "      <td>2037</td>\n",
       "      <td>10601</td>\n",
       "      <td>26419</td>\n",
       "      <td>555</td>\n",
       "    </tr>\n",
       "    <tr>\n",
       "      <th>Maharashtra</th>\n",
       "      <td>9874</td>\n",
       "      <td>3182</td>\n",
       "      <td>43842</td>\n",
       "      <td>60811</td>\n",
       "      <td>5812</td>\n",
       "    </tr>\n",
       "    <tr>\n",
       "      <th>Tamil Nadu</th>\n",
       "      <td>11530</td>\n",
       "      <td>3996</td>\n",
       "      <td>28607</td>\n",
       "      <td>69584</td>\n",
       "      <td>1392</td>\n",
       "    </tr>\n",
       "    <tr>\n",
       "      <th>Uttar Pradesh</th>\n",
       "      <td>2101</td>\n",
       "      <td>254</td>\n",
       "      <td>7723</td>\n",
       "      <td>16657</td>\n",
       "      <td>2719</td>\n",
       "    </tr>\n",
       "  </tbody>\n",
       "</table>\n",
       "</div>"
      ],
      "text/plain": [
       "Order Type      Accidental  Mechanical  Paid Service  Running Repairs  \\\n",
       "District                                                                \n",
       "Andhra Pradesh        4372         830         10112            23302   \n",
       "Karnataka             3792        2037         10601            26419   \n",
       "Maharashtra           9874        3182         43842            60811   \n",
       "Tamil Nadu           11530        3996         28607            69584   \n",
       "Uttar Pradesh         2101         254          7723            16657   \n",
       "\n",
       "Order Type      SMC Redemption  \n",
       "District                        \n",
       "Andhra Pradesh            1147  \n",
       "Karnataka                  555  \n",
       "Maharashtra               5812  \n",
       "Tamil Nadu                1392  \n",
       "Uttar Pradesh             2719  "
      ]
     },
     "execution_count": 78,
     "metadata": {},
     "output_type": "execute_result"
    }
   ],
   "source": [
    "df.groupby(['District','Order Type']).size().unstack()"
   ]
  },
  {
   "cell_type": "code",
   "execution_count": 79,
   "metadata": {},
   "outputs": [
    {
     "data": {
      "text/plain": [
       "Index(['Amt Rcvd From Ins Co', 'Area / Locality', 'CITY', 'Cust Type',\n",
       "       'Customer No.', 'District', 'Insurance Company', 'Invoice Date',\n",
       "       'Invoice Time', 'Job Card No', 'JobCard Date', 'JobCard Time',\n",
       "       'KMs Reading', 'Labour Total', 'Make', 'Misc Total', 'Model',\n",
       "       'OSL Total', 'Order Type', 'Parts Total', 'Pin code', 'Plant',\n",
       "       'Plant Name1', 'Print Status', 'Recovrbl Exp', 'TDS amount',\n",
       "       'Technician Name', 'Total_Amt_Wtd_Tax', 'Total Value', 'User ID'],\n",
       "      dtype='object')"
      ]
     },
     "execution_count": 79,
     "metadata": {},
     "output_type": "execute_result"
    }
   ],
   "source": [
    "final_invoice.columns"
   ]
  },
  {
   "cell_type": "markdown",
   "metadata": {},
   "source": [
    "# order and amount"
   ]
  },
  {
   "cell_type": "code",
   "execution_count": 80,
   "metadata": {},
   "outputs": [
    {
     "data": {
      "text/plain": [
       "Order Type\n",
       "Accidental            44159\n",
       "Mechanical            15100\n",
       "Paid Service         135004\n",
       "Repeat Order           3043\n",
       "Running Repairs      269455\n",
       "SMC Redemption        15738\n",
       "SMC Value Package      9781\n",
       "WBW Order                17\n",
       "Workshop Damage          17\n",
       "Name: Total_Amt_Wtd_Tax, dtype: int64"
      ]
     },
     "execution_count": 80,
     "metadata": {},
     "output_type": "execute_result"
    }
   ],
   "source": [
    "a=final_invoice.groupby('Order Type')['Total_Amt_Wtd_Tax'].count()\n",
    "a"
   ]
  },
  {
   "cell_type": "code",
   "execution_count": 81,
   "metadata": {
    "scrolled": true
   },
   "outputs": [
    {
     "data": {
      "text/plain": [
       "Order Type\n",
       "Running Repairs      269455\n",
       "Paid Service         135004\n",
       "Accidental            44159\n",
       "SMC Redemption        15738\n",
       "Mechanical            15100\n",
       "SMC Value Package      9781\n",
       "Repeat Order           3043\n",
       "Workshop Damage          17\n",
       "WBW Order                17\n",
       "Name: Total_Amt_Wtd_Tax, dtype: int64"
      ]
     },
     "execution_count": 81,
     "metadata": {},
     "output_type": "execute_result"
    }
   ],
   "source": [
    "a.sort_values( ascending=False)"
   ]
  },
  {
   "cell_type": "code",
   "execution_count": 82,
   "metadata": {},
   "outputs": [
    {
     "name": "stderr",
     "output_type": "stream",
     "text": [
      "/home/tushar/.local/lib/python3.8/site-packages/seaborn/_decorators.py:36: FutureWarning: Pass the following variables as keyword args: x, y. From version 0.12, the only valid positional argument will be `data`, and passing other arguments without an explicit keyword will result in an error or misinterpretation.\n",
      "  warnings.warn(\n"
     ]
    },
    {
     "data": {
      "image/png": "[encoded data removed]",
      "text/plain": [
       "<Figure size 720x360 with 1 Axes>"
      ]
     },
     "metadata": {},
     "output_type": "display_data"
    }
   ],
   "source": [
    "a=final_invoice.groupby('Order Type')['Total_Amt_Wtd_Tax'].count()\n",
    "plt.figure(figsize=(10,5))\n",
    "sns.barplot(a.index, a.values, alpha=0.8,saturation=50)\n",
    "plt.title('Countwise Order type distribution')\n",
    "plt.ylabel(' COUNTS', fontsize=12)\n",
    "plt.xlabel('ORDER TYPE', fontsize=12)\n",
    "plt.xticks(rotation=45)\n",
    "plt.show()"
   ]
  },
  {
   "cell_type": "code",
   "execution_count": null,
   "metadata": {},
   "outputs": [],
   "source": []
  },
  {
   "cell_type": "code",
   "execution_count": 83,
   "metadata": {},
   "outputs": [
    {
     "data": {
      "text/plain": [
       "Order Type\n",
       "Accidental           7.554651e+08\n",
       "Mechanical           4.745552e+07\n",
       "Paid Service         6.451709e+08\n",
       "Repeat Order         4.006740e+03\n",
       "Running Repairs      6.787316e+08\n",
       "SMC Redemption       1.674224e+06\n",
       "SMC Value Package    3.507968e+07\n",
       "WBW Order            1.312780e+05\n",
       "Workshop Damage      0.000000e+00\n",
       "Name: Total_Amt_Wtd_Tax, dtype: float64"
      ]
     },
     "execution_count": 83,
     "metadata": {},
     "output_type": "execute_result"
    }
   ],
   "source": [
    "b=final_invoice.groupby('Order Type')['Total_Amt_Wtd_Tax'].sum()\n",
    "b"
   ]
  },
  {
   "cell_type": "code",
   "execution_count": 84,
   "metadata": {},
   "outputs": [
    {
     "data": {
      "text/plain": [
       "Order Type\n",
       "Accidental           7.554651e+08\n",
       "Running Repairs      6.787316e+08\n",
       "Paid Service         6.451709e+08\n",
       "Mechanical           4.745552e+07\n",
       "SMC Value Package    3.507968e+07\n",
       "SMC Redemption       1.674224e+06\n",
       "WBW Order            1.312780e+05\n",
       "Repeat Order         4.006740e+03\n",
       "Workshop Damage      0.000000e+00\n",
       "Name: Total_Amt_Wtd_Tax, dtype: float64"
      ]
     },
     "execution_count": 84,
     "metadata": {},
     "output_type": "execute_result"
    }
   ],
   "source": [
    "b.sort_values( ascending=False)"
   ]
  },
  {
   "cell_type": "code",
   "execution_count": 85,
   "metadata": {},
   "outputs": [
    {
     "name": "stderr",
     "output_type": "stream",
     "text": [
      "/home/tushar/.local/lib/python3.8/site-packages/seaborn/_decorators.py:36: FutureWarning: Pass the following variables as keyword args: x, y. From version 0.12, the only valid positional argument will be `data`, and passing other arguments without an explicit keyword will result in an error or misinterpretation.\n",
      "  warnings.warn(\n"
     ]
    },
    {
     "data": {
      "image/png": "[encoded data removed]",
      "text/plain": [
       "<Figure size 720x360 with 1 Axes>"
      ]
     },
     "metadata": {},
     "output_type": "display_data"
    }
   ],
   "source": [
    "b=final_invoice.groupby('Order Type')['Total_Amt_Wtd_Tax'].sum()\n",
    "plt.figure(figsize=(10,5))\n",
    "sns.barplot(b.index, b.values, alpha=0.8,saturation=50)\n",
    "plt.title('Earning wise Order type distribution')\n",
    "plt.ylabel(' Earning', fontsize=12)\n",
    "plt.xlabel('ORDER TYPE', fontsize=12)\n",
    "plt.xticks(rotation=45)\n",
    "plt.show()"
   ]
  },
  {
   "cell_type": "code",
   "execution_count": 86,
   "metadata": {},
   "outputs": [
    {
     "data": {
      "text/plain": [
       "Maharashtra             14976\n",
       "Uttar Pradesh            6946\n",
       "Tamil Nadu               6363\n",
       "Punjab                   3926\n",
       "Karnataka                3766\n",
       "Haryana                  3216\n",
       "Gujarat                  2916\n",
       "Andhra Pradesh           2724\n",
       "Madhya Pradesh           1681\n",
       "Rajasthan                1563\n",
       "Delhi                    1176\n",
       "Telangana                 598\n",
       "Himachal Pradesh          424\n",
       "Chandigarh                418\n",
       "Uttarakhand               326\n",
       "Bihar                     275\n",
       "Chhattisgarh              174\n",
       "Odisha                    170\n",
       "Kerala                    145\n",
       "Dadra and Nagar Hav.      131\n",
       "West Bengal                97\n",
       "Puducherry                 73\n",
       "Daman and Diu              56\n",
       "Jharkhand                   9\n",
       "Arunachal Pradesh           7\n",
       "Nagaland                    2\n",
       "Goa                         2\n",
       "Megalaya                    1\n",
       "Assam                       1\n",
       "Jammu and Kashmir           1\n",
       "Name: District, dtype: int64"
      ]
     },
     "execution_count": 86,
     "metadata": {},
     "output_type": "execute_result"
    }
   ],
   "source": [
    "zero_amt=final_invoice[final_invoice['Total_Amt_Wtd_Tax']==0]\n",
    "a=zero_amt['District'].value_counts().sort_values( ascending=False)\n",
    "a"
   ]
  },
  {
   "cell_type": "code",
   "execution_count": 87,
   "metadata": {},
   "outputs": [
    {
     "name": "stderr",
     "output_type": "stream",
     "text": [
      "/home/tushar/.local/lib/python3.8/site-packages/seaborn/_decorators.py:36: FutureWarning: Pass the following variables as keyword args: x, y. From version 0.12, the only valid positional argument will be `data`, and passing other arguments without an explicit keyword will result in an error or misinterpretation.\n",
      "  warnings.warn(\n"
     ]
    },
    {
     "data": {
      "image/png": "[encoded data removed]",
      "text/plain": [
       "<Figure size 720x360 with 1 Axes>"
      ]
     },
     "metadata": {},
     "output_type": "display_data"
    }
   ],
   "source": [
    "a  = df['District'].value_counts().sort_values( ascending=False)\n",
    "plt.figure(figsize=(10,5))\n",
    "sns.barplot(a.index, a.values, alpha=0.8)\n",
    "\n",
    "plt.ylabel('CUSTOMER COUNTS', fontsize=12)\n",
    "plt.xlabel('DISTRICT NAME', fontsize=12)\n",
    "plt.xticks(rotation=90)\n",
    "plt.show()"
   ]
  },
  {
   "cell_type": "code",
   "execution_count": 88,
   "metadata": {},
   "outputs": [
    {
     "data": {
      "image/png": "[encoded data removed]",
      "text/plain": [
       "<Figure size 1440x360 with 1 Axes>"
      ]
     },
     "metadata": {},
     "output_type": "display_data"
    }
   ],
   "source": [
    "sns.set(style=\"darkgrid\")\n",
    "fig, ax = plt.subplots(figsize=(20, 5))\n",
    "sns.countplot(x=\"District\", data=zero_amt, hue='Order Type')\n",
    "plt.xlim(-1, 15)\n",
    "plt.legend(loc='upper right')\n",
    "plt.xticks(rotation='vertical')\n",
    "plt.show()"
   ]
  },
  {
   "cell_type": "code",
   "execution_count": 89,
   "metadata": {},
   "outputs": [
    {
     "data": {
      "text/plain": [
       "Running Repairs    28574\n",
       "SMC Redemption     14738\n",
       "Paid Service        3894\n",
       "Repeat Order        3041\n",
       "Mechanical          1369\n",
       "Accidental           529\n",
       "Workshop Damage       17\n",
       "WBW Order              1\n",
       "Name: Order Type, dtype: int64"
      ]
     },
     "execution_count": 89,
     "metadata": {},
     "output_type": "execute_result"
    }
   ],
   "source": [
    "zero_amt['Order Type'].value_counts()"
   ]
  },
  {
   "cell_type": "code",
   "execution_count": 90,
   "metadata": {},
   "outputs": [
    {
     "data": {
      "text/plain": [
       "Index(['Amt Rcvd From Ins Co', 'Area / Locality', 'CITY', 'Cust Type',\n",
       "       'Customer No.', 'District', 'Insurance Company', 'Invoice Date',\n",
       "       'Invoice Time', 'Job Card No', 'JobCard Date', 'JobCard Time',\n",
       "       'KMs Reading', 'Labour Total', 'Make', 'Misc Total', 'Model',\n",
       "       'OSL Total', 'Order Type', 'Parts Total', 'Pin code', 'Plant',\n",
       "       'Plant Name1', 'Print Status', 'Recovrbl Exp', 'TDS amount',\n",
       "       'Technician Name', 'Total_Amt_Wtd_Tax', 'Total Value', 'User ID'],\n",
       "      dtype='object')"
      ]
     },
     "execution_count": 90,
     "metadata": {},
     "output_type": "execute_result"
    }
   ],
   "source": [
    "final_invoice.columns\n"
   ]
  },
  {
   "cell_type": "code",
   "execution_count": 91,
   "metadata": {},
   "outputs": [
    {
     "data": {
      "text/plain": [
       "Index(['Amt Rcvd From Ins Co', 'Area / Locality', 'CITY', 'Cust Type',\n",
       "       'Customer No.', 'District', 'Insurance Company', 'Invoice Date',\n",
       "       'Invoice Time', 'Job Card No', 'JobCard Date', 'JobCard Time',\n",
       "       'KMs Reading', 'Labour Total', 'Make', 'Misc Total', 'Model',\n",
       "       'OSL Total', 'Order Type', 'Parts Total', 'Pin code', 'Plant',\n",
       "       'Plant Name1', 'Print Status', 'Recovrbl Exp', 'TDS amount',\n",
       "       'Technician Name', 'Total_Amt_Wtd_Tax', 'Total Value', 'User ID'],\n",
       "      dtype='object')"
      ]
     },
     "execution_count": 91,
     "metadata": {},
     "output_type": "execute_result"
    }
   ],
   "source": [
    "final_invoice.columns"
   ]
  },
  {
   "cell_type": "code",
   "execution_count": 92,
   "metadata": {},
   "outputs": [
    {
     "data": {
      "text/plain": [
       "8"
      ]
     },
     "execution_count": 92,
     "metadata": {},
     "output_type": "execute_result"
    }
   ],
   "source": [
    "len(final_invoice[final_invoice['Total_Amt_Wtd_Tax']<0])"
   ]
  },
  {
   "cell_type": "code",
   "execution_count": 93,
   "metadata": {},
   "outputs": [
    {
     "data": {
      "text/plain": [
       "0"
      ]
     },
     "execution_count": 93,
     "metadata": {},
     "output_type": "execute_result"
    }
   ],
   "source": [
    "len(final_invoice[final_invoice['Total Value']<0])"
   ]
  },
  {
   "cell_type": "code",
   "execution_count": 94,
   "metadata": {},
   "outputs": [
    {
     "data": {
      "text/plain": [
       "2163712371.2599998"
      ]
     },
     "execution_count": 94,
     "metadata": {},
     "output_type": "execute_result"
    }
   ],
   "source": [
    "final_invoice['Total_Amt_Wtd_Tax'].sum()"
   ]
  },
  {
   "cell_type": "code",
   "execution_count": 95,
   "metadata": {},
   "outputs": [
    {
     "data": {
      "text/plain": [
       "1303469601.4299998"
      ]
     },
     "execution_count": 95,
     "metadata": {},
     "output_type": "execute_result"
    }
   ],
   "source": [
    "final_invoice['Total Value'].sum()"
   ]
  },
  {
   "cell_type": "code",
   "execution_count": 96,
   "metadata": {},
   "outputs": [
    {
     "data": {
      "text/plain": [
       "52163"
      ]
     },
     "execution_count": 96,
     "metadata": {},
     "output_type": "execute_result"
    }
   ],
   "source": [
    "len(final_invoice[final_invoice['Total_Amt_Wtd_Tax']==0])"
   ]
  },
  {
   "cell_type": "code",
   "execution_count": 97,
   "metadata": {},
   "outputs": [
    {
     "data": {
      "text/plain": [
       "33460"
      ]
     },
     "execution_count": 97,
     "metadata": {},
     "output_type": "execute_result"
    }
   ],
   "source": [
    "len(final_invoice[final_invoice['Total Value']==0])"
   ]
  },
  {
   "cell_type": "code",
   "execution_count": 98,
   "metadata": {},
   "outputs": [
    {
     "data": {
      "text/plain": [
       "(555338, 9)"
      ]
     },
     "execution_count": 98,
     "metadata": {},
     "output_type": "execute_result"
    }
   ],
   "source": [
    "customer_data.shape"
   ]
  },
  {
   "cell_type": "code",
   "execution_count": 99,
   "metadata": {},
   "outputs": [
    {
     "data": {
      "text/plain": [
       "(492314, 30)"
      ]
     },
     "execution_count": 99,
     "metadata": {},
     "output_type": "execute_result"
    }
   ],
   "source": [
    "final_invoice.shape"
   ]
  },
  {
   "cell_type": "code",
   "execution_count": 100,
   "metadata": {},
   "outputs": [
    {
     "data": {
      "text/plain": [
       "MISC_OTHER CHARGES                  270563\n",
       "Paid Service-Minor                  201857\n",
       "WASHING                             199068\n",
       "Wheel Alignment                     191211\n",
       "OIL FILTER                          154387\n",
       "                                     ...  \n",
       "NIPPLE, COOLANT OMNI                     1\n",
       "ASSY FRONT FOG LAMP - RH M/S L           1\n",
       "KIT CARRIER ASSY LH&RH INDICA            1\n",
       "CLUTCH HOUSING (HIGH PRESSURE            1\n",
       "Tata Indica (HVAC Model) Air Con         1\n",
       "Name: Description, Length: 58558, dtype: int64"
      ]
     },
     "execution_count": 100,
     "metadata": {},
     "output_type": "execute_result"
    }
   ],
   "source": [
    "jtd['Description'].value_counts()[:]"
   ]
  },
  {
   "cell_type": "code",
   "execution_count": 101,
   "metadata": {},
   "outputs": [
    {
     "data": {
      "text/plain": [
       "Index(['Amt Rcvd From Ins Co', 'Area / Locality', 'CITY', 'Cust Type',\n",
       "       'Customer No.', 'District', 'Insurance Company', 'Invoice Date',\n",
       "       'Invoice Time', 'Job Card No', 'JobCard Date', 'JobCard Time',\n",
       "       'KMs Reading', 'Labour Total', 'Make', 'Misc Total', 'Model',\n",
       "       'OSL Total', 'Order Type', 'Parts Total', 'Pin code', 'Plant',\n",
       "       'Plant Name1', 'Print Status', 'Recovrbl Exp', 'TDS amount',\n",
       "       'Technician Name', 'Total_Amt_Wtd_Tax', 'Total Value', 'User ID'],\n",
       "      dtype='object')"
      ]
     },
     "execution_count": 101,
     "metadata": {},
     "output_type": "execute_result"
    }
   ],
   "source": [
    "final_invoice.columns"
   ]
  },
  {
   "cell_type": "code",
   "execution_count": 102,
   "metadata": {},
   "outputs": [
    {
     "data": {
      "text/plain": [
       "THE NEW INDIA ASSURANCE CO. LTD.       5401\n",
       "NATIONAL INSURANCE COMPANY LIMITED     3233\n",
       "UNITED INDIA INSURANCE CO. LTD         2405\n",
       "RELIANCE GENERAL INSURANCE COMPANY     1812\n",
       "ICICI LOMBARD CUSTOMER DUES            1646\n",
       "Oriental Insurance Company Ltd.        1289\n",
       "BHARTI AXA GENRERAL INSURANCE          1226\n",
       "BAJAJ ALLIANZE GENERAL INSURANCE CO     960\n",
       "UNIVERSAL SOMPO GENERAL INSURANCE C     844\n",
       "IFFCOTOKIO GENERAL INSURANCE            805\n",
       "TATA AIG GENERAL INSURANCE CO. LTD.     791\n",
       "HDFC ERGO                               730\n",
       "CHOLAMANDALAM GENERAL INSURANCE CO.     683\n",
       "ROYAL SUNDARAM GENERAL                  490\n",
       "Future Generali India Ins. Co Ltd       413\n",
       "SBI General Insurance Company Ltd.      328\n",
       "L&T INSURANCE                           232\n",
       "Magma HDI General Insurance Co Ltd      110\n",
       "Kotak Mahindra General Insurance Lt      69\n",
       "LIBERTY VIDEOCON GENERAL INSURANCE       65\n",
       "Corporate Warranties India Pvt. Ltd      59\n",
       "Name: Insurance Company, dtype: int64"
      ]
     },
     "execution_count": 102,
     "metadata": {},
     "output_type": "execute_result"
    }
   ],
   "source": [
    "final_invoice[\"Insurance Company\"].value_counts()"
   ]
  },
  {
   "cell_type": "code",
   "execution_count": 103,
   "metadata": {},
   "outputs": [
    {
     "data": {
      "text/plain": [
       "468723"
      ]
     },
     "execution_count": 103,
     "metadata": {},
     "output_type": "execute_result"
    }
   ],
   "source": [
    "final_invoice[\"Insurance Company\"].isnull().sum()"
   ]
  },
  {
   "cell_type": "code",
   "execution_count": 104,
   "metadata": {},
   "outputs": [
    {
     "data": {
      "text/plain": [
       "23591"
      ]
     },
     "execution_count": 104,
     "metadata": {},
     "output_type": "execute_result"
    }
   ],
   "source": [
    "final_invoice[\"Insurance Company\"].notnull().sum()"
   ]
  },
  {
   "cell_type": "code",
   "execution_count": 105,
   "metadata": {},
   "outputs": [
    {
     "data": {
      "text/plain": [
       "(52163, 30)"
      ]
     },
     "execution_count": 105,
     "metadata": {},
     "output_type": "execute_result"
    }
   ],
   "source": [
    "df=final_invoice[final_invoice[\"Total_Amt_Wtd_Tax\"]==0 & final_invoice[\"Insurance Company\"].notnull()]\n",
    "df.shape"
   ]
  },
  {
   "cell_type": "markdown",
   "metadata": {},
   "source": [
    "# km"
   ]
  },
  {
   "cell_type": "code",
   "execution_count": 106,
   "metadata": {},
   "outputs": [
    {
     "data": {
      "image/png": "[encoded data removed]",
      "text/plain": [
       "<Figure size 720x360 with 1 Axes>"
      ]
     },
     "metadata": {},
     "output_type": "display_data"
    }
   ],
   "source": [
    "plt.figure(figsize=(10,5))\n",
    "plt.xlim(0,2000)\n",
    "plt.xlabel('Price')\n",
    "plt.ylabel('Density')\n",
    "sns.kdeplot(final_invoice['KMs Reading'],shade=True)\n",
    "plt.show()"
   ]
  },
  {
   "cell_type": "code",
   "execution_count": 107,
   "metadata": {},
   "outputs": [
    {
     "data": {
      "text/html": [
       "<div>\n",
       "<style scoped>\n",
       "    .dataframe tbody tr th:only-of-type {\n",
       "        vertical-align: middle;\n",
       "    }\n",
       "\n",
       "    .dataframe tbody tr th {\n",
       "        vertical-align: top;\n",
       "    }\n",
       "\n",
       "    .dataframe thead th {\n",
       "        text-align: right;\n",
       "    }\n",
       "</style>\n",
       "<table border=\"1\" class=\"dataframe\">\n",
       "  <thead>\n",
       "    <tr style=\"text-align: right;\">\n",
       "      <th></th>\n",
       "      <th>Amt Rcvd From Ins Co</th>\n",
       "      <th>Area / Locality</th>\n",
       "      <th>CITY</th>\n",
       "      <th>Cust Type</th>\n",
       "      <th>Customer No.</th>\n",
       "      <th>District</th>\n",
       "      <th>Insurance Company</th>\n",
       "      <th>Invoice Date</th>\n",
       "      <th>Invoice Time</th>\n",
       "      <th>Job Card No</th>\n",
       "      <th>...</th>\n",
       "      <th>Pin code</th>\n",
       "      <th>Plant</th>\n",
       "      <th>Plant Name1</th>\n",
       "      <th>Print Status</th>\n",
       "      <th>Recovrbl Exp</th>\n",
       "      <th>TDS amount</th>\n",
       "      <th>Technician Name</th>\n",
       "      <th>Total_Amt_Wtd_Tax</th>\n",
       "      <th>Total Value</th>\n",
       "      <th>User ID</th>\n",
       "    </tr>\n",
       "  </thead>\n",
       "  <tbody>\n",
       "    <tr>\n",
       "      <th>0</th>\n",
       "      <td>0.0</td>\n",
       "      <td>MAJIWADA</td>\n",
       "      <td>Thane</td>\n",
       "      <td>Retail</td>\n",
       "      <td>67849</td>\n",
       "      <td>Maharashtra</td>\n",
       "      <td>NaN</td>\n",
       "      <td>2015-01-02</td>\n",
       "      <td>11:30:36</td>\n",
       "      <td>168303</td>\n",
       "      <td>...</td>\n",
       "      <td>400601</td>\n",
       "      <td>BC01</td>\n",
       "      <td>THANE</td>\n",
       "      <td>NO</td>\n",
       "      <td>0.0</td>\n",
       "      <td>0.0</td>\n",
       "      <td>RUPESH</td>\n",
       "      <td>4051.95</td>\n",
       "      <td>4051.95</td>\n",
       "      <td>BC01FS1</td>\n",
       "    </tr>\n",
       "    <tr>\n",
       "      <th>1</th>\n",
       "      <td>0.0</td>\n",
       "      <td>THNAE</td>\n",
       "      <td>THNAE</td>\n",
       "      <td>Retail</td>\n",
       "      <td>84419</td>\n",
       "      <td>Maharashtra</td>\n",
       "      <td>NaN</td>\n",
       "      <td>2015-01-03</td>\n",
       "      <td>10:07:32</td>\n",
       "      <td>173997</td>\n",
       "      <td>...</td>\n",
       "      <td>400603</td>\n",
       "      <td>BC01</td>\n",
       "      <td>THANE</td>\n",
       "      <td>NO</td>\n",
       "      <td>0.0</td>\n",
       "      <td>0.0</td>\n",
       "      <td>PRASHANT</td>\n",
       "      <td>1001.29</td>\n",
       "      <td>1001.29</td>\n",
       "      <td>BC01SA2</td>\n",
       "    </tr>\n",
       "    <tr>\n",
       "      <th>2</th>\n",
       "      <td>0.0</td>\n",
       "      <td>THANE</td>\n",
       "      <td>THANE[W]</td>\n",
       "      <td>Retail</td>\n",
       "      <td>81055</td>\n",
       "      <td>Maharashtra</td>\n",
       "      <td>NaN</td>\n",
       "      <td>2015-01-03</td>\n",
       "      <td>11:12:57</td>\n",
       "      <td>173889</td>\n",
       "      <td>...</td>\n",
       "      <td>400607</td>\n",
       "      <td>BC01</td>\n",
       "      <td>THANE</td>\n",
       "      <td>NO</td>\n",
       "      <td>0.0</td>\n",
       "      <td>0.0</td>\n",
       "      <td>IMRAN</td>\n",
       "      <td>233.14</td>\n",
       "      <td>233.14</td>\n",
       "      <td>BC01SA2</td>\n",
       "    </tr>\n",
       "    <tr>\n",
       "      <th>3</th>\n",
       "      <td>0.0</td>\n",
       "      <td>THNAE</td>\n",
       "      <td>THNAE</td>\n",
       "      <td>Retail</td>\n",
       "      <td>84419</td>\n",
       "      <td>Maharashtra</td>\n",
       "      <td>NaN</td>\n",
       "      <td>2015-01-03</td>\n",
       "      <td>11:40:44</td>\n",
       "      <td>174158</td>\n",
       "      <td>...</td>\n",
       "      <td>400603</td>\n",
       "      <td>BC01</td>\n",
       "      <td>THANE</td>\n",
       "      <td>NO</td>\n",
       "      <td>0.0</td>\n",
       "      <td>0.0</td>\n",
       "      <td>PRASHANT</td>\n",
       "      <td>0.00</td>\n",
       "      <td>0.00</td>\n",
       "      <td>BC01SA2</td>\n",
       "    </tr>\n",
       "    <tr>\n",
       "      <th>4</th>\n",
       "      <td>0.0</td>\n",
       "      <td>THANE</td>\n",
       "      <td>THANE</td>\n",
       "      <td>Retail</td>\n",
       "      <td>18980</td>\n",
       "      <td>Maharashtra</td>\n",
       "      <td>NaN</td>\n",
       "      <td>2015-01-03</td>\n",
       "      <td>12:07:17</td>\n",
       "      <td>173860</td>\n",
       "      <td>...</td>\n",
       "      <td>400603</td>\n",
       "      <td>BC01</td>\n",
       "      <td>THANE</td>\n",
       "      <td>NO</td>\n",
       "      <td>0.0</td>\n",
       "      <td>0.0</td>\n",
       "      <td>DAYANAND</td>\n",
       "      <td>2747.12</td>\n",
       "      <td>2747.12</td>\n",
       "      <td>BC01SA2</td>\n",
       "    </tr>\n",
       "  </tbody>\n",
       "</table>\n",
       "<p>5 rows × 30 columns</p>\n",
       "</div>"
      ],
      "text/plain": [
       "   Amt Rcvd From Ins Co Area / Locality      CITY Cust Type Customer No.  \\\n",
       "0                   0.0        MAJIWADA     Thane    Retail        67849   \n",
       "1                   0.0           THNAE     THNAE    Retail        84419   \n",
       "2                   0.0           THANE  THANE[W]    Retail        81055   \n",
       "3                   0.0           THNAE     THNAE    Retail        84419   \n",
       "4                   0.0           THANE     THANE    Retail        18980   \n",
       "\n",
       "      District Insurance Company Invoice Date Invoice Time  Job Card No  ...  \\\n",
       "0  Maharashtra               NaN   2015-01-02     11:30:36       168303  ...   \n",
       "1  Maharashtra               NaN   2015-01-03     10:07:32       173997  ...   \n",
       "2  Maharashtra               NaN   2015-01-03     11:12:57       173889  ...   \n",
       "3  Maharashtra               NaN   2015-01-03     11:40:44       174158  ...   \n",
       "4  Maharashtra               NaN   2015-01-03     12:07:17       173860  ...   \n",
       "\n",
       "  Pin code Plant  Plant Name1  Print Status Recovrbl Exp  TDS amount  \\\n",
       "0   400601  BC01        THANE            NO          0.0         0.0   \n",
       "1   400603  BC01        THANE            NO          0.0         0.0   \n",
       "2   400607  BC01        THANE            NO          0.0         0.0   \n",
       "3   400603  BC01        THANE            NO          0.0         0.0   \n",
       "4   400603  BC01        THANE            NO          0.0         0.0   \n",
       "\n",
       "  Technician Name  Total_Amt_Wtd_Tax Total Value  User ID  \n",
       "0          RUPESH            4051.95     4051.95  BC01FS1  \n",
       "1        PRASHANT            1001.29     1001.29  BC01SA2  \n",
       "2           IMRAN             233.14      233.14  BC01SA2  \n",
       "3        PRASHANT               0.00        0.00  BC01SA2  \n",
       "4        DAYANAND            2747.12     2747.12  BC01SA2  \n",
       "\n",
       "[5 rows x 30 columns]"
      ]
     },
     "execution_count": 107,
     "metadata": {},
     "output_type": "execute_result"
    }
   ],
   "source": [
    "final_invoice.head()"
   ]
  },
  {
   "cell_type": "code",
   "execution_count": 108,
   "metadata": {},
   "outputs": [
    {
     "data": {
      "text/plain": [
       "Index(['Amt Rcvd From Ins Co', 'Area / Locality', 'CITY', 'Cust Type',\n",
       "       'Customer No.', 'District', 'Insurance Company', 'Invoice Date',\n",
       "       'Invoice Time', 'Job Card No', 'JobCard Date', 'JobCard Time',\n",
       "       'KMs Reading', 'Labour Total', 'Make', 'Misc Total', 'Model',\n",
       "       'OSL Total', 'Order Type', 'Parts Total', 'Pin code', 'Plant',\n",
       "       'Plant Name1', 'Print Status', 'Recovrbl Exp', 'TDS amount',\n",
       "       'Technician Name', 'Total_Amt_Wtd_Tax', 'Total Value', 'User ID'],\n",
       "      dtype='object')"
      ]
     },
     "execution_count": 108,
     "metadata": {},
     "output_type": "execute_result"
    }
   ],
   "source": [
    "final_invoice.columns"
   ]
  },
  {
   "cell_type": "code",
   "execution_count": 109,
   "metadata": {},
   "outputs": [
    {
     "data": {
      "text/plain": [
       "<AxesSubplot:xlabel='year', ylabel='month'>"
      ]
     },
     "execution_count": 109,
     "metadata": {},
     "output_type": "execute_result"
    },
    {
     "data": {
      "image/png": "[encoded data removed]",
      "text/plain": [
       "<Figure size 648x432 with 2 Axes>"
      ]
     },
     "metadata": {},
     "output_type": "display_data"
    }
   ],
   "source": [
    "import matplotlib.pyplot as plt\n",
    "import seaborn as sns\n",
    "sns.set_theme()\n",
    "\n",
    "# Load the example flights dataset and convert to long-form\n",
    "flights_long = sns.load_dataset(\"flights\")\n",
    "flights = flights_long.pivot(\"month\", \"year\", \"passengers\")\n",
    "\n",
    "# Draw a heatmap with the numeric values in each cell\n",
    "f, ax = plt.subplots(figsize=(9, 6))\n",
    "sns.heatmap(flights, annot=True, fmt=\"d\", linewidths=.5, ax=ax)"
   ]
  },
  {
   "cell_type": "code",
   "execution_count": 110,
   "metadata": {},
   "outputs": [
    {
     "data": {
      "text/plain": [
       "MARUTI SUZUKI           147102\n",
       "MAHINDRA &  MAHINDRA     87356\n",
       "HYUNDAI                  85342\n",
       "TATA MOTORS              58034\n",
       "GENERAL MOTORS           29092\n",
       "FORD                     21616\n",
       "TOYOTA                   19466\n",
       "HONDA                    15464\n",
       "SKODA                     6515\n",
       "FIAT                      6437\n",
       "VOLKSWAGEN                6150\n",
       "RENAULT                   3429\n",
       "NISSAN                    3090\n",
       "MITSUBISHI MOTORS         1427\n",
       "DAEWOO                     392\n",
       "BMW                        257\n",
       "MERCEDES BENZ              256\n",
       "AUDI                       220\n",
       "HINDUSTAN MOTORS           219\n",
       "FORCE                      207\n",
       "PREMIER AUTOMOBILES         93\n",
       "SONALIKA                    87\n",
       "LAND ROVER                  21\n",
       "VOLVO                       19\n",
       "SAN MOTORS                   8\n",
       "JEEP                         7\n",
       "PORCHE                       6\n",
       "MORRIS                       2\n",
       "Name: Make, dtype: int64"
      ]
     },
     "execution_count": 110,
     "metadata": {},
     "output_type": "execute_result"
    }
   ],
   "source": [
    "final_invoice['Make'].value_counts()"
   ]
  },
  {
   "cell_type": "code",
   "execution_count": 111,
   "metadata": {},
   "outputs": [
    {
     "data": {
      "text/plain": [
       "1525"
      ]
     },
     "execution_count": 111,
     "metadata": {},
     "output_type": "execute_result"
    }
   ],
   "source": [
    "final_invoice['Model'].isnull().sum()"
   ]
  },
  {
   "cell_type": "code",
   "execution_count": 112,
   "metadata": {},
   "outputs": [
    {
     "data": {
      "text/plain": [
       "246"
      ]
     },
     "execution_count": 112,
     "metadata": {},
     "output_type": "execute_result"
    }
   ],
   "source": [
    "len(final_invoice['Model'].unique())"
   ]
  },
  {
   "cell_type": "code",
   "execution_count": null,
   "metadata": {},
   "outputs": [],
   "source": []
  }
 ],
 "metadata": {
  "kernelspec": {
   "display_name": "Python 3 (ipykernel)",
   "language": "python",
   "name": "python3"
  },
  "language_info": {
   "codemirror_mode": {
    "name": "ipython",
    "version": 3
   },
   "file_extension": ".py",
   "mimetype": "text/x-python",
   "name": "python",
   "nbconvert_exporter": "python",
   "pygments_lexer": "ipython3",
   "version": "3.9.6"
  }
 },
 "nbformat": 4,
 "nbformat_minor": 4
}
