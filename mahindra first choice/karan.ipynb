{
 "cells": [
  {
   "cell_type": "code",
   "execution_count": 1,
   "metadata": {},
   "outputs": [],
   "source": [
    "import pandas as pd\n",
    "import numpy as np"
   ]
  },
  {
   "cell_type": "code",
   "execution_count": 2,
   "metadata": {},
   "outputs": [],
   "source": [
    "pd.set_option('display.max_columns', None)"
   ]
  },
  {
   "cell_type": "code",
   "execution_count": 3,
   "metadata": {},
   "outputs": [],
   "source": [
    "import pgeocode\n",
    "nomi = pgeocode.Nominatim('IN')\n",
    "import warnings\n",
    "warnings.simplefilter('ignore')"
   ]
  },
  {
   "cell_type": "code",
   "execution_count": 4,
   "metadata": {},
   "outputs": [],
   "source": [
    "Data_plantmaster = pd.read_excel(\"Plant Master.xlsx\")\n",
    "Data_JTD = pd.read_csv(\"JTD.csv\",low_memory = False)\n",
    "Data_Customer = pd.read_excel(\"Customer_Data.xlsx\")\n",
    "Data_Finalinvoice = pd.read_csv(\"Final_invoice.csv\",low_memory = False)"
   ]
  },
  {
   "cell_type": "code",
   "execution_count": 70,
   "metadata": {},
   "outputs": [
    {
     "data": {
      "text/plain": [
       "(555338, 9)"
      ]
     },
     "execution_count": 70,
     "metadata": {},
     "output_type": "execute_result"
    }
   ],
   "source": [
    "Data_Customer.shape"
   ]
  },
  {
   "cell_type": "code",
   "execution_count": 71,
   "metadata": {},
   "outputs": [
    {
     "data": {
      "text/html": [
       "<div>\n",
       "<style scoped>\n",
       "    .dataframe tbody tr th:only-of-type {\n",
       "        vertical-align: middle;\n",
       "    }\n",
       "\n",
       "    .dataframe tbody tr th {\n",
       "        vertical-align: top;\n",
       "    }\n",
       "\n",
       "    .dataframe thead th {\n",
       "        text-align: right;\n",
       "    }\n",
       "</style>\n",
       "<table border=\"1\" class=\"dataframe\">\n",
       "  <thead>\n",
       "    <tr style=\"text-align: right;\">\n",
       "      <th></th>\n",
       "      <th>Business Partner</th>\n",
       "      <th>Customer No.</th>\n",
       "      <th>Partner Type</th>\n",
       "      <th>Data Origin</th>\n",
       "      <th>Title</th>\n",
       "      <th>Marital Status</th>\n",
       "      <th>Occupation</th>\n",
       "      <th>Date of Birth</th>\n",
       "      <th>Death date</th>\n",
       "    </tr>\n",
       "  </thead>\n",
       "  <tbody>\n",
       "    <tr>\n",
       "      <td>0</td>\n",
       "      <td>31</td>\n",
       "      <td>1</td>\n",
       "      <td>1.0</td>\n",
       "      <td>Z001</td>\n",
       "      <td>NaN</td>\n",
       "      <td>NaN</td>\n",
       "      <td>NaN</td>\n",
       "      <td>NaN</td>\n",
       "      <td>NaT</td>\n",
       "    </tr>\n",
       "    <tr>\n",
       "      <td>1</td>\n",
       "      <td>32</td>\n",
       "      <td>2</td>\n",
       "      <td>1.0</td>\n",
       "      <td>Z005</td>\n",
       "      <td>NaN</td>\n",
       "      <td>NaN</td>\n",
       "      <td>NaN</td>\n",
       "      <td>NaN</td>\n",
       "      <td>NaT</td>\n",
       "    </tr>\n",
       "  </tbody>\n",
       "</table>\n",
       "</div>"
      ],
      "text/plain": [
       "  Business Partner Customer No.  Partner Type Data Origin  Title  \\\n",
       "0               31            1           1.0        Z001    NaN   \n",
       "1               32            2           1.0        Z005    NaN   \n",
       "\n",
       "   Marital Status  Occupation Date of Birth Death date  \n",
       "0             NaN         NaN           NaN        NaT  \n",
       "1             NaN         NaN           NaN        NaT  "
      ]
     },
     "execution_count": 71,
     "metadata": {},
     "output_type": "execute_result"
    }
   ],
   "source": [
    "Data_Customer.head(2)"
   ]
  },
  {
   "cell_type": "code",
   "execution_count": null,
   "metadata": {},
   "outputs": [],
   "source": [
    "Data_plantmaster.shape"
   ]
  },
  {
   "cell_type": "code",
   "execution_count": 74,
   "metadata": {},
   "outputs": [
    {
     "data": {
      "text/html": [
       "<div>\n",
       "<style scoped>\n",
       "    .dataframe tbody tr th:only-of-type {\n",
       "        vertical-align: middle;\n",
       "    }\n",
       "\n",
       "    .dataframe tbody tr th {\n",
       "        vertical-align: top;\n",
       "    }\n",
       "\n",
       "    .dataframe thead th {\n",
       "        text-align: right;\n",
       "    }\n",
       "</style>\n",
       "<table border=\"1\" class=\"dataframe\">\n",
       "  <thead>\n",
       "    <tr style=\"text-align: right;\">\n",
       "      <th></th>\n",
       "      <th>Plant</th>\n",
       "      <th>Name 1</th>\n",
       "      <th>Valuation Area</th>\n",
       "      <th>Customer no. - plant</th>\n",
       "      <th>Vendor number plant</th>\n",
       "      <th>Factory calendar</th>\n",
       "      <th>Name 2</th>\n",
       "      <th>House number and street</th>\n",
       "      <th>PO Box</th>\n",
       "      <th>Postal Code</th>\n",
       "      <th>City</th>\n",
       "      <th>Sales organization</th>\n",
       "      <th>State</th>\n",
       "    </tr>\n",
       "  </thead>\n",
       "  <tbody>\n",
       "    <tr>\n",
       "      <td>0</td>\n",
       "      <td>BC07</td>\n",
       "      <td>NERKUNDRAM</td>\n",
       "      <td>BC07</td>\n",
       "      <td>PLBC07</td>\n",
       "      <td>PLBC07</td>\n",
       "      <td>IN</td>\n",
       "      <td>NaN</td>\n",
       "      <td>No.117 Poonamallee High Road,</td>\n",
       "      <td>600107.0</td>\n",
       "      <td>600107</td>\n",
       "      <td>Chennai</td>\n",
       "      <td>MFCS</td>\n",
       "      <td>Tamil Nadu</td>\n",
       "    </tr>\n",
       "    <tr>\n",
       "      <td>1</td>\n",
       "      <td>BC30</td>\n",
       "      <td>SAS NAGAR - MOHALI</td>\n",
       "      <td>BC30</td>\n",
       "      <td>PLBC30</td>\n",
       "      <td>PLBC30</td>\n",
       "      <td>IN</td>\n",
       "      <td>NaN</td>\n",
       "      <td>C-118, Phase 07,</td>\n",
       "      <td>160055.0</td>\n",
       "      <td>160055</td>\n",
       "      <td>Mohali</td>\n",
       "      <td>MFCS</td>\n",
       "      <td>Punjab</td>\n",
       "    </tr>\n",
       "    <tr>\n",
       "      <td>2</td>\n",
       "      <td>X001</td>\n",
       "      <td>X001 - AUTO PLANET WHEELS</td>\n",
       "      <td>X001</td>\n",
       "      <td>PLX001</td>\n",
       "      <td>NaN</td>\n",
       "      <td>IN</td>\n",
       "      <td>Thane</td>\n",
       "      <td>Unit No.3, Kothari Compound,</td>\n",
       "      <td>400610.0</td>\n",
       "      <td>400610</td>\n",
       "      <td>Thane</td>\n",
       "      <td>MFCA</td>\n",
       "      <td>Maharashtra</td>\n",
       "    </tr>\n",
       "    <tr>\n",
       "      <td>3</td>\n",
       "      <td>X002</td>\n",
       "      <td>X002 - BHANDARI INDUSTRIES PVT</td>\n",
       "      <td>X002</td>\n",
       "      <td>PLX002</td>\n",
       "      <td>NaN</td>\n",
       "      <td>IN</td>\n",
       "      <td>Ghaziabad</td>\n",
       "      <td>18/1, C Site 4, Sahibabad</td>\n",
       "      <td>201010.0</td>\n",
       "      <td>201010</td>\n",
       "      <td>Ghaziabad</td>\n",
       "      <td>MFCA</td>\n",
       "      <td>Uttar Pradesh</td>\n",
       "    </tr>\n",
       "  </tbody>\n",
       "</table>\n",
       "</div>"
      ],
      "text/plain": [
       "  Plant                          Name 1 Valuation Area Customer no. - plant  \\\n",
       "0  BC07                      NERKUNDRAM           BC07               PLBC07   \n",
       "1  BC30              SAS NAGAR - MOHALI           BC30               PLBC30   \n",
       "2  X001       X001 - AUTO PLANET WHEELS           X001               PLX001   \n",
       "3  X002  X002 - BHANDARI INDUSTRIES PVT           X002               PLX002   \n",
       "\n",
       "  Vendor number plant Factory calendar     Name 2  \\\n",
       "0              PLBC07               IN        NaN   \n",
       "1              PLBC30               IN        NaN   \n",
       "2                 NaN               IN      Thane   \n",
       "3                 NaN               IN  Ghaziabad   \n",
       "\n",
       "         House number and street    PO Box  Postal Code       City  \\\n",
       "0  No.117 Poonamallee High Road,  600107.0       600107    Chennai   \n",
       "1               C-118, Phase 07,  160055.0       160055     Mohali   \n",
       "2   Unit No.3, Kothari Compound,  400610.0       400610      Thane   \n",
       "3      18/1, C Site 4, Sahibabad  201010.0       201010  Ghaziabad   \n",
       "\n",
       "  Sales organization          State  \n",
       "0               MFCS     Tamil Nadu  \n",
       "1               MFCS         Punjab  \n",
       "2               MFCA    Maharashtra  \n",
       "3               MFCA  Uttar Pradesh  "
      ]
     },
     "execution_count": 74,
     "metadata": {},
     "output_type": "execute_result"
    }
   ],
   "source": [
    "Data_plantmaster.head(4)"
   ]
  },
  {
   "cell_type": "code",
   "execution_count": null,
   "metadata": {},
   "outputs": [],
   "source": [
    "Data_plantmaster.drop(columns=[\"Factory calendar\",\"Customer no. - plant\",\"Valuation Area\",\"Vendor number plant\",\"PO Box\",\"Name 2\",\"Postal Code\"],inplace=True)"
   ]
  },
  {
   "cell_type": "code",
   "execution_count": null,
   "metadata": {},
   "outputs": [],
   "source": [
    "Data_plantmaster.shape"
   ]
  },
  {
   "cell_type": "code",
   "execution_count": null,
   "metadata": {},
   "outputs": [],
   "source": [
    "Data_plantmaster.head()"
   ]
  },
  {
   "cell_type": "code",
   "execution_count": null,
   "metadata": {},
   "outputs": [],
   "source": [
    "Data_JTD.shape"
   ]
  },
  {
   "cell_type": "code",
   "execution_count": 73,
   "metadata": {},
   "outputs": [
    {
     "data": {
      "text/html": [
       "<div>\n",
       "<style scoped>\n",
       "    .dataframe tbody tr th:only-of-type {\n",
       "        vertical-align: middle;\n",
       "    }\n",
       "\n",
       "    .dataframe tbody tr th {\n",
       "        vertical-align: top;\n",
       "    }\n",
       "\n",
       "    .dataframe thead th {\n",
       "        text-align: right;\n",
       "    }\n",
       "</style>\n",
       "<table border=\"1\" class=\"dataframe\">\n",
       "  <thead>\n",
       "    <tr style=\"text-align: right;\">\n",
       "      <th></th>\n",
       "      <th>Unnamed: 0</th>\n",
       "      <th>DBM Order</th>\n",
       "      <th>Order Item</th>\n",
       "      <th>Material</th>\n",
       "      <th>Labor Value Number</th>\n",
       "      <th>Description</th>\n",
       "      <th>Item Category</th>\n",
       "      <th>Order Quantity</th>\n",
       "      <th>Target quantity UoM</th>\n",
       "      <th>Net value</th>\n",
       "    </tr>\n",
       "  </thead>\n",
       "  <tbody>\n",
       "    <tr>\n",
       "      <td>0</td>\n",
       "      <td>0</td>\n",
       "      <td>22385</td>\n",
       "      <td>180</td>\n",
       "      <td>OSLCC_SRV31</td>\n",
       "      <td>NaN</td>\n",
       "      <td>MACHINING RR.SUSPENSION CHARGE  (MAJOR)</td>\n",
       "      <td>P010</td>\n",
       "      <td>1.2</td>\n",
       "      <td>MIN</td>\n",
       "      <td>1869.87</td>\n",
       "    </tr>\n",
       "    <tr>\n",
       "      <td>1</td>\n",
       "      <td>1</td>\n",
       "      <td>23910</td>\n",
       "      <td>10</td>\n",
       "      <td>1DM279018170117</td>\n",
       "      <td>NaN</td>\n",
       "      <td>ASSY.OIL COOLER (6-PLATE) (VOR</td>\n",
       "      <td>P002</td>\n",
       "      <td>1.0</td>\n",
       "      <td>EA</td>\n",
       "      <td>2151.13</td>\n",
       "    </tr>\n",
       "  </tbody>\n",
       "</table>\n",
       "</div>"
      ],
      "text/plain": [
       "   Unnamed: 0  DBM Order  Order Item         Material Labor Value Number  \\\n",
       "0           0      22385         180      OSLCC_SRV31                NaN   \n",
       "1           1      23910          10  1DM279018170117                NaN   \n",
       "\n",
       "                               Description Item Category  Order Quantity  \\\n",
       "0  MACHINING RR.SUSPENSION CHARGE  (MAJOR)          P010             1.2   \n",
       "1           ASSY.OIL COOLER (6-PLATE) (VOR          P002             1.0   \n",
       "\n",
       "  Target quantity UoM  Net value  \n",
       "0                 MIN    1869.87  \n",
       "1                  EA    2151.13  "
      ]
     },
     "execution_count": 73,
     "metadata": {},
     "output_type": "execute_result"
    }
   ],
   "source": [
    "Data_JTD.head(2)"
   ]
  },
  {
   "cell_type": "code",
   "execution_count": null,
   "metadata": {},
   "outputs": [],
   "source": [
    "Data_JTD['Labor Value Number'].value_counts()"
   ]
  },
  {
   "cell_type": "code",
   "execution_count": null,
   "metadata": {},
   "outputs": [],
   "source": [
    "Data_JTD.columns"
   ]
  },
  {
   "cell_type": "code",
   "execution_count": null,
   "metadata": {},
   "outputs": [],
   "source": [
    "Data_JTD.drop(columns=[\"Unnamed: 0\",\"Material\",\"Labor Value Number\",\"Order Item\"],inplace=True)"
   ]
  },
  {
   "cell_type": "code",
   "execution_count": null,
   "metadata": {},
   "outputs": [],
   "source": [
    "Data_JTD.head(2)"
   ]
  },
  {
   "cell_type": "code",
   "execution_count": null,
   "metadata": {},
   "outputs": [],
   "source": [
    "Data_JTD.shape"
   ]
  },
  {
   "cell_type": "code",
   "execution_count": null,
   "metadata": {},
   "outputs": [],
   "source": [
    "Data_Finalinvoice.shape"
   ]
  },
  {
   "cell_type": "code",
   "execution_count": 72,
   "metadata": {},
   "outputs": [
    {
     "data": {
      "text/html": [
       "<div>\n",
       "<style scoped>\n",
       "    .dataframe tbody tr th:only-of-type {\n",
       "        vertical-align: middle;\n",
       "    }\n",
       "\n",
       "    .dataframe tbody tr th {\n",
       "        vertical-align: top;\n",
       "    }\n",
       "\n",
       "    .dataframe thead th {\n",
       "        text-align: right;\n",
       "    }\n",
       "</style>\n",
       "<table border=\"1\" class=\"dataframe\">\n",
       "  <thead>\n",
       "    <tr style=\"text-align: right;\">\n",
       "      <th></th>\n",
       "      <th>Unnamed: 0</th>\n",
       "      <th>Amt Rcvd From Custom</th>\n",
       "      <th>Amt Rcvd From Ins Co</th>\n",
       "      <th>Area / Locality</th>\n",
       "      <th>CGST(14%)</th>\n",
       "      <th>CGST(2.5%)</th>\n",
       "      <th>CGST(6%)</th>\n",
       "      <th>CGST(9%)</th>\n",
       "      <th>CITY</th>\n",
       "      <th>Cash /Cashless Type</th>\n",
       "      <th>Claim No.</th>\n",
       "      <th>Cust Type</th>\n",
       "      <th>Customer No.</th>\n",
       "      <th>District</th>\n",
       "      <th>Expiry Date</th>\n",
       "      <th>Gate Pass Date</th>\n",
       "      <th>Gate Pass Time</th>\n",
       "      <th>IGST(12%)</th>\n",
       "      <th>IGST(18%)</th>\n",
       "      <th>IGST(28%)</th>\n",
       "      <th>IGST(5%)</th>\n",
       "      <th>Insurance Company</th>\n",
       "      <th>Invoice Date</th>\n",
       "      <th>Invoice No</th>\n",
       "      <th>Invoice Time</th>\n",
       "      <th>Job Card No</th>\n",
       "      <th>JobCard Date</th>\n",
       "      <th>JobCard Time</th>\n",
       "      <th>KMs Reading</th>\n",
       "      <th>Labour Total</th>\n",
       "      <th>Make</th>\n",
       "      <th>Misc Total</th>\n",
       "      <th>Model</th>\n",
       "      <th>ODN No.</th>\n",
       "      <th>OSL Total</th>\n",
       "      <th>Order Type</th>\n",
       "      <th>Outstanding Amt</th>\n",
       "      <th>Parts Total</th>\n",
       "      <th>Pin code</th>\n",
       "      <th>Plant</th>\n",
       "      <th>Plant Name1</th>\n",
       "      <th>Policy no.</th>\n",
       "      <th>Print Status</th>\n",
       "      <th>Recovrbl Exp</th>\n",
       "      <th>Regn No</th>\n",
       "      <th>SGST/UGST(14%)</th>\n",
       "      <th>SGST/UGST(2.5%)</th>\n",
       "      <th>SGST/UGST(6%)</th>\n",
       "      <th>SGST/UGST(9%)</th>\n",
       "      <th>Service Advisor Name</th>\n",
       "      <th>TDS amount</th>\n",
       "      <th>Technician Name</th>\n",
       "      <th>Total Amt Wtd Tax.</th>\n",
       "      <th>Total CGST</th>\n",
       "      <th>Total GST</th>\n",
       "      <th>Total IGST</th>\n",
       "      <th>Total SGST/UGST</th>\n",
       "      <th>Total Value</th>\n",
       "      <th>User ID</th>\n",
       "    </tr>\n",
       "  </thead>\n",
       "  <tbody>\n",
       "    <tr>\n",
       "      <td>0</td>\n",
       "      <td>0</td>\n",
       "      <td>0.0</td>\n",
       "      <td>0.0</td>\n",
       "      <td>MAJIWADA</td>\n",
       "      <td>0.0</td>\n",
       "      <td>0.0</td>\n",
       "      <td>0.0</td>\n",
       "      <td>0.0</td>\n",
       "      <td>Thane</td>\n",
       "      <td>NaN</td>\n",
       "      <td>NaN</td>\n",
       "      <td>Retail</td>\n",
       "      <td>67849</td>\n",
       "      <td>Maharashtra</td>\n",
       "      <td>NaN</td>\n",
       "      <td>NaN</td>\n",
       "      <td>00:00:00</td>\n",
       "      <td>0.0</td>\n",
       "      <td>0.0</td>\n",
       "      <td>0.0</td>\n",
       "      <td>0.0</td>\n",
       "      <td>NaN</td>\n",
       "      <td>2015-01-02</td>\n",
       "      <td>7005200002</td>\n",
       "      <td>11:30:36</td>\n",
       "      <td>168303</td>\n",
       "      <td>2014-12-13</td>\n",
       "      <td>14:29:43</td>\n",
       "      <td>49317</td>\n",
       "      <td>1203.14</td>\n",
       "      <td>GENERAL MOTORS</td>\n",
       "      <td>0.00</td>\n",
       "      <td>SPARK</td>\n",
       "      <td>7.005200e+09</td>\n",
       "      <td>500.06</td>\n",
       "      <td>Paid Service</td>\n",
       "      <td>0.0</td>\n",
       "      <td>2348.75</td>\n",
       "      <td>400601</td>\n",
       "      <td>BC01</td>\n",
       "      <td>THANE</td>\n",
       "      <td>NaN</td>\n",
       "      <td>NO</td>\n",
       "      <td>0.0</td>\n",
       "      <td>KA19MA1291</td>\n",
       "      <td>0.0</td>\n",
       "      <td>0.0</td>\n",
       "      <td>0.0</td>\n",
       "      <td>0.0</td>\n",
       "      <td>NaN</td>\n",
       "      <td>0.0</td>\n",
       "      <td>RUPESH</td>\n",
       "      <td>4051.95</td>\n",
       "      <td>0.0</td>\n",
       "      <td>0.0</td>\n",
       "      <td>0.0</td>\n",
       "      <td>0.0</td>\n",
       "      <td>4051.95</td>\n",
       "      <td>BC01FS1</td>\n",
       "    </tr>\n",
       "    <tr>\n",
       "      <td>1</td>\n",
       "      <td>1</td>\n",
       "      <td>0.0</td>\n",
       "      <td>0.0</td>\n",
       "      <td>THNAE</td>\n",
       "      <td>0.0</td>\n",
       "      <td>0.0</td>\n",
       "      <td>0.0</td>\n",
       "      <td>0.0</td>\n",
       "      <td>THNAE</td>\n",
       "      <td>NaN</td>\n",
       "      <td>NaN</td>\n",
       "      <td>Retail</td>\n",
       "      <td>84419</td>\n",
       "      <td>Maharashtra</td>\n",
       "      <td>NaN</td>\n",
       "      <td>NaN</td>\n",
       "      <td>00:00:00</td>\n",
       "      <td>0.0</td>\n",
       "      <td>0.0</td>\n",
       "      <td>0.0</td>\n",
       "      <td>0.0</td>\n",
       "      <td>NaN</td>\n",
       "      <td>2015-01-03</td>\n",
       "      <td>7005200003</td>\n",
       "      <td>10:07:32</td>\n",
       "      <td>173997</td>\n",
       "      <td>2015-01-02</td>\n",
       "      <td>14:12:18</td>\n",
       "      <td>78584</td>\n",
       "      <td>804.26</td>\n",
       "      <td>TATA MOTORS</td>\n",
       "      <td>197.03</td>\n",
       "      <td>INDICA</td>\n",
       "      <td>7.005200e+09</td>\n",
       "      <td>0.00</td>\n",
       "      <td>SMC Value Package</td>\n",
       "      <td>0.0</td>\n",
       "      <td>0.00</td>\n",
       "      <td>400603</td>\n",
       "      <td>BC01</td>\n",
       "      <td>THANE</td>\n",
       "      <td>NaN</td>\n",
       "      <td>NO</td>\n",
       "      <td>0.0</td>\n",
       "      <td>MH43R3046</td>\n",
       "      <td>0.0</td>\n",
       "      <td>0.0</td>\n",
       "      <td>0.0</td>\n",
       "      <td>0.0</td>\n",
       "      <td>NaN</td>\n",
       "      <td>0.0</td>\n",
       "      <td>PRASHANT</td>\n",
       "      <td>1001.29</td>\n",
       "      <td>0.0</td>\n",
       "      <td>0.0</td>\n",
       "      <td>0.0</td>\n",
       "      <td>0.0</td>\n",
       "      <td>1001.29</td>\n",
       "      <td>BC01SA2</td>\n",
       "    </tr>\n",
       "    <tr>\n",
       "      <td>2</td>\n",
       "      <td>2</td>\n",
       "      <td>0.0</td>\n",
       "      <td>0.0</td>\n",
       "      <td>THANE</td>\n",
       "      <td>0.0</td>\n",
       "      <td>0.0</td>\n",
       "      <td>0.0</td>\n",
       "      <td>0.0</td>\n",
       "      <td>THANE[W]</td>\n",
       "      <td>NaN</td>\n",
       "      <td>NaN</td>\n",
       "      <td>Retail</td>\n",
       "      <td>81055</td>\n",
       "      <td>Maharashtra</td>\n",
       "      <td>NaN</td>\n",
       "      <td>NaN</td>\n",
       "      <td>00:00:00</td>\n",
       "      <td>0.0</td>\n",
       "      <td>0.0</td>\n",
       "      <td>0.0</td>\n",
       "      <td>0.0</td>\n",
       "      <td>NaN</td>\n",
       "      <td>2015-01-03</td>\n",
       "      <td>7005200004</td>\n",
       "      <td>11:12:57</td>\n",
       "      <td>173889</td>\n",
       "      <td>2015-01-02</td>\n",
       "      <td>11:40:44</td>\n",
       "      <td>33985</td>\n",
       "      <td>180.19</td>\n",
       "      <td>MARUTI SUZUKI</td>\n",
       "      <td>0.00</td>\n",
       "      <td>ZEN</td>\n",
       "      <td>7.005200e+09</td>\n",
       "      <td>0.00</td>\n",
       "      <td>Running Repairs</td>\n",
       "      <td>0.0</td>\n",
       "      <td>52.95</td>\n",
       "      <td>400607</td>\n",
       "      <td>BC01</td>\n",
       "      <td>THANE</td>\n",
       "      <td>NaN</td>\n",
       "      <td>NO</td>\n",
       "      <td>0.0</td>\n",
       "      <td>AP09AX0582</td>\n",
       "      <td>0.0</td>\n",
       "      <td>0.0</td>\n",
       "      <td>0.0</td>\n",
       "      <td>0.0</td>\n",
       "      <td>NaN</td>\n",
       "      <td>0.0</td>\n",
       "      <td>IMRAN</td>\n",
       "      <td>233.14</td>\n",
       "      <td>0.0</td>\n",
       "      <td>0.0</td>\n",
       "      <td>0.0</td>\n",
       "      <td>0.0</td>\n",
       "      <td>233.14</td>\n",
       "      <td>BC01SA2</td>\n",
       "    </tr>\n",
       "    <tr>\n",
       "      <td>3</td>\n",
       "      <td>3</td>\n",
       "      <td>0.0</td>\n",
       "      <td>0.0</td>\n",
       "      <td>THNAE</td>\n",
       "      <td>0.0</td>\n",
       "      <td>0.0</td>\n",
       "      <td>0.0</td>\n",
       "      <td>0.0</td>\n",
       "      <td>THNAE</td>\n",
       "      <td>NaN</td>\n",
       "      <td>NaN</td>\n",
       "      <td>Retail</td>\n",
       "      <td>84419</td>\n",
       "      <td>Maharashtra</td>\n",
       "      <td>NaN</td>\n",
       "      <td>NaN</td>\n",
       "      <td>00:00:00</td>\n",
       "      <td>0.0</td>\n",
       "      <td>0.0</td>\n",
       "      <td>0.0</td>\n",
       "      <td>0.0</td>\n",
       "      <td>NaN</td>\n",
       "      <td>2015-01-03</td>\n",
       "      <td>7005200005</td>\n",
       "      <td>11:40:44</td>\n",
       "      <td>174158</td>\n",
       "      <td>2015-01-03</td>\n",
       "      <td>10:12:32</td>\n",
       "      <td>78584</td>\n",
       "      <td>0.00</td>\n",
       "      <td>TATA MOTORS</td>\n",
       "      <td>0.00</td>\n",
       "      <td>INDICA</td>\n",
       "      <td>7.005200e+09</td>\n",
       "      <td>0.00</td>\n",
       "      <td>SMC Redemption</td>\n",
       "      <td>0.0</td>\n",
       "      <td>0.00</td>\n",
       "      <td>400603</td>\n",
       "      <td>BC01</td>\n",
       "      <td>THANE</td>\n",
       "      <td>NaN</td>\n",
       "      <td>NO</td>\n",
       "      <td>0.0</td>\n",
       "      <td>MH43R3046</td>\n",
       "      <td>0.0</td>\n",
       "      <td>0.0</td>\n",
       "      <td>0.0</td>\n",
       "      <td>0.0</td>\n",
       "      <td>NaN</td>\n",
       "      <td>0.0</td>\n",
       "      <td>PRASHANT</td>\n",
       "      <td>0.00</td>\n",
       "      <td>0.0</td>\n",
       "      <td>0.0</td>\n",
       "      <td>0.0</td>\n",
       "      <td>0.0</td>\n",
       "      <td>0.00</td>\n",
       "      <td>BC01SA2</td>\n",
       "    </tr>\n",
       "    <tr>\n",
       "      <td>4</td>\n",
       "      <td>4</td>\n",
       "      <td>0.0</td>\n",
       "      <td>0.0</td>\n",
       "      <td>THANE</td>\n",
       "      <td>0.0</td>\n",
       "      <td>0.0</td>\n",
       "      <td>0.0</td>\n",
       "      <td>0.0</td>\n",
       "      <td>THANE</td>\n",
       "      <td>NaN</td>\n",
       "      <td>NaN</td>\n",
       "      <td>Retail</td>\n",
       "      <td>18980</td>\n",
       "      <td>Maharashtra</td>\n",
       "      <td>NaN</td>\n",
       "      <td>NaN</td>\n",
       "      <td>00:00:00</td>\n",
       "      <td>0.0</td>\n",
       "      <td>0.0</td>\n",
       "      <td>0.0</td>\n",
       "      <td>0.0</td>\n",
       "      <td>NaN</td>\n",
       "      <td>2015-01-03</td>\n",
       "      <td>7005200006</td>\n",
       "      <td>12:07:17</td>\n",
       "      <td>173860</td>\n",
       "      <td>2015-01-02</td>\n",
       "      <td>10:45:42</td>\n",
       "      <td>50057</td>\n",
       "      <td>1202.97</td>\n",
       "      <td>HYUNDAI</td>\n",
       "      <td>100.00</td>\n",
       "      <td>SANTRO XING</td>\n",
       "      <td>7.005200e+09</td>\n",
       "      <td>499.99</td>\n",
       "      <td>Paid Service</td>\n",
       "      <td>0.0</td>\n",
       "      <td>944.16</td>\n",
       "      <td>400603</td>\n",
       "      <td>BC01</td>\n",
       "      <td>THANE</td>\n",
       "      <td>NaN</td>\n",
       "      <td>NO</td>\n",
       "      <td>0.0</td>\n",
       "      <td>MH04CD9768</td>\n",
       "      <td>0.0</td>\n",
       "      <td>0.0</td>\n",
       "      <td>0.0</td>\n",
       "      <td>0.0</td>\n",
       "      <td>NaN</td>\n",
       "      <td>0.0</td>\n",
       "      <td>DAYANAND</td>\n",
       "      <td>2747.12</td>\n",
       "      <td>0.0</td>\n",
       "      <td>0.0</td>\n",
       "      <td>0.0</td>\n",
       "      <td>0.0</td>\n",
       "      <td>2747.12</td>\n",
       "      <td>BC01SA2</td>\n",
       "    </tr>\n",
       "  </tbody>\n",
       "</table>\n",
       "</div>"
      ],
      "text/plain": [
       "   Unnamed: 0  Amt Rcvd From Custom  Amt Rcvd From Ins Co Area / Locality  \\\n",
       "0           0                   0.0                   0.0        MAJIWADA   \n",
       "1           1                   0.0                   0.0           THNAE   \n",
       "2           2                   0.0                   0.0           THANE   \n",
       "3           3                   0.0                   0.0           THNAE   \n",
       "4           4                   0.0                   0.0           THANE   \n",
       "\n",
       "   CGST(14%)  CGST(2.5%)  CGST(6%)  CGST(9%)      CITY Cash /Cashless Type  \\\n",
       "0        0.0         0.0       0.0       0.0     Thane                 NaN   \n",
       "1        0.0         0.0       0.0       0.0     THNAE                 NaN   \n",
       "2        0.0         0.0       0.0       0.0  THANE[W]                 NaN   \n",
       "3        0.0         0.0       0.0       0.0     THNAE                 NaN   \n",
       "4        0.0         0.0       0.0       0.0     THANE                 NaN   \n",
       "\n",
       "  Claim No. Cust Type Customer No.     District Expiry Date Gate Pass Date  \\\n",
       "0       NaN    Retail        67849  Maharashtra         NaN            NaN   \n",
       "1       NaN    Retail        84419  Maharashtra         NaN            NaN   \n",
       "2       NaN    Retail        81055  Maharashtra         NaN            NaN   \n",
       "3       NaN    Retail        84419  Maharashtra         NaN            NaN   \n",
       "4       NaN    Retail        18980  Maharashtra         NaN            NaN   \n",
       "\n",
       "  Gate Pass Time  IGST(12%)  IGST(18%)  IGST(28%)  IGST(5%) Insurance Company  \\\n",
       "0       00:00:00        0.0        0.0        0.0       0.0               NaN   \n",
       "1       00:00:00        0.0        0.0        0.0       0.0               NaN   \n",
       "2       00:00:00        0.0        0.0        0.0       0.0               NaN   \n",
       "3       00:00:00        0.0        0.0        0.0       0.0               NaN   \n",
       "4       00:00:00        0.0        0.0        0.0       0.0               NaN   \n",
       "\n",
       "  Invoice Date  Invoice No Invoice Time  Job Card No JobCard Date  \\\n",
       "0   2015-01-02  7005200002     11:30:36       168303   2014-12-13   \n",
       "1   2015-01-03  7005200003     10:07:32       173997   2015-01-02   \n",
       "2   2015-01-03  7005200004     11:12:57       173889   2015-01-02   \n",
       "3   2015-01-03  7005200005     11:40:44       174158   2015-01-03   \n",
       "4   2015-01-03  7005200006     12:07:17       173860   2015-01-02   \n",
       "\n",
       "  JobCard Time  KMs Reading  Labour Total            Make  Misc Total  \\\n",
       "0     14:29:43        49317       1203.14  GENERAL MOTORS        0.00   \n",
       "1     14:12:18        78584        804.26     TATA MOTORS      197.03   \n",
       "2     11:40:44        33985        180.19   MARUTI SUZUKI        0.00   \n",
       "3     10:12:32        78584          0.00     TATA MOTORS        0.00   \n",
       "4     10:45:42        50057       1202.97         HYUNDAI      100.00   \n",
       "\n",
       "         Model       ODN No.  OSL Total         Order Type  Outstanding Amt  \\\n",
       "0        SPARK  7.005200e+09     500.06       Paid Service              0.0   \n",
       "1       INDICA  7.005200e+09       0.00  SMC Value Package              0.0   \n",
       "2          ZEN  7.005200e+09       0.00    Running Repairs              0.0   \n",
       "3       INDICA  7.005200e+09       0.00     SMC Redemption              0.0   \n",
       "4  SANTRO XING  7.005200e+09     499.99       Paid Service              0.0   \n",
       "\n",
       "   Parts Total  Pin code Plant Plant Name1 Policy no. Print Status  \\\n",
       "0      2348.75    400601  BC01       THANE        NaN           NO   \n",
       "1         0.00    400603  BC01       THANE        NaN           NO   \n",
       "2        52.95    400607  BC01       THANE        NaN           NO   \n",
       "3         0.00    400603  BC01       THANE        NaN           NO   \n",
       "4       944.16    400603  BC01       THANE        NaN           NO   \n",
       "\n",
       "   Recovrbl Exp     Regn No  SGST/UGST(14%)  SGST/UGST(2.5%)  SGST/UGST(6%)  \\\n",
       "0           0.0  KA19MA1291             0.0              0.0            0.0   \n",
       "1           0.0   MH43R3046             0.0              0.0            0.0   \n",
       "2           0.0  AP09AX0582             0.0              0.0            0.0   \n",
       "3           0.0   MH43R3046             0.0              0.0            0.0   \n",
       "4           0.0  MH04CD9768             0.0              0.0            0.0   \n",
       "\n",
       "   SGST/UGST(9%)  Service Advisor Name  TDS amount Technician Name  \\\n",
       "0            0.0                   NaN         0.0          RUPESH   \n",
       "1            0.0                   NaN         0.0        PRASHANT   \n",
       "2            0.0                   NaN         0.0           IMRAN   \n",
       "3            0.0                   NaN         0.0        PRASHANT   \n",
       "4            0.0                   NaN         0.0        DAYANAND   \n",
       "\n",
       "   Total Amt Wtd Tax.  Total CGST  Total GST  Total IGST  Total SGST/UGST  \\\n",
       "0             4051.95         0.0        0.0         0.0              0.0   \n",
       "1             1001.29         0.0        0.0         0.0              0.0   \n",
       "2              233.14         0.0        0.0         0.0              0.0   \n",
       "3                0.00         0.0        0.0         0.0              0.0   \n",
       "4             2747.12         0.0        0.0         0.0              0.0   \n",
       "\n",
       "   Total Value  User ID  \n",
       "0      4051.95  BC01FS1  \n",
       "1      1001.29  BC01SA2  \n",
       "2       233.14  BC01SA2  \n",
       "3         0.00  BC01SA2  \n",
       "4      2747.12  BC01SA2  "
      ]
     },
     "execution_count": 72,
     "metadata": {},
     "output_type": "execute_result"
    }
   ],
   "source": [
    "Data_Finalinvoice.head(5)"
   ]
  },
  {
   "cell_type": "code",
   "execution_count": null,
   "metadata": {},
   "outputs": [],
   "source": [
    "Data_Finalinvoice.isnull().sum()"
   ]
  },
  {
   "cell_type": "markdown",
   "metadata": {},
   "source": [
    "### Deriving total service time from invoice date time & job card date time "
   ]
  },
  {
   "cell_type": "code",
   "execution_count": null,
   "metadata": {},
   "outputs": [],
   "source": [
    "Data_Finalinvoice[\"Invoice_DateTime\"]=Data_Finalinvoice[\"Invoice Date\"]+' '+Data_Finalinvoice[\"Invoice Time\"]\n",
    "Data_Finalinvoice[\"JobCard_DateTime\"]=Data_Finalinvoice[\"JobCard Date\"]+' '+Data_Finalinvoice[\"JobCard Time\"]\n",
    "Data_Finalinvoice['JobCard_DateTime'] = pd.to_datetime(Data_Finalinvoice['JobCard_DateTime'],dayfirst=True)\n",
    "Data_Finalinvoice['Invoice_DateTime'] = pd.to_datetime(Data_Finalinvoice['Invoice_DateTime'],dayfirst=True)\n",
    "Data_Finalinvoice[\"Service_Time\"]=Data_Finalinvoice[\"Invoice_DateTime\"]-Data_Finalinvoice[\"JobCard_DateTime\"]"
   ]
  },
  {
   "cell_type": "code",
   "execution_count": null,
   "metadata": {},
   "outputs": [],
   "source": [
    "Data_Finalinvoice.columns"
   ]
  },
  {
   "cell_type": "code",
   "execution_count": null,
   "metadata": {},
   "outputs": [],
   "source": [
    "Data_Finalinvoice.isnull().sum()"
   ]
  },
  {
   "cell_type": "code",
   "execution_count": null,
   "metadata": {},
   "outputs": [],
   "source": [
    "Data_Finalinvoice[\"updated_CITY\"]=nomi.query_postal_code(np.array(Data_Finalinvoice[\"Pin code\"].astype(str))).county_name\n",
    "Data_Finalinvoice[\"updated_District\"]=nomi.query_postal_code(np.array(Data_Finalinvoice[\"Pin code\"].astype(str))).state_name\n",
    "Data_Finalinvoice[\"updated_Location_Area\"]=nomi.query_postal_code(np.array(Data_Finalinvoice[\"Pin code\"].astype(str))).place_name"
   ]
  },
  {
   "cell_type": "code",
   "execution_count": null,
   "metadata": {},
   "outputs": [],
   "source": [
    "Data_Finalinvoice[\"CITY\"] = Data_Finalinvoice[\"CITY\"].str.lower()\n",
    "Data_Finalinvoice[\"updated_CITY\"] = Data_Finalinvoice[\"updated_CITY\"].str.lower()"
   ]
  },
  {
   "cell_type": "code",
   "execution_count": null,
   "metadata": {},
   "outputs": [],
   "source": [
    "Data_Finalinvoice[\"District\"] = Data_Finalinvoice[\"District\"].str.lower()\n",
    "Data_Finalinvoice[\"updated_District\"] = Data_Finalinvoice[\"updated_District\"].str.lower()"
   ]
  },
  {
   "cell_type": "code",
   "execution_count": null,
   "metadata": {},
   "outputs": [],
   "source": [
    "Data_Finalinvoice.head(2)"
   ]
  },
  {
   "cell_type": "code",
   "execution_count": null,
   "metadata": {},
   "outputs": [],
   "source": [
    "Data_Finalinvoice[\"invoice_year\"] = Data_Finalinvoice[\"Invoice_DateTime\"].dt.year"
   ]
  },
  {
   "cell_type": "code",
   "execution_count": null,
   "metadata": {},
   "outputs": [],
   "source": [
    "Data_Finalinvoice.groupby([\"Plant\",\"invoice_year\"]).agg({\"Total Value\":\"mean\"}).head(15)"
   ]
  },
  {
   "cell_type": "markdown",
   "metadata": {},
   "source": [
    "### nan value impute updated city"
   ]
  },
  {
   "cell_type": "code",
   "execution_count": null,
   "metadata": {},
   "outputs": [],
   "source": [
    "o = Data_Finalinvoice[Data_Finalinvoice[\"updated_CITY\"].isnull()]"
   ]
  },
  {
   "cell_type": "code",
   "execution_count": null,
   "metadata": {},
   "outputs": [],
   "source": [
    "l = Data_Finalinvoice[Data_Finalinvoice[\"updated_CITY\"].notnull()]"
   ]
  },
  {
   "cell_type": "code",
   "execution_count": null,
   "metadata": {},
   "outputs": [],
   "source": [
    "x = list(o[\"CITY\"].value_counts().keys())"
   ]
  },
  {
   "cell_type": "code",
   "execution_count": null,
   "metadata": {},
   "outputs": [],
   "source": [
    "z = list(l[\"updated_CITY\"].value_counts().keys())"
   ]
  },
  {
   "cell_type": "code",
   "execution_count": null,
   "metadata": {},
   "outputs": [],
   "source": [
    "def common_mem(a, b):\n",
    "    a_set = set(a)\n",
    "    b_set = set(b)\n",
    "  \n",
    "    if (a_set & b_set):\n",
    "        print(a_set & b_set)\n",
    "    else:\n",
    "        print(\"No common elements\") "
   ]
  },
  {
   "cell_type": "code",
   "execution_count": null,
   "metadata": {
    "scrolled": true
   },
   "outputs": [],
   "source": [
    "common_mem(x,z )"
   ]
  },
  {
   "cell_type": "code",
   "execution_count": null,
   "metadata": {},
   "outputs": [],
   "source": [
    "xz = ['jharsuguda', 'nalgonda', 'ujjain', 'hassan', 'bhilwara', 'rajgarh', 'amravati', 'madurai', 'karur', 'jaipur', 'chittoor', 'villupuram', 'thrissur', 'hingoli', 'hamirpur', 'ajmer', 'patiala', 'varanasi', 'kurnool', 'jhansi', 'vijayapura', 'rupnagar', 'hyderabad', 'jammu', 'ernakulam', 'sheohar', 'nainital', 'kamrup', 'purnia', 'haridwar', 'warangal', 'koppal', 'vellore', 'sangrur', 'umaria', 'jalna', 'sidhi', 'nizamabad', 'una', 'samastipur', 'dindigul', 'kurukshetra', 'sirsa', 'ariyalur', 'vadodara', 'kota', 'churu', 'mohali', 'sangli', 'pondicherry', 'ranchi', 'gaya', 'jalpaiguri', 'kanchipuram', 'perambalur', 'kaithal', 'hoshiarpur', 'udaipur', 'jhajjar', 'prakasam', 'jalaun', 'jamui', 'meerut', 'etah', 'panchkula', 'kullu', 'ahmedabad', 'solan', 'aligarh', 'idukki', 'darbhanga', 'jalgaon', 'kolkata', 'dausa', 'cuddalore', 'bagalkot', 'ambala', 'mathura', 'raigarh', 'dhule', 'jalandhar', 'gadchiroli', 'bhadrak', 'pauri garhwal', 'ghaziabad', 'bidar', 'mysuru', 'nashik', 'mirzapur', 'ghazipur', 'seoni', 'raichur', 'dehradun', 'nagpur', 'mau', 'mumbai', 'coimbatore', 'bhiwani', 'nagapattinam', 'dahod', 'chandrapur', 'dhenkanal', 'tikamgarh', 'hisar', 'gwalior', 'dharwad', 'bathinda', 'panipat', 'nandurbar', 'anand', 'gorakhpur', 'khammam', 'satara', 'valsad', 'muktsar', 'begusarai', 'kozhikode', 'alappuzha', 'new delhi', 'pali', 'dhanbad', 'gurgaon', 'bharuch', 'tuticorin', 'navsari', 'chhindwara', 'chikkamagaluru', 'kolar', 'daman', 'muzaffarpur', 'buldhana', 'fatehabad', 'yamuna nagar', 'bhagalpur', 'davangere', 'malappuram', 'mahendragarh', 'mandi', 'medak', 'kanyakumari', 'wayanad', 'kodagu', 'pathanamthitta', 'mahesana', 'sonipat', 'theni', 'namakkal', 'ludhiana', 'sawai madhopur', 'barnala', 'patna', 'bengaluru', 'jind', 'farrukhabad', 'chennai', 'surat', 'patan', 'amritsar', 'ropar', 'nanded', 'sonbhadra', 'krishna', 'jaunpur', 'thane', 'chandigarh', 'gurdaspur', 'thanjavur', 'moga', 'sikar', 'ratnagiri', 'akola', 'virudhunagar', 'chitradurga', 'hathras', 'vidisha', 'kalaburagi', 'kasargod', 'fatehgarh sahib', 'betul', 'firozabad', 'latur', 'erode', 'adilabad', 'salem', 'rohtak', 'neemuch', 'udupi', 'solapur', 'mandya', 'parbhani', 'bulandshahr', 'bareilly', 'tiruvarur', 'kangra', 'kapurthala', 'krishnagiri', 'jabalpur', 'indore', 'munger', 'balaghat', 'rampur', 'dharmapuri', 'mainpuri', 'pune', 'ramgarh', 'kottayam', 'dholpur', 'cuttack', 'shimla', 'puri', 'bijnor', 'barmer', 'jhabua', 'guntur', 'lucknow', 'karauli', 'faridkot', 'aurangabad', 'sundergarh', 'agra', 'chittorgarh', 'jodhpur', 'ganganagar', 'rewari', 'beed', 'sitamarhi', 'washim', 'tirunelveli', 'gondia', 'mansa', 'faridabad', 'allahabad', 'pudukkottai', 'palakkad', 'osmanabad', 'bokaro', 'chandauli', 'dewas', 'ratlam', 'lakhisarai', 'raipur', 'nellore', 'moradabad', 'kolhapur', 'firozpur', 'karaikal', 'kannur', 'rajkot', 'karnal', 'wardha', 'kollam', 'panna', 'bhandara', 'bhopal', 'ramanathapuram', 'korba']"
   ]
  },
  {
   "cell_type": "code",
   "execution_count": null,
   "metadata": {},
   "outputs": [],
   "source": [
    "d = []\n",
    "for i in xz:\n",
    "    j = o[o[\"CITY\"] == i]\n",
    "    d.append(i)"
   ]
  },
  {
   "cell_type": "code",
   "execution_count": null,
   "metadata": {},
   "outputs": [],
   "source": [
    "for i in d:\n",
    "    a = o[o.CITY==i].index\n",
    "    print(i)\n",
    "    for j in a:\n",
    "        o.updated_CITY.loc[j] = i"
   ]
  },
  {
   "cell_type": "code",
   "execution_count": null,
   "metadata": {},
   "outputs": [],
   "source": [
    "Data_Finalinvoice.columns"
   ]
  },
  {
   "cell_type": "markdown",
   "metadata": {},
   "source": [
    "### impute nan value for updated district"
   ]
  },
  {
   "cell_type": "code",
   "execution_count": null,
   "metadata": {},
   "outputs": [],
   "source": [
    "g = list(o[\"District\"].value_counts().keys())"
   ]
  },
  {
   "cell_type": "code",
   "execution_count": null,
   "metadata": {},
   "outputs": [],
   "source": [
    "h = list(l[\"updated_District\"].value_counts().keys())"
   ]
  },
  {
   "cell_type": "code",
   "execution_count": null,
   "metadata": {},
   "outputs": [],
   "source": [
    "def common_mem(a, b):\n",
    "    a_set = set(a)\n",
    "    b_set = set(b)\n",
    "  \n",
    "    if (a_set & b_set):\n",
    "        print(a_set & b_set)\n",
    "    else:\n",
    "        print(\"No common elements\") "
   ]
  },
  {
   "cell_type": "code",
   "execution_count": null,
   "metadata": {},
   "outputs": [],
   "source": [
    "common_mem(g,h)"
   ]
  },
  {
   "cell_type": "code",
   "execution_count": null,
   "metadata": {},
   "outputs": [],
   "source": [
    "gh = ['rajasthan', 'maharashtra', 'tamil nadu', 'madhya pradesh', 'assam', 'kerala', 'west bengal', 'odisha', 'gujarat', 'arunachal pradesh', 'chandigarh', 'karnataka', 'jharkhand', 'bihar', 'uttarakhand', 'punjab', 'delhi', 'andhra pradesh', 'telangana', 'uttar pradesh', 'goa', 'himachal pradesh', 'haryana', 'lakshadweep']"
   ]
  },
  {
   "cell_type": "code",
   "execution_count": null,
   "metadata": {},
   "outputs": [],
   "source": [
    "s = []\n",
    "for i in gh:\n",
    "    j = o[o[\"District\"] == i]\n",
    "    s.append(i)"
   ]
  },
  {
   "cell_type": "code",
   "execution_count": null,
   "metadata": {},
   "outputs": [],
   "source": [
    "for i in s:\n",
    "    a = o[o.District==i].index\n",
    "    print(i)\n",
    "    for j in a:\n",
    "        o.updated_District.loc[j] = i"
   ]
  },
  {
   "cell_type": "code",
   "execution_count": null,
   "metadata": {},
   "outputs": [],
   "source": [
    "o.shape"
   ]
  },
  {
   "cell_type": "code",
   "execution_count": null,
   "metadata": {},
   "outputs": [],
   "source": [
    "o.isnull().sum()"
   ]
  },
  {
   "cell_type": "code",
   "execution_count": null,
   "metadata": {},
   "outputs": [],
   "source": [
    "Data_Finalinvoice.drop(columns=[\"Unnamed: 0\",\"Amt Rcvd From Custom\",\"Amt Rcvd From Ins Co\",\"CGST(14%)\",\"CGST(2.5%)\",\"CGST(6%)\",\"CGST(9%)\",\"Cash /Cashless Type\",\"Claim No.\",\"Customer No.\",\"IGST(12%)\",\"IGST(18%)\",\"IGST(28%)\",\"IGST(5%)\",\"Expiry Date\",\"Gate Pass Date\",\"Gate Pass Time\",\"SGST/UGST(14%)\",\"SGST/UGST(2.5%)\",\"SGST/UGST(6%)\",\"SGST/UGST(9%)\",\"Policy no.\",\"Invoice Time\",\"Invoice No\",\"ODN No.\",\"Outstanding Amt\",\"Regn No\",\"Service Advisor Name\",\"TDS amount\",\"Total IGST\",\"Total GST\",\"Total CGST\",\"Total SGST/UGST\",\"Area / Locality\",\"CITY\",\"District\",\"updated_Location_Area\"],inplace=True)"
   ]
  },
  {
   "cell_type": "code",
   "execution_count": null,
   "metadata": {},
   "outputs": [],
   "source": [
    "o.drop(columns=[\"Unnamed: 0\",\"Amt Rcvd From Custom\",\"Amt Rcvd From Ins Co\",\"CGST(14%)\",\"CGST(2.5%)\",\"CGST(6%)\",\"CGST(9%)\",\"Cash /Cashless Type\",\"Claim No.\",\"Customer No.\",\"IGST(12%)\",\"IGST(18%)\",\"IGST(28%)\",\"IGST(5%)\",\"Expiry Date\",\"Gate Pass Date\",\"Gate Pass Time\",\"SGST/UGST(14%)\",\"SGST/UGST(2.5%)\",\"SGST/UGST(6%)\",\"SGST/UGST(9%)\",\"Policy no.\",\"Invoice Time\",\"Invoice No\",\"ODN No.\",\"Outstanding Amt\",\"Regn No\",\"Service Advisor Name\",\"TDS amount\",\"Total IGST\",\"Total GST\",\"Total CGST\",\"Total SGST/UGST\",\"Area / Locality\",\"CITY\",\"District\",\"updated_Location_Area\"],inplace=True)"
   ]
  },
  {
   "cell_type": "code",
   "execution_count": null,
   "metadata": {},
   "outputs": [],
   "source": [
    "o['Model'] = o['Model'].fillna(o['Model'].mode()[0])"
   ]
  },
  {
   "cell_type": "code",
   "execution_count": null,
   "metadata": {},
   "outputs": [],
   "source": [
    "o[\"Total Value\"].fillna((o[\"Total Value\"].median()), inplace=True)"
   ]
  },
  {
   "cell_type": "code",
   "execution_count": null,
   "metadata": {},
   "outputs": [],
   "source": [
    "o['Technician Name'] = o['Technician Name'].fillna(o['Technician Name'].mode()[0])"
   ]
  },
  {
   "cell_type": "code",
   "execution_count": null,
   "metadata": {},
   "outputs": [],
   "source": [
    "o.notnull().sum()"
   ]
  },
  {
   "cell_type": "code",
   "execution_count": null,
   "metadata": {},
   "outputs": [],
   "source": [
    "o.isnull().sum()"
   ]
  },
  {
   "cell_type": "code",
   "execution_count": null,
   "metadata": {},
   "outputs": [],
   "source": [
    "l.notnull().sum()"
   ]
  },
  {
   "cell_type": "code",
   "execution_count": null,
   "metadata": {},
   "outputs": [],
   "source": [
    "l.drop(columns=[\"Unnamed: 0\",\"Amt Rcvd From Custom\",\"Amt Rcvd From Ins Co\",\"CGST(14%)\",\"CGST(2.5%)\",\"CGST(6%)\",\"CGST(9%)\",\"Cash /Cashless Type\",\"Claim No.\",\"Customer No.\",\"IGST(12%)\",\"IGST(18%)\",\"IGST(28%)\",\"IGST(5%)\",\"Expiry Date\",\"Gate Pass Date\",\"Gate Pass Time\",\"SGST/UGST(14%)\",\"SGST/UGST(2.5%)\",\"SGST/UGST(6%)\",\"SGST/UGST(9%)\",\"Policy no.\",\"Invoice Time\",\"Invoice No\",\"ODN No.\",\"Outstanding Amt\",\"Regn No\",\"Service Advisor Name\",\"TDS amount\",\"Total IGST\",\"Total GST\",\"Total CGST\",\"Total SGST/UGST\",\"Area / Locality\",\"CITY\",\"District\",\"updated_Location_Area\"],inplace=True)"
   ]
  },
  {
   "cell_type": "code",
   "execution_count": null,
   "metadata": {},
   "outputs": [],
   "source": [
    "l['Model'] = l['Model'].fillna(l['Model'].mode()[0])"
   ]
  },
  {
   "cell_type": "code",
   "execution_count": null,
   "metadata": {},
   "outputs": [],
   "source": [
    "l.isnull().sum()"
   ]
  },
  {
   "cell_type": "markdown",
   "metadata": {},
   "source": [
    "### Cleaned o dataframe"
   ]
  },
  {
   "cell_type": "code",
   "execution_count": null,
   "metadata": {},
   "outputs": [],
   "source": [
    "o.shape"
   ]
  },
  {
   "cell_type": "code",
   "execution_count": null,
   "metadata": {},
   "outputs": [],
   "source": [
    "l.shape"
   ]
  },
  {
   "cell_type": "code",
   "execution_count": null,
   "metadata": {},
   "outputs": [],
   "source": [
    "frames = [l,o]"
   ]
  },
  {
   "cell_type": "code",
   "execution_count": null,
   "metadata": {},
   "outputs": [],
   "source": [
    "semi_cleaned_data =  pd.concat(frames)"
   ]
  },
  {
   "cell_type": "code",
   "execution_count": null,
   "metadata": {},
   "outputs": [],
   "source": [
    "semi_cleaned_data.to_csv('semi_cleaned_Finalinvoice.csv')"
   ]
  },
  {
   "cell_type": "code",
   "execution_count": null,
   "metadata": {},
   "outputs": [],
   "source": [
    "semi_cleaned_data.isnull().sum()"
   ]
  },
  {
   "cell_type": "code",
   "execution_count": 5,
   "metadata": {},
   "outputs": [],
   "source": [
    "Semi_cleaned_data = pd.read_csv(\"semi_cleaned_Finalinvoice.csv\")"
   ]
  },
  {
   "cell_type": "code",
   "execution_count": 6,
   "metadata": {},
   "outputs": [],
   "source": [
    "copy_fi = Semi_cleaned_data.copy()"
   ]
  },
  {
   "cell_type": "code",
   "execution_count": 7,
   "metadata": {},
   "outputs": [
    {
     "data": {
      "text/html": [
       "<div>\n",
       "<style scoped>\n",
       "    .dataframe tbody tr th:only-of-type {\n",
       "        vertical-align: middle;\n",
       "    }\n",
       "\n",
       "    .dataframe tbody tr th {\n",
       "        vertical-align: top;\n",
       "    }\n",
       "\n",
       "    .dataframe thead th {\n",
       "        text-align: right;\n",
       "    }\n",
       "</style>\n",
       "<table border=\"1\" class=\"dataframe\">\n",
       "  <thead>\n",
       "    <tr style=\"text-align: right;\">\n",
       "      <th></th>\n",
       "      <th>Unnamed: 0</th>\n",
       "      <th>Cust Type</th>\n",
       "      <th>Insurance Company</th>\n",
       "      <th>Invoice Date</th>\n",
       "      <th>Job Card No</th>\n",
       "      <th>JobCard Date</th>\n",
       "      <th>JobCard Time</th>\n",
       "      <th>KMs Reading</th>\n",
       "      <th>Labour Total</th>\n",
       "      <th>Make</th>\n",
       "      <th>Misc Total</th>\n",
       "      <th>Model</th>\n",
       "      <th>OSL Total</th>\n",
       "      <th>Order Type</th>\n",
       "      <th>Parts Total</th>\n",
       "      <th>Pin code</th>\n",
       "      <th>Plant</th>\n",
       "      <th>Plant Name1</th>\n",
       "      <th>Print Status</th>\n",
       "      <th>Recovrbl Exp</th>\n",
       "      <th>Technician Name</th>\n",
       "      <th>Total Amt Wtd Tax.</th>\n",
       "      <th>Total Value</th>\n",
       "      <th>User ID</th>\n",
       "      <th>Invoice_DateTime</th>\n",
       "      <th>JobCard_DateTime</th>\n",
       "      <th>Service_Time</th>\n",
       "      <th>updated_CITY</th>\n",
       "      <th>updated_District</th>\n",
       "    </tr>\n",
       "  </thead>\n",
       "  <tbody>\n",
       "    <tr>\n",
       "      <td>0</td>\n",
       "      <td>0</td>\n",
       "      <td>Retail</td>\n",
       "      <td>NaN</td>\n",
       "      <td>2015-01-02</td>\n",
       "      <td>168303</td>\n",
       "      <td>2014-12-13</td>\n",
       "      <td>14:29:43</td>\n",
       "      <td>49317</td>\n",
       "      <td>1203.14</td>\n",
       "      <td>GENERAL MOTORS</td>\n",
       "      <td>0.00</td>\n",
       "      <td>SPARK</td>\n",
       "      <td>500.06</td>\n",
       "      <td>Paid Service</td>\n",
       "      <td>2348.75</td>\n",
       "      <td>400601</td>\n",
       "      <td>BC01</td>\n",
       "      <td>THANE</td>\n",
       "      <td>NO</td>\n",
       "      <td>0.0</td>\n",
       "      <td>RUPESH</td>\n",
       "      <td>4051.95</td>\n",
       "      <td>4051.95</td>\n",
       "      <td>BC01FS1</td>\n",
       "      <td>2015-01-02 11:30:36</td>\n",
       "      <td>2014-12-13 14:29:43</td>\n",
       "      <td>19 days 21:00:53.000000000</td>\n",
       "      <td>thane</td>\n",
       "      <td>maharashtra</td>\n",
       "    </tr>\n",
       "    <tr>\n",
       "      <td>1</td>\n",
       "      <td>1</td>\n",
       "      <td>Retail</td>\n",
       "      <td>NaN</td>\n",
       "      <td>2015-01-03</td>\n",
       "      <td>173997</td>\n",
       "      <td>2015-01-02</td>\n",
       "      <td>14:12:18</td>\n",
       "      <td>78584</td>\n",
       "      <td>804.26</td>\n",
       "      <td>TATA MOTORS</td>\n",
       "      <td>197.03</td>\n",
       "      <td>INDICA</td>\n",
       "      <td>0.00</td>\n",
       "      <td>SMC Value Package</td>\n",
       "      <td>0.00</td>\n",
       "      <td>400603</td>\n",
       "      <td>BC01</td>\n",
       "      <td>THANE</td>\n",
       "      <td>NO</td>\n",
       "      <td>0.0</td>\n",
       "      <td>PRASHANT</td>\n",
       "      <td>1001.29</td>\n",
       "      <td>1001.29</td>\n",
       "      <td>BC01SA2</td>\n",
       "      <td>2015-01-03 10:07:32</td>\n",
       "      <td>2015-01-02 14:12:18</td>\n",
       "      <td>0 days 19:55:14.000000000</td>\n",
       "      <td>thane</td>\n",
       "      <td>maharashtra</td>\n",
       "    </tr>\n",
       "    <tr>\n",
       "      <td>2</td>\n",
       "      <td>2</td>\n",
       "      <td>Retail</td>\n",
       "      <td>NaN</td>\n",
       "      <td>2015-01-03</td>\n",
       "      <td>173889</td>\n",
       "      <td>2015-01-02</td>\n",
       "      <td>11:40:44</td>\n",
       "      <td>33985</td>\n",
       "      <td>180.19</td>\n",
       "      <td>MARUTI SUZUKI</td>\n",
       "      <td>0.00</td>\n",
       "      <td>ZEN</td>\n",
       "      <td>0.00</td>\n",
       "      <td>Running Repairs</td>\n",
       "      <td>52.95</td>\n",
       "      <td>400607</td>\n",
       "      <td>BC01</td>\n",
       "      <td>THANE</td>\n",
       "      <td>NO</td>\n",
       "      <td>0.0</td>\n",
       "      <td>IMRAN</td>\n",
       "      <td>233.14</td>\n",
       "      <td>233.14</td>\n",
       "      <td>BC01SA2</td>\n",
       "      <td>2015-01-03 11:12:57</td>\n",
       "      <td>2015-01-02 11:40:44</td>\n",
       "      <td>0 days 23:32:13.000000000</td>\n",
       "      <td>thane</td>\n",
       "      <td>maharashtra</td>\n",
       "    </tr>\n",
       "    <tr>\n",
       "      <td>3</td>\n",
       "      <td>3</td>\n",
       "      <td>Retail</td>\n",
       "      <td>NaN</td>\n",
       "      <td>2015-01-03</td>\n",
       "      <td>174158</td>\n",
       "      <td>2015-01-03</td>\n",
       "      <td>10:12:32</td>\n",
       "      <td>78584</td>\n",
       "      <td>0.00</td>\n",
       "      <td>TATA MOTORS</td>\n",
       "      <td>0.00</td>\n",
       "      <td>INDICA</td>\n",
       "      <td>0.00</td>\n",
       "      <td>SMC Redemption</td>\n",
       "      <td>0.00</td>\n",
       "      <td>400603</td>\n",
       "      <td>BC01</td>\n",
       "      <td>THANE</td>\n",
       "      <td>NO</td>\n",
       "      <td>0.0</td>\n",
       "      <td>PRASHANT</td>\n",
       "      <td>0.00</td>\n",
       "      <td>0.00</td>\n",
       "      <td>BC01SA2</td>\n",
       "      <td>2015-01-03 11:40:44</td>\n",
       "      <td>2015-01-03 10:12:32</td>\n",
       "      <td>0 days 01:28:12.000000000</td>\n",
       "      <td>thane</td>\n",
       "      <td>maharashtra</td>\n",
       "    </tr>\n",
       "    <tr>\n",
       "      <td>4</td>\n",
       "      <td>4</td>\n",
       "      <td>Retail</td>\n",
       "      <td>NaN</td>\n",
       "      <td>2015-01-03</td>\n",
       "      <td>173860</td>\n",
       "      <td>2015-01-02</td>\n",
       "      <td>10:45:42</td>\n",
       "      <td>50057</td>\n",
       "      <td>1202.97</td>\n",
       "      <td>HYUNDAI</td>\n",
       "      <td>100.00</td>\n",
       "      <td>SANTRO XING</td>\n",
       "      <td>499.99</td>\n",
       "      <td>Paid Service</td>\n",
       "      <td>944.16</td>\n",
       "      <td>400603</td>\n",
       "      <td>BC01</td>\n",
       "      <td>THANE</td>\n",
       "      <td>NO</td>\n",
       "      <td>0.0</td>\n",
       "      <td>DAYANAND</td>\n",
       "      <td>2747.12</td>\n",
       "      <td>2747.12</td>\n",
       "      <td>BC01SA2</td>\n",
       "      <td>2015-01-03 12:07:17</td>\n",
       "      <td>2015-01-02 10:45:42</td>\n",
       "      <td>1 days 01:21:35.000000000</td>\n",
       "      <td>thane</td>\n",
       "      <td>maharashtra</td>\n",
       "    </tr>\n",
       "  </tbody>\n",
       "</table>\n",
       "</div>"
      ],
      "text/plain": [
       "   Unnamed: 0 Cust Type Insurance Company Invoice Date  Job Card No  \\\n",
       "0           0    Retail               NaN   2015-01-02       168303   \n",
       "1           1    Retail               NaN   2015-01-03       173997   \n",
       "2           2    Retail               NaN   2015-01-03       173889   \n",
       "3           3    Retail               NaN   2015-01-03       174158   \n",
       "4           4    Retail               NaN   2015-01-03       173860   \n",
       "\n",
       "  JobCard Date JobCard Time  KMs Reading  Labour Total            Make  \\\n",
       "0   2014-12-13     14:29:43        49317       1203.14  GENERAL MOTORS   \n",
       "1   2015-01-02     14:12:18        78584        804.26     TATA MOTORS   \n",
       "2   2015-01-02     11:40:44        33985        180.19   MARUTI SUZUKI   \n",
       "3   2015-01-03     10:12:32        78584          0.00     TATA MOTORS   \n",
       "4   2015-01-02     10:45:42        50057       1202.97         HYUNDAI   \n",
       "\n",
       "   Misc Total        Model  OSL Total         Order Type  Parts Total  \\\n",
       "0        0.00        SPARK     500.06       Paid Service      2348.75   \n",
       "1      197.03       INDICA       0.00  SMC Value Package         0.00   \n",
       "2        0.00          ZEN       0.00    Running Repairs        52.95   \n",
       "3        0.00       INDICA       0.00     SMC Redemption         0.00   \n",
       "4      100.00  SANTRO XING     499.99       Paid Service       944.16   \n",
       "\n",
       "   Pin code Plant Plant Name1 Print Status  Recovrbl Exp Technician Name  \\\n",
       "0    400601  BC01       THANE           NO           0.0          RUPESH   \n",
       "1    400603  BC01       THANE           NO           0.0        PRASHANT   \n",
       "2    400607  BC01       THANE           NO           0.0           IMRAN   \n",
       "3    400603  BC01       THANE           NO           0.0        PRASHANT   \n",
       "4    400603  BC01       THANE           NO           0.0        DAYANAND   \n",
       "\n",
       "   Total Amt Wtd Tax.  Total Value  User ID     Invoice_DateTime  \\\n",
       "0             4051.95      4051.95  BC01FS1  2015-01-02 11:30:36   \n",
       "1             1001.29      1001.29  BC01SA2  2015-01-03 10:07:32   \n",
       "2              233.14       233.14  BC01SA2  2015-01-03 11:12:57   \n",
       "3                0.00         0.00  BC01SA2  2015-01-03 11:40:44   \n",
       "4             2747.12      2747.12  BC01SA2  2015-01-03 12:07:17   \n",
       "\n",
       "      JobCard_DateTime                Service_Time updated_CITY  \\\n",
       "0  2014-12-13 14:29:43  19 days 21:00:53.000000000        thane   \n",
       "1  2015-01-02 14:12:18   0 days 19:55:14.000000000        thane   \n",
       "2  2015-01-02 11:40:44   0 days 23:32:13.000000000        thane   \n",
       "3  2015-01-03 10:12:32   0 days 01:28:12.000000000        thane   \n",
       "4  2015-01-02 10:45:42   1 days 01:21:35.000000000        thane   \n",
       "\n",
       "  updated_District  \n",
       "0      maharashtra  \n",
       "1      maharashtra  \n",
       "2      maharashtra  \n",
       "3      maharashtra  \n",
       "4      maharashtra  "
      ]
     },
     "execution_count": 7,
     "metadata": {},
     "output_type": "execute_result"
    }
   ],
   "source": [
    "copy_fi.head(5)"
   ]
  },
  {
   "cell_type": "code",
   "execution_count": 8,
   "metadata": {},
   "outputs": [
    {
     "data": {
      "text/plain": [
       "Index(['Unnamed: 0', 'Cust Type', 'Insurance Company', 'Invoice Date',\n",
       "       'Job Card No', 'JobCard Date', 'JobCard Time', 'KMs Reading',\n",
       "       'Labour Total', 'Make', 'Misc Total', 'Model', 'OSL Total',\n",
       "       'Order Type', 'Parts Total', 'Pin code', 'Plant', 'Plant Name1',\n",
       "       'Print Status', 'Recovrbl Exp', 'Technician Name', 'Total Amt Wtd Tax.',\n",
       "       'Total Value', 'User ID', 'Invoice_DateTime', 'JobCard_DateTime',\n",
       "       'Service_Time', 'updated_CITY', 'updated_District'],\n",
       "      dtype='object')"
      ]
     },
     "execution_count": 8,
     "metadata": {},
     "output_type": "execute_result"
    }
   ],
   "source": [
    "copy_fi.columns"
   ]
  },
  {
   "cell_type": "code",
   "execution_count": 9,
   "metadata": {},
   "outputs": [
    {
     "data": {
      "text/plain": [
       "Running Repairs      269455\n",
       "Paid Service         135004\n",
       "Accidental            44159\n",
       "SMC Redemption        15738\n",
       "Mechanical            15100\n",
       "SMC Value Package      9781\n",
       "Repeat Order           3043\n",
       "WBW Order                17\n",
       "Workshop Damage          17\n",
       "Name: Order Type, dtype: int64"
      ]
     },
     "execution_count": 9,
     "metadata": {},
     "output_type": "execute_result"
    }
   ],
   "source": [
    "copy_fi[\"Order Type\"].value_counts()"
   ]
  },
  {
   "cell_type": "code",
   "execution_count": 10,
   "metadata": {},
   "outputs": [
    {
     "data": {
      "text/plain": [
       "(492314, 29)"
      ]
     },
     "execution_count": 10,
     "metadata": {},
     "output_type": "execute_result"
    }
   ],
   "source": [
    "copy_fi.shape"
   ]
  },
  {
   "cell_type": "markdown",
   "metadata": {},
   "source": [
    "### Dropping rows where order type is the paid service and total value is still 0."
   ]
  },
  {
   "cell_type": "code",
   "execution_count": 11,
   "metadata": {},
   "outputs": [],
   "source": [
    "temp1 = copy_fi[(copy_fi[\"Order Type\"] == \"Paid Service\") & (copy_fi[\"Total Value\"] == 0) & (copy_fi[\"Insurance Company\"].isnull())].index"
   ]
  },
  {
   "cell_type": "code",
   "execution_count": 12,
   "metadata": {},
   "outputs": [
    {
     "data": {
      "text/plain": [
       "Int64Index([    25,    550,    635,    684,    725,    758,    814,    913,\n",
       "              1040,   1119,\n",
       "            ...\n",
       "            474294, 474304, 474313, 474329, 474337, 474367, 474398, 474414,\n",
       "            475937, 476467],\n",
       "           dtype='int64', length=1938)"
      ]
     },
     "execution_count": 12,
     "metadata": {},
     "output_type": "execute_result"
    }
   ],
   "source": [
    "temp1"
   ]
  },
  {
   "cell_type": "code",
   "execution_count": 13,
   "metadata": {},
   "outputs": [],
   "source": [
    "copy_fi.drop(temp1 , inplace=True)"
   ]
  },
  {
   "cell_type": "code",
   "execution_count": 14,
   "metadata": {},
   "outputs": [
    {
     "data": {
      "text/plain": [
       "(490376, 29)"
      ]
     },
     "execution_count": 14,
     "metadata": {},
     "output_type": "execute_result"
    }
   ],
   "source": [
    "copy_fi.shape"
   ]
  },
  {
   "cell_type": "markdown",
   "metadata": {},
   "source": [
    "### Dropping rows where order type is Accidental , also where insurance is not been taken also total value is 0"
   ]
  },
  {
   "cell_type": "code",
   "execution_count": 15,
   "metadata": {},
   "outputs": [],
   "source": [
    "temp2 = copy_fi[(copy_fi[\"Order Type\"] == \"Accidental\") & (copy_fi[\"Total Value\"] == 0) & (copy_fi[\"Insurance Company\"].isnull())].index"
   ]
  },
  {
   "cell_type": "code",
   "execution_count": 16,
   "metadata": {},
   "outputs": [],
   "source": [
    "copy_fi.drop(temp2 , inplace=True)"
   ]
  },
  {
   "cell_type": "code",
   "execution_count": 17,
   "metadata": {},
   "outputs": [
    {
     "data": {
      "text/plain": [
       "(490123, 29)"
      ]
     },
     "execution_count": 17,
     "metadata": {},
     "output_type": "execute_result"
    }
   ],
   "source": [
    "copy_fi.shape"
   ]
  },
  {
   "cell_type": "code",
   "execution_count": 18,
   "metadata": {},
   "outputs": [
    {
     "data": {
      "text/plain": [
       "Order Type\n",
       "Accidental            29017\n",
       "Mechanical             1266\n",
       "Paid Service          83098\n",
       "Repeat Order           2819\n",
       "Running Repairs      169436\n",
       "SMC Redemption        13847\n",
       "SMC Value Package      8943\n",
       "WBW Order                 4\n",
       "Workshop Damage          17\n",
       "Name: Total Value, dtype: int64"
      ]
     },
     "execution_count": 18,
     "metadata": {},
     "output_type": "execute_result"
    }
   ],
   "source": [
    "copy_fi.groupby([\"Order Type\"])[\"Total Value\"].count()"
   ]
  },
  {
   "cell_type": "markdown",
   "metadata": {},
   "source": [
    "### Dropping rows where order type is Repeat Order , also where insurance is not been taken and where total value is still 0"
   ]
  },
  {
   "cell_type": "code",
   "execution_count": 19,
   "metadata": {},
   "outputs": [],
   "source": [
    "temp3 = copy_fi[(copy_fi[\"Order Type\"] == \"Repeat Order\") & (copy_fi[\"Total Value\"] == 0) & (copy_fi[\"Insurance Company\"].isnull())].index"
   ]
  },
  {
   "cell_type": "code",
   "execution_count": 20,
   "metadata": {},
   "outputs": [],
   "source": [
    "copy_fi.drop(temp3,inplace=True)"
   ]
  },
  {
   "cell_type": "markdown",
   "metadata": {},
   "source": [
    "### Replacing 0 from total value where order type is SMC Redemption with the median where total value is non zero"
   ]
  },
  {
   "cell_type": "code",
   "execution_count": 21,
   "metadata": {},
   "outputs": [],
   "source": [
    "copy_fi.loc[(copy_fi[\"Order Type\"] == \"SMC Redemption\") & (copy_fi[\"Total Value\"] == 0) & (copy_fi[\"Insurance Company\"].isnull()),\"Total Value\"]= 1644.7"
   ]
  },
  {
   "cell_type": "markdown",
   "metadata": {},
   "source": [
    "### Replacing 0 from total value where order type is Running Repairs with the median where total value is non zero"
   ]
  },
  {
   "cell_type": "code",
   "execution_count": 22,
   "metadata": {},
   "outputs": [],
   "source": [
    "copy_fi.loc[(copy_fi[\"Order Type\"] == \"Running Repairs\") & (copy_fi[\"Total Value\"] == 0) & (copy_fi[\"Insurance Company\"].isnull()),\"Total Value\"]= 1644.7"
   ]
  },
  {
   "cell_type": "code",
   "execution_count": 23,
   "metadata": {},
   "outputs": [
    {
     "data": {
      "text/plain": [
       "Running Repairs      269455\n",
       "Paid Service         133066\n",
       "Accidental            43906\n",
       "SMC Redemption        15738\n",
       "Mechanical            15100\n",
       "SMC Value Package      9781\n",
       "Repeat Order            247\n",
       "WBW Order                17\n",
       "Workshop Damage          17\n",
       "Name: Order Type, dtype: int64"
      ]
     },
     "execution_count": 23,
     "metadata": {},
     "output_type": "execute_result"
    }
   ],
   "source": [
    "copy_fi[\"Order Type\"].value_counts()"
   ]
  },
  {
   "cell_type": "code",
   "execution_count": 24,
   "metadata": {},
   "outputs": [
    {
     "data": {
      "text/html": [
       "<div>\n",
       "<style scoped>\n",
       "    .dataframe tbody tr th:only-of-type {\n",
       "        vertical-align: middle;\n",
       "    }\n",
       "\n",
       "    .dataframe tbody tr th {\n",
       "        vertical-align: top;\n",
       "    }\n",
       "\n",
       "    .dataframe thead th {\n",
       "        text-align: right;\n",
       "    }\n",
       "</style>\n",
       "<table border=\"1\" class=\"dataframe\">\n",
       "  <thead>\n",
       "    <tr style=\"text-align: right;\">\n",
       "      <th></th>\n",
       "      <th>Unnamed: 0</th>\n",
       "      <th>Cust Type</th>\n",
       "      <th>Insurance Company</th>\n",
       "      <th>Invoice Date</th>\n",
       "      <th>Job Card No</th>\n",
       "      <th>JobCard Date</th>\n",
       "      <th>JobCard Time</th>\n",
       "      <th>KMs Reading</th>\n",
       "      <th>Labour Total</th>\n",
       "      <th>Make</th>\n",
       "      <th>Misc Total</th>\n",
       "      <th>Model</th>\n",
       "      <th>OSL Total</th>\n",
       "      <th>Order Type</th>\n",
       "      <th>Parts Total</th>\n",
       "      <th>Pin code</th>\n",
       "      <th>Plant</th>\n",
       "      <th>Plant Name1</th>\n",
       "      <th>Print Status</th>\n",
       "      <th>Recovrbl Exp</th>\n",
       "      <th>Technician Name</th>\n",
       "      <th>Total Amt Wtd Tax.</th>\n",
       "      <th>Total Value</th>\n",
       "      <th>User ID</th>\n",
       "      <th>Invoice_DateTime</th>\n",
       "      <th>JobCard_DateTime</th>\n",
       "      <th>Service_Time</th>\n",
       "      <th>updated_CITY</th>\n",
       "      <th>updated_District</th>\n",
       "    </tr>\n",
       "  </thead>\n",
       "  <tbody>\n",
       "    <tr>\n",
       "      <td>0</td>\n",
       "      <td>0</td>\n",
       "      <td>Retail</td>\n",
       "      <td>NaN</td>\n",
       "      <td>2015-01-02</td>\n",
       "      <td>168303</td>\n",
       "      <td>2014-12-13</td>\n",
       "      <td>14:29:43</td>\n",
       "      <td>49317</td>\n",
       "      <td>1203.14</td>\n",
       "      <td>GENERAL MOTORS</td>\n",
       "      <td>0.00</td>\n",
       "      <td>SPARK</td>\n",
       "      <td>500.06</td>\n",
       "      <td>Paid Service</td>\n",
       "      <td>2348.75</td>\n",
       "      <td>400601</td>\n",
       "      <td>BC01</td>\n",
       "      <td>THANE</td>\n",
       "      <td>NO</td>\n",
       "      <td>0.0</td>\n",
       "      <td>RUPESH</td>\n",
       "      <td>4051.95</td>\n",
       "      <td>4051.95</td>\n",
       "      <td>BC01FS1</td>\n",
       "      <td>2015-01-02 11:30:36</td>\n",
       "      <td>2014-12-13 14:29:43</td>\n",
       "      <td>19 days 21:00:53.000000000</td>\n",
       "      <td>thane</td>\n",
       "      <td>maharashtra</td>\n",
       "    </tr>\n",
       "    <tr>\n",
       "      <td>1</td>\n",
       "      <td>1</td>\n",
       "      <td>Retail</td>\n",
       "      <td>NaN</td>\n",
       "      <td>2015-01-03</td>\n",
       "      <td>173997</td>\n",
       "      <td>2015-01-02</td>\n",
       "      <td>14:12:18</td>\n",
       "      <td>78584</td>\n",
       "      <td>804.26</td>\n",
       "      <td>TATA MOTORS</td>\n",
       "      <td>197.03</td>\n",
       "      <td>INDICA</td>\n",
       "      <td>0.00</td>\n",
       "      <td>SMC Value Package</td>\n",
       "      <td>0.00</td>\n",
       "      <td>400603</td>\n",
       "      <td>BC01</td>\n",
       "      <td>THANE</td>\n",
       "      <td>NO</td>\n",
       "      <td>0.0</td>\n",
       "      <td>PRASHANT</td>\n",
       "      <td>1001.29</td>\n",
       "      <td>1001.29</td>\n",
       "      <td>BC01SA2</td>\n",
       "      <td>2015-01-03 10:07:32</td>\n",
       "      <td>2015-01-02 14:12:18</td>\n",
       "      <td>0 days 19:55:14.000000000</td>\n",
       "      <td>thane</td>\n",
       "      <td>maharashtra</td>\n",
       "    </tr>\n",
       "  </tbody>\n",
       "</table>\n",
       "</div>"
      ],
      "text/plain": [
       "   Unnamed: 0 Cust Type Insurance Company Invoice Date  Job Card No  \\\n",
       "0           0    Retail               NaN   2015-01-02       168303   \n",
       "1           1    Retail               NaN   2015-01-03       173997   \n",
       "\n",
       "  JobCard Date JobCard Time  KMs Reading  Labour Total            Make  \\\n",
       "0   2014-12-13     14:29:43        49317       1203.14  GENERAL MOTORS   \n",
       "1   2015-01-02     14:12:18        78584        804.26     TATA MOTORS   \n",
       "\n",
       "   Misc Total   Model  OSL Total         Order Type  Parts Total  Pin code  \\\n",
       "0        0.00   SPARK     500.06       Paid Service      2348.75    400601   \n",
       "1      197.03  INDICA       0.00  SMC Value Package         0.00    400603   \n",
       "\n",
       "  Plant Plant Name1 Print Status  Recovrbl Exp Technician Name  \\\n",
       "0  BC01       THANE           NO           0.0          RUPESH   \n",
       "1  BC01       THANE           NO           0.0        PRASHANT   \n",
       "\n",
       "   Total Amt Wtd Tax.  Total Value  User ID     Invoice_DateTime  \\\n",
       "0             4051.95      4051.95  BC01FS1  2015-01-02 11:30:36   \n",
       "1             1001.29      1001.29  BC01SA2  2015-01-03 10:07:32   \n",
       "\n",
       "      JobCard_DateTime                Service_Time updated_CITY  \\\n",
       "0  2014-12-13 14:29:43  19 days 21:00:53.000000000        thane   \n",
       "1  2015-01-02 14:12:18   0 days 19:55:14.000000000        thane   \n",
       "\n",
       "  updated_District  \n",
       "0      maharashtra  \n",
       "1      maharashtra  "
      ]
     },
     "execution_count": 24,
     "metadata": {},
     "output_type": "execute_result"
    }
   ],
   "source": [
    "copy_fi.head(2)"
   ]
  },
  {
   "cell_type": "code",
   "execution_count": 25,
   "metadata": {},
   "outputs": [
    {
     "data": {
      "text/plain": [
       "Unnamed: 0                 0\n",
       "Cust Type                  0\n",
       "Insurance Company     463736\n",
       "Invoice Date               0\n",
       "Job Card No                0\n",
       "JobCard Date               0\n",
       "JobCard Time               0\n",
       "KMs Reading                0\n",
       "Labour Total               0\n",
       "Make                       0\n",
       "Misc Total                 0\n",
       "Model                      0\n",
       "OSL Total                  0\n",
       "Order Type                 0\n",
       "Parts Total                0\n",
       "Pin code                   0\n",
       "Plant                      0\n",
       "Plant Name1                0\n",
       "Print Status               0\n",
       "Recovrbl Exp               0\n",
       "Technician Name       215802\n",
       "Total Amt Wtd Tax.         0\n",
       "Total Value           181676\n",
       "User ID                    0\n",
       "Invoice_DateTime           0\n",
       "JobCard_DateTime           0\n",
       "Service_Time               0\n",
       "updated_CITY           20071\n",
       "updated_District         170\n",
       "dtype: int64"
      ]
     },
     "execution_count": 25,
     "metadata": {},
     "output_type": "execute_result"
    }
   ],
   "source": [
    "copy_fi.isnull().sum()"
   ]
  },
  {
   "cell_type": "markdown",
   "metadata": {},
   "source": [
    "### Dropping rows where Total Amt Wtd Tax is negative"
   ]
  },
  {
   "cell_type": "code",
   "execution_count": 26,
   "metadata": {},
   "outputs": [],
   "source": [
    "negative_values = copy_fi[(copy_fi[\"Total Amt Wtd Tax.\"] < 0)].index"
   ]
  },
  {
   "cell_type": "code",
   "execution_count": 27,
   "metadata": {},
   "outputs": [],
   "source": [
    "copy_fi.drop(negative_values , inplace=True)"
   ]
  },
  {
   "cell_type": "code",
   "execution_count": 28,
   "metadata": {},
   "outputs": [
    {
     "data": {
      "text/plain": [
       "(487319, 29)"
      ]
     },
     "execution_count": 28,
     "metadata": {},
     "output_type": "execute_result"
    }
   ],
   "source": [
    "copy_fi.shape"
   ]
  },
  {
   "cell_type": "markdown",
   "metadata": {},
   "source": [
    "### 0 value imputation for Total Amt Wtd Tax"
   ]
  },
  {
   "cell_type": "markdown",
   "metadata": {},
   "source": [
    "### Dropping rows where order type is the paid service and Total Amt Wtd Tax is still 0."
   ]
  },
  {
   "cell_type": "code",
   "execution_count": 29,
   "metadata": {},
   "outputs": [
    {
     "data": {
      "text/plain": [
       "(487319, 29)"
      ]
     },
     "execution_count": 29,
     "metadata": {},
     "output_type": "execute_result"
    }
   ],
   "source": [
    "copy_fi.shape"
   ]
  },
  {
   "cell_type": "code",
   "execution_count": 30,
   "metadata": {},
   "outputs": [],
   "source": [
    "temp4 = copy_fi[(copy_fi[\"Order Type\"] == \"Paid Service\") & (copy_fi[\"Total Amt Wtd Tax.\"] == 0) & (copy_fi[\"Insurance Company\"].isnull())].index"
   ]
  },
  {
   "cell_type": "code",
   "execution_count": 31,
   "metadata": {},
   "outputs": [],
   "source": [
    "copy_fi.drop(temp4 , inplace=True)"
   ]
  },
  {
   "cell_type": "code",
   "execution_count": 32,
   "metadata": {},
   "outputs": [
    {
     "data": {
      "text/plain": [
       "(485484, 29)"
      ]
     },
     "execution_count": 32,
     "metadata": {},
     "output_type": "execute_result"
    }
   ],
   "source": [
    "copy_fi.shape"
   ]
  },
  {
   "cell_type": "markdown",
   "metadata": {},
   "source": [
    "### Dropping rows where order type is Accidental , also where insurance is not been taken also Total Amt Wtd Tax is 0"
   ]
  },
  {
   "cell_type": "code",
   "execution_count": 33,
   "metadata": {},
   "outputs": [],
   "source": [
    "temp5 = copy_fi[(copy_fi[\"Order Type\"] == \"Accidental\") & (copy_fi[\"Total Amt Wtd Tax.\"] == 0) & (copy_fi[\"Insurance Company\"].isnull())].index"
   ]
  },
  {
   "cell_type": "code",
   "execution_count": 34,
   "metadata": {},
   "outputs": [],
   "source": [
    "copy_fi.drop(temp5 , inplace=True)"
   ]
  },
  {
   "cell_type": "code",
   "execution_count": 35,
   "metadata": {},
   "outputs": [
    {
     "data": {
      "text/plain": [
       "(485262, 29)"
      ]
     },
     "execution_count": 35,
     "metadata": {},
     "output_type": "execute_result"
    }
   ],
   "source": [
    "copy_fi.shape"
   ]
  },
  {
   "cell_type": "markdown",
   "metadata": {},
   "source": [
    "### Dropping rows where order type is Repeat Order , also where insurance is not been taken and where Total Amt Wtd Tax is still 0"
   ]
  },
  {
   "cell_type": "code",
   "execution_count": 36,
   "metadata": {},
   "outputs": [],
   "source": [
    "temp6 = copy_fi[(copy_fi[\"Order Type\"] == \"Repeat Order\") & (copy_fi[\"Total Amt Wtd Tax.\"] == 0) & (copy_fi[\"Insurance Company\"].isnull())].index"
   ]
  },
  {
   "cell_type": "code",
   "execution_count": 37,
   "metadata": {},
   "outputs": [],
   "source": [
    "copy_fi.drop(temp6,inplace=True)"
   ]
  },
  {
   "cell_type": "markdown",
   "metadata": {},
   "source": [
    "### Replacing 0 from Total Amt Wtd Tax where order type is SMC Redemption with the median where Total Amt Wtd Tax is non zero"
   ]
  },
  {
   "cell_type": "code",
   "execution_count": 38,
   "metadata": {},
   "outputs": [
    {
     "data": {
      "text/plain": [
       "(485044, 29)"
      ]
     },
     "execution_count": 38,
     "metadata": {},
     "output_type": "execute_result"
    }
   ],
   "source": [
    "copy_fi.shape"
   ]
  },
  {
   "cell_type": "code",
   "execution_count": 39,
   "metadata": {},
   "outputs": [],
   "source": [
    "copy_fi.loc[(copy_fi[\"Order Type\"] == \"SMC Redemption\") & (copy_fi[\"Total Amt Wtd Tax.\"] == 0) & (copy_fi[\"Insurance Company\"].isnull()),\"Total Amt Wtd Tax.\"]= 1674.22433"
   ]
  },
  {
   "cell_type": "markdown",
   "metadata": {},
   "source": [
    "### Replacing 0 from Total Amt Wtd Tax where order type is Running Repairs with the mean where Total Amt Wtd Tax is non zero"
   ]
  },
  {
   "cell_type": "code",
   "execution_count": 40,
   "metadata": {},
   "outputs": [],
   "source": [
    "copy_fi.loc[(copy_fi[\"Order Type\"] == \"Running Repairs\") & (copy_fi[\"Total Amt Wtd Tax.\"] == 0) & (copy_fi[\"Insurance Company\"].isnull()),\"Total Amt Wtd Tax.\"]= 2835.56"
   ]
  },
  {
   "cell_type": "code",
   "execution_count": 41,
   "metadata": {},
   "outputs": [
    {
     "data": {
      "text/plain": [
       "(485044, 29)"
      ]
     },
     "execution_count": 41,
     "metadata": {},
     "output_type": "execute_result"
    }
   ],
   "source": [
    "copy_fi.shape"
   ]
  },
  {
   "cell_type": "markdown",
   "metadata": {},
   "source": [
    "### Replacing 0 from Total Amt Wtd Tax where order type is Mechanical with the mean where Total Amt Wtd Tax is non zero"
   ]
  },
  {
   "cell_type": "code",
   "execution_count": 42,
   "metadata": {},
   "outputs": [],
   "source": [
    "d = copy_fi.loc[(copy_fi[\"Total Amt Wtd Tax.\"] != 0) & (copy_fi[\"Insurance Company\"].isnull()) & (copy_fi[\"Order Type\"] == \"Mechanical\")]"
   ]
  },
  {
   "cell_type": "code",
   "execution_count": 43,
   "metadata": {},
   "outputs": [
    {
     "data": {
      "text/plain": [
       "3461.956168433827"
      ]
     },
     "execution_count": 43,
     "metadata": {},
     "output_type": "execute_result"
    }
   ],
   "source": [
    "d[\"Total Amt Wtd Tax.\"].mean()"
   ]
  },
  {
   "cell_type": "code",
   "execution_count": 44,
   "metadata": {},
   "outputs": [
    {
     "data": {
      "text/plain": [
       "1367.2"
      ]
     },
     "execution_count": 44,
     "metadata": {},
     "output_type": "execute_result"
    }
   ],
   "source": [
    "d[\"Total Amt Wtd Tax.\"].median()"
   ]
  },
  {
   "cell_type": "code",
   "execution_count": 45,
   "metadata": {},
   "outputs": [
    {
     "data": {
      "text/plain": [
       "0.01"
      ]
     },
     "execution_count": 45,
     "metadata": {},
     "output_type": "execute_result"
    }
   ],
   "source": [
    "d[\"Total Amt Wtd Tax.\"].min()"
   ]
  },
  {
   "cell_type": "code",
   "execution_count": 46,
   "metadata": {},
   "outputs": [
    {
     "data": {
      "text/plain": [
       "232668.17"
      ]
     },
     "execution_count": 46,
     "metadata": {},
     "output_type": "execute_result"
    }
   ],
   "source": [
    "d[\"Total Amt Wtd Tax.\"].max()"
   ]
  },
  {
   "cell_type": "code",
   "execution_count": 47,
   "metadata": {},
   "outputs": [],
   "source": [
    "copy_fi.loc[(copy_fi[\"Order Type\"] == \"Mechanical\") & (copy_fi[\"Total Amt Wtd Tax.\"] == 0) & (copy_fi[\"Insurance Company\"].isnull()),\"Total Amt Wtd Tax.\"]= 3461.95"
   ]
  },
  {
   "cell_type": "code",
   "execution_count": 48,
   "metadata": {},
   "outputs": [
    {
     "data": {
      "text/plain": [
       "Unnamed: 0                 0\n",
       "Cust Type                  0\n",
       "Insurance Company     461453\n",
       "Invoice Date               0\n",
       "Job Card No                0\n",
       "JobCard Date               0\n",
       "JobCard Time               0\n",
       "KMs Reading                0\n",
       "Labour Total               0\n",
       "Make                       0\n",
       "Misc Total                 0\n",
       "Model                      0\n",
       "OSL Total                  0\n",
       "Order Type                 0\n",
       "Parts Total                0\n",
       "Pin code                   0\n",
       "Plant                      0\n",
       "Plant Name1                0\n",
       "Print Status               0\n",
       "Recovrbl Exp               0\n",
       "Technician Name       213651\n",
       "Total Amt Wtd Tax.         0\n",
       "Total Value           179525\n",
       "User ID                    0\n",
       "Invoice_DateTime           0\n",
       "JobCard_DateTime           0\n",
       "Service_Time               0\n",
       "updated_CITY           20005\n",
       "updated_District         170\n",
       "dtype: int64"
      ]
     },
     "execution_count": 48,
     "metadata": {},
     "output_type": "execute_result"
    }
   ],
   "source": [
    "copy_fi.isnull().sum()"
   ]
  },
  {
   "cell_type": "markdown",
   "metadata": {},
   "source": [
    "### Imputing nan values of updated district."
   ]
  },
  {
   "cell_type": "code",
   "execution_count": 49,
   "metadata": {},
   "outputs": [],
   "source": [
    "copy_fi.loc[(copy_fi[\"Plant Name1\"] == \"VAPI\") & (copy_fi[\"updated_District\"].isnull()),\"updated_District\"]= \"gujarat\""
   ]
  },
  {
   "cell_type": "code",
   "execution_count": 50,
   "metadata": {},
   "outputs": [
    {
     "data": {
      "text/html": [
       "<div>\n",
       "<style scoped>\n",
       "    .dataframe tbody tr th:only-of-type {\n",
       "        vertical-align: middle;\n",
       "    }\n",
       "\n",
       "    .dataframe tbody tr th {\n",
       "        vertical-align: top;\n",
       "    }\n",
       "\n",
       "    .dataframe thead th {\n",
       "        text-align: right;\n",
       "    }\n",
       "</style>\n",
       "<table border=\"1\" class=\"dataframe\">\n",
       "  <thead>\n",
       "    <tr style=\"text-align: right;\">\n",
       "      <th></th>\n",
       "      <th>Unnamed: 0</th>\n",
       "      <th>Cust Type</th>\n",
       "      <th>Insurance Company</th>\n",
       "      <th>Invoice Date</th>\n",
       "      <th>Job Card No</th>\n",
       "      <th>JobCard Date</th>\n",
       "      <th>JobCard Time</th>\n",
       "      <th>KMs Reading</th>\n",
       "      <th>Labour Total</th>\n",
       "      <th>Make</th>\n",
       "      <th>Misc Total</th>\n",
       "      <th>Model</th>\n",
       "      <th>OSL Total</th>\n",
       "      <th>Order Type</th>\n",
       "      <th>Parts Total</th>\n",
       "      <th>Pin code</th>\n",
       "      <th>Plant</th>\n",
       "      <th>Plant Name1</th>\n",
       "      <th>Print Status</th>\n",
       "      <th>Recovrbl Exp</th>\n",
       "      <th>Technician Name</th>\n",
       "      <th>Total Amt Wtd Tax.</th>\n",
       "      <th>Total Value</th>\n",
       "      <th>User ID</th>\n",
       "      <th>Invoice_DateTime</th>\n",
       "      <th>JobCard_DateTime</th>\n",
       "      <th>Service_Time</th>\n",
       "      <th>updated_CITY</th>\n",
       "      <th>updated_District</th>\n",
       "    </tr>\n",
       "  </thead>\n",
       "  <tbody>\n",
       "    <tr>\n",
       "      <td>0</td>\n",
       "      <td>0</td>\n",
       "      <td>Retail</td>\n",
       "      <td>NaN</td>\n",
       "      <td>2015-01-02</td>\n",
       "      <td>168303</td>\n",
       "      <td>2014-12-13</td>\n",
       "      <td>14:29:43</td>\n",
       "      <td>49317</td>\n",
       "      <td>1203.14</td>\n",
       "      <td>GENERAL MOTORS</td>\n",
       "      <td>0.00</td>\n",
       "      <td>SPARK</td>\n",
       "      <td>500.06</td>\n",
       "      <td>Paid Service</td>\n",
       "      <td>2348.75</td>\n",
       "      <td>400601</td>\n",
       "      <td>BC01</td>\n",
       "      <td>THANE</td>\n",
       "      <td>NO</td>\n",
       "      <td>0.0</td>\n",
       "      <td>RUPESH</td>\n",
       "      <td>4051.95000</td>\n",
       "      <td>4051.95</td>\n",
       "      <td>BC01FS1</td>\n",
       "      <td>2015-01-02 11:30:36</td>\n",
       "      <td>2014-12-13 14:29:43</td>\n",
       "      <td>19 days 21:00:53.000000000</td>\n",
       "      <td>thane</td>\n",
       "      <td>maharashtra</td>\n",
       "    </tr>\n",
       "    <tr>\n",
       "      <td>1</td>\n",
       "      <td>1</td>\n",
       "      <td>Retail</td>\n",
       "      <td>NaN</td>\n",
       "      <td>2015-01-03</td>\n",
       "      <td>173997</td>\n",
       "      <td>2015-01-02</td>\n",
       "      <td>14:12:18</td>\n",
       "      <td>78584</td>\n",
       "      <td>804.26</td>\n",
       "      <td>TATA MOTORS</td>\n",
       "      <td>197.03</td>\n",
       "      <td>INDICA</td>\n",
       "      <td>0.00</td>\n",
       "      <td>SMC Value Package</td>\n",
       "      <td>0.00</td>\n",
       "      <td>400603</td>\n",
       "      <td>BC01</td>\n",
       "      <td>THANE</td>\n",
       "      <td>NO</td>\n",
       "      <td>0.0</td>\n",
       "      <td>PRASHANT</td>\n",
       "      <td>1001.29000</td>\n",
       "      <td>1001.29</td>\n",
       "      <td>BC01SA2</td>\n",
       "      <td>2015-01-03 10:07:32</td>\n",
       "      <td>2015-01-02 14:12:18</td>\n",
       "      <td>0 days 19:55:14.000000000</td>\n",
       "      <td>thane</td>\n",
       "      <td>maharashtra</td>\n",
       "    </tr>\n",
       "    <tr>\n",
       "      <td>2</td>\n",
       "      <td>2</td>\n",
       "      <td>Retail</td>\n",
       "      <td>NaN</td>\n",
       "      <td>2015-01-03</td>\n",
       "      <td>173889</td>\n",
       "      <td>2015-01-02</td>\n",
       "      <td>11:40:44</td>\n",
       "      <td>33985</td>\n",
       "      <td>180.19</td>\n",
       "      <td>MARUTI SUZUKI</td>\n",
       "      <td>0.00</td>\n",
       "      <td>ZEN</td>\n",
       "      <td>0.00</td>\n",
       "      <td>Running Repairs</td>\n",
       "      <td>52.95</td>\n",
       "      <td>400607</td>\n",
       "      <td>BC01</td>\n",
       "      <td>THANE</td>\n",
       "      <td>NO</td>\n",
       "      <td>0.0</td>\n",
       "      <td>IMRAN</td>\n",
       "      <td>233.14000</td>\n",
       "      <td>233.14</td>\n",
       "      <td>BC01SA2</td>\n",
       "      <td>2015-01-03 11:12:57</td>\n",
       "      <td>2015-01-02 11:40:44</td>\n",
       "      <td>0 days 23:32:13.000000000</td>\n",
       "      <td>thane</td>\n",
       "      <td>maharashtra</td>\n",
       "    </tr>\n",
       "    <tr>\n",
       "      <td>3</td>\n",
       "      <td>3</td>\n",
       "      <td>Retail</td>\n",
       "      <td>NaN</td>\n",
       "      <td>2015-01-03</td>\n",
       "      <td>174158</td>\n",
       "      <td>2015-01-03</td>\n",
       "      <td>10:12:32</td>\n",
       "      <td>78584</td>\n",
       "      <td>0.00</td>\n",
       "      <td>TATA MOTORS</td>\n",
       "      <td>0.00</td>\n",
       "      <td>INDICA</td>\n",
       "      <td>0.00</td>\n",
       "      <td>SMC Redemption</td>\n",
       "      <td>0.00</td>\n",
       "      <td>400603</td>\n",
       "      <td>BC01</td>\n",
       "      <td>THANE</td>\n",
       "      <td>NO</td>\n",
       "      <td>0.0</td>\n",
       "      <td>PRASHANT</td>\n",
       "      <td>1674.22433</td>\n",
       "      <td>1644.70</td>\n",
       "      <td>BC01SA2</td>\n",
       "      <td>2015-01-03 11:40:44</td>\n",
       "      <td>2015-01-03 10:12:32</td>\n",
       "      <td>0 days 01:28:12.000000000</td>\n",
       "      <td>thane</td>\n",
       "      <td>maharashtra</td>\n",
       "    </tr>\n",
       "    <tr>\n",
       "      <td>4</td>\n",
       "      <td>4</td>\n",
       "      <td>Retail</td>\n",
       "      <td>NaN</td>\n",
       "      <td>2015-01-03</td>\n",
       "      <td>173860</td>\n",
       "      <td>2015-01-02</td>\n",
       "      <td>10:45:42</td>\n",
       "      <td>50057</td>\n",
       "      <td>1202.97</td>\n",
       "      <td>HYUNDAI</td>\n",
       "      <td>100.00</td>\n",
       "      <td>SANTRO XING</td>\n",
       "      <td>499.99</td>\n",
       "      <td>Paid Service</td>\n",
       "      <td>944.16</td>\n",
       "      <td>400603</td>\n",
       "      <td>BC01</td>\n",
       "      <td>THANE</td>\n",
       "      <td>NO</td>\n",
       "      <td>0.0</td>\n",
       "      <td>DAYANAND</td>\n",
       "      <td>2747.12000</td>\n",
       "      <td>2747.12</td>\n",
       "      <td>BC01SA2</td>\n",
       "      <td>2015-01-03 12:07:17</td>\n",
       "      <td>2015-01-02 10:45:42</td>\n",
       "      <td>1 days 01:21:35.000000000</td>\n",
       "      <td>thane</td>\n",
       "      <td>maharashtra</td>\n",
       "    </tr>\n",
       "  </tbody>\n",
       "</table>\n",
       "</div>"
      ],
      "text/plain": [
       "   Unnamed: 0 Cust Type Insurance Company Invoice Date  Job Card No  \\\n",
       "0           0    Retail               NaN   2015-01-02       168303   \n",
       "1           1    Retail               NaN   2015-01-03       173997   \n",
       "2           2    Retail               NaN   2015-01-03       173889   \n",
       "3           3    Retail               NaN   2015-01-03       174158   \n",
       "4           4    Retail               NaN   2015-01-03       173860   \n",
       "\n",
       "  JobCard Date JobCard Time  KMs Reading  Labour Total            Make  \\\n",
       "0   2014-12-13     14:29:43        49317       1203.14  GENERAL MOTORS   \n",
       "1   2015-01-02     14:12:18        78584        804.26     TATA MOTORS   \n",
       "2   2015-01-02     11:40:44        33985        180.19   MARUTI SUZUKI   \n",
       "3   2015-01-03     10:12:32        78584          0.00     TATA MOTORS   \n",
       "4   2015-01-02     10:45:42        50057       1202.97         HYUNDAI   \n",
       "\n",
       "   Misc Total        Model  OSL Total         Order Type  Parts Total  \\\n",
       "0        0.00        SPARK     500.06       Paid Service      2348.75   \n",
       "1      197.03       INDICA       0.00  SMC Value Package         0.00   \n",
       "2        0.00          ZEN       0.00    Running Repairs        52.95   \n",
       "3        0.00       INDICA       0.00     SMC Redemption         0.00   \n",
       "4      100.00  SANTRO XING     499.99       Paid Service       944.16   \n",
       "\n",
       "   Pin code Plant Plant Name1 Print Status  Recovrbl Exp Technician Name  \\\n",
       "0    400601  BC01       THANE           NO           0.0          RUPESH   \n",
       "1    400603  BC01       THANE           NO           0.0        PRASHANT   \n",
       "2    400607  BC01       THANE           NO           0.0           IMRAN   \n",
       "3    400603  BC01       THANE           NO           0.0        PRASHANT   \n",
       "4    400603  BC01       THANE           NO           0.0        DAYANAND   \n",
       "\n",
       "   Total Amt Wtd Tax.  Total Value  User ID     Invoice_DateTime  \\\n",
       "0          4051.95000      4051.95  BC01FS1  2015-01-02 11:30:36   \n",
       "1          1001.29000      1001.29  BC01SA2  2015-01-03 10:07:32   \n",
       "2           233.14000       233.14  BC01SA2  2015-01-03 11:12:57   \n",
       "3          1674.22433      1644.70  BC01SA2  2015-01-03 11:40:44   \n",
       "4          2747.12000      2747.12  BC01SA2  2015-01-03 12:07:17   \n",
       "\n",
       "      JobCard_DateTime                Service_Time updated_CITY  \\\n",
       "0  2014-12-13 14:29:43  19 days 21:00:53.000000000        thane   \n",
       "1  2015-01-02 14:12:18   0 days 19:55:14.000000000        thane   \n",
       "2  2015-01-02 11:40:44   0 days 23:32:13.000000000        thane   \n",
       "3  2015-01-03 10:12:32   0 days 01:28:12.000000000        thane   \n",
       "4  2015-01-02 10:45:42   1 days 01:21:35.000000000        thane   \n",
       "\n",
       "  updated_District  \n",
       "0      maharashtra  \n",
       "1      maharashtra  \n",
       "2      maharashtra  \n",
       "3      maharashtra  \n",
       "4      maharashtra  "
      ]
     },
     "execution_count": 50,
     "metadata": {},
     "output_type": "execute_result"
    }
   ],
   "source": [
    "copy_fi.head()"
   ]
  },
  {
   "cell_type": "code",
   "execution_count": 51,
   "metadata": {},
   "outputs": [],
   "source": [
    "copy_fi.loc[(copy_fi[\"Plant Name1\"] == \"X008- AAKASH AUTO (Puducherry)\") & (copy_fi[\"updated_District\"].isnull()),\"updated_District\"]= \"pondicherry\""
   ]
  },
  {
   "cell_type": "code",
   "execution_count": 52,
   "metadata": {},
   "outputs": [
    {
     "data": {
      "text/plain": [
       "Unnamed: 0                 0\n",
       "Cust Type                  0\n",
       "Insurance Company     461453\n",
       "Invoice Date               0\n",
       "Job Card No                0\n",
       "JobCard Date               0\n",
       "JobCard Time               0\n",
       "KMs Reading                0\n",
       "Labour Total               0\n",
       "Make                       0\n",
       "Misc Total                 0\n",
       "Model                      0\n",
       "OSL Total                  0\n",
       "Order Type                 0\n",
       "Parts Total                0\n",
       "Pin code                   0\n",
       "Plant                      0\n",
       "Plant Name1                0\n",
       "Print Status               0\n",
       "Recovrbl Exp               0\n",
       "Technician Name       213651\n",
       "Total Amt Wtd Tax.         0\n",
       "Total Value           179525\n",
       "User ID                    0\n",
       "Invoice_DateTime           0\n",
       "JobCard_DateTime           0\n",
       "Service_Time               0\n",
       "updated_CITY           20005\n",
       "updated_District          76\n",
       "dtype: int64"
      ]
     },
     "execution_count": 52,
     "metadata": {},
     "output_type": "execute_result"
    }
   ],
   "source": [
    "copy_fi.isnull().sum()"
   ]
  },
  {
   "cell_type": "code",
   "execution_count": 53,
   "metadata": {},
   "outputs": [],
   "source": [
    "temp7 = copy_fi.loc[(copy_fi[\"updated_District\"].isnull())].index"
   ]
  },
  {
   "cell_type": "code",
   "execution_count": 54,
   "metadata": {},
   "outputs": [],
   "source": [
    "copy_fi.drop(temp7 , inplace=True)"
   ]
  },
  {
   "cell_type": "markdown",
   "metadata": {},
   "source": [
    "### impute nan values of updated city column"
   ]
  },
  {
   "cell_type": "code",
   "execution_count": 55,
   "metadata": {},
   "outputs": [],
   "source": [
    "copy_fi.loc[(copy_fi[\"Plant Name1\"] == \"YESHWANTPUR - BANGALORE\") & (copy_fi[\"updated_CITY\"].isnull()),\"updated_CITY\"]= \"bengaluru\"\n",
    "copy_fi.loc[(copy_fi[\"Plant Name1\"] == \"NAGPUR\") & (copy_fi[\"updated_CITY\"].isnull()),\"updated_CITY\"]= \"nagpur\"\n",
    "copy_fi.loc[(copy_fi[\"Plant Name1\"] == \"NASHIK\") & (copy_fi[\"updated_CITY\"].isnull()),\"updated_CITY\"]= \"nashik\"\n",
    "copy_fi.loc[(copy_fi[\"Plant Name1\"] == \"HADAPSAR - PUNE\") & (copy_fi[\"updated_CITY\"].isnull()),\"updated_CITY\"]= \"pune\"\n",
    "copy_fi.loc[(copy_fi[\"Plant Name1\"] == \"X062 - S N S MOTORS MYSORE\") & (copy_fi[\"updated_CITY\"].isnull()),\"updated_CITY\"]= \"mysuru\"\n",
    "copy_fi.loc[(copy_fi[\"Plant Name1\"] == \"SAS NAGAR - MOHALI\") & (copy_fi[\"updated_CITY\"].isnull()),\"updated_CITY\"]= \"mohali\"\n",
    "copy_fi.loc[(copy_fi[\"Plant Name1\"] == \"GREATER NOIDA\") & (copy_fi[\"updated_CITY\"].isnull()),\"updated_CITY\"]= \"gautam buddha nagar\"\n",
    "copy_fi.loc[(copy_fi[\"Plant Name1\"] == \"PANCHKULLA\") & (copy_fi[\"updated_CITY\"].isnull()),\"updated_CITY\"]= \"panchkula\"\n",
    "copy_fi.loc[(copy_fi[\"Plant Name1\"] == \"NERUL - NAVI MUMBAI\") & (copy_fi[\"updated_CITY\"].isnull()),\"updated_CITY\"]= \"nerul - navi mumbai\"\n",
    "copy_fi.loc[(copy_fi[\"Plant Name1\"] == \"VAPI\") & (copy_fi[\"updated_CITY\"].isnull()),\"updated_CITY\"]= \"valsad\"\n",
    "copy_fi.loc[(copy_fi[\"Plant Name1\"] == \"SURAT UDHANA\") & (copy_fi[\"updated_CITY\"].isnull()),\"updated_CITY\"]= \"surat\"\n",
    "copy_fi.loc[(copy_fi[\"Plant Name1\"] == \"FARIDABAD 1\") & (copy_fi[\"updated_CITY\"].isnull()),\"updated_CITY\"]= \"faridabad\"\n",
    "copy_fi.loc[(copy_fi[\"Plant Name1\"] == \"NELLORE\") & (copy_fi[\"updated_CITY\"].isnull()),\"updated_CITY\"]= \"nellore\"\n",
    "copy_fi.loc[(copy_fi[\"Plant Name1\"] == \"MOHAN NAGAR - GAZIABAD\") & (copy_fi[\"updated_CITY\"].isnull()),\"updated_CITY\"]= \"ghaziabad\"\n",
    "copy_fi.loc[(copy_fi[\"Plant Name1\"] == \"X017 - HEM KIRAN DIESELS\") & (copy_fi[\"updated_CITY\"].isnull()),\"updated_CITY\"]= \"kolhapur\"\n",
    "copy_fi.loc[(copy_fi[\"Plant Name1\"] == \"X110 - KALYAN SERVICES\") & (copy_fi[\"updated_CITY\"].isnull()),\"updated_CITY\"]= \"coimbatore\"\n",
    "copy_fi.loc[(copy_fi[\"Plant Name1\"] == \"X034 - SOHAMM MOTORS\") & (copy_fi[\"updated_CITY\"].isnull()),\"updated_CITY\"]= \"aurangabad\"\n",
    "copy_fi.loc[(copy_fi[\"Plant Name1\"] == \"X012 - SR CAR CARE\") & (copy_fi[\"updated_CITY\"].isnull()),\"updated_CITY\"]= \"cuddalore\"\n",
    "copy_fi.loc[(copy_fi[\"Plant Name1\"] == \"X023 - ROYAL KRR AUTOS\") & (copy_fi[\"updated_CITY\"].isnull()),\"updated_CITY\"]= \"coimbatore\"\n",
    "copy_fi.loc[(copy_fi[\"Plant Name1\"] == \"X036 - X-PRESS MOTORS\") & (copy_fi[\"updated_CITY\"].isnull()),\"updated_CITY\"]= \"madurai\"\n",
    "copy_fi.loc[(copy_fi[\"Plant Name1\"] == \"THANE\") & (copy_fi[\"updated_CITY\"].isnull()),\"updated_CITY\"]= \"thane\"\n",
    "copy_fi.loc[(copy_fi[\"Plant Name1\"] == \"BELLANDUR - BANGALORE\") & (copy_fi[\"updated_CITY\"].isnull()),\"updated_CITY\"]= \"bengaluru\"\n",
    "copy_fi.loc[(copy_fi[\"Plant Name1\"] == \"COIMBATORE\") & (copy_fi[\"updated_CITY\"].isnull()),\"updated_CITY\"]= \"coimbatore\"\n",
    "copy_fi.loc[(copy_fi[\"Plant Name1\"] == \"X010 - LVM MOTORS\") & (copy_fi[\"updated_CITY\"].isnull()),\"updated_CITY\"]= \"vellore\""
   ]
  },
  {
   "cell_type": "code",
   "execution_count": 58,
   "metadata": {},
   "outputs": [],
   "source": [
    "temp8 = copy_fi[(copy_fi[\"updated_CITY\"].isnull())].index"
   ]
  },
  {
   "cell_type": "code",
   "execution_count": 59,
   "metadata": {},
   "outputs": [],
   "source": [
    "copy_fi.drop(temp8 , inplace=True)"
   ]
  },
  {
   "cell_type": "code",
   "execution_count": 65,
   "metadata": {},
   "outputs": [
    {
     "data": {
      "text/html": [
       "<div>\n",
       "<style scoped>\n",
       "    .dataframe tbody tr th:only-of-type {\n",
       "        vertical-align: middle;\n",
       "    }\n",
       "\n",
       "    .dataframe tbody tr th {\n",
       "        vertical-align: top;\n",
       "    }\n",
       "\n",
       "    .dataframe thead th {\n",
       "        text-align: right;\n",
       "    }\n",
       "</style>\n",
       "<table border=\"1\" class=\"dataframe\">\n",
       "  <thead>\n",
       "    <tr style=\"text-align: right;\">\n",
       "      <th></th>\n",
       "      <th>Cust Type</th>\n",
       "      <th>Insurance Company</th>\n",
       "      <th>Invoice Date</th>\n",
       "      <th>Job Card No</th>\n",
       "      <th>JobCard Date</th>\n",
       "      <th>JobCard Time</th>\n",
       "      <th>KMs Reading</th>\n",
       "      <th>Labour Total</th>\n",
       "      <th>Make</th>\n",
       "      <th>Misc Total</th>\n",
       "      <th>Model</th>\n",
       "      <th>OSL Total</th>\n",
       "      <th>Order Type</th>\n",
       "      <th>Parts Total</th>\n",
       "      <th>Pin code</th>\n",
       "      <th>Plant</th>\n",
       "      <th>Plant Name1</th>\n",
       "      <th>Print Status</th>\n",
       "      <th>Recovrbl Exp</th>\n",
       "      <th>Technician Name</th>\n",
       "      <th>Total Amt Wtd Tax.</th>\n",
       "      <th>Total Value</th>\n",
       "      <th>User ID</th>\n",
       "      <th>Invoice_DateTime</th>\n",
       "      <th>JobCard_DateTime</th>\n",
       "      <th>Service_Time</th>\n",
       "      <th>updated_CITY</th>\n",
       "      <th>updated_District</th>\n",
       "    </tr>\n",
       "  </thead>\n",
       "  <tbody>\n",
       "    <tr>\n",
       "      <td>0</td>\n",
       "      <td>Retail</td>\n",
       "      <td>NaN</td>\n",
       "      <td>2015-01-02</td>\n",
       "      <td>168303</td>\n",
       "      <td>2014-12-13</td>\n",
       "      <td>14:29:43</td>\n",
       "      <td>49317</td>\n",
       "      <td>1203.14</td>\n",
       "      <td>GENERAL MOTORS</td>\n",
       "      <td>0.00</td>\n",
       "      <td>SPARK</td>\n",
       "      <td>500.06</td>\n",
       "      <td>Paid Service</td>\n",
       "      <td>2348.75</td>\n",
       "      <td>400601</td>\n",
       "      <td>BC01</td>\n",
       "      <td>THANE</td>\n",
       "      <td>NO</td>\n",
       "      <td>0.0</td>\n",
       "      <td>RUPESH</td>\n",
       "      <td>4051.95000</td>\n",
       "      <td>4051.95</td>\n",
       "      <td>BC01FS1</td>\n",
       "      <td>2015-01-02 11:30:36</td>\n",
       "      <td>2014-12-13 14:29:43</td>\n",
       "      <td>19 days 21:00:53.000000000</td>\n",
       "      <td>thane</td>\n",
       "      <td>maharashtra</td>\n",
       "    </tr>\n",
       "    <tr>\n",
       "      <td>1</td>\n",
       "      <td>Retail</td>\n",
       "      <td>NaN</td>\n",
       "      <td>2015-01-03</td>\n",
       "      <td>173997</td>\n",
       "      <td>2015-01-02</td>\n",
       "      <td>14:12:18</td>\n",
       "      <td>78584</td>\n",
       "      <td>804.26</td>\n",
       "      <td>TATA MOTORS</td>\n",
       "      <td>197.03</td>\n",
       "      <td>INDICA</td>\n",
       "      <td>0.00</td>\n",
       "      <td>SMC Value Package</td>\n",
       "      <td>0.00</td>\n",
       "      <td>400603</td>\n",
       "      <td>BC01</td>\n",
       "      <td>THANE</td>\n",
       "      <td>NO</td>\n",
       "      <td>0.0</td>\n",
       "      <td>PRASHANT</td>\n",
       "      <td>1001.29000</td>\n",
       "      <td>1001.29</td>\n",
       "      <td>BC01SA2</td>\n",
       "      <td>2015-01-03 10:07:32</td>\n",
       "      <td>2015-01-02 14:12:18</td>\n",
       "      <td>0 days 19:55:14.000000000</td>\n",
       "      <td>thane</td>\n",
       "      <td>maharashtra</td>\n",
       "    </tr>\n",
       "    <tr>\n",
       "      <td>2</td>\n",
       "      <td>Retail</td>\n",
       "      <td>NaN</td>\n",
       "      <td>2015-01-03</td>\n",
       "      <td>173889</td>\n",
       "      <td>2015-01-02</td>\n",
       "      <td>11:40:44</td>\n",
       "      <td>33985</td>\n",
       "      <td>180.19</td>\n",
       "      <td>MARUTI SUZUKI</td>\n",
       "      <td>0.00</td>\n",
       "      <td>ZEN</td>\n",
       "      <td>0.00</td>\n",
       "      <td>Running Repairs</td>\n",
       "      <td>52.95</td>\n",
       "      <td>400607</td>\n",
       "      <td>BC01</td>\n",
       "      <td>THANE</td>\n",
       "      <td>NO</td>\n",
       "      <td>0.0</td>\n",
       "      <td>IMRAN</td>\n",
       "      <td>233.14000</td>\n",
       "      <td>233.14</td>\n",
       "      <td>BC01SA2</td>\n",
       "      <td>2015-01-03 11:12:57</td>\n",
       "      <td>2015-01-02 11:40:44</td>\n",
       "      <td>0 days 23:32:13.000000000</td>\n",
       "      <td>thane</td>\n",
       "      <td>maharashtra</td>\n",
       "    </tr>\n",
       "    <tr>\n",
       "      <td>3</td>\n",
       "      <td>Retail</td>\n",
       "      <td>NaN</td>\n",
       "      <td>2015-01-03</td>\n",
       "      <td>174158</td>\n",
       "      <td>2015-01-03</td>\n",
       "      <td>10:12:32</td>\n",
       "      <td>78584</td>\n",
       "      <td>0.00</td>\n",
       "      <td>TATA MOTORS</td>\n",
       "      <td>0.00</td>\n",
       "      <td>INDICA</td>\n",
       "      <td>0.00</td>\n",
       "      <td>SMC Redemption</td>\n",
       "      <td>0.00</td>\n",
       "      <td>400603</td>\n",
       "      <td>BC01</td>\n",
       "      <td>THANE</td>\n",
       "      <td>NO</td>\n",
       "      <td>0.0</td>\n",
       "      <td>PRASHANT</td>\n",
       "      <td>1674.22433</td>\n",
       "      <td>1644.70</td>\n",
       "      <td>BC01SA2</td>\n",
       "      <td>2015-01-03 11:40:44</td>\n",
       "      <td>2015-01-03 10:12:32</td>\n",
       "      <td>0 days 01:28:12.000000000</td>\n",
       "      <td>thane</td>\n",
       "      <td>maharashtra</td>\n",
       "    </tr>\n",
       "    <tr>\n",
       "      <td>4</td>\n",
       "      <td>Retail</td>\n",
       "      <td>NaN</td>\n",
       "      <td>2015-01-03</td>\n",
       "      <td>173860</td>\n",
       "      <td>2015-01-02</td>\n",
       "      <td>10:45:42</td>\n",
       "      <td>50057</td>\n",
       "      <td>1202.97</td>\n",
       "      <td>HYUNDAI</td>\n",
       "      <td>100.00</td>\n",
       "      <td>SANTRO XING</td>\n",
       "      <td>499.99</td>\n",
       "      <td>Paid Service</td>\n",
       "      <td>944.16</td>\n",
       "      <td>400603</td>\n",
       "      <td>BC01</td>\n",
       "      <td>THANE</td>\n",
       "      <td>NO</td>\n",
       "      <td>0.0</td>\n",
       "      <td>DAYANAND</td>\n",
       "      <td>2747.12000</td>\n",
       "      <td>2747.12</td>\n",
       "      <td>BC01SA2</td>\n",
       "      <td>2015-01-03 12:07:17</td>\n",
       "      <td>2015-01-02 10:45:42</td>\n",
       "      <td>1 days 01:21:35.000000000</td>\n",
       "      <td>thane</td>\n",
       "      <td>maharashtra</td>\n",
       "    </tr>\n",
       "  </tbody>\n",
       "</table>\n",
       "</div>"
      ],
      "text/plain": [
       "  Cust Type Insurance Company Invoice Date  Job Card No JobCard Date  \\\n",
       "0    Retail               NaN   2015-01-02       168303   2014-12-13   \n",
       "1    Retail               NaN   2015-01-03       173997   2015-01-02   \n",
       "2    Retail               NaN   2015-01-03       173889   2015-01-02   \n",
       "3    Retail               NaN   2015-01-03       174158   2015-01-03   \n",
       "4    Retail               NaN   2015-01-03       173860   2015-01-02   \n",
       "\n",
       "  JobCard Time  KMs Reading  Labour Total            Make  Misc Total  \\\n",
       "0     14:29:43        49317       1203.14  GENERAL MOTORS        0.00   \n",
       "1     14:12:18        78584        804.26     TATA MOTORS      197.03   \n",
       "2     11:40:44        33985        180.19   MARUTI SUZUKI        0.00   \n",
       "3     10:12:32        78584          0.00     TATA MOTORS        0.00   \n",
       "4     10:45:42        50057       1202.97         HYUNDAI      100.00   \n",
       "\n",
       "         Model  OSL Total         Order Type  Parts Total  Pin code Plant  \\\n",
       "0        SPARK     500.06       Paid Service      2348.75    400601  BC01   \n",
       "1       INDICA       0.00  SMC Value Package         0.00    400603  BC01   \n",
       "2          ZEN       0.00    Running Repairs        52.95    400607  BC01   \n",
       "3       INDICA       0.00     SMC Redemption         0.00    400603  BC01   \n",
       "4  SANTRO XING     499.99       Paid Service       944.16    400603  BC01   \n",
       "\n",
       "  Plant Name1 Print Status  Recovrbl Exp Technician Name  Total Amt Wtd Tax.  \\\n",
       "0       THANE           NO           0.0          RUPESH          4051.95000   \n",
       "1       THANE           NO           0.0        PRASHANT          1001.29000   \n",
       "2       THANE           NO           0.0           IMRAN           233.14000   \n",
       "3       THANE           NO           0.0        PRASHANT          1674.22433   \n",
       "4       THANE           NO           0.0        DAYANAND          2747.12000   \n",
       "\n",
       "   Total Value  User ID     Invoice_DateTime     JobCard_DateTime  \\\n",
       "0      4051.95  BC01FS1  2015-01-02 11:30:36  2014-12-13 14:29:43   \n",
       "1      1001.29  BC01SA2  2015-01-03 10:07:32  2015-01-02 14:12:18   \n",
       "2       233.14  BC01SA2  2015-01-03 11:12:57  2015-01-02 11:40:44   \n",
       "3      1644.70  BC01SA2  2015-01-03 11:40:44  2015-01-03 10:12:32   \n",
       "4      2747.12  BC01SA2  2015-01-03 12:07:17  2015-01-02 10:45:42   \n",
       "\n",
       "                 Service_Time updated_CITY updated_District  \n",
       "0  19 days 21:00:53.000000000        thane      maharashtra  \n",
       "1   0 days 19:55:14.000000000        thane      maharashtra  \n",
       "2   0 days 23:32:13.000000000        thane      maharashtra  \n",
       "3   0 days 01:28:12.000000000        thane      maharashtra  \n",
       "4   1 days 01:21:35.000000000        thane      maharashtra  "
      ]
     },
     "execution_count": 65,
     "metadata": {},
     "output_type": "execute_result"
    }
   ],
   "source": [
    "copy_fi.head()"
   ]
  },
  {
   "cell_type": "code",
   "execution_count": 64,
   "metadata": {},
   "outputs": [],
   "source": [
    "copy_fi.drop(columns=[\"Unnamed: 0\"],inplace=True)"
   ]
  },
  {
   "cell_type": "code",
   "execution_count": 67,
   "metadata": {},
   "outputs": [],
   "source": [
    "copy_fi[\"year\"] = pd.DatetimeIndex(copy_fi[\"JobCard_DateTime\"]).year"
   ]
  },
  {
   "cell_type": "code",
   "execution_count": 69,
   "metadata": {},
   "outputs": [],
   "source": [
    "copy_fi[\"month\"] = pd.DatetimeIndex(copy_fi[\"JobCard_DateTime\"]).month"
   ]
  },
  {
   "cell_type": "code",
   "execution_count": null,
   "metadata": {},
   "outputs": [],
   "source": [
    "\"updated_District\": \"State\", \"updated_CITY\": \"City\""
   ]
  },
  {
   "cell_type": "code",
   "execution_count": 82,
   "metadata": {},
   "outputs": [],
   "source": [
    "copy_fi.rename(columns={\"updated_District\": \"State\", \"updated_CITY\": \"City\",\"year\":\"Year\",\"month\":\"Month\"},inplace=True)"
   ]
  },
  {
   "cell_type": "code",
   "execution_count": 83,
   "metadata": {},
   "outputs": [
    {
     "data": {
      "text/html": [
       "<div>\n",
       "<style scoped>\n",
       "    .dataframe tbody tr th:only-of-type {\n",
       "        vertical-align: middle;\n",
       "    }\n",
       "\n",
       "    .dataframe tbody tr th {\n",
       "        vertical-align: top;\n",
       "    }\n",
       "\n",
       "    .dataframe thead th {\n",
       "        text-align: right;\n",
       "    }\n",
       "</style>\n",
       "<table border=\"1\" class=\"dataframe\">\n",
       "  <thead>\n",
       "    <tr style=\"text-align: right;\">\n",
       "      <th></th>\n",
       "      <th>Cust Type</th>\n",
       "      <th>Insurance Company</th>\n",
       "      <th>Invoice Date</th>\n",
       "      <th>Job Card No</th>\n",
       "      <th>JobCard Date</th>\n",
       "      <th>JobCard Time</th>\n",
       "      <th>KMs Reading</th>\n",
       "      <th>Labour Total</th>\n",
       "      <th>Make</th>\n",
       "      <th>Misc Total</th>\n",
       "      <th>Model</th>\n",
       "      <th>OSL Total</th>\n",
       "      <th>Order Type</th>\n",
       "      <th>Parts Total</th>\n",
       "      <th>Pin code</th>\n",
       "      <th>Plant</th>\n",
       "      <th>Plant Name1</th>\n",
       "      <th>Print Status</th>\n",
       "      <th>Recovrbl Exp</th>\n",
       "      <th>Technician Name</th>\n",
       "      <th>Total Amt Wtd Tax.</th>\n",
       "      <th>Total Value</th>\n",
       "      <th>User ID</th>\n",
       "      <th>Invoice_DateTime</th>\n",
       "      <th>JobCard_DateTime</th>\n",
       "      <th>Service_Time</th>\n",
       "      <th>City</th>\n",
       "      <th>State</th>\n",
       "      <th>Year</th>\n",
       "      <th>Month</th>\n",
       "    </tr>\n",
       "  </thead>\n",
       "  <tbody>\n",
       "    <tr>\n",
       "      <td>0</td>\n",
       "      <td>Retail</td>\n",
       "      <td>NaN</td>\n",
       "      <td>2015-01-02</td>\n",
       "      <td>168303</td>\n",
       "      <td>2014-12-13</td>\n",
       "      <td>14:29:43</td>\n",
       "      <td>49317</td>\n",
       "      <td>1203.14</td>\n",
       "      <td>GENERAL MOTORS</td>\n",
       "      <td>0.00</td>\n",
       "      <td>SPARK</td>\n",
       "      <td>500.06</td>\n",
       "      <td>Paid Service</td>\n",
       "      <td>2348.75</td>\n",
       "      <td>400601</td>\n",
       "      <td>BC01</td>\n",
       "      <td>THANE</td>\n",
       "      <td>NO</td>\n",
       "      <td>0.0</td>\n",
       "      <td>RUPESH</td>\n",
       "      <td>4051.95</td>\n",
       "      <td>4051.95</td>\n",
       "      <td>BC01FS1</td>\n",
       "      <td>2015-01-02 11:30:36</td>\n",
       "      <td>2014-12-13 14:29:43</td>\n",
       "      <td>19 days 21:00:53.000000000</td>\n",
       "      <td>thane</td>\n",
       "      <td>maharashtra</td>\n",
       "      <td>2014</td>\n",
       "      <td>12</td>\n",
       "    </tr>\n",
       "    <tr>\n",
       "      <td>1</td>\n",
       "      <td>Retail</td>\n",
       "      <td>NaN</td>\n",
       "      <td>2015-01-03</td>\n",
       "      <td>173997</td>\n",
       "      <td>2015-01-02</td>\n",
       "      <td>14:12:18</td>\n",
       "      <td>78584</td>\n",
       "      <td>804.26</td>\n",
       "      <td>TATA MOTORS</td>\n",
       "      <td>197.03</td>\n",
       "      <td>INDICA</td>\n",
       "      <td>0.00</td>\n",
       "      <td>SMC Value Package</td>\n",
       "      <td>0.00</td>\n",
       "      <td>400603</td>\n",
       "      <td>BC01</td>\n",
       "      <td>THANE</td>\n",
       "      <td>NO</td>\n",
       "      <td>0.0</td>\n",
       "      <td>PRASHANT</td>\n",
       "      <td>1001.29</td>\n",
       "      <td>1001.29</td>\n",
       "      <td>BC01SA2</td>\n",
       "      <td>2015-01-03 10:07:32</td>\n",
       "      <td>2015-01-02 14:12:18</td>\n",
       "      <td>0 days 19:55:14.000000000</td>\n",
       "      <td>thane</td>\n",
       "      <td>maharashtra</td>\n",
       "      <td>2015</td>\n",
       "      <td>1</td>\n",
       "    </tr>\n",
       "  </tbody>\n",
       "</table>\n",
       "</div>"
      ],
      "text/plain": [
       "  Cust Type Insurance Company Invoice Date  Job Card No JobCard Date  \\\n",
       "0    Retail               NaN   2015-01-02       168303   2014-12-13   \n",
       "1    Retail               NaN   2015-01-03       173997   2015-01-02   \n",
       "\n",
       "  JobCard Time  KMs Reading  Labour Total            Make  Misc Total   Model  \\\n",
       "0     14:29:43        49317       1203.14  GENERAL MOTORS        0.00   SPARK   \n",
       "1     14:12:18        78584        804.26     TATA MOTORS      197.03  INDICA   \n",
       "\n",
       "   OSL Total         Order Type  Parts Total  Pin code Plant Plant Name1  \\\n",
       "0     500.06       Paid Service      2348.75    400601  BC01       THANE   \n",
       "1       0.00  SMC Value Package         0.00    400603  BC01       THANE   \n",
       "\n",
       "  Print Status  Recovrbl Exp Technician Name  Total Amt Wtd Tax.  Total Value  \\\n",
       "0           NO           0.0          RUPESH             4051.95      4051.95   \n",
       "1           NO           0.0        PRASHANT             1001.29      1001.29   \n",
       "\n",
       "   User ID     Invoice_DateTime     JobCard_DateTime  \\\n",
       "0  BC01FS1  2015-01-02 11:30:36  2014-12-13 14:29:43   \n",
       "1  BC01SA2  2015-01-03 10:07:32  2015-01-02 14:12:18   \n",
       "\n",
       "                 Service_Time   City        State  Year  Month  \n",
       "0  19 days 21:00:53.000000000  thane  maharashtra  2014     12  \n",
       "1   0 days 19:55:14.000000000  thane  maharashtra  2015      1  "
      ]
     },
     "execution_count": 83,
     "metadata": {},
     "output_type": "execute_result"
    }
   ],
   "source": [
    "copy_fi.head(2)"
   ]
  },
  {
   "cell_type": "code",
   "execution_count": 84,
   "metadata": {},
   "outputs": [
    {
     "data": {
      "text/plain": [
       "Cust Type                  0\n",
       "Insurance Company     454854\n",
       "Invoice Date               0\n",
       "Job Card No                0\n",
       "JobCard Date               0\n",
       "JobCard Time               0\n",
       "KMs Reading                0\n",
       "Labour Total               0\n",
       "Make                       0\n",
       "Misc Total                 0\n",
       "Model                      0\n",
       "OSL Total                  0\n",
       "Order Type                 0\n",
       "Parts Total                0\n",
       "Pin code                   0\n",
       "Plant                      0\n",
       "Plant Name1                0\n",
       "Print Status               0\n",
       "Recovrbl Exp               0\n",
       "Technician Name       213651\n",
       "Total Amt Wtd Tax.         0\n",
       "Total Value           179525\n",
       "User ID                    0\n",
       "Invoice_DateTime           0\n",
       "JobCard_DateTime           0\n",
       "Service_Time               0\n",
       "City                       0\n",
       "State                      0\n",
       "Year                       0\n",
       "Month                      0\n",
       "dtype: int64"
      ]
     },
     "execution_count": 84,
     "metadata": {},
     "output_type": "execute_result"
    }
   ],
   "source": [
    "copy_fi.isnull().sum()"
   ]
  },
  {
   "cell_type": "code",
   "execution_count": null,
   "metadata": {},
   "outputs": [],
   "source": []
  },
  {
   "cell_type": "code",
   "execution_count": null,
   "metadata": {},
   "outputs": [],
   "source": []
  },
  {
   "cell_type": "code",
   "execution_count": null,
   "metadata": {},
   "outputs": [],
   "source": []
  },
  {
   "cell_type": "code",
   "execution_count": null,
   "metadata": {},
   "outputs": [],
   "source": []
  },
  {
   "cell_type": "code",
   "execution_count": null,
   "metadata": {},
   "outputs": [],
   "source": []
  },
  {
   "cell_type": "code",
   "execution_count": null,
   "metadata": {},
   "outputs": [],
   "source": []
  },
  {
   "cell_type": "code",
   "execution_count": null,
   "metadata": {},
   "outputs": [],
   "source": []
  },
  {
   "cell_type": "code",
   "execution_count": null,
   "metadata": {},
   "outputs": [],
   "source": []
  },
  {
   "cell_type": "code",
   "execution_count": null,
   "metadata": {},
   "outputs": [],
   "source": [
    "q[q[\"Plant Name1\"] == \"THANE\"]"
   ]
  },
  {
   "cell_type": "code",
   "execution_count": null,
   "metadata": {},
   "outputs": [],
   "source": [
    "q = copy_fi.loc[(copy_fi[\"updated_CITY\"].isnull())]"
   ]
  },
  {
   "cell_type": "code",
   "execution_count": null,
   "metadata": {},
   "outputs": [],
   "source": [
    "list(q[\"Plant Name1\"].value_counts().keys())"
   ]
  },
  {
   "cell_type": "code",
   "execution_count": null,
   "metadata": {},
   "outputs": [],
   "source": [
    "list(q[\"Plant Name1\"].value_counts())"
   ]
  },
  {
   "cell_type": "code",
   "execution_count": null,
   "metadata": {},
   "outputs": [],
   "source": []
  },
  {
   "cell_type": "code",
   "execution_count": null,
   "metadata": {},
   "outputs": [],
   "source": []
  },
  {
   "cell_type": "code",
   "execution_count": null,
   "metadata": {},
   "outputs": [],
   "source": []
  },
  {
   "cell_type": "code",
   "execution_count": null,
   "metadata": {},
   "outputs": [],
   "source": []
  },
  {
   "cell_type": "code",
   "execution_count": null,
   "metadata": {},
   "outputs": [],
   "source": []
  },
  {
   "cell_type": "code",
   "execution_count": null,
   "metadata": {},
   "outputs": [],
   "source": []
  },
  {
   "cell_type": "code",
   "execution_count": null,
   "metadata": {},
   "outputs": [],
   "source": [
    "e = copy_fi.loc[(copy_fi[\"updated_CITY\"].notnull())]"
   ]
  },
  {
   "cell_type": "code",
   "execution_count": null,
   "metadata": {},
   "outputs": [],
   "source": [
    "r = e[e[\"Plant Name1\"] == \"X052 - XPRESS MOTORS\"]"
   ]
  },
  {
   "cell_type": "code",
   "execution_count": null,
   "metadata": {},
   "outputs": [],
   "source": [
    "r[\"updated_CITY\"].value_counts()"
   ]
  },
  {
   "cell_type": "code",
   "execution_count": null,
   "metadata": {},
   "outputs": [],
   "source": []
  },
  {
   "cell_type": "code",
   "execution_count": null,
   "metadata": {},
   "outputs": [],
   "source": []
  },
  {
   "cell_type": "code",
   "execution_count": null,
   "metadata": {},
   "outputs": [],
   "source": []
  },
  {
   "cell_type": "code",
   "execution_count": null,
   "metadata": {},
   "outputs": [],
   "source": []
  },
  {
   "cell_type": "code",
   "execution_count": null,
   "metadata": {},
   "outputs": [],
   "source": []
  },
  {
   "cell_type": "code",
   "execution_count": null,
   "metadata": {},
   "outputs": [],
   "source": [
    "import matplotlib.pyplot as plt\n",
    "import plotly.express as px"
   ]
  },
  {
   "cell_type": "code",
   "execution_count": null,
   "metadata": {},
   "outputs": [],
   "source": [
    "list(copy_fi[\"Plant Name1\"].value_counts().keys())"
   ]
  },
  {
   "cell_type": "code",
   "execution_count": null,
   "metadata": {},
   "outputs": [],
   "source": [
    "copy_fi[\"Insurance Company\"].isnull().sum()"
   ]
  },
  {
   "cell_type": "code",
   "execution_count": null,
   "metadata": {},
   "outputs": [],
   "source": [
    "copy_fi.drop(columns=[\"Insurance Company\"],inplace=True)"
   ]
  },
  {
   "cell_type": "code",
   "execution_count": null,
   "metadata": {},
   "outputs": [],
   "source": [
    "copy_fi['Model'] = copy_fi['Model'].fillna(copy_fi['Model'].mode()[0])"
   ]
  },
  {
   "cell_type": "code",
   "execution_count": null,
   "metadata": {},
   "outputs": [],
   "source": [
    "import seaborn as sns"
   ]
  },
  {
   "cell_type": "code",
   "execution_count": null,
   "metadata": {},
   "outputs": [],
   "source": [
    "copy_fi.columns"
   ]
  },
  {
   "cell_type": "code",
   "execution_count": null,
   "metadata": {},
   "outputs": [],
   "source": [
    "MH_dist = copy_fi[(copy_fi[\"District\"] == \"Maharashtra\")]"
   ]
  },
  {
   "cell_type": "code",
   "execution_count": null,
   "metadata": {},
   "outputs": [],
   "source": [
    "MH_dist.head(2)"
   ]
  },
  {
   "cell_type": "markdown",
   "metadata": {},
   "source": [
    "### Number of plants in Maharashtra "
   ]
  },
  {
   "cell_type": "code",
   "execution_count": null,
   "metadata": {},
   "outputs": [],
   "source": [
    "import plotly.graph_objs as go"
   ]
  },
  {
   "cell_type": "code",
   "execution_count": null,
   "metadata": {},
   "outputs": [],
   "source": [
    "px.histogram(MH_dist, x='Plant Name1').update_xaxes(categoryorder = \"total descending\")"
   ]
  },
  {
   "cell_type": "markdown",
   "metadata": {},
   "source": [
    "### frequency of car models sold in maharashtra."
   ]
  },
  {
   "cell_type": "code",
   "execution_count": null,
   "metadata": {},
   "outputs": [],
   "source": [
    "px.histogram(MH_dist, x='Model').update_xaxes(categoryorder = \"total descending\")"
   ]
  },
  {
   "cell_type": "markdown",
   "metadata": {},
   "source": [
    "### Frequency of usage of order types by customers as per plant in maharashtra"
   ]
  },
  {
   "cell_type": "code",
   "execution_count": null,
   "metadata": {},
   "outputs": [],
   "source": [
    "px.histogram(MH_dist, x='Order Type').update_xaxes(categoryorder = \"total descending\")"
   ]
  },
  {
   "cell_type": "markdown",
   "metadata": {},
   "source": [
    "### Frequency of cars sold by each makers in maharashtra"
   ]
  },
  {
   "cell_type": "markdown",
   "metadata": {},
   "source": [
    "### Maruti suzuki"
   ]
  },
  {
   "cell_type": "code",
   "execution_count": null,
   "metadata": {},
   "outputs": [],
   "source": [
    "Maruti_suzuki_MH = MH_dist[MH_dist[\"Make\"] == \"MARUTI SUZUKI\"]"
   ]
  },
  {
   "cell_type": "code",
   "execution_count": null,
   "metadata": {},
   "outputs": [],
   "source": [
    "px.histogram(Maruti_suzuki_MH, x='Model').update_xaxes(categoryorder = \"total descending\")"
   ]
  },
  {
   "cell_type": "markdown",
   "metadata": {},
   "source": [
    "### Mahindra & Mahindra"
   ]
  },
  {
   "cell_type": "code",
   "execution_count": null,
   "metadata": {},
   "outputs": [],
   "source": [
    "mahindra_MH = MH_dist[MH_dist[\"Make\"] == \"MAHINDRA &  MAHINDRA\"]"
   ]
  },
  {
   "cell_type": "code",
   "execution_count": null,
   "metadata": {},
   "outputs": [],
   "source": [
    "px.histogram(mahindra_MH, x='Model').update_xaxes(categoryorder = \"total descending\")"
   ]
  },
  {
   "cell_type": "markdown",
   "metadata": {},
   "source": [
    "### HYUNDAI"
   ]
  },
  {
   "cell_type": "code",
   "execution_count": null,
   "metadata": {},
   "outputs": [],
   "source": [
    "HYUNDAI_MH = MH_dist[MH_dist[\"Make\"] == \"HYUNDAI\"]"
   ]
  },
  {
   "cell_type": "code",
   "execution_count": null,
   "metadata": {},
   "outputs": [],
   "source": [
    "px.histogram(HYUNDAI_MH, x='Model').update_xaxes(categoryorder = \"total descending\")"
   ]
  },
  {
   "cell_type": "markdown",
   "metadata": {},
   "source": [
    "### TATA MOTORS"
   ]
  },
  {
   "cell_type": "code",
   "execution_count": null,
   "metadata": {},
   "outputs": [],
   "source": [
    "TATA_MOTORS_MH = MH_dist[MH_dist[\"Make\"] == \"TATA MOTORS\"]"
   ]
  },
  {
   "cell_type": "code",
   "execution_count": null,
   "metadata": {},
   "outputs": [],
   "source": [
    "px.histogram(TATA_MOTORS_MH, x='Model',y=\"\").update_xaxes(categoryorder = \"total descending\")"
   ]
  },
  {
   "cell_type": "markdown",
   "metadata": {},
   "source": [
    "### GENERAL MOTORS"
   ]
  },
  {
   "cell_type": "code",
   "execution_count": null,
   "metadata": {},
   "outputs": [],
   "source": [
    "GENERAL_MOTORS_MH = MH_dist[MH_dist[\"Make\"] == \"GENERAL MOTORS\"]"
   ]
  },
  {
   "cell_type": "code",
   "execution_count": null,
   "metadata": {},
   "outputs": [],
   "source": [
    "px.histogram(GENERAL_MOTORS_MH, x='Model').update_xaxes(categoryorder = \"total descending\")"
   ]
  },
  {
   "cell_type": "code",
   "execution_count": null,
   "metadata": {},
   "outputs": [],
   "source": []
  },
  {
   "cell_type": "code",
   "execution_count": null,
   "metadata": {},
   "outputs": [],
   "source": [
    "len(list(copy_fi[\"Area / Locality\"].value_counts().keys()))"
   ]
  },
  {
   "cell_type": "code",
   "execution_count": null,
   "metadata": {},
   "outputs": [],
   "source": [
    "copy_fi[\"CITY\"] = copy_fi[\"CITY\"].str.lower()"
   ]
  },
  {
   "cell_type": "code",
   "execution_count": null,
   "metadata": {},
   "outputs": [],
   "source": [
    "list(copy_fi[\"CITY\"].value_counts().keys())"
   ]
  },
  {
   "cell_type": "code",
   "execution_count": null,
   "metadata": {},
   "outputs": [],
   "source": []
  },
  {
   "cell_type": "code",
   "execution_count": null,
   "metadata": {},
   "outputs": [],
   "source": []
  },
  {
   "cell_type": "code",
   "execution_count": null,
   "metadata": {},
   "outputs": [],
   "source": []
  },
  {
   "cell_type": "code",
   "execution_count": null,
   "metadata": {},
   "outputs": [],
   "source": []
  },
  {
   "cell_type": "code",
   "execution_count": null,
   "metadata": {},
   "outputs": [],
   "source": [
    "MH_dist[\"Area / Locality\"] = MH_dist[\"Area / Locality\"].str.lower()"
   ]
  },
  {
   "cell_type": "code",
   "execution_count": null,
   "metadata": {},
   "outputs": [],
   "source": [
    "list(MH_dist[\"Area / Locality\"].value_counts().keys())"
   ]
  },
  {
   "cell_type": "code",
   "execution_count": null,
   "metadata": {},
   "outputs": [],
   "source": [
    "copy_fi[\"Area / Locality\"] = copy_fi[\"Area / Locality\"].str.lower()"
   ]
  },
  {
   "cell_type": "code",
   "execution_count": null,
   "metadata": {},
   "outputs": [],
   "source": [
    "list(copy_fi[\"Area / Locality\"].value_counts().keys())"
   ]
  },
  {
   "cell_type": "code",
   "execution_count": null,
   "metadata": {},
   "outputs": [],
   "source": []
  },
  {
   "cell_type": "code",
   "execution_count": null,
   "metadata": {},
   "outputs": [],
   "source": []
  },
  {
   "cell_type": "markdown",
   "metadata": {},
   "source": [
    "### X211 -  M/S KAMAL MOTORS"
   ]
  },
  {
   "cell_type": "code",
   "execution_count": null,
   "metadata": {},
   "outputs": [],
   "source": [
    "X211_KAMAL_MOTORS = copy_fi[copy_fi[\"Plant Name1\"] == \"X211 -  M/S KAMAL MOTORS\"]"
   ]
  },
  {
   "cell_type": "code",
   "execution_count": null,
   "metadata": {},
   "outputs": [],
   "source": []
  },
  {
   "cell_type": "code",
   "execution_count": null,
   "metadata": {},
   "outputs": [],
   "source": [
    "copy_fi[\"District\"].value_counts()"
   ]
  },
  {
   "cell_type": "code",
   "execution_count": null,
   "metadata": {},
   "outputs": [],
   "source": []
  },
  {
   "cell_type": "code",
   "execution_count": null,
   "metadata": {},
   "outputs": [],
   "source": []
  },
  {
   "cell_type": "code",
   "execution_count": null,
   "metadata": {},
   "outputs": [],
   "source": []
  },
  {
   "cell_type": "code",
   "execution_count": null,
   "metadata": {},
   "outputs": [],
   "source": []
  },
  {
   "cell_type": "code",
   "execution_count": null,
   "metadata": {},
   "outputs": [],
   "source": [
    "list(copy_fi[\"Plant Name1\"].value_counts().keys())"
   ]
  },
  {
   "cell_type": "code",
   "execution_count": null,
   "metadata": {},
   "outputs": [],
   "source": []
  },
  {
   "cell_type": "code",
   "execution_count": null,
   "metadata": {},
   "outputs": [],
   "source": []
  },
  {
   "cell_type": "code",
   "execution_count": null,
   "metadata": {},
   "outputs": [],
   "source": []
  },
  {
   "cell_type": "code",
   "execution_count": null,
   "metadata": {},
   "outputs": [],
   "source": []
  },
  {
   "cell_type": "code",
   "execution_count": null,
   "metadata": {},
   "outputs": [],
   "source": []
  },
  {
   "cell_type": "code",
   "execution_count": null,
   "metadata": {},
   "outputs": [],
   "source": []
  },
  {
   "cell_type": "code",
   "execution_count": null,
   "metadata": {},
   "outputs": [],
   "source": [
    "copy_fi[\"Model\"].value_counts()"
   ]
  },
  {
   "cell_type": "code",
   "execution_count": null,
   "metadata": {},
   "outputs": [],
   "source": []
  },
  {
   "cell_type": "code",
   "execution_count": null,
   "metadata": {},
   "outputs": [],
   "source": []
  },
  {
   "cell_type": "code",
   "execution_count": null,
   "metadata": {},
   "outputs": [],
   "source": []
  },
  {
   "cell_type": "code",
   "execution_count": null,
   "metadata": {},
   "outputs": [],
   "source": []
  },
  {
   "cell_type": "code",
   "execution_count": null,
   "metadata": {},
   "outputs": [],
   "source": [
    "copy_fi[\"Order Type\"].value_counts()"
   ]
  },
  {
   "cell_type": "code",
   "execution_count": null,
   "metadata": {},
   "outputs": [],
   "source": [
    "pd.pivot_table(copy_fi,index=\"Order Type\",columns=\"Plant Name1\")"
   ]
  },
  {
   "cell_type": "code",
   "execution_count": null,
   "metadata": {},
   "outputs": [],
   "source": []
  },
  {
   "cell_type": "code",
   "execution_count": null,
   "metadata": {},
   "outputs": [],
   "source": []
  },
  {
   "cell_type": "code",
   "execution_count": null,
   "metadata": {},
   "outputs": [],
   "source": [
    "Running_repairs = copy_fi[copy_fi[\"Order Type\"] == 'Running Repairs']"
   ]
  },
  {
   "cell_type": "code",
   "execution_count": null,
   "metadata": {},
   "outputs": [],
   "source": [
    "Running_repairs[\"Total Value\"].describe()"
   ]
  },
  {
   "cell_type": "code",
   "execution_count": null,
   "metadata": {},
   "outputs": [],
   "source": []
  },
  {
   "cell_type": "code",
   "execution_count": null,
   "metadata": {},
   "outputs": [],
   "source": []
  },
  {
   "cell_type": "code",
   "execution_count": null,
   "metadata": {},
   "outputs": [],
   "source": []
  },
  {
   "cell_type": "code",
   "execution_count": null,
   "metadata": {},
   "outputs": [],
   "source": []
  },
  {
   "cell_type": "code",
   "execution_count": null,
   "metadata": {},
   "outputs": [],
   "source": []
  },
  {
   "cell_type": "code",
   "execution_count": null,
   "metadata": {},
   "outputs": [],
   "source": [
    "fig = px.histogram(copy_fi, x=\"Total Value\",nbins=100)\n",
    "# fig.update_xaxes(range=[0,300000])\n",
    "fig.show()"
   ]
  },
  {
   "cell_type": "code",
   "execution_count": null,
   "metadata": {},
   "outputs": [],
   "source": []
  },
  {
   "cell_type": "code",
   "execution_count": null,
   "metadata": {},
   "outputs": [],
   "source": []
  },
  {
   "cell_type": "code",
   "execution_count": null,
   "metadata": {},
   "outputs": [],
   "source": [
    "pd.pivot_table(copy_fi,index=\"Plant Name1\",columns=\"Order Type\",values=\"Total Value\")"
   ]
  },
  {
   "cell_type": "code",
   "execution_count": null,
   "metadata": {},
   "outputs": [],
   "source": []
  },
  {
   "cell_type": "code",
   "execution_count": null,
   "metadata": {},
   "outputs": [],
   "source": []
  },
  {
   "cell_type": "code",
   "execution_count": null,
   "metadata": {},
   "outputs": [],
   "source": []
  },
  {
   "cell_type": "code",
   "execution_count": null,
   "metadata": {},
   "outputs": [],
   "source": []
  },
  {
   "cell_type": "markdown",
   "metadata": {},
   "source": [
    "### Histogram of the total value feature as we can see it is right skewed as some of the cars are overpriced in our dataset as compared to most of the cars."
   ]
  },
  {
   "cell_type": "code",
   "execution_count": null,
   "metadata": {},
   "outputs": [],
   "source": [
    "fig = px.histogram(Data_Finalinvoice, x=\"Total Value\",nbins=100)\n",
    "fig.update_xaxes(range=[0,300000])\n",
    "fig.show()"
   ]
  },
  {
   "cell_type": "code",
   "execution_count": null,
   "metadata": {},
   "outputs": [],
   "source": [
    "df = "
   ]
  },
  {
   "cell_type": "code",
   "execution_count": null,
   "metadata": {
    "scrolled": false
   },
   "outputs": [],
   "source": [
    "fig = px.histogram(Data_Finalinvoice, x=\"Total Value\",color=\"Make\",nbins=100)\n",
    "fig.show()"
   ]
  },
  {
   "cell_type": "code",
   "execution_count": null,
   "metadata": {},
   "outputs": [],
   "source": [
    "Data_Finalinvoice[\"Total Value\"].isnull().sum()"
   ]
  },
  {
   "cell_type": "code",
   "execution_count": null,
   "metadata": {},
   "outputs": [],
   "source": []
  }
 ],
 "metadata": {
  "kernelspec": {
   "display_name": "Python 3 (ipykernel)",
   "language": "python",
   "name": "python3"
  },
  "language_info": {
   "codemirror_mode": {
    "name": "ipython",
    "version": 3
   },
   "file_extension": ".py",
   "mimetype": "text/x-python",
   "name": "python",
   "nbconvert_exporter": "python",
   "pygments_lexer": "ipython3",
   "version": "3.9.6"
  }
 },
 "nbformat": 4,
 "nbformat_minor": 2
}
